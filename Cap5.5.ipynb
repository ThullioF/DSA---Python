{
 "cells": [
  {
   "cell_type": "markdown",
   "source": [
    "MÉTODOS\n",
    "- Tudo em python é um objeto. E cada objeto tem métodos e atributos\n",
    "- Atributos são propriedades, características do objeto\n",
    "- Métodos são funções com ações que podem ser executadas nos objetos"
   ],
   "metadata": {
    "collapsed": false
   },
   "id": "17d6f61189d8f40a"
  },
  {
   "cell_type": "code",
   "outputs": [
    {
     "data": {
      "text/plain": "[100, -2, 12, 65, 0]"
     },
     "execution_count": 3,
     "metadata": {},
     "output_type": "execute_result"
    }
   ],
   "source": [
    "#Criando uma lista\n",
    "lista = [100, -2, 12, 65, 0]\n",
    "type(lista)"
   ],
   "metadata": {
    "collapsed": false,
    "ExecuteTime": {
     "end_time": "2024-07-04T13:44:39.256991Z",
     "start_time": "2024-07-04T13:44:39.250738Z"
    }
   },
   "id": "2e083e6bd231a888",
   "execution_count": 3
  },
  {
   "cell_type": "code",
   "outputs": [],
   "source": [
    "#Usando um método do objeto lista\n",
    "lista.append(100)"
   ],
   "metadata": {
    "collapsed": false,
    "ExecuteTime": {
     "end_time": "2024-07-04T13:45:34.938391Z",
     "start_time": "2024-07-04T13:45:34.933320Z"
    }
   },
   "id": "d0a209f9960233d8",
   "execution_count": 5
  },
  {
   "cell_type": "code",
   "outputs": [
    {
     "name": "stdout",
     "output_type": "stream",
     "text": [
      "[100, -2, 12, 65, 0, 100]\n"
     ]
    }
   ],
   "source": [
    "print(lista)"
   ],
   "metadata": {
    "collapsed": false,
    "ExecuteTime": {
     "end_time": "2024-07-04T13:45:41.835401Z",
     "start_time": "2024-07-04T13:45:41.830285Z"
    }
   },
   "id": "64b2bce0c3f1a4ed",
   "execution_count": 6
  },
  {
   "cell_type": "code",
   "outputs": [
    {
     "data": {
      "text/plain": "2"
     },
     "execution_count": 7,
     "metadata": {},
     "output_type": "execute_result"
    }
   ],
   "source": [
    "#Usando um método do objeto lista\n",
    "lista.count(100)"
   ],
   "metadata": {
    "collapsed": false,
    "ExecuteTime": {
     "end_time": "2024-07-04T13:46:07.302980Z",
     "start_time": "2024-07-04T13:46:07.297577Z"
    }
   },
   "id": "a6d4bdaa17801783",
   "execution_count": 7
  },
  {
   "cell_type": "code",
   "outputs": [
    {
     "name": "stdout",
     "output_type": "stream",
     "text": [
      "Help on built-in function append:\n",
      "\n",
      "append(object, /) method of builtins.list instance\n",
      "    Append object to the end of the list.\n"
     ]
    }
   ],
   "source": [
    "#A função help() explica como utilizar cada método de um objeto\n",
    "help(lista.append)"
   ],
   "metadata": {
    "collapsed": false,
    "ExecuteTime": {
     "end_time": "2024-07-04T13:50:27.719081Z",
     "start_time": "2024-07-04T13:50:27.714192Z"
    }
   },
   "id": "82dea141f1fd5f28",
   "execution_count": 10
  },
  {
   "cell_type": "code",
   "outputs": [
    {
     "data": {
      "text/plain": "['__add__',\n '__class__',\n '__class_getitem__',\n '__contains__',\n '__delattr__',\n '__delitem__',\n '__dir__',\n '__doc__',\n '__eq__',\n '__format__',\n '__ge__',\n '__getattribute__',\n '__getitem__',\n '__getstate__',\n '__gt__',\n '__hash__',\n '__iadd__',\n '__imul__',\n '__init__',\n '__init_subclass__',\n '__iter__',\n '__le__',\n '__len__',\n '__lt__',\n '__mul__',\n '__ne__',\n '__new__',\n '__reduce__',\n '__reduce_ex__',\n '__repr__',\n '__reversed__',\n '__rmul__',\n '__setattr__',\n '__setitem__',\n '__sizeof__',\n '__str__',\n '__subclasshook__',\n 'append',\n 'clear',\n 'copy',\n 'count',\n 'extend',\n 'index',\n 'insert',\n 'pop',\n 'remove',\n 'reverse',\n 'sort']"
     },
     "execution_count": 12,
     "metadata": {},
     "output_type": "execute_result"
    }
   ],
   "source": [
    "#A função dir() mostra todos os métodos e atributos de um objeto\n",
    "dir(lista)"
   ],
   "metadata": {
    "collapsed": false,
    "ExecuteTime": {
     "end_time": "2024-07-04T13:55:03.454261Z",
     "start_time": "2024-07-04T13:55:03.446602Z"
    }
   },
   "id": "d14a66d1ad7c0ff5",
   "execution_count": 12
  },
  {
   "cell_type": "code",
   "outputs": [],
   "source": [
    "frase = 'Curso em Video Python'"
   ],
   "metadata": {
    "collapsed": false,
    "ExecuteTime": {
     "end_time": "2024-07-04T13:59:44.508414Z",
     "start_time": "2024-07-04T13:59:44.493096Z"
    }
   },
   "id": "e5d428e5524f81b1",
   "execution_count": 1
  },
  {
   "cell_type": "code",
   "outputs": [
    {
     "data": {
      "text/plain": "str"
     },
     "execution_count": 2,
     "metadata": {},
     "output_type": "execute_result"
    }
   ],
   "source": [
    "type(frase)"
   ],
   "metadata": {
    "collapsed": false,
    "ExecuteTime": {
     "end_time": "2024-07-04T14:07:05.817210Z",
     "start_time": "2024-07-04T14:07:05.808788Z"
    }
   },
   "id": "8a4f83ae8fefdf4f",
   "execution_count": 2
  },
  {
   "cell_type": "code",
   "outputs": [
    {
     "name": "stdout",
     "output_type": "stream",
     "text": [
      "['Curso', 'em', 'Video', 'Python']\n"
     ]
    }
   ],
   "source": [
    "#O método de um objeto pode ser chamado dentro de uma função, como print()\n",
    "print (frase.split())"
   ],
   "metadata": {
    "collapsed": false,
    "ExecuteTime": {
     "end_time": "2024-07-04T14:08:15.280709Z",
     "start_time": "2024-07-04T14:08:15.275779Z"
    }
   },
   "id": "466258308c7f35f8",
   "execution_count": 3
  },
  {
   "cell_type": "code",
   "outputs": [],
   "source": [],
   "metadata": {
    "collapsed": false
   },
   "id": "f679d4cb608d4c3"
  }
 ],
 "metadata": {
  "kernelspec": {
   "display_name": "Python 3",
   "language": "python",
   "name": "python3"
  },
  "language_info": {
   "codemirror_mode": {
    "name": "ipython",
    "version": 2
   },
   "file_extension": ".py",
   "mimetype": "text/x-python",
   "name": "python",
   "nbconvert_exporter": "python",
   "pygments_lexer": "ipython2",
   "version": "2.7.6"
  }
 },
 "nbformat": 4,
 "nbformat_minor": 5
}
