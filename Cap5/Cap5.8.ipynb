{
 "cells": [
  {
   "cell_type": "markdown",
   "source": [
    "LIST COMPREHENSION\n",
    "- [Expressão for item in iterable if condição == True]\n",
    "- Loop dentro de uma lista"
   ],
   "metadata": {
    "collapsed": false
   },
   "id": "f5aefb80f8fb7688"
  },
  {
   "cell_type": "code",
   "outputs": [
    {
     "data": {
      "text/plain": "[0, 1, 2, 3, 4, 5, 6, 7, 8, 9]"
     },
     "execution_count": 1,
     "metadata": {},
     "output_type": "execute_result"
    }
   ],
   "source": [
    "#list comprehension que imprime os números até 10\n",
    "[x for x in range(10)]"
   ],
   "metadata": {
    "collapsed": false,
    "ExecuteTime": {
     "end_time": "2024-07-15T14:28:45.154267Z",
     "start_time": "2024-07-15T14:28:45.141743Z"
    }
   },
   "id": "bbcf36b73ae5cf2b",
   "execution_count": 1
  },
  {
   "cell_type": "code",
   "outputs": [],
   "source": [
    "#List comprehension que imprime os números até 10 e grava em uma lista Python\n",
    "lista_numeros = [x for x in range(10)] "
   ],
   "metadata": {
    "collapsed": false,
    "ExecuteTime": {
     "end_time": "2024-07-15T14:29:44.306223Z",
     "start_time": "2024-07-15T14:29:44.300961Z"
    }
   },
   "id": "5a8cc758406cb10b",
   "execution_count": 2
  },
  {
   "cell_type": "code",
   "outputs": [
    {
     "name": "stdout",
     "output_type": "stream",
     "text": [
      "[0, 1, 2, 3, 4, 5, 6, 7, 8, 9]\n"
     ]
    }
   ],
   "source": [
    "print(lista_numeros)"
   ],
   "metadata": {
    "collapsed": false,
    "ExecuteTime": {
     "end_time": "2024-07-15T14:29:49.633086Z",
     "start_time": "2024-07-15T14:29:49.628629Z"
    }
   },
   "id": "941c47819b277363",
   "execution_count": 3
  },
  {
   "cell_type": "code",
   "outputs": [],
   "source": [
    "#Lista comprehension que imprime os números menores que 5 em um intervalo de 1 a 10\n",
    "lista_numeros2 = [x for x in range(10) if x < 5]"
   ],
   "metadata": {
    "collapsed": false,
    "ExecuteTime": {
     "end_time": "2024-07-15T14:31:52.892214Z",
     "start_time": "2024-07-15T14:31:52.887929Z"
    }
   },
   "id": "6121d23b1ab3fbab",
   "execution_count": 6
  },
  {
   "cell_type": "code",
   "outputs": [
    {
     "name": "stdout",
     "output_type": "stream",
     "text": [
      "[0, 1, 2, 3, 4]\n"
     ]
    }
   ],
   "source": [
    "print(lista_numeros2)"
   ],
   "metadata": {
    "collapsed": false,
    "ExecuteTime": {
     "end_time": "2024-07-15T14:31:56.314273Z",
     "start_time": "2024-07-15T14:31:56.309090Z"
    }
   },
   "id": "d53233dc2a0b43a9",
   "execution_count": 7
  },
  {
   "cell_type": "code",
   "outputs": [],
   "source": [
    "#Lista de fruta\n",
    "lista_frutas = [\"banana\", \"abacate\", \"melancia\", \"cereja\", \"manga\"]\n",
    "\n",
    "#Nova lista\n",
    "nova_lista = []"
   ],
   "metadata": {
    "collapsed": false,
    "ExecuteTime": {
     "end_time": "2024-07-16T13:41:02.335979Z",
     "start_time": "2024-07-16T13:41:02.329728Z"
    }
   },
   "id": "ec41d72f2288de00",
   "execution_count": 3
  },
  {
   "cell_type": "code",
   "outputs": [],
   "source": [
    "#Loop tradicional para buscar as palavras com letra \"m\"\n",
    "for x in lista_frutas:\n",
    "    if \"m\" in x:\n",
    "        nova_lista.append(x)"
   ],
   "metadata": {
    "collapsed": false,
    "ExecuteTime": {
     "end_time": "2024-07-15T14:37:00.683904Z",
     "start_time": "2024-07-15T14:37:00.678470Z"
    }
   },
   "id": "c779ee76bf18c236",
   "execution_count": 9
  },
  {
   "cell_type": "code",
   "outputs": [
    {
     "name": "stdout",
     "output_type": "stream",
     "text": [
      "['melancia', 'manga']\n"
     ]
    }
   ],
   "source": [
    "print(nova_lista)"
   ],
   "metadata": {
    "collapsed": false,
    "ExecuteTime": {
     "end_time": "2024-07-15T14:37:06.139686Z",
     "start_time": "2024-07-15T14:37:06.134839Z"
    }
   },
   "id": "1dd9029af76ea025",
   "execution_count": 10
  },
  {
   "cell_type": "code",
   "outputs": [
    {
     "name": "stdout",
     "output_type": "stream",
     "text": [
      "['melancia', 'manga']\n"
     ]
    }
   ],
   "source": [
    "#Mesmo resultado anterior mas com list comprehension\n",
    "nova_lista2 = [x for x in lista_frutas if \"m\" in x]\n",
    "print(nova_lista2)"
   ],
   "metadata": {
    "collapsed": false,
    "ExecuteTime": {
     "end_time": "2024-07-16T13:41:05.702631Z",
     "start_time": "2024-07-16T13:41:05.693505Z"
    }
   },
   "id": "4604384d2ab6042b",
   "execution_count": 4
  },
  {
   "cell_type": "code",
   "outputs": [
    {
     "name": "stdout",
     "output_type": "stream",
     "text": [
      "{'Bob': 80, 'Alice': 70, 'Zico': 90, 'Ana': 30}\n"
     ]
    }
   ],
   "source": [
    "#Dict comprehension\n",
    "#Dicionário de alunos e notas\n",
    "dict_alunos = {'Bob': 80, 'Alice': 70, 'Zico': 90, 'Ana': 30}\n",
    "\n",
    "#Criamos um novo dicionário imprimindo os pares de chave:valor\n",
    "dict_alunos_status = {k:v for (k, v) in dict_alunos.items()}\n",
    "print(dict_alunos_status)"
   ],
   "metadata": {
    "collapsed": false,
    "ExecuteTime": {
     "end_time": "2024-07-16T13:44:06.308892Z",
     "start_time": "2024-07-16T13:44:06.292927Z"
    }
   },
   "id": "87a126d54e2880c1",
   "execution_count": 5
  },
  {
   "cell_type": "code",
   "outputs": [
    {
     "name": "stdout",
     "output_type": "stream",
     "text": [
      "{'Bob': 'Aprovado', 'Alice': 'Reprovado', 'Zico': 'Aprovado', 'Ana': 'Reprovado'}\n"
     ]
    }
   ],
   "source": [
    "#Dict comprehension\n",
    "#Dicionário de alunos e notas\n",
    "dict_alunos = {'Bob': 80, 'Alice': 70, 'Zico': 90, 'Ana': 30}\n",
    "\n",
    "#Criamos um novo dicionário com o status: nota maior que 70, aprovado, senão, reprovado\n",
    "dict_alunos_status = {k:('Aprovado' if v > 70 else 'Reprovado') for (k, v) in dict_alunos.items()}\n",
    "print(dict_alunos_status)"
   ],
   "metadata": {
    "collapsed": false,
    "ExecuteTime": {
     "end_time": "2024-07-16T13:45:52.404227Z",
     "start_time": "2024-07-16T13:45:52.390942Z"
    }
   },
   "id": "66ef3d9bac23f134",
   "execution_count": 6
  },
  {
   "cell_type": "code",
   "outputs": [],
   "source": [],
   "metadata": {
    "collapsed": false
   },
   "id": "4db473235efdb877"
  }
 ],
 "metadata": {
  "kernelspec": {
   "display_name": "Python 3",
   "language": "python",
   "name": "python3"
  },
  "language_info": {
   "codemirror_mode": {
    "name": "ipython",
    "version": 2
   },
   "file_extension": ".py",
   "mimetype": "text/x-python",
   "name": "python",
   "nbconvert_exporter": "python",
   "pygments_lexer": "ipython2",
   "version": "2.7.6"
  }
 },
 "nbformat": 4,
 "nbformat_minor": 5
}
