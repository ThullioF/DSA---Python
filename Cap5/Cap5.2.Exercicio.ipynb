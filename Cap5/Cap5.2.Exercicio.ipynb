{
 "cells": [
  {
   "cell_type": "markdown",
   "source": [
    "EXERCÍCIO 1"
   ],
   "metadata": {
    "collapsed": false
   },
   "id": "ddf5f1cae7ebee0a"
  },
  {
   "cell_type": "code",
   "outputs": [
    {
     "name": "stdout",
     "output_type": "stream",
     "text": [
      "Hoje é dia de descanso\n"
     ]
    }
   ],
   "source": [
    "dia = str(input('Qual dia da semana é hoje?'))\n",
    "if dia == \"Domingo\" or dia == \"Sábado\":\n",
    "    print(\"Hoje é dia de descanso\")\n",
    "else:\n",
    "    print(\"Você precisa trabalhar\")"
   ],
   "metadata": {
    "collapsed": false,
    "ExecuteTime": {
     "end_time": "2024-07-18T12:54:46.568279Z",
     "start_time": "2024-07-18T12:54:40.722890Z"
    }
   },
   "id": "8dab19e7a86af9d4",
   "execution_count": 5
  },
  {
   "cell_type": "markdown",
   "source": [
    "EXERCÍCIO 2"
   ],
   "metadata": {
    "collapsed": false
   },
   "id": "4edb83d206bd7d79"
  },
  {
   "cell_type": "code",
   "outputs": [
    {
     "name": "stdout",
     "output_type": "stream",
     "text": [
      "['morango', 'banana', 'maça', 'pera', 'melancia']\n",
      "Tem morango na lista\n"
     ]
    }
   ],
   "source": [
    "lista = [\"morango\", \"banana\", \"maça\", \"pera\", \"melancia\"]\n",
    "print(lista)\n",
    "for i in lista:\n",
    "    if i == \"morango\":\n",
    "        print(\"Tem morango na lista\")"
   ],
   "metadata": {
    "collapsed": false,
    "ExecuteTime": {
     "end_time": "2024-07-18T13:00:59.194563Z",
     "start_time": "2024-07-18T13:00:59.188750Z"
    }
   },
   "id": "51865f7efe1c5637",
   "execution_count": 12
  },
  {
   "cell_type": "markdown",
   "source": [
    "EXERCÍCIO 3"
   ],
   "metadata": {
    "collapsed": false
   },
   "id": "56a7c01671ac42d0"
  },
  {
   "cell_type": "code",
   "outputs": [
    {
     "name": "stdout",
     "output_type": "stream",
     "text": [
      "[2, 4, 6, 8]\n"
     ]
    }
   ],
   "source": [
    "tupla = (1,2,3,4)\n",
    "lista = []\n",
    "for i in tupla:\n",
    "    aux = i*2\n",
    "    lista.append(aux)\n",
    "print(lista)"
   ],
   "metadata": {
    "collapsed": false,
    "ExecuteTime": {
     "end_time": "2024-07-18T13:03:27.943316Z",
     "start_time": "2024-07-18T13:03:27.936374Z"
    }
   },
   "id": "c666d68a4fb85827",
   "execution_count": 14
  },
  {
   "cell_type": "markdown",
   "source": [
    "EXERCÍCIO 4"
   ],
   "metadata": {
    "collapsed": false
   },
   "id": "577ab2910fca11eb"
  },
  {
   "cell_type": "code",
   "outputs": [
    {
     "name": "stdout",
     "output_type": "stream",
     "text": [
      "100\n",
      "102\n",
      "104\n",
      "106\n",
      "108\n",
      "110\n",
      "112\n",
      "114\n",
      "116\n",
      "118\n",
      "120\n",
      "122\n",
      "124\n",
      "126\n",
      "128\n",
      "130\n",
      "132\n",
      "134\n",
      "136\n",
      "138\n",
      "140\n",
      "142\n",
      "144\n",
      "146\n",
      "148\n",
      "150\n"
     ]
    }
   ],
   "source": [
    "for i in range(100,151,2):\n",
    "    print(i)"
   ],
   "metadata": {
    "collapsed": false,
    "ExecuteTime": {
     "end_time": "2024-07-18T13:05:07.026674Z",
     "start_time": "2024-07-18T13:05:07.022181Z"
    }
   },
   "id": "8021efee9cda6a00",
   "execution_count": 18
  },
  {
   "cell_type": "code",
   "outputs": [
    {
     "name": "stdout",
     "output_type": "stream",
     "text": [
      "100\n",
      "102\n",
      "104\n",
      "106\n",
      "108\n",
      "110\n",
      "112\n",
      "114\n",
      "116\n",
      "118\n",
      "120\n",
      "122\n",
      "124\n",
      "126\n",
      "128\n",
      "130\n",
      "132\n",
      "134\n",
      "136\n",
      "138\n",
      "140\n",
      "142\n",
      "144\n",
      "146\n",
      "148\n",
      "150\n"
     ]
    }
   ],
   "source": [
    "for i in range(100,151):\n",
    "    if i % 2 == 0:\n",
    "        print(i)"
   ],
   "metadata": {
    "collapsed": false,
    "ExecuteTime": {
     "end_time": "2024-07-18T13:06:13.092546Z",
     "start_time": "2024-07-18T13:06:13.087874Z"
    }
   },
   "id": "bb558de5faf240a9",
   "execution_count": 19
  },
  {
   "cell_type": "markdown",
   "source": [
    "EXERCÍCIO 5"
   ],
   "metadata": {
    "collapsed": false
   },
   "id": "da3df99106d58e04"
  },
  {
   "cell_type": "code",
   "outputs": [
    {
     "name": "stdout",
     "output_type": "stream",
     "text": [
      "40\n",
      "39\n",
      "38\n",
      "37\n",
      "36\n",
      "35\n"
     ]
    }
   ],
   "source": [
    "temperatura = 40\n",
    "while temperatura >= 35:\n",
    "    print(temperatura)\n",
    "    temperatura -= 1"
   ],
   "metadata": {
    "collapsed": false,
    "ExecuteTime": {
     "end_time": "2024-07-18T13:10:31.760950Z",
     "start_time": "2024-07-18T13:10:31.755080Z"
    }
   },
   "id": "69e23e592fa1cca5",
   "execution_count": 23
  },
  {
   "cell_type": "markdown",
   "source": [
    "EXERCÍCIO 6"
   ],
   "metadata": {
    "collapsed": false
   },
   "id": "a6d285d807e134eb"
  },
  {
   "cell_type": "code",
   "outputs": [
    {
     "name": "stdout",
     "output_type": "stream",
     "text": [
      "0\n",
      "1\n",
      "2\n",
      "3\n",
      "4\n",
      "5\n",
      "6\n",
      "7\n",
      "8\n",
      "9\n",
      "10\n",
      "11\n",
      "12\n",
      "13\n",
      "14\n",
      "15\n",
      "16\n",
      "17\n",
      "18\n",
      "19\n",
      "20\n",
      "21\n",
      "22\n",
      "23\n"
     ]
    }
   ],
   "source": [
    "contador = 0\n",
    "while contador <= 100:\n",
    "    if contador == 24:\n",
    "        break\n",
    "    print(contador)\n",
    "    contador += 1"
   ],
   "metadata": {
    "collapsed": false,
    "ExecuteTime": {
     "end_time": "2024-07-18T13:34:29.200562Z",
     "start_time": "2024-07-18T13:34:29.195028Z"
    }
   },
   "id": "4b9a9f3944f36e90",
   "execution_count": 42
  },
  {
   "cell_type": "markdown",
   "source": [
    "EXERCÍCIO 7"
   ],
   "metadata": {
    "collapsed": false
   },
   "id": "b6f719bc584056bc"
  },
  {
   "cell_type": "code",
   "outputs": [
    {
     "name": "stdout",
     "output_type": "stream",
     "text": [
      "[4, 6, 8, 10, 12, 14, 16, 18, 20]\n"
     ]
    }
   ],
   "source": [
    "lista = []\n",
    "var = 4\n",
    "while var <= 20:\n",
    "    if var % 2 == 0:\n",
    "        lista.append(var)\n",
    "    var += 1\n",
    "print(lista)"
   ],
   "metadata": {
    "collapsed": false,
    "ExecuteTime": {
     "end_time": "2024-07-18T13:18:17.662993Z",
     "start_time": "2024-07-18T13:18:17.656378Z"
    }
   },
   "id": "1c6b06cbe5c482c4",
   "execution_count": 29
  },
  {
   "cell_type": "markdown",
   "source": [
    "EXERCÍCIO 8"
   ],
   "metadata": {
    "collapsed": false
   },
   "id": "68bdcea7970bf5d1"
  },
  {
   "cell_type": "code",
   "outputs": [
    {
     "name": "stdout",
     "output_type": "stream",
     "text": [
      "[5, 7, 9, 11, 13, 15, 17, 19, 21, 23, 25, 27, 29, 31, 33, 35, 37, 39, 41, 43]\n"
     ]
    }
   ],
   "source": [
    "lista= []\n",
    "for i in range(5,45,2):\n",
    "    lista.append(i)\n",
    "print(lista)"
   ],
   "metadata": {
    "collapsed": false,
    "ExecuteTime": {
     "end_time": "2024-07-18T13:20:36.031377Z",
     "start_time": "2024-07-18T13:20:36.026858Z"
    }
   },
   "id": "a77c16b172b33fe7",
   "execution_count": 30
  },
  {
   "cell_type": "markdown",
   "source": [
    "EXERCÍCIO 9"
   ],
   "metadata": {
    "collapsed": false
   },
   "id": "ff67c56fac918c12"
  },
  {
   "cell_type": "code",
   "outputs": [
    {
     "name": "stdout",
     "output_type": "stream",
     "text": [
      "Busque seus casacos.\n"
     ]
    }
   ],
   "source": [
    "temperatura = float(input('Qual a temperatura?'))\n",
    "if temperatura > 30:\n",
    "    print('Vista roupas leves.')\n",
    "else:\n",
    "    print('Busque seus casacos.')"
   ],
   "metadata": {
    "collapsed": false,
    "ExecuteTime": {
     "end_time": "2024-07-18T13:21:34.405419Z",
     "start_time": "2024-07-18T13:21:32.981003Z"
    }
   },
   "id": "95a5e36f4e6069c7",
   "execution_count": 32
  },
  {
   "cell_type": "markdown",
   "source": [
    "EXERCÍCIO 10"
   ],
   "metadata": {
    "collapsed": false
   },
   "id": "6209f9d30ff228af"
  },
  {
   "cell_type": "code",
   "outputs": [],
   "source": [
    "frase = \"A gratidão é a virtude das almas nobres. O quão feliz é uma pessoa depende da profundidade de sua gratidão.\"\n",
    "def split_string_letras(text): \n",
    "    contador = 0\n",
    "    frase = text.upper()\n",
    "    for letra in frase:\n",
    "        if letra == 'R':\n",
    "            contador += 1\n",
    "    print(contador)"
   ],
   "metadata": {
    "collapsed": false,
    "ExecuteTime": {
     "end_time": "2024-07-18T13:29:58.012271Z",
     "start_time": "2024-07-18T13:29:58.007592Z"
    }
   },
   "id": "2257ec835e116abb",
   "execution_count": 40
  },
  {
   "cell_type": "code",
   "outputs": [
    {
     "name": "stdout",
     "output_type": "stream",
     "text": [
      "5\n"
     ]
    }
   ],
   "source": [
    "split_string_letras(frase)"
   ],
   "metadata": {
    "collapsed": false,
    "ExecuteTime": {
     "end_time": "2024-07-18T13:29:58.836378Z",
     "start_time": "2024-07-18T13:29:58.832296Z"
    }
   },
   "id": "407b0293f3cd2a1c",
   "execution_count": 41
  },
  {
   "cell_type": "code",
   "outputs": [],
   "source": [],
   "metadata": {
    "collapsed": false
   },
   "id": "3171924039f2cb34"
  }
 ],
 "metadata": {
  "kernelspec": {
   "display_name": "Python 3",
   "language": "python",
   "name": "python3"
  },
  "language_info": {
   "codemirror_mode": {
    "name": "ipython",
    "version": 2
   },
   "file_extension": ".py",
   "mimetype": "text/x-python",
   "name": "python",
   "nbconvert_exporter": "python",
   "pygments_lexer": "ipython2",
   "version": "2.7.6"
  }
 },
 "nbformat": 4,
 "nbformat_minor": 5
}
