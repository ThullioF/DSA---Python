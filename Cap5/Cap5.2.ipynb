{
 "cells": [
  {
   "cell_type": "markdown",
   "source": [
    "LOOP FOR"
   ],
   "metadata": {
    "collapsed": false
   },
   "id": "5e459f34d09161e3"
  },
  {
   "cell_type": "code",
   "outputs": [
    {
     "name": "stdout",
     "output_type": "stream",
     "text": [
      "2\n",
      "3\n",
      "4\n"
     ]
    }
   ],
   "source": [
    "#Criando um tupla e imprimindo cada um dos valores\n",
    "tp = (2,3,4)\n",
    "for i in tp:\n",
    "    print(i)"
   ],
   "metadata": {
    "collapsed": false,
    "ExecuteTime": {
     "end_time": "2024-07-01T14:36:24.619268Z",
     "start_time": "2024-07-01T14:36:24.604448Z"
    }
   },
   "id": "14c65f9ac353c697",
   "execution_count": 1
  },
  {
   "cell_type": "code",
   "outputs": [
    {
     "name": "stdout",
     "output_type": "stream",
     "text": [
      "data\n",
      "science\n",
      "academy\n"
     ]
    }
   ],
   "source": [
    "#Criando uma lista e imprimindo cada um dos valores\n",
    "listaDeStrings = [\"data\", \"science\", \"academy\"]\n",
    "for i in listaDeStrings:\n",
    "    print(i)"
   ],
   "metadata": {
    "collapsed": false,
    "ExecuteTime": {
     "end_time": "2024-07-01T14:37:53.169606Z",
     "start_time": "2024-07-01T14:37:53.164781Z"
    }
   },
   "id": "8e131216a14f9628",
   "execution_count": 2
  },
  {
   "cell_type": "code",
   "outputs": [
    {
     "name": "stdout",
     "output_type": "stream",
     "text": [
      "0\n",
      "1\n",
      "2\n",
      "3\n",
      "4\n"
     ]
    }
   ],
   "source": [
    "#Imprimindo os valores no intervalo entre 0 e 5(exclusive)\n",
    "for contador in range(0,5):\n",
    "    print(contador)"
   ],
   "metadata": {
    "collapsed": false,
    "ExecuteTime": {
     "end_time": "2024-07-01T14:38:49.632305Z",
     "start_time": "2024-07-01T14:38:49.628205Z"
    }
   },
   "id": "515db4461a053415",
   "execution_count": 3
  },
  {
   "cell_type": "code",
   "outputs": [
    {
     "name": "stdout",
     "output_type": "stream",
     "text": [
      "2\n",
      "4\n",
      "6\n",
      "8\n",
      "10\n"
     ]
    }
   ],
   "source": [
    "#Imprimindo os números pares da lista de números\n",
    "lista = [1,2,3,4,5,6,7,8,9,10]\n",
    "for num in lista:\n",
    "    if num % 2 == 0:\n",
    "        print(num)"
   ],
   "metadata": {
    "collapsed": false,
    "ExecuteTime": {
     "end_time": "2024-07-01T14:40:15.804891Z",
     "start_time": "2024-07-01T14:40:15.798911Z"
    }
   },
   "id": "354ca3094c87bde6",
   "execution_count": 4
  },
  {
   "cell_type": "code",
   "outputs": [
    {
     "name": "stdout",
     "output_type": "stream",
     "text": [
      "0\n",
      "2\n",
      "4\n",
      "6\n",
      "8\n",
      "10\n",
      "12\n",
      "14\n",
      "16\n",
      "18\n",
      "20\n",
      "22\n",
      "24\n",
      "26\n",
      "28\n",
      "30\n",
      "32\n",
      "34\n",
      "36\n",
      "38\n",
      "40\n",
      "42\n",
      "44\n",
      "46\n",
      "48\n",
      "50\n",
      "52\n",
      "54\n",
      "56\n",
      "58\n",
      "60\n",
      "62\n",
      "64\n",
      "66\n",
      "68\n",
      "70\n",
      "72\n",
      "74\n",
      "76\n",
      "78\n",
      "80\n",
      "82\n",
      "84\n",
      "86\n",
      "88\n",
      "90\n",
      "92\n",
      "94\n",
      "96\n",
      "98\n",
      "100\n"
     ]
    }
   ],
   "source": [
    "#Listando os números no intervalo entre 0 e 101, com incremento em 2\n",
    "for i in range(0,101,2):\n",
    "    print(i)"
   ],
   "metadata": {
    "collapsed": false,
    "ExecuteTime": {
     "end_time": "2024-07-01T14:41:12.130738Z",
     "start_time": "2024-07-01T14:41:12.125614Z"
    }
   },
   "id": "4a23a95aed25675b",
   "execution_count": 5
  },
  {
   "cell_type": "code",
   "outputs": [
    {
     "name": "stdout",
     "output_type": "stream",
     "text": [
      "P\n",
      "y\n",
      "t\n",
      "h\n",
      "o\n",
      "n\n",
      " \n",
      "é\n",
      " \n",
      "u\n",
      "m\n",
      "a\n",
      " \n",
      "l\n",
      "i\n",
      "n\n",
      "g\n",
      "u\n",
      "a\n",
      "g\n",
      "e\n",
      "m\n",
      " \n",
      "d\n",
      "e\n",
      " \n",
      "p\n",
      "r\n",
      "o\n",
      "g\n",
      "r\n",
      "a\n",
      "m\n",
      "a\n",
      "ç\n",
      "ã\n",
      "o\n"
     ]
    }
   ],
   "source": [
    "#Strings também são sequências\n",
    "for caracter in 'Python é uma linguagem de programação':\n",
    "    print(caracter)"
   ],
   "metadata": {
    "collapsed": false,
    "ExecuteTime": {
     "end_time": "2024-07-01T14:42:13.326346Z",
     "start_time": "2024-07-01T14:42:13.321393Z"
    }
   },
   "id": "643824a6fc7b1daa",
   "execution_count": 6
  },
  {
   "cell_type": "markdown",
   "source": [
    "LOOP FOR ANINHADO"
   ],
   "metadata": {
    "collapsed": false
   },
   "id": "53c6beb8962b492d"
  },
  {
   "cell_type": "code",
   "outputs": [
    {
     "name": "stdout",
     "output_type": "stream",
     "text": [
      "\n",
      " 0\n",
      "\n",
      " 0\n",
      "\n",
      " 0\n",
      "---\n",
      "\n",
      " 1\n",
      "\n",
      " 2\n",
      "\n",
      " 3\n",
      "---\n",
      "\n",
      " 2\n",
      "\n",
      " 4\n",
      "\n",
      " 6\n",
      "---\n",
      "\n",
      " 3\n",
      "\n",
      " 6\n",
      "\n",
      " 9\n",
      "---\n",
      "\n",
      " 4\n",
      "\n",
      " 8\n",
      "\n",
      " 12\n",
      "---\n"
     ]
    }
   ],
   "source": [
    "#loops aninhados\n",
    "lista1 = [0,1,2,3,4]\n",
    "lista2 = [1,2,3]\n",
    "\n",
    "#Loop externo\n",
    "for elemento_lista1 in lista1:\n",
    "    \n",
    "    #Loop interno\n",
    "    for elemento_lista2 in lista2:\n",
    "        print('\\n', elemento_lista1 * elemento_lista2)\n",
    "    print('---')"
   ],
   "metadata": {
    "collapsed": false,
    "ExecuteTime": {
     "end_time": "2024-07-03T12:06:32.958084Z",
     "start_time": "2024-07-03T12:06:32.945457Z"
    }
   },
   "id": "eadf2d42631684bb",
   "execution_count": 2
  },
  {
   "cell_type": "code",
   "outputs": [
    {
     "name": "stdout",
     "output_type": "stream",
     "text": [
      "O 47 está nas duas listas\n"
     ]
    }
   ],
   "source": [
    "#O número 47 aparece nas duas listas\n",
    "lista1 = [10,16,24,39,47]\n",
    "lista2 = [32,89,47,76,12]\n",
    "\n",
    "#Loop externo\n",
    "for elemento_lista1 in lista1:\n",
    "    \n",
    "    #Loop interno\n",
    "    for elemento_lista2 in lista2:\n",
    "        #Condicional\n",
    "        if elemento_lista1 == 47 and elemento_lista2 == 47:\n",
    "            print(\"O 47 está nas duas listas\")"
   ],
   "metadata": {
    "collapsed": false,
    "ExecuteTime": {
     "end_time": "2024-07-03T12:11:46.642436Z",
     "start_time": "2024-07-03T12:11:46.630655Z"
    }
   },
   "id": "565df70bf9a2bbde",
   "execution_count": 3
  },
  {
   "cell_type": "code",
   "outputs": [
    {
     "name": "stdout",
     "output_type": "stream",
     "text": [
      "A soma é:  170\n"
     ]
    }
   ],
   "source": [
    "#Some os números pares da primeira lista com os números pares da segunda lista\n",
    "lista1 = [10,16,24,39,47]\n",
    "lista2 = [32,89,47,76,12]\n",
    "soma = 0\n",
    "\n",
    "#Loop externo\n",
    "for lista in [lista1,lista2]:\n",
    "    #Loop interno\n",
    "    for num in lista:\n",
    "        #Condicional\n",
    "        if num % 2 == 0:\n",
    "            soma += num\n",
    "            \n",
    "print(\"A soma é: \", soma)"
   ],
   "metadata": {
    "collapsed": false,
    "ExecuteTime": {
     "end_time": "2024-07-03T12:59:37.086862Z",
     "start_time": "2024-07-03T12:59:37.075761Z"
    }
   },
   "id": "b837e05eee247331",
   "execution_count": 6
  },
  {
   "cell_type": "code",
   "outputs": [
    {
     "name": "stdout",
     "output_type": "stream",
     "text": [
      "A soma é:  170\n"
     ]
    }
   ],
   "source": [
    "#Some os números pares da primeira lista com os números pares da segunda lista usando concatenação\n",
    "lista1 = [10,16,24,39,47]\n",
    "lista2 = [32,89,47,76,12]\n",
    "soma = 0\n",
    "\n",
    "for num in lista1 + lista2:\n",
    "    if num % 2 == 0:\n",
    "        soma += num\n",
    "print(\"A soma é: \", soma)"
   ],
   "metadata": {
    "collapsed": false,
    "ExecuteTime": {
     "end_time": "2024-07-03T13:00:00.813720Z",
     "start_time": "2024-07-03T13:00:00.802740Z"
    }
   },
   "id": "5f98f398e1cca0f5",
   "execution_count": 8
  },
  {
   "cell_type": "code",
   "outputs": [
    {
     "name": "stdout",
     "output_type": "stream",
     "text": [
      "Maior numero:  215\n"
     ]
    }
   ],
   "source": [
    "#Loop em lista de listas (matrizes) para encontrar o maior número\n",
    "matriz = [[42,23,34], [100,215,114], [10.1,98.7,12.3]]\n",
    "maior_numero = 0\n",
    "\n",
    "#Loop externo\n",
    "for linha in matriz:\n",
    "    #Loop interno\n",
    "    for num in linha:\n",
    "        #Condicional\n",
    "        if num > maior_numero:\n",
    "            maior_numero = num\n",
    "print(\"Maior numero: \", maior_numero)"
   ],
   "metadata": {
    "collapsed": false,
    "ExecuteTime": {
     "end_time": "2024-07-03T13:03:02.804839Z",
     "start_time": "2024-07-03T13:03:02.792261Z"
    }
   },
   "id": "1a47ab16be029428",
   "execution_count": 9
  },
  {
   "cell_type": "code",
   "outputs": [
    {
     "name": "stdout",
     "output_type": "stream",
     "text": [
      "k1\n",
      "k2\n",
      "k3\n"
     ]
    }
   ],
   "source": [
    "#Listando as chaves de um dicionário\n",
    "dict = {'k1':'Python', 'k2':'Java', 'k3':'C'}\n",
    "for item in dict:\n",
    "    print(item)"
   ],
   "metadata": {
    "collapsed": false,
    "ExecuteTime": {
     "end_time": "2024-07-03T13:05:33.561743Z",
     "start_time": "2024-07-03T13:05:33.551676Z"
    }
   },
   "id": "cbca1f1b48597be6",
   "execution_count": 10
  },
  {
   "cell_type": "code",
   "outputs": [
    {
     "name": "stdout",
     "output_type": "stream",
     "text": [
      "k1 Python\n",
      "k2 Java\n",
      "k3 C\n"
     ]
    }
   ],
   "source": [
    "#Imprimindo chave e valor do dicionário. Usando o método items() para retornar os itens de um dicionário\n",
    "for k,v in dict.items():\n",
    "    print(k,v)"
   ],
   "metadata": {
    "collapsed": false,
    "ExecuteTime": {
     "end_time": "2024-07-03T13:06:41.851678Z",
     "start_time": "2024-07-03T13:06:41.837728Z"
    }
   },
   "id": "7c68d5031c8d8749",
   "execution_count": 11
  },
  {
   "cell_type": "code",
   "outputs": [],
   "source": [],
   "metadata": {
    "collapsed": false
   },
   "id": "52a0e9a6161015f"
  }
 ],
 "metadata": {
  "kernelspec": {
   "display_name": "Python 3",
   "language": "python",
   "name": "python3"
  },
  "language_info": {
   "codemirror_mode": {
    "name": "ipython",
    "version": 2
   },
   "file_extension": ".py",
   "mimetype": "text/x-python",
   "name": "python",
   "nbconvert_exporter": "python",
   "pygments_lexer": "ipython2",
   "version": "2.7.6"
  }
 },
 "nbformat": 4,
 "nbformat_minor": 5
}
