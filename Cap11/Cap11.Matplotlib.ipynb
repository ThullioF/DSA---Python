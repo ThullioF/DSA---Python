{
 "cells": [
  {
   "cell_type": "markdown",
   "source": [
    "MATPLOTLIB\n",
    "- É uma biblioteca de visualização de dados em Pyhton"
   ],
   "metadata": {
    "collapsed": false
   },
   "id": "a1a87fc10ab15cf"
  },
  {
   "cell_type": "code",
   "outputs": [],
   "source": [
    "import matplotlib as mpl"
   ],
   "metadata": {
    "collapsed": false,
    "ExecuteTime": {
     "end_time": "2024-08-19T14:25:06.933925Z",
     "start_time": "2024-08-19T14:25:06.397451Z"
    }
   },
   "id": "383a318ee7ee742f",
   "execution_count": 1
  },
  {
   "cell_type": "code",
   "outputs": [
    {
     "data": {
      "text/plain": "'3.8.0'"
     },
     "execution_count": 2,
     "metadata": {},
     "output_type": "execute_result"
    }
   ],
   "source": [
    "mpl.__version__"
   ],
   "metadata": {
    "collapsed": false,
    "ExecuteTime": {
     "end_time": "2024-08-19T14:25:12.374437Z",
     "start_time": "2024-08-19T14:25:12.364239Z"
    }
   },
   "id": "199326afaa352460",
   "execution_count": 2
  },
  {
   "cell_type": "markdown",
   "source": [
    "CONSTRUINDO PLOTS"
   ],
   "metadata": {
    "collapsed": false
   },
   "id": "78d207db538748ad"
  },
  {
   "cell_type": "code",
   "outputs": [],
   "source": [],
   "metadata": {
    "collapsed": false
   },
   "id": "c786e17a940443cd"
  }
 ],
 "metadata": {
  "kernelspec": {
   "display_name": "Python 3",
   "language": "python",
   "name": "python3"
  },
  "language_info": {
   "codemirror_mode": {
    "name": "ipython",
    "version": 2
   },
   "file_extension": ".py",
   "mimetype": "text/x-python",
   "name": "python",
   "nbconvert_exporter": "python",
   "pygments_lexer": "ipython2",
   "version": "2.7.6"
  }
 },
 "nbformat": 4,
 "nbformat_minor": 5
}
