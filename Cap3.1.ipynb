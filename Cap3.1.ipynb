{
 "cells": [
  {
   "cell_type": "code",
   "outputs": [
    {
     "name": "stdout",
     "output_type": "stream",
     "text": [
      "Bem-vindo ao Calculador da área de um paralelogramo\n"
     ]
    }
   ],
   "source": [
    "print(\"Bem-vindo ao Calculador da área de um paralelogramo\")"
   ],
   "metadata": {
    "collapsed": false,
    "ExecuteTime": {
     "end_time": "2024-05-22T12:26:05.721832Z",
     "start_time": "2024-05-22T12:26:05.709823Z"
    }
   },
   "id": "871b432f62aed0f4",
   "execution_count": 1
  },
  {
   "cell_type": "code",
   "outputs": [],
   "source": [
    "base = float(input(\"Insira o comprimento da base: \"))"
   ],
   "metadata": {
    "collapsed": false,
    "ExecuteTime": {
     "end_time": "2024-05-22T12:28:16.839787Z",
     "start_time": "2024-05-22T12:28:13.565874Z"
    }
   },
   "id": "869637884330b246",
   "execution_count": 7
  },
  {
   "cell_type": "code",
   "outputs": [],
   "source": [
    "altura = float(input(\"Insira a altura: \"))"
   ],
   "metadata": {
    "collapsed": false,
    "ExecuteTime": {
     "end_time": "2024-05-22T12:28:29.266521Z",
     "start_time": "2024-05-22T12:28:27.023283Z"
    }
   },
   "id": "30c265eec9503768",
   "execution_count": 9
  },
  {
   "cell_type": "code",
   "outputs": [],
   "source": [
    "area = base * altura"
   ],
   "metadata": {
    "collapsed": false,
    "ExecuteTime": {
     "end_time": "2024-05-22T12:28:35.050897Z",
     "start_time": "2024-05-22T12:28:35.046235Z"
    }
   },
   "id": "9095d4d2fce19388",
   "execution_count": 11
  },
  {
   "cell_type": "code",
   "outputs": [
    {
     "name": "stdout",
     "output_type": "stream",
     "text": [
      "A área do paralelogramo é:  180.0\n"
     ]
    }
   ],
   "source": [
    "print(\"A área do paralelogramo é: \", area)"
   ],
   "metadata": {
    "collapsed": false,
    "ExecuteTime": {
     "end_time": "2024-05-22T12:28:36.448822Z",
     "start_time": "2024-05-22T12:28:36.443782Z"
    }
   },
   "id": "409a41c3393e3894",
   "execution_count": 12
  },
  {
   "cell_type": "code",
   "outputs": [],
   "source": [],
   "metadata": {
    "collapsed": false
   },
   "id": "1b14b7d3f370477f"
  }
 ],
 "metadata": {
  "kernelspec": {
   "display_name": "Python 3",
   "language": "python",
   "name": "python3"
  },
  "language_info": {
   "codemirror_mode": {
    "name": "ipython",
    "version": 2
   },
   "file_extension": ".py",
   "mimetype": "text/x-python",
   "name": "python",
   "nbconvert_exporter": "python",
   "pygments_lexer": "ipython2",
   "version": "2.7.6"
  }
 },
 "nbformat": 4,
 "nbformat_minor": 5
}
