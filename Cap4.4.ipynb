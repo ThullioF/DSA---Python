{
 "cells": [
  {
   "cell_type": "markdown",
   "source": [
    "TRABALHANDO COM LISTAS"
   ],
   "metadata": {
    "collapsed": false
   },
   "id": "cd26bd51add408c9"
  },
  {
   "cell_type": "code",
   "outputs": [],
   "source": [
    "#Criando uma lista\n",
    "lista_1 = [\"arroz, frango,tomate, leite\"]"
   ],
   "metadata": {
    "collapsed": false,
    "ExecuteTime": {
     "end_time": "2024-06-04T14:32:24.251356Z",
     "start_time": "2024-06-04T14:32:24.240691Z"
    }
   },
   "id": "8188fd65ca1f204",
   "execution_count": 1
  },
  {
   "cell_type": "code",
   "outputs": [
    {
     "data": {
      "text/plain": "list"
     },
     "execution_count": 2,
     "metadata": {},
     "output_type": "execute_result"
    }
   ],
   "source": [
    "type(lista_1)"
   ],
   "metadata": {
    "collapsed": false,
    "ExecuteTime": {
     "end_time": "2024-06-04T14:32:26.030942Z",
     "start_time": "2024-06-04T14:32:26.021696Z"
    }
   },
   "id": "7e7d80f524a4bda8",
   "execution_count": 2
  },
  {
   "cell_type": "code",
   "outputs": [
    {
     "name": "stdout",
     "output_type": "stream",
     "text": [
      "['arroz, frango,tomate, leite']\n"
     ]
    }
   ],
   "source": [
    "print(lista_1)"
   ],
   "metadata": {
    "collapsed": false,
    "ExecuteTime": {
     "end_time": "2024-06-04T14:32:35.423691Z",
     "start_time": "2024-06-04T14:32:35.418771Z"
    }
   },
   "id": "25d1ee2a771606e7",
   "execution_count": 3
  },
  {
   "cell_type": "code",
   "outputs": [],
   "source": [
    "#Criando outra lista\n",
    "lista_2 = [\"arroz\", \"frango\", \"tomate\", \"leite\"]"
   ],
   "metadata": {
    "collapsed": false,
    "ExecuteTime": {
     "end_time": "2024-06-04T14:36:39.500407Z",
     "start_time": "2024-06-04T14:36:39.495987Z"
    }
   },
   "id": "2e05655d247168fb",
   "execution_count": 16
  },
  {
   "cell_type": "code",
   "outputs": [
    {
     "data": {
      "text/plain": "list"
     },
     "execution_count": 5,
     "metadata": {},
     "output_type": "execute_result"
    }
   ],
   "source": [
    "type(lista_2)"
   ],
   "metadata": {
    "collapsed": false,
    "ExecuteTime": {
     "end_time": "2024-06-04T14:33:07.134559Z",
     "start_time": "2024-06-04T14:33:07.127851Z"
    }
   },
   "id": "d26d10364ede2fc4",
   "execution_count": 5
  },
  {
   "cell_type": "code",
   "outputs": [
    {
     "name": "stdout",
     "output_type": "stream",
     "text": [
      "['arroz', 'frango', 'tomate', 'leite']\n"
     ]
    }
   ],
   "source": [
    "print(lista_2)"
   ],
   "metadata": {
    "collapsed": false,
    "ExecuteTime": {
     "end_time": "2024-06-04T14:33:12.154432Z",
     "start_time": "2024-06-04T14:33:12.150072Z"
    }
   },
   "id": "509132b54f82893b",
   "execution_count": 6
  },
  {
   "cell_type": "code",
   "outputs": [],
   "source": [
    "#Criando lista\n",
    "lista_3 = [23, 100, \"DSA\"]"
   ],
   "metadata": {
    "collapsed": false,
    "ExecuteTime": {
     "end_time": "2024-06-04T14:33:39.853901Z",
     "start_time": "2024-06-04T14:33:39.848766Z"
    }
   },
   "id": "910734257fb2415d",
   "execution_count": 7
  },
  {
   "cell_type": "code",
   "outputs": [
    {
     "data": {
      "text/plain": "list"
     },
     "execution_count": 8,
     "metadata": {},
     "output_type": "execute_result"
    }
   ],
   "source": [
    "type(lista_3)"
   ],
   "metadata": {
    "collapsed": false,
    "ExecuteTime": {
     "end_time": "2024-06-04T14:33:49.470858Z",
     "start_time": "2024-06-04T14:33:49.463527Z"
    }
   },
   "id": "3df8afd0c14c83ed",
   "execution_count": 8
  },
  {
   "cell_type": "code",
   "outputs": [
    {
     "name": "stdout",
     "output_type": "stream",
     "text": [
      "[23, 100, 'DSA']\n"
     ]
    }
   ],
   "source": [
    "print(lista_3)"
   ],
   "metadata": {
    "collapsed": false,
    "ExecuteTime": {
     "end_time": "2024-06-04T14:33:53.873807Z",
     "start_time": "2024-06-04T14:33:53.869009Z"
    }
   },
   "id": "c2337a62faa7ac82",
   "execution_count": 9
  },
  {
   "cell_type": "code",
   "outputs": [],
   "source": [
    "#Atribuindo cada valor da lista a uma variável\n",
    "item1 = lista_3[0]\n",
    "item2 = lista_3[1]\n",
    "item3 = lista_3[2]"
   ],
   "metadata": {
    "collapsed": false,
    "ExecuteTime": {
     "end_time": "2024-06-04T14:34:35.823709Z",
     "start_time": "2024-06-04T14:34:35.819594Z"
    }
   },
   "id": "a14c53ed1ebe2450",
   "execution_count": 10
  },
  {
   "cell_type": "code",
   "outputs": [
    {
     "name": "stdout",
     "output_type": "stream",
     "text": [
      "23 100 DSA\n"
     ]
    }
   ],
   "source": [
    "print(item1, item2, item3)"
   ],
   "metadata": {
    "collapsed": false,
    "ExecuteTime": {
     "end_time": "2024-06-04T14:34:43.525336Z",
     "start_time": "2024-06-04T14:34:43.520408Z"
    }
   },
   "id": "ced65a5a5d2278c0",
   "execution_count": 11
  },
  {
   "cell_type": "markdown",
   "source": [
    "ATUALIZANDO UM ITEM DA LISTA"
   ],
   "metadata": {
    "collapsed": false
   },
   "id": "1154d6f4429d44ef"
  },
  {
   "cell_type": "code",
   "outputs": [
    {
     "data": {
      "text/plain": "'tomate'"
     },
     "execution_count": 18,
     "metadata": {},
     "output_type": "execute_result"
    }
   ],
   "source": [
    "#Imprimindo um item da lista\n",
    "lista_2[2]"
   ],
   "metadata": {
    "collapsed": false,
    "ExecuteTime": {
     "end_time": "2024-06-04T14:36:49.450057Z",
     "start_time": "2024-06-04T14:36:49.444092Z"
    }
   },
   "id": "1102984ad1ffbb67",
   "execution_count": 18
  },
  {
   "cell_type": "code",
   "outputs": [],
   "source": [
    "#Atualizando um item da lista\n",
    "lista_2[2] = \"chocolate\""
   ],
   "metadata": {
    "collapsed": false,
    "ExecuteTime": {
     "end_time": "2024-06-04T14:44:14.727735Z",
     "start_time": "2024-06-04T14:44:14.723380Z"
    }
   },
   "id": "458b38936ff19ba2",
   "execution_count": 19
  },
  {
   "cell_type": "code",
   "outputs": [
    {
     "data": {
      "text/plain": "['arroz', 'frango', 'chocolate', 'leite']"
     },
     "execution_count": 20,
     "metadata": {},
     "output_type": "execute_result"
    }
   ],
   "source": [
    "lista_2"
   ],
   "metadata": {
    "collapsed": false,
    "ExecuteTime": {
     "end_time": "2024-06-04T14:44:20.108892Z",
     "start_time": "2024-06-04T14:44:20.102762Z"
    }
   },
   "id": "676f9697f95ded55",
   "execution_count": 20
  },
  {
   "cell_type": "markdown",
   "source": [
    "DELETENDO UM ITEM DA LISTA"
   ],
   "metadata": {
    "collapsed": false
   },
   "id": "4b8fef4a67d111db"
  },
  {
   "cell_type": "code",
   "outputs": [],
   "source": [
    "#Deletando um item específico da lista\n",
    "del lista_2[3]"
   ],
   "metadata": {
    "collapsed": false,
    "ExecuteTime": {
     "end_time": "2024-06-04T14:45:31.770524Z",
     "start_time": "2024-06-04T14:45:31.765425Z"
    }
   },
   "id": "15a8e75c4851dbad",
   "execution_count": 21
  },
  {
   "cell_type": "code",
   "outputs": [
    {
     "data": {
      "text/plain": "['arroz', 'frango', 'chocolate']"
     },
     "execution_count": 22,
     "metadata": {},
     "output_type": "execute_result"
    }
   ],
   "source": [
    "lista_2"
   ],
   "metadata": {
    "collapsed": false,
    "ExecuteTime": {
     "end_time": "2024-06-04T14:45:46.811515Z",
     "start_time": "2024-06-04T14:45:46.804317Z"
    }
   },
   "id": "e940719526b14d27",
   "execution_count": 22
  },
  {
   "cell_type": "markdown",
   "source": [
    "LISTAS DE LISTAS (LISTAS ANINHADAS)\n",
    "São matrizes em Python"
   ],
   "metadata": {
    "collapsed": false
   },
   "id": "6b461c41c33017ac"
  },
  {
   "cell_type": "code",
   "outputs": [],
   "source": [
    "#Criando uma lista de listas\n",
    "listas = [[1,2,3], [10,15,14], [10.1,8.7,2.3]]"
   ],
   "metadata": {
    "collapsed": false,
    "ExecuteTime": {
     "end_time": "2024-06-05T12:48:46.197230Z",
     "start_time": "2024-06-05T12:48:46.192460Z"
    }
   },
   "id": "fd52792854216dec",
   "execution_count": 8
  },
  {
   "cell_type": "code",
   "outputs": [
    {
     "name": "stdout",
     "output_type": "stream",
     "text": [
      "[[1, 2, 3], [10, 15, 14], [10.1, 8.7, 2.3]]\n"
     ]
    }
   ],
   "source": [
    "print(listas)"
   ],
   "metadata": {
    "collapsed": false,
    "ExecuteTime": {
     "end_time": "2024-06-04T14:48:24.453453Z",
     "start_time": "2024-06-04T14:48:24.449059Z"
    }
   },
   "id": "16de57e672e3b92f",
   "execution_count": 24
  },
  {
   "cell_type": "code",
   "outputs": [],
   "source": [
    "#Atribuindo um item da lista a uma variável\n",
    "a = listas[0]"
   ],
   "metadata": {
    "collapsed": false,
    "ExecuteTime": {
     "end_time": "2024-06-04T14:49:03.989672Z",
     "start_time": "2024-06-04T14:49:03.985262Z"
    }
   },
   "id": "a2cee6989ac1a288",
   "execution_count": 25
  },
  {
   "cell_type": "code",
   "outputs": [
    {
     "data": {
      "text/plain": "[1, 2, 3]"
     },
     "execution_count": 26,
     "metadata": {},
     "output_type": "execute_result"
    }
   ],
   "source": [
    "a"
   ],
   "metadata": {
    "collapsed": false,
    "ExecuteTime": {
     "end_time": "2024-06-04T14:49:07.727112Z",
     "start_time": "2024-06-04T14:49:07.721055Z"
    }
   },
   "id": "753bfdc4e2149c93",
   "execution_count": 26
  },
  {
   "cell_type": "code",
   "outputs": [],
   "source": [
    "b = a[0]"
   ],
   "metadata": {
    "collapsed": false,
    "ExecuteTime": {
     "end_time": "2024-06-04T14:49:19.208753Z",
     "start_time": "2024-06-04T14:49:19.203224Z"
    }
   },
   "id": "91d33c822774de19",
   "execution_count": 27
  },
  {
   "cell_type": "code",
   "outputs": [
    {
     "data": {
      "text/plain": "1"
     },
     "execution_count": 28,
     "metadata": {},
     "output_type": "execute_result"
    }
   ],
   "source": [
    "b"
   ],
   "metadata": {
    "collapsed": false,
    "ExecuteTime": {
     "end_time": "2024-06-04T14:49:22.026011Z",
     "start_time": "2024-06-04T14:49:22.019648Z"
    }
   },
   "id": "9cbac3ca2913a8d7",
   "execution_count": 28
  },
  {
   "cell_type": "code",
   "outputs": [],
   "source": [
    "list1 = listas[1]"
   ],
   "metadata": {
    "collapsed": false,
    "ExecuteTime": {
     "end_time": "2024-06-04T14:49:40.776852Z",
     "start_time": "2024-06-04T14:49:40.772290Z"
    }
   },
   "id": "99f22b84f1eee132",
   "execution_count": 29
  },
  {
   "cell_type": "code",
   "outputs": [
    {
     "data": {
      "text/plain": "[10, 15, 14]"
     },
     "execution_count": 30,
     "metadata": {},
     "output_type": "execute_result"
    }
   ],
   "source": [
    "list1"
   ],
   "metadata": {
    "collapsed": false,
    "ExecuteTime": {
     "end_time": "2024-06-04T14:49:47.918080Z",
     "start_time": "2024-06-04T14:49:47.911451Z"
    }
   },
   "id": "40feecf30e821194",
   "execution_count": 30
  },
  {
   "cell_type": "code",
   "outputs": [],
   "source": [
    "valor_1_0 = list1[0]"
   ],
   "metadata": {
    "collapsed": false,
    "ExecuteTime": {
     "end_time": "2024-06-04T14:50:23.553766Z",
     "start_time": "2024-06-04T14:50:23.549847Z"
    }
   },
   "id": "3460a99c7012b472",
   "execution_count": 31
  },
  {
   "cell_type": "code",
   "outputs": [
    {
     "data": {
      "text/plain": "10"
     },
     "execution_count": 32,
     "metadata": {},
     "output_type": "execute_result"
    }
   ],
   "source": [
    "valor_1_0"
   ],
   "metadata": {
    "collapsed": false,
    "ExecuteTime": {
     "end_time": "2024-06-04T14:50:33.382778Z",
     "start_time": "2024-06-04T14:50:33.377651Z"
    }
   },
   "id": "acf7d027f644633",
   "execution_count": 32
  },
  {
   "cell_type": "markdown",
   "source": [
    "OPERAÇÕES COM LISTAS"
   ],
   "metadata": {
    "collapsed": false
   },
   "id": "f390c27719f4d106"
  },
  {
   "cell_type": "code",
   "outputs": [],
   "source": [
    "#Atribuindo variável a o primeiro valor da primeira lista\n",
    "a = listas[0][0]"
   ],
   "metadata": {
    "collapsed": false,
    "ExecuteTime": {
     "end_time": "2024-06-04T14:53:28.628038Z",
     "start_time": "2024-06-04T14:53:28.622463Z"
    }
   },
   "id": "424f287fb04e549f",
   "execution_count": 38
  },
  {
   "cell_type": "code",
   "outputs": [
    {
     "data": {
      "text/plain": "1"
     },
     "execution_count": 39,
     "metadata": {},
     "output_type": "execute_result"
    }
   ],
   "source": [
    "a"
   ],
   "metadata": {
    "collapsed": false,
    "ExecuteTime": {
     "end_time": "2024-06-04T14:53:30.669372Z",
     "start_time": "2024-06-04T14:53:30.663130Z"
    }
   },
   "id": "473e260e92c75e7",
   "execution_count": 39
  },
  {
   "cell_type": "code",
   "outputs": [],
   "source": [
    "b = listas[1][2]"
   ],
   "metadata": {
    "collapsed": false,
    "ExecuteTime": {
     "end_time": "2024-06-05T12:47:08.245181Z",
     "start_time": "2024-06-05T12:47:08.241074Z"
    }
   },
   "id": "2eff75c007e1f322",
   "execution_count": 3
  },
  {
   "cell_type": "code",
   "outputs": [
    {
     "data": {
      "text/plain": "14"
     },
     "execution_count": 4,
     "metadata": {},
     "output_type": "execute_result"
    }
   ],
   "source": [
    "b"
   ],
   "metadata": {
    "collapsed": false,
    "ExecuteTime": {
     "end_time": "2024-06-05T12:47:11.945105Z",
     "start_time": "2024-06-05T12:47:11.936559Z"
    }
   },
   "id": "91428560fa971101",
   "execution_count": 4
  },
  {
   "cell_type": "code",
   "outputs": [],
   "source": [
    "c = listas[0][2] + 10 "
   ],
   "metadata": {
    "collapsed": false,
    "ExecuteTime": {
     "end_time": "2024-06-05T12:48:23.485759Z",
     "start_time": "2024-06-05T12:48:23.481833Z"
    }
   },
   "id": "a672c3884e72abff",
   "execution_count": 6
  },
  {
   "cell_type": "code",
   "outputs": [
    {
     "data": {
      "text/plain": "13"
     },
     "execution_count": 7,
     "metadata": {},
     "output_type": "execute_result"
    }
   ],
   "source": [
    "c"
   ],
   "metadata": {
    "collapsed": false,
    "ExecuteTime": {
     "end_time": "2024-06-05T12:48:24.962945Z",
     "start_time": "2024-06-05T12:48:24.956590Z"
    }
   },
   "id": "2cf962b18dee7920",
   "execution_count": 7
  },
  {
   "cell_type": "code",
   "outputs": [],
   "source": [
    "d = 10"
   ],
   "metadata": {
    "collapsed": false,
    "ExecuteTime": {
     "end_time": "2024-06-05T12:48:53.103432Z",
     "start_time": "2024-06-05T12:48:53.099783Z"
    }
   },
   "id": "afde23bdceb61481",
   "execution_count": 9
  },
  {
   "cell_type": "code",
   "outputs": [
    {
     "data": {
      "text/plain": "10"
     },
     "execution_count": 10,
     "metadata": {},
     "output_type": "execute_result"
    }
   ],
   "source": [
    "d"
   ],
   "metadata": {
    "collapsed": false,
    "ExecuteTime": {
     "end_time": "2024-06-05T12:48:54.253192Z",
     "start_time": "2024-06-05T12:48:54.246163Z"
    }
   },
   "id": "d2298ef8565152f7",
   "execution_count": 10
  },
  {
   "cell_type": "code",
   "outputs": [],
   "source": [
    "e = d * listas[2][0]"
   ],
   "metadata": {
    "collapsed": false,
    "ExecuteTime": {
     "end_time": "2024-06-05T12:49:21.639520Z",
     "start_time": "2024-06-05T12:49:21.634339Z"
    }
   },
   "id": "dcdabc24df5f8108",
   "execution_count": 11
  },
  {
   "cell_type": "code",
   "outputs": [
    {
     "data": {
      "text/plain": "101.0"
     },
     "execution_count": 12,
     "metadata": {},
     "output_type": "execute_result"
    }
   ],
   "source": [
    "e"
   ],
   "metadata": {
    "collapsed": false,
    "ExecuteTime": {
     "end_time": "2024-06-05T12:49:23.778776Z",
     "start_time": "2024-06-05T12:49:23.772683Z"
    }
   },
   "id": "944ac05b56054176",
   "execution_count": 12
  },
  {
   "cell_type": "markdown",
   "source": [
    "CONCATENANDO LISTAS"
   ],
   "metadata": {
    "collapsed": false
   },
   "id": "1ecee60a53c34edc"
  },
  {
   "cell_type": "code",
   "outputs": [],
   "source": [
    "lista_s1 = [34, 32, 56]"
   ],
   "metadata": {
    "collapsed": false,
    "ExecuteTime": {
     "end_time": "2024-06-05T12:50:19.570624Z",
     "start_time": "2024-06-05T12:50:19.566224Z"
    }
   },
   "id": "412e23e574cbc52e",
   "execution_count": 13
  },
  {
   "cell_type": "code",
   "outputs": [],
   "source": [
    "lista_s2 = [21, 90, 51]"
   ],
   "metadata": {
    "collapsed": false,
    "ExecuteTime": {
     "end_time": "2024-06-05T12:50:36.220195Z",
     "start_time": "2024-06-05T12:50:36.215446Z"
    }
   },
   "id": "d3038735e9d72817",
   "execution_count": 14
  },
  {
   "cell_type": "code",
   "outputs": [],
   "source": [
    "lista_total = lista_s1 + lista_s2"
   ],
   "metadata": {
    "collapsed": false,
    "ExecuteTime": {
     "end_time": "2024-06-05T12:50:52.256107Z",
     "start_time": "2024-06-05T12:50:52.252336Z"
    }
   },
   "id": "94d290538e39552e",
   "execution_count": 15
  },
  {
   "cell_type": "code",
   "outputs": [
    {
     "data": {
      "text/plain": "[34, 32, 56, 21, 90, 51]"
     },
     "execution_count": 16,
     "metadata": {},
     "output_type": "execute_result"
    }
   ],
   "source": [
    "lista_total"
   ],
   "metadata": {
    "collapsed": false,
    "ExecuteTime": {
     "end_time": "2024-06-05T12:50:56.344805Z",
     "start_time": "2024-06-05T12:50:56.339009Z"
    }
   },
   "id": "7612379ab03f9307",
   "execution_count": 16
  },
  {
   "cell_type": "markdown",
   "source": [
    "OPERADOR IN"
   ],
   "metadata": {
    "collapsed": false
   },
   "id": "a7fd354836344a4e"
  },
  {
   "cell_type": "code",
   "outputs": [],
   "source": [
    "#Criando uma lista\n",
    "lista_op = [100, 2, -5, 3.4]"
   ],
   "metadata": {
    "collapsed": false,
    "ExecuteTime": {
     "end_time": "2024-06-05T12:57:08.700969Z",
     "start_time": "2024-06-05T12:57:08.696063Z"
    }
   },
   "id": "944a41f04e807520",
   "execution_count": 17
  },
  {
   "cell_type": "code",
   "outputs": [
    {
     "name": "stdout",
     "output_type": "stream",
     "text": [
      "False\n"
     ]
    }
   ],
   "source": [
    "#Verificando se o valor 10 pertence a lista\n",
    "print(10 in lista_op)"
   ],
   "metadata": {
    "collapsed": false,
    "ExecuteTime": {
     "end_time": "2024-06-05T12:57:44.972137Z",
     "start_time": "2024-06-05T12:57:44.968441Z"
    }
   },
   "id": "796e256a623e5ad6",
   "execution_count": 18
  },
  {
   "cell_type": "code",
   "outputs": [
    {
     "name": "stdout",
     "output_type": "stream",
     "text": [
      "True\n"
     ]
    }
   ],
   "source": [
    "#Verificando se o valor 100 pertence a lista\n",
    "print(100 in lista_op)"
   ],
   "metadata": {
    "collapsed": false,
    "ExecuteTime": {
     "end_time": "2024-06-05T12:58:10.001380Z",
     "start_time": "2024-06-05T12:58:09.995871Z"
    }
   },
   "id": "e5ddbd18efffea7e",
   "execution_count": 19
  },
  {
   "cell_type": "markdown",
   "source": [
    "FUNÇÕES BUILT-IN"
   ],
   "metadata": {
    "collapsed": false
   },
   "id": "a01ae4f695859414"
  },
  {
   "cell_type": "code",
   "outputs": [],
   "source": [
    "#Criando uma lista\n",
    "lista_numeros = [1, 2, 3, 4, 5, 6, 7, 8, 9]"
   ],
   "metadata": {
    "collapsed": false,
    "ExecuteTime": {
     "end_time": "2024-06-05T13:00:48.459502Z",
     "start_time": "2024-06-05T13:00:48.455034Z"
    }
   },
   "id": "63d2325d49556bb2",
   "execution_count": 20
  },
  {
   "cell_type": "code",
   "outputs": [
    {
     "data": {
      "text/plain": "9"
     },
     "execution_count": 22,
     "metadata": {},
     "output_type": "execute_result"
    }
   ],
   "source": [
    "#Função len() retorna o comprimento da lista\n",
    "len(lista_numeros)"
   ],
   "metadata": {
    "collapsed": false,
    "ExecuteTime": {
     "end_time": "2024-06-05T13:01:19.890882Z",
     "start_time": "2024-06-05T13:01:19.884006Z"
    }
   },
   "id": "b534d99ef27fd047",
   "execution_count": 22
  },
  {
   "cell_type": "code",
   "outputs": [
    {
     "data": {
      "text/plain": "9"
     },
     "execution_count": 23,
     "metadata": {},
     "output_type": "execute_result"
    }
   ],
   "source": [
    "#Função max() retorna o valor máximo da lista\n",
    "max(lista_numeros)"
   ],
   "metadata": {
    "collapsed": false,
    "ExecuteTime": {
     "end_time": "2024-06-05T13:01:43.196504Z",
     "start_time": "2024-06-05T13:01:43.190983Z"
    }
   },
   "id": "84e0387f994ac63c",
   "execution_count": 23
  },
  {
   "cell_type": "code",
   "outputs": [
    {
     "data": {
      "text/plain": "1"
     },
     "execution_count": 24,
     "metadata": {},
     "output_type": "execute_result"
    }
   ],
   "source": [
    "#Função min() retorna o valor mínimo da lista\n",
    "min(lista_numeros)"
   ],
   "metadata": {
    "collapsed": false,
    "ExecuteTime": {
     "end_time": "2024-06-05T13:02:06.679747Z",
     "start_time": "2024-06-05T13:02:06.671959Z"
    }
   },
   "id": "4fb6aace7a1f5419",
   "execution_count": 24
  },
  {
   "cell_type": "code",
   "outputs": [],
   "source": [
    "#Criando outra lista\n",
    "lista_formacoes = [\"Analista de dados\", \"Cientista de dados\", \"Engenheiro de dados\"]"
   ],
   "metadata": {
    "collapsed": false,
    "ExecuteTime": {
     "end_time": "2024-06-05T13:03:34.934527Z",
     "start_time": "2024-06-05T13:03:34.930721Z"
    }
   },
   "id": "fd0c4c8981af9704",
   "execution_count": 25
  },
  {
   "cell_type": "code",
   "outputs": [],
   "source": [
    "#Adicionando um item à lista com append()\n",
    "lista_formacoes.append(\"Engenheiro de IA\")"
   ],
   "metadata": {
    "collapsed": false,
    "ExecuteTime": {
     "end_time": "2024-06-05T13:04:23.316897Z",
     "start_time": "2024-06-05T13:04:23.312653Z"
    }
   },
   "id": "f0d03f3a043c0ce0",
   "execution_count": 26
  },
  {
   "cell_type": "code",
   "outputs": [
    {
     "data": {
      "text/plain": "['Analista de dados',\n 'Cientista de dados',\n 'Engenheiro de dados',\n 'Engenheiro de IA']"
     },
     "execution_count": 27,
     "metadata": {},
     "output_type": "execute_result"
    }
   ],
   "source": [
    "lista_formacoes"
   ],
   "metadata": {
    "collapsed": false,
    "ExecuteTime": {
     "end_time": "2024-06-05T13:04:28.496468Z",
     "start_time": "2024-06-05T13:04:28.488684Z"
    }
   },
   "id": "cc8c85ba61309d5",
   "execution_count": 27
  },
  {
   "cell_type": "code",
   "outputs": [],
   "source": [
    "#Metodo append() não verifica se já existe a String\n",
    "lista_formacoes.append(\"Engenheiro de IA\")"
   ],
   "metadata": {
    "collapsed": false,
    "ExecuteTime": {
     "end_time": "2024-06-05T13:04:58.761713Z",
     "start_time": "2024-06-05T13:04:58.756585Z"
    }
   },
   "id": "af6f237ad28d1cda",
   "execution_count": 28
  },
  {
   "cell_type": "code",
   "outputs": [
    {
     "data": {
      "text/plain": "['Analista de dados',\n 'Cientista de dados',\n 'Engenheiro de dados',\n 'Engenheiro de IA',\n 'Engenheiro de IA']"
     },
     "execution_count": 29,
     "metadata": {},
     "output_type": "execute_result"
    }
   ],
   "source": [
    "lista_formacoes"
   ],
   "metadata": {
    "collapsed": false,
    "ExecuteTime": {
     "end_time": "2024-06-05T13:05:03.950372Z",
     "start_time": "2024-06-05T13:05:03.944431Z"
    }
   },
   "id": "f96077f37391e895",
   "execution_count": 29
  },
  {
   "cell_type": "code",
   "outputs": [
    {
     "data": {
      "text/plain": "2"
     },
     "execution_count": 30,
     "metadata": {},
     "output_type": "execute_result"
    }
   ],
   "source": [
    "lista_formacoes.count(\"Engenheiro de IA\")"
   ],
   "metadata": {
    "collapsed": false,
    "ExecuteTime": {
     "end_time": "2024-06-05T13:06:06.263762Z",
     "start_time": "2024-06-05T13:06:06.258551Z"
    }
   },
   "id": "6938714388604fe6",
   "execution_count": 30
  },
  {
   "cell_type": "code",
   "outputs": [],
   "source": [
    "#Criando um lista vazia\n",
    "a = []"
   ],
   "metadata": {
    "collapsed": false,
    "ExecuteTime": {
     "end_time": "2024-06-05T13:06:23.306688Z",
     "start_time": "2024-06-05T13:06:23.302652Z"
    }
   },
   "id": "d53d199e68ea56fb",
   "execution_count": 31
  },
  {
   "cell_type": "code",
   "outputs": [
    {
     "name": "stdout",
     "output_type": "stream",
     "text": [
      "[]\n"
     ]
    }
   ],
   "source": [
    "print(a)"
   ],
   "metadata": {
    "collapsed": false,
    "ExecuteTime": {
     "end_time": "2024-06-05T13:06:31.065711Z",
     "start_time": "2024-06-05T13:06:31.061140Z"
    }
   },
   "id": "ddc18fd01dcae32e",
   "execution_count": 32
  },
  {
   "cell_type": "code",
   "outputs": [
    {
     "data": {
      "text/plain": "list"
     },
     "execution_count": 33,
     "metadata": {},
     "output_type": "execute_result"
    }
   ],
   "source": [
    "type(a)"
   ],
   "metadata": {
    "collapsed": false,
    "ExecuteTime": {
     "end_time": "2024-06-05T13:06:39.814315Z",
     "start_time": "2024-06-05T13:06:39.808637Z"
    }
   },
   "id": "3b4d2b221255b0d8",
   "execution_count": 33
  },
  {
   "cell_type": "code",
   "outputs": [],
   "source": [
    "a.append(10)"
   ],
   "metadata": {
    "collapsed": false,
    "ExecuteTime": {
     "end_time": "2024-06-05T13:06:53.685085Z",
     "start_time": "2024-06-05T13:06:53.680682Z"
    }
   },
   "id": "688e5337a631b246",
   "execution_count": 34
  },
  {
   "cell_type": "code",
   "outputs": [],
   "source": [
    "a.append(50)"
   ],
   "metadata": {
    "collapsed": false,
    "ExecuteTime": {
     "end_time": "2024-06-05T13:07:01.598823Z",
     "start_time": "2024-06-05T13:07:01.595561Z"
    }
   },
   "id": "dfa252c53511ad93",
   "execution_count": 35
  },
  {
   "cell_type": "code",
   "outputs": [
    {
     "data": {
      "text/plain": "[10, 50]"
     },
     "execution_count": 36,
     "metadata": {},
     "output_type": "execute_result"
    }
   ],
   "source": [
    "a"
   ],
   "metadata": {
    "collapsed": false,
    "ExecuteTime": {
     "end_time": "2024-06-05T13:07:03.672535Z",
     "start_time": "2024-06-05T13:07:03.667605Z"
    }
   },
   "id": "dfa53adc5ad29d17",
   "execution_count": 36
  },
  {
   "cell_type": "code",
   "outputs": [
    {
     "data": {
      "text/plain": "list"
     },
     "execution_count": 37,
     "metadata": {},
     "output_type": "execute_result"
    }
   ],
   "source": [
    "type(a)"
   ],
   "metadata": {
    "collapsed": false,
    "ExecuteTime": {
     "end_time": "2024-06-05T13:07:10.909203Z",
     "start_time": "2024-06-05T13:07:10.903280Z"
    }
   },
   "id": "2f36d8cf52f077a5",
   "execution_count": 37
  },
  {
   "cell_type": "code",
   "outputs": [],
   "source": [
    "old_list = [1,2,5,10]"
   ],
   "metadata": {
    "collapsed": false,
    "ExecuteTime": {
     "end_time": "2024-06-05T13:09:21.042100Z",
     "start_time": "2024-06-05T13:09:21.038179Z"
    }
   },
   "id": "f9ad35d432abad7d",
   "execution_count": 38
  },
  {
   "cell_type": "code",
   "outputs": [],
   "source": [
    "new_list = []"
   ],
   "metadata": {
    "collapsed": false,
    "ExecuteTime": {
     "end_time": "2024-06-05T13:09:28.981315Z",
     "start_time": "2024-06-05T13:09:28.977777Z"
    }
   },
   "id": "c5c5e488761a797c",
   "execution_count": 39
  },
  {
   "cell_type": "code",
   "outputs": [],
   "source": [
    "#Copiando os itens de um lista para outra\n",
    "for item in old_list:\n",
    "    new_list.append(item)"
   ],
   "metadata": {
    "collapsed": false,
    "ExecuteTime": {
     "end_time": "2024-06-05T13:10:03.009681Z",
     "start_time": "2024-06-05T13:10:03.005611Z"
    }
   },
   "id": "cd5be6201775bcc1",
   "execution_count": 40
  },
  {
   "cell_type": "code",
   "outputs": [
    {
     "data": {
      "text/plain": "[1, 2, 5, 10]"
     },
     "execution_count": 41,
     "metadata": {},
     "output_type": "execute_result"
    }
   ],
   "source": [
    "new_list"
   ],
   "metadata": {
    "collapsed": false,
    "ExecuteTime": {
     "end_time": "2024-06-05T13:10:05.525154Z",
     "start_time": "2024-06-05T13:10:05.519597Z"
    }
   },
   "id": "16f74dede2480a03",
   "execution_count": 41
  },
  {
   "cell_type": "code",
   "outputs": [],
   "source": [
    "cidades = ['Recife', 'Manaus', 'Salvador']\n",
    "cidades.extend(['Rio de Janeiro', 'Fortaleza'])"
   ],
   "metadata": {
    "collapsed": false,
    "ExecuteTime": {
     "end_time": "2024-06-06T14:19:45.094355Z",
     "start_time": "2024-06-06T14:19:45.089412Z"
    }
   },
   "id": "540d4a01abcd8c7a",
   "execution_count": 2
  },
  {
   "cell_type": "code",
   "outputs": [
    {
     "name": "stdout",
     "output_type": "stream",
     "text": [
      "['Recife', 'Manaus', 'Salvador', 'Rio de Janeiro', 'Fortaleza']\n"
     ]
    }
   ],
   "source": [
    "print(cidades)"
   ],
   "metadata": {
    "collapsed": false,
    "ExecuteTime": {
     "end_time": "2024-06-05T13:11:14.928801Z",
     "start_time": "2024-06-05T13:11:14.923651Z"
    }
   },
   "id": "bc21b08d86230f",
   "execution_count": 43
  },
  {
   "cell_type": "code",
   "outputs": [
    {
     "data": {
      "text/plain": "3"
     },
     "execution_count": 46,
     "metadata": {},
     "output_type": "execute_result"
    }
   ],
   "source": [
    "#Descobrir qual o índice com o index()\n",
    "#O índice começa por 0\n",
    "cidades.index(\"Rio de Janeiro\")"
   ],
   "metadata": {
    "collapsed": false,
    "ExecuteTime": {
     "end_time": "2024-06-05T13:12:02.100563Z",
     "start_time": "2024-06-05T13:12:02.093786Z"
    }
   },
   "id": "411c8b85abc6c871",
   "execution_count": 46
  },
  {
   "cell_type": "code",
   "outputs": [],
   "source": [
    "#Adicona 110 no índice 2\n",
    "cidades.insert(2, 110)"
   ],
   "metadata": {
    "collapsed": false,
    "ExecuteTime": {
     "end_time": "2024-06-06T14:19:50.240332Z",
     "start_time": "2024-06-06T14:19:50.235875Z"
    }
   },
   "id": "6a03a276c0764cce",
   "execution_count": 3
  },
  {
   "cell_type": "code",
   "outputs": [
    {
     "data": {
      "text/plain": "['Recife', 'Manaus', 110, 'Salvador', 'Rio de Janeiro', 'Fortaleza']"
     },
     "execution_count": 4,
     "metadata": {},
     "output_type": "execute_result"
    }
   ],
   "source": [
    "cidades"
   ],
   "metadata": {
    "collapsed": false,
    "ExecuteTime": {
     "end_time": "2024-06-06T14:19:55.785004Z",
     "start_time": "2024-06-06T14:19:55.776512Z"
    }
   },
   "id": "f656a9010fde3b3",
   "execution_count": 4
  },
  {
   "cell_type": "code",
   "outputs": [],
   "source": [
    "#Remove um item da lista\n",
    "cidades.remove(110)"
   ],
   "metadata": {
    "collapsed": false,
    "ExecuteTime": {
     "end_time": "2024-06-06T14:20:36.726337Z",
     "start_time": "2024-06-06T14:20:36.721023Z"
    }
   },
   "id": "acd33ed7067708a9",
   "execution_count": 5
  },
  {
   "cell_type": "code",
   "outputs": [
    {
     "data": {
      "text/plain": "['Recife', 'Manaus', 'Salvador', 'Rio de Janeiro', 'Fortaleza']"
     },
     "execution_count": 6,
     "metadata": {},
     "output_type": "execute_result"
    }
   ],
   "source": [
    "cidades"
   ],
   "metadata": {
    "collapsed": false,
    "ExecuteTime": {
     "end_time": "2024-06-06T14:20:39.224826Z",
     "start_time": "2024-06-06T14:20:39.218940Z"
    }
   },
   "id": "4a73ff2cb1bb5336",
   "execution_count": 6
  },
  {
   "cell_type": "code",
   "outputs": [],
   "source": [
    "#Reverte um item da lista\n",
    "cidades.reverse()"
   ],
   "metadata": {
    "collapsed": false,
    "ExecuteTime": {
     "end_time": "2024-06-06T14:21:15.101286Z",
     "start_time": "2024-06-06T14:21:15.096776Z"
    }
   },
   "id": "811c4db709a2831e",
   "execution_count": 7
  },
  {
   "cell_type": "code",
   "outputs": [
    {
     "data": {
      "text/plain": "['Fortaleza', 'Rio de Janeiro', 'Salvador', 'Manaus', 'Recife']"
     },
     "execution_count": 8,
     "metadata": {},
     "output_type": "execute_result"
    }
   ],
   "source": [
    "cidades"
   ],
   "metadata": {
    "collapsed": false,
    "ExecuteTime": {
     "end_time": "2024-06-06T14:21:17.663923Z",
     "start_time": "2024-06-06T14:21:17.657581Z"
    }
   },
   "id": "51aac5dedc50ec49",
   "execution_count": 8
  },
  {
   "cell_type": "code",
   "outputs": [],
   "source": [
    "x= [3,4,2,1]"
   ],
   "metadata": {
    "collapsed": false,
    "ExecuteTime": {
     "end_time": "2024-06-06T14:21:30.273751Z",
     "start_time": "2024-06-06T14:21:30.269328Z"
    }
   },
   "id": "9fec0c0e4170a4e8",
   "execution_count": 9
  },
  {
   "cell_type": "code",
   "outputs": [
    {
     "data": {
      "text/plain": "[3, 4, 2, 1]"
     },
     "execution_count": 10,
     "metadata": {},
     "output_type": "execute_result"
    }
   ],
   "source": [
    "x"
   ],
   "metadata": {
    "collapsed": false,
    "ExecuteTime": {
     "end_time": "2024-06-06T14:21:33.395663Z",
     "start_time": "2024-06-06T14:21:33.389099Z"
    }
   },
   "id": "7b57b91405a4a849",
   "execution_count": 10
  },
  {
   "cell_type": "code",
   "outputs": [],
   "source": [
    "#Ordena a lista com sort()\n",
    "x.sort()"
   ],
   "metadata": {
    "collapsed": false,
    "ExecuteTime": {
     "end_time": "2024-06-06T14:21:57.291194Z",
     "start_time": "2024-06-06T14:21:57.287317Z"
    }
   },
   "id": "662c063764e885fe",
   "execution_count": 11
  },
  {
   "cell_type": "code",
   "outputs": [
    {
     "data": {
      "text/plain": "[1, 2, 3, 4]"
     },
     "execution_count": 12,
     "metadata": {},
     "output_type": "execute_result"
    }
   ],
   "source": [
    "x"
   ],
   "metadata": {
    "collapsed": false,
    "ExecuteTime": {
     "end_time": "2024-06-06T14:21:58.068652Z",
     "start_time": "2024-06-06T14:21:58.062964Z"
    }
   },
   "id": "af9ea5e043def670",
   "execution_count": 12
  },
  {
   "cell_type": "code",
   "outputs": [],
   "source": [],
   "metadata": {
    "collapsed": false
   },
   "id": "e76750c6f8e6cfbe"
  }
 ],
 "metadata": {
  "kernelspec": {
   "display_name": "Python 3",
   "language": "python",
   "name": "python3"
  },
  "language_info": {
   "codemirror_mode": {
    "name": "ipython",
    "version": 2
   },
   "file_extension": ".py",
   "mimetype": "text/x-python",
   "name": "python",
   "nbconvert_exporter": "python",
   "pygments_lexer": "ipython2",
   "version": "2.7.6"
  }
 },
 "nbformat": 4,
 "nbformat_minor": 5
}
