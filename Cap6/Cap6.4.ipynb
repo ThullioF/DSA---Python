{
 "cells": [
  {
   "cell_type": "markdown",
   "source": [
    "FUNÇÃO MAP\n",
    "- É uma função que aplica uma determinada função a cada elemento de uma estrutura de dados iterável (como uma lista, tupla, ou outro objeto iterável)\n",
    "- A função map() retorna um objeto que pode ser convertido em outra estrutura de dados"
   ],
   "metadata": {
    "collapsed": false
   },
   "id": "d951c85a58b411b3"
  },
  {
   "cell_type": "code",
   "outputs": [],
   "source": [
    "#Função python que retorna um número ao quadrado\n",
    "def potencia(x):\n",
    "    return x**2"
   ],
   "metadata": {
    "collapsed": false,
    "ExecuteTime": {
     "end_time": "2024-07-26T12:30:37.191893Z",
     "start_time": "2024-07-26T12:30:37.180804Z"
    }
   },
   "id": "30983283ba4a0d53",
   "execution_count": 1
  },
  {
   "cell_type": "code",
   "outputs": [],
   "source": [
    "numeros = [1,2,3,4,5,6,7,8,9]"
   ],
   "metadata": {
    "collapsed": false,
    "ExecuteTime": {
     "end_time": "2024-07-26T12:41:57.589431Z",
     "start_time": "2024-07-26T12:41:57.584672Z"
    }
   },
   "id": "6de0f1d630790f79",
   "execution_count": 2
  },
  {
   "cell_type": "code",
   "outputs": [],
   "source": [
    "numeros_quadrado = list(map(potencia,numeros))"
   ],
   "metadata": {
    "collapsed": false,
    "ExecuteTime": {
     "end_time": "2024-07-26T12:42:52.599719Z",
     "start_time": "2024-07-26T12:42:52.594569Z"
    }
   },
   "id": "e75488090dcb031d",
   "execution_count": 4
  },
  {
   "cell_type": "code",
   "outputs": [
    {
     "name": "stdout",
     "output_type": "stream",
     "text": [
      "[1, 4, 9, 16, 25, 36, 49, 64, 81]\n"
     ]
    }
   ],
   "source": [
    "print(numeros_quadrado)"
   ],
   "metadata": {
    "collapsed": false,
    "ExecuteTime": {
     "end_time": "2024-07-26T12:43:10.517863Z",
     "start_time": "2024-07-26T12:43:10.511953Z"
    }
   },
   "id": "89e81f1c017655bd",
   "execution_count": 5
  },
  {
   "cell_type": "code",
   "outputs": [],
   "source": [
    "#Criando duas funções\n",
    "\n",
    "#Função 1 - Recebe uma temperatura como parâmetro e retorna a temperatura em Fahrenheit\n",
    "def fahrenheit(T):\n",
    "    return ((float(9)/5)*T+32)\n",
    "\n",
    "#Função 2 - Recebe uma temperatura como parâmetro e retorna a temperatura em Celsius\n",
    "def celsius(T):\n",
    "    return (float(5)/9)*(T-32)"
   ],
   "metadata": {
    "collapsed": false,
    "ExecuteTime": {
     "end_time": "2024-07-26T12:55:42.119705Z",
     "start_time": "2024-07-26T12:55:42.114597Z"
    }
   },
   "id": "ae1a9ad8f166be19",
   "execution_count": 14
  },
  {
   "cell_type": "code",
   "outputs": [],
   "source": [
    "#Criando uma lista\n",
    "temperatura = [0,22.5,40,100]"
   ],
   "metadata": {
    "collapsed": false,
    "ExecuteTime": {
     "end_time": "2024-07-26T12:49:11.340744Z",
     "start_time": "2024-07-26T12:49:11.335984Z"
    }
   },
   "id": "a90f5afc01cf09c4",
   "execution_count": 7
  },
  {
   "cell_type": "code",
   "outputs": [
    {
     "data": {
      "text/plain": "<map at 0x26689cf0f40>"
     },
     "execution_count": 9,
     "metadata": {},
     "output_type": "execute_result"
    }
   ],
   "source": [
    "#Aplicando a função a cada elemento da lista de temperaturas\n",
    "#Em python, a função map() retorna um iterator\n",
    "map(fahrenheit,temperatura)"
   ],
   "metadata": {
    "collapsed": false,
    "ExecuteTime": {
     "end_time": "2024-07-26T12:51:29.772508Z",
     "start_time": "2024-07-26T12:51:29.766576Z"
    }
   },
   "id": "3b7eddf8917952f9",
   "execution_count": 9
  },
  {
   "cell_type": "code",
   "outputs": [
    {
     "data": {
      "text/plain": "[32.0, 72.5, 104.0, 212.0]"
     },
     "execution_count": 10,
     "metadata": {},
     "output_type": "execute_result"
    }
   ],
   "source": [
    "#Função map() retornando a lista de temperaturas convertidas em Fahrenheit\n",
    "list(map(fahrenheit,temperatura))"
   ],
   "metadata": {
    "collapsed": false,
    "ExecuteTime": {
     "end_time": "2024-07-26T12:53:12.408049Z",
     "start_time": "2024-07-26T12:53:12.401594Z"
    }
   },
   "id": "a9854112aef5a9b3",
   "execution_count": 10
  },
  {
   "cell_type": "code",
   "outputs": [
    {
     "name": "stdout",
     "output_type": "stream",
     "text": [
      "32.0\n",
      "72.5\n",
      "104.0\n",
      "212.0\n"
     ]
    }
   ],
   "source": [
    "#Usando um loop for para imprimir o resultado da função map()\n",
    "for temp in map(fahrenheit,temperatura):\n",
    "    print(temp)"
   ],
   "metadata": {
    "collapsed": false,
    "ExecuteTime": {
     "end_time": "2024-07-26T12:54:14.654625Z",
     "start_time": "2024-07-26T12:54:14.649867Z"
    }
   },
   "id": "dbea07f8efb7ff48",
   "execution_count": 11
  },
  {
   "cell_type": "code",
   "outputs": [
    {
     "data": {
      "text/plain": "<map at 0x26689cf05e0>"
     },
     "execution_count": 15,
     "metadata": {},
     "output_type": "execute_result"
    }
   ],
   "source": [
    "#Convertendo para Celsius\n",
    "map(celsius,temperatura)"
   ],
   "metadata": {
    "collapsed": false,
    "ExecuteTime": {
     "end_time": "2024-07-26T12:55:46.446247Z",
     "start_time": "2024-07-26T12:55:46.438615Z"
    }
   },
   "id": "fb7bf0504457570b",
   "execution_count": 15
  },
  {
   "cell_type": "code",
   "outputs": [
    {
     "data": {
      "text/plain": "[-17.77777777777778, -5.277777777777778, 4.444444444444445, 37.77777777777778]"
     },
     "execution_count": 16,
     "metadata": {},
     "output_type": "execute_result"
    }
   ],
   "source": [
    "list(map(celsius,temperatura))"
   ],
   "metadata": {
    "collapsed": false,
    "ExecuteTime": {
     "end_time": "2024-07-26T12:55:47.155668Z",
     "start_time": "2024-07-26T12:55:47.149122Z"
    }
   },
   "id": "869ee20747184d4a",
   "execution_count": 16
  },
  {
   "cell_type": "code",
   "outputs": [
    {
     "data": {
      "text/plain": "<map at 0x26689cf36d0>"
     },
     "execution_count": 17,
     "metadata": {},
     "output_type": "execute_result"
    }
   ],
   "source": [
    "#Usando a expressão lambda\n",
    "map(lambda x: (5.0/9)*(x-32),temperatura)"
   ],
   "metadata": {
    "collapsed": false,
    "ExecuteTime": {
     "end_time": "2024-07-26T12:57:44.431052Z",
     "start_time": "2024-07-26T12:57:44.424377Z"
    }
   },
   "id": "b2c0455fe8c310a9",
   "execution_count": 17
  },
  {
   "cell_type": "code",
   "outputs": [
    {
     "data": {
      "text/plain": "[-17.77777777777778, -5.277777777777778, 4.444444444444445, 37.77777777777778]"
     },
     "execution_count": 18,
     "metadata": {},
     "output_type": "execute_result"
    }
   ],
   "source": [
    "list(map(lambda x:(5.0/9)*(x-32),temperatura))"
   ],
   "metadata": {
    "collapsed": false,
    "ExecuteTime": {
     "end_time": "2024-07-26T12:58:00.815362Z",
     "start_time": "2024-07-26T12:58:00.808342Z"
    }
   },
   "id": "a138937ff5f4d8b7",
   "execution_count": 18
  },
  {
   "cell_type": "code",
   "outputs": [],
   "source": [
    "#Somando os elementos de 2 listas\n",
    "a = [1,2,3,4]\n",
    "b = [5,6,7,8]"
   ],
   "metadata": {
    "collapsed": false,
    "ExecuteTime": {
     "end_time": "2024-07-26T12:58:34.436040Z",
     "start_time": "2024-07-26T12:58:34.431030Z"
    }
   },
   "id": "6fa5d4ad85e5a55f",
   "execution_count": 19
  },
  {
   "cell_type": "code",
   "outputs": [
    {
     "data": {
      "text/plain": "[6, 8, 10, 12]"
     },
     "execution_count": 20,
     "metadata": {},
     "output_type": "execute_result"
    }
   ],
   "source": [
    "list(map(lambda x,y: x+y,a,b))"
   ],
   "metadata": {
    "collapsed": false,
    "ExecuteTime": {
     "end_time": "2024-07-26T12:58:46.524012Z",
     "start_time": "2024-07-26T12:58:46.516917Z"
    }
   },
   "id": "d406ce8e597af6f3",
   "execution_count": 20
  },
  {
   "cell_type": "code",
   "outputs": [],
   "source": [
    "#Somando os elementos de 3 listas\n",
    "a = [1,2,3,4]\n",
    "b = [5,6,7,8]\n",
    "c = [9,10,11,12]"
   ],
   "metadata": {
    "collapsed": false,
    "ExecuteTime": {
     "end_time": "2024-07-26T12:59:29.536857Z",
     "start_time": "2024-07-26T12:59:29.532409Z"
    }
   },
   "id": "3423cdb0fd81c8ca",
   "execution_count": 21
  },
  {
   "cell_type": "code",
   "outputs": [
    {
     "data": {
      "text/plain": "[15, 18, 21, 24]"
     },
     "execution_count": 23,
     "metadata": {},
     "output_type": "execute_result"
    }
   ],
   "source": [
    "list(map(lambda x,y,z : x+y+z, a,b,c))"
   ],
   "metadata": {
    "collapsed": false,
    "ExecuteTime": {
     "end_time": "2024-07-26T13:01:08.665078Z",
     "start_time": "2024-07-26T13:01:08.658464Z"
    }
   },
   "id": "ade8526d1aa65310",
   "execution_count": 23
  },
  {
   "cell_type": "code",
   "outputs": [],
   "source": [],
   "metadata": {
    "collapsed": false
   },
   "id": "8b4ab48e13e0cb29"
  }
 ],
 "metadata": {
  "kernelspec": {
   "display_name": "Python 3",
   "language": "python",
   "name": "python3"
  },
  "language_info": {
   "codemirror_mode": {
    "name": "ipython",
    "version": 2
   },
   "file_extension": ".py",
   "mimetype": "text/x-python",
   "name": "python",
   "nbconvert_exporter": "python",
   "pygments_lexer": "ipython2",
   "version": "2.7.6"
  }
 },
 "nbformat": 4,
 "nbformat_minor": 5
}
