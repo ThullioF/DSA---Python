{
 "cells": [
  {
   "cell_type": "markdown",
   "source": [
    "FUNÇÃO ZIP\n",
    "- É uma função que agrupa elementos de múltiplas estruturas de dados iterável (como uma lista, tupla ou outro objeto iterável) juntos em pares\n",
    "- Retorna um objeto zip, que pode sere convertido em outras estruturas de dados"
   ],
   "metadata": {
    "collapsed": false
   },
   "id": "1499f55f37c0850c"
  },
  {
   "cell_type": "code",
   "outputs": [],
   "source": [
    "#Criando duas listas\n",
    "x = [1,2,3]\n",
    "y = [4,5,6]"
   ],
   "metadata": {
    "collapsed": false,
    "ExecuteTime": {
     "end_time": "2024-07-26T13:54:19.305089Z",
     "start_time": "2024-07-26T13:54:19.294448Z"
    }
   },
   "id": "64a7d57f0fd54166",
   "execution_count": 1
  },
  {
   "cell_type": "code",
   "outputs": [
    {
     "data": {
      "text/plain": "<zip at 0x1a038698640>"
     },
     "execution_count": 2,
     "metadata": {},
     "output_type": "execute_result"
    }
   ],
   "source": [
    "#Unindo as listas\n",
    "#Retorna um iterator\n",
    "zip(x,y)"
   ],
   "metadata": {
    "collapsed": false,
    "ExecuteTime": {
     "end_time": "2024-07-26T13:55:05.355692Z",
     "start_time": "2024-07-26T13:55:05.345499Z"
    }
   },
   "id": "abb9051a32f3f458",
   "execution_count": 2
  },
  {
   "cell_type": "code",
   "outputs": [
    {
     "data": {
      "text/plain": "[(1, 4), (2, 5), (3, 6)]"
     },
     "execution_count": 4,
     "metadata": {},
     "output_type": "execute_result"
    }
   ],
   "source": [
    "#Perceba que zip retorna tuplas. Neste caso, uma lista de tuplas\n",
    "list(zip(x,y))"
   ],
   "metadata": {
    "collapsed": false,
    "ExecuteTime": {
     "end_time": "2024-07-26T13:55:52.565101Z",
     "start_time": "2024-07-26T13:55:52.558658Z"
    }
   },
   "id": "8b6e0efb84ae453b",
   "execution_count": 4
  },
  {
   "cell_type": "code",
   "outputs": [
    {
     "data": {
      "text/plain": "[('A', 'x'), ('B', 'y')]"
     },
     "execution_count": 5,
     "metadata": {},
     "output_type": "execute_result"
    }
   ],
   "source": [
    "#Atenção quando as sequências tiverem número diferente de elementos\n",
    "list(zip('ABCD', 'xy'))"
   ],
   "metadata": {
    "collapsed": false,
    "ExecuteTime": {
     "end_time": "2024-07-26T13:56:39.565191Z",
     "start_time": "2024-07-26T13:56:39.558327Z"
    }
   },
   "id": "1b96c2d7ee53f46f",
   "execution_count": 5
  },
  {
   "cell_type": "code",
   "outputs": [],
   "source": [
    "#Criando duas listas\n",
    "a = [1,2,3]\n",
    "b = [4,5,6,7,8]"
   ],
   "metadata": {
    "collapsed": false,
    "ExecuteTime": {
     "end_time": "2024-07-26T13:57:14.408796Z",
     "start_time": "2024-07-26T13:57:14.404127Z"
    }
   },
   "id": "5c203a0b3c3c0a3f",
   "execution_count": 6
  },
  {
   "cell_type": "code",
   "outputs": [
    {
     "data": {
      "text/plain": "[(1, 4), (2, 5), (3, 6)]"
     },
     "execution_count": 7,
     "metadata": {},
     "output_type": "execute_result"
    }
   ],
   "source": [
    "list(zip(a,b))"
   ],
   "metadata": {
    "collapsed": false,
    "ExecuteTime": {
     "end_time": "2024-07-26T13:57:22.402013Z",
     "start_time": "2024-07-26T13:57:22.394287Z"
    }
   },
   "id": "ff8807f1afd5f9d8",
   "execution_count": 7
  },
  {
   "cell_type": "code",
   "outputs": [],
   "source": [
    "#Criando 2 dicionários\n",
    "d1 = {'a':1,'b':2}\n",
    "d2 = {'c':4,'d':5}"
   ],
   "metadata": {
    "collapsed": false,
    "ExecuteTime": {
     "end_time": "2024-07-26T13:58:14.830573Z",
     "start_time": "2024-07-26T13:58:14.826461Z"
    }
   },
   "id": "2d0e9dc6dd12085e",
   "execution_count": 8
  },
  {
   "cell_type": "code",
   "outputs": [
    {
     "data": {
      "text/plain": "[('a', 'c'), ('b', 'd')]"
     },
     "execution_count": 9,
     "metadata": {},
     "output_type": "execute_result"
    }
   ],
   "source": [
    "#Zip para unir as chaves\n",
    "list(zip(d1,d2))"
   ],
   "metadata": {
    "collapsed": false,
    "ExecuteTime": {
     "end_time": "2024-07-26T13:58:38.463339Z",
     "start_time": "2024-07-26T13:58:38.456324Z"
    }
   },
   "id": "198c21b14a70f2bf",
   "execution_count": 9
  },
  {
   "cell_type": "code",
   "outputs": [
    {
     "data": {
      "text/plain": "[('a', 4), ('b', 5)]"
     },
     "execution_count": 10,
     "metadata": {},
     "output_type": "execute_result"
    }
   ],
   "source": [
    "#Zip pode unir os valores (itens)\n",
    "list(zip(d1,d2.values()))"
   ],
   "metadata": {
    "collapsed": false,
    "ExecuteTime": {
     "end_time": "2024-07-26T13:59:16.803330Z",
     "start_time": "2024-07-26T13:59:16.796737Z"
    }
   },
   "id": "7ddf3b6c6e1d9cdc",
   "execution_count": 10
  },
  {
   "cell_type": "code",
   "outputs": [],
   "source": [
    "#Criando uma função para trocar valores entre 2 dicionários\n",
    "def trocaValores(d1,d2):\n",
    "    dicTemp = {}\n",
    "    for d1key, d2val in zip(d1,d2.values()):\n",
    "        dicTemp[d1key] = d2val\n",
    "    return dicTemp"
   ],
   "metadata": {
    "collapsed": false,
    "ExecuteTime": {
     "end_time": "2024-07-26T14:08:42.237723Z",
     "start_time": "2024-07-26T14:08:42.232511Z"
    }
   },
   "id": "221c6b22541cde30",
   "execution_count": 11
  },
  {
   "cell_type": "code",
   "outputs": [
    {
     "data": {
      "text/plain": "{'a': 4, 'b': 5}"
     },
     "execution_count": 12,
     "metadata": {},
     "output_type": "execute_result"
    }
   ],
   "source": [
    "trocaValores(d1,d2)"
   ],
   "metadata": {
    "collapsed": false,
    "ExecuteTime": {
     "end_time": "2024-07-26T14:08:46.171025Z",
     "start_time": "2024-07-26T14:08:46.162859Z"
    }
   },
   "id": "fa9186e5d4f1d5a2",
   "execution_count": 12
  },
  {
   "cell_type": "code",
   "outputs": [],
   "source": [],
   "metadata": {
    "collapsed": false
   },
   "id": "93ad6ed34eb6a56"
  }
 ],
 "metadata": {
  "kernelspec": {
   "display_name": "Python 3",
   "language": "python",
   "name": "python3"
  },
  "language_info": {
   "codemirror_mode": {
    "name": "ipython",
    "version": 2
   },
   "file_extension": ".py",
   "mimetype": "text/x-python",
   "name": "python",
   "nbconvert_exporter": "python",
   "pygments_lexer": "ipython2",
   "version": "2.7.6"
  }
 },
 "nbformat": 4,
 "nbformat_minor": 5
}
