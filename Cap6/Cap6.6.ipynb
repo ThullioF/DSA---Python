{
 "cells": [
  {
   "cell_type": "markdown",
   "source": [
    "FUNÇÃO FILTER\n",
    "- É uma função que filtra elementos de uma estrutura de dados iterável (como uma lista, tupla ou outro objeto iterável) com base em determinada condição\n",
    "- A retorna um objeto filtro, que pode ser convertido em outra estrutura de dados"
   ],
   "metadata": {
    "collapsed": false
   },
   "id": "f45f335434d7b083"
  },
  {
   "cell_type": "code",
   "outputs": [],
   "source": [
    "#Criando uma função\n",
    "def verificaPar(num):\n",
    "    if num % 2 == 0:\n",
    "        return True\n",
    "    else:\n",
    "        return False"
   ],
   "metadata": {
    "collapsed": false,
    "ExecuteTime": {
     "end_time": "2024-07-26T13:28:42.829736Z",
     "start_time": "2024-07-26T13:28:42.819433Z"
    }
   },
   "id": "4e3a61b1a4b56a0c",
   "execution_count": 1
  },
  {
   "cell_type": "code",
   "outputs": [
    {
     "data": {
      "text/plain": "False"
     },
     "execution_count": 2,
     "metadata": {},
     "output_type": "execute_result"
    }
   ],
   "source": [
    "#Chamando a função e passando um número como parâmetro\n",
    "verificaPar(35)"
   ],
   "metadata": {
    "collapsed": false,
    "ExecuteTime": {
     "end_time": "2024-07-26T13:29:21.245479Z",
     "start_time": "2024-07-26T13:29:21.237370Z"
    }
   },
   "id": "9d98abe333812eb4",
   "execution_count": 2
  },
  {
   "cell_type": "code",
   "outputs": [
    {
     "data": {
      "text/plain": "True"
     },
     "execution_count": 3,
     "metadata": {},
     "output_type": "execute_result"
    }
   ],
   "source": [
    "verificaPar(10)"
   ],
   "metadata": {
    "collapsed": false,
    "ExecuteTime": {
     "end_time": "2024-07-26T13:29:26.684311Z",
     "start_time": "2024-07-26T13:29:26.677544Z"
    }
   },
   "id": "ba251ac7184ce508",
   "execution_count": 3
  },
  {
   "cell_type": "code",
   "outputs": [],
   "source": [
    "lista = [1, 2, 3, 4, 5, 6, 7, 8, 9, 10,11,12,13,14,15,16,17,18]"
   ],
   "metadata": {
    "collapsed": false,
    "ExecuteTime": {
     "end_time": "2024-07-26T13:30:01.821993Z",
     "start_time": "2024-07-26T13:30:01.817076Z"
    }
   },
   "id": "1ba7bcbb9a40a42",
   "execution_count": 4
  },
  {
   "cell_type": "code",
   "outputs": [
    {
     "data": {
      "text/plain": "<filter at 0x222ddbc0c10>"
     },
     "execution_count": 5,
     "metadata": {},
     "output_type": "execute_result"
    }
   ],
   "source": [
    "#A função filter() retorna um iterator\n",
    "filter(verificaPar, lista)"
   ],
   "metadata": {
    "collapsed": false,
    "ExecuteTime": {
     "end_time": "2024-07-26T13:30:36.008883Z",
     "start_time": "2024-07-26T13:30:36.003415Z"
    }
   },
   "id": "7796f7f195428258",
   "execution_count": 5
  },
  {
   "cell_type": "code",
   "outputs": [
    {
     "data": {
      "text/plain": "[2, 4, 6, 8, 10, 12, 14, 16, 18]"
     },
     "execution_count": 6,
     "metadata": {},
     "output_type": "execute_result"
    }
   ],
   "source": [
    "list(filter(verificaPar, lista))"
   ],
   "metadata": {
    "collapsed": false,
    "ExecuteTime": {
     "end_time": "2024-07-26T13:30:53.091955Z",
     "start_time": "2024-07-26T13:30:53.085862Z"
    }
   },
   "id": "40868444c51b451d",
   "execution_count": 6
  },
  {
   "cell_type": "code",
   "outputs": [
    {
     "data": {
      "text/plain": "[2, 4, 6, 8, 10, 12, 14, 16, 18]"
     },
     "execution_count": 7,
     "metadata": {},
     "output_type": "execute_result"
    }
   ],
   "source": [
    "list(filter(lambda x: x % 2 == 0, lista))"
   ],
   "metadata": {
    "collapsed": false,
    "ExecuteTime": {
     "end_time": "2024-07-26T13:31:22.531707Z",
     "start_time": "2024-07-26T13:31:22.524457Z"
    }
   },
   "id": "944943764ddf2db9",
   "execution_count": 7
  },
  {
   "cell_type": "code",
   "outputs": [
    {
     "data": {
      "text/plain": "[9, 10, 11, 12, 13, 14, 15, 16, 17, 18]"
     },
     "execution_count": 8,
     "metadata": {},
     "output_type": "execute_result"
    }
   ],
   "source": [
    "list(filter(lambda num: num > 8, lista))"
   ],
   "metadata": {
    "collapsed": false,
    "ExecuteTime": {
     "end_time": "2024-07-26T13:31:49.001693Z",
     "start_time": "2024-07-26T13:31:48.995073Z"
    }
   },
   "id": "a7cb5b3989189f90",
   "execution_count": 8
  },
  {
   "cell_type": "code",
   "outputs": [],
   "source": [],
   "metadata": {
    "collapsed": false
   },
   "id": "21ba050f0632cf30"
  }
 ],
 "metadata": {
  "kernelspec": {
   "display_name": "Python 3",
   "language": "python",
   "name": "python3"
  },
  "language_info": {
   "codemirror_mode": {
    "name": "ipython",
    "version": 2
   },
   "file_extension": ".py",
   "mimetype": "text/x-python",
   "name": "python",
   "nbconvert_exporter": "python",
   "pygments_lexer": "ipython2",
   "version": "2.7.6"
  }
 },
 "nbformat": 4,
 "nbformat_minor": 5
}
