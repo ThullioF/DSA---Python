{
 "cells": [
  {
   "cell_type": "markdown",
   "source": [
    "EXERCÍCIO 1"
   ],
   "metadata": {
    "collapsed": false
   },
   "id": "da6c2e24d11de91d"
  },
  {
   "cell_type": "code",
   "execution_count": 3,
   "id": "initial_id",
   "metadata": {
    "collapsed": true,
    "ExecuteTime": {
     "end_time": "2024-07-30T13:49:23.141426Z",
     "start_time": "2024-07-30T13:49:23.136077Z"
    }
   },
   "outputs": [
    {
     "name": "stdout",
     "output_type": "stream",
     "text": [
      "8\n",
      "27\n",
      "64\n"
     ]
    }
   ],
   "source": [
    "lista = [2,3,4]\n",
    "for i in lista:\n",
    "    resultado = i ** 3\n",
    "    print(resultado)"
   ]
  },
  {
   "cell_type": "markdown",
   "source": [
    "EXERCÍCIO 2"
   ],
   "metadata": {
    "collapsed": false
   },
   "id": "f2e4822e4f13aee0"
  },
  {
   "cell_type": "code",
   "outputs": [
    {
     "name": "stdout",
     "output_type": "stream",
     "text": [
      "['A', 'a', 1]\n",
      "['DATA', 'data', 4]\n",
      "['SCIENCE', 'science', 7]\n",
      "['ACADEMY', 'academy', 7]\n",
      "['OFERCE', 'oferce', 6]\n",
      "['OS', 'os', 2]\n",
      "['MELHORES', 'melhores', 8]\n",
      "['CURSOS', 'cursos', 6]\n",
      "['DE', 'de', 2]\n",
      "['ANÁLISE', 'análise', 7]\n",
      "['DE', 'de', 2]\n",
      "['DADOS', 'dados', 5]\n",
      "['DO', 'do', 2]\n",
      "['BRASIL.', 'brasil.', 7]\n"
     ]
    }
   ],
   "source": [
    "palavras = 'A Data Science Academy oferce os melhores cursos de análise de dados do Brasil.'.split()\n",
    "resultado = map(lambda w: [w.upper(), w.lower(), len(w)], palavras)\n",
    "for i in resultado:\n",
    "    print (i)"
   ],
   "metadata": {
    "collapsed": false,
    "ExecuteTime": {
     "end_time": "2024-07-30T13:58:20.400093Z",
     "start_time": "2024-07-30T13:58:20.394489Z"
    }
   },
   "id": "1800e3213494c562",
   "execution_count": 11
  },
  {
   "cell_type": "markdown",
   "source": [
    "EXERCÍCIO 3"
   ],
   "metadata": {
    "collapsed": false
   },
   "id": "e3e02df2a371d97"
  },
  {
   "cell_type": "code",
   "outputs": [
    {
     "name": "stdout",
     "output_type": "stream",
     "text": [
      "[[1, 3, 5, 7], [2, 4, 6, 8]]\n"
     ]
    }
   ],
   "source": [
    "matrix = [[1, 2],[3,4],[5,6],[7,8]]\n",
    "transposed = [[row[i] for row in matrix]for i in range(2)]\n",
    "print(transposed)"
   ],
   "metadata": {
    "collapsed": false,
    "ExecuteTime": {
     "end_time": "2024-07-30T14:02:28.520937Z",
     "start_time": "2024-07-30T14:02:28.515512Z"
    }
   },
   "id": "7db8d2698b24557b",
   "execution_count": 12
  },
  {
   "cell_type": "markdown",
   "source": [
    "EXERCÍCIO 4"
   ],
   "metadata": {
    "collapsed": false
   },
   "id": "4ca5ff573b0e6ecb"
  },
  {
   "cell_type": "code",
   "outputs": [
    {
     "name": "stdout",
     "output_type": "stream",
     "text": [
      "[0, 0]\n",
      "[1, 1]\n",
      "[4, 8]\n",
      "[9, 27]\n",
      "[16, 64]\n"
     ]
    }
   ],
   "source": [
    "lista = [0, 1, 2, 3, 4]\n",
    "def numQua(x):\n",
    "        return (x**2)\n",
    "\n",
    "def numCub(x):\n",
    "        return (x**3)\n",
    "\n",
    "funcs = [numQua, numCub]\n",
    "\n",
    "for i in lista:\n",
    "    valor = map(lambda x: x(i), funcs)\n",
    "    print(list((valor)))"
   ],
   "metadata": {
    "collapsed": false,
    "ExecuteTime": {
     "end_time": "2024-07-30T14:13:54.256089Z",
     "start_time": "2024-07-30T14:13:54.249619Z"
    }
   },
   "id": "3ab370245a4c9217",
   "execution_count": 25
  },
  {
   "cell_type": "markdown",
   "source": [
    "EXERCÍCIO 5"
   ],
   "metadata": {
    "collapsed": false
   },
   "id": "2daa267826c6e3fc"
  },
  {
   "cell_type": "code",
   "outputs": [
    {
     "data": {
      "text/plain": "[1024, 177147, 16777216]"
     },
     "execution_count": 26,
     "metadata": {},
     "output_type": "execute_result"
    }
   ],
   "source": [
    "listaA = [2, 3, 4]\n",
    "listaB = [10, 11, 12]\n",
    "\n",
    "list(map(lambda x,y: x**y,listaA,listaB))"
   ],
   "metadata": {
    "collapsed": false,
    "ExecuteTime": {
     "end_time": "2024-07-30T14:16:48.765541Z",
     "start_time": "2024-07-30T14:16:48.756253Z"
    }
   },
   "id": "64b939bf088f01e1",
   "execution_count": 26
  },
  {
   "cell_type": "markdown",
   "source": [
    "EXERCÍCIO 6"
   ],
   "metadata": {
    "collapsed": false
   },
   "id": "b11a4e5a420c629a"
  },
  {
   "cell_type": "code",
   "outputs": [
    {
     "data": {
      "text/plain": "[-5, -4, -3, -2, -1]"
     },
     "execution_count": 28,
     "metadata": {},
     "output_type": "execute_result"
    }
   ],
   "source": [
    "def verificaNeg(num):\n",
    "    if num < 0:\n",
    "        return True\n",
    "    else:\n",
    "        return False\n",
    "    \n",
    "list(filter(verificaNeg, range(-5,5)))"
   ],
   "metadata": {
    "collapsed": false,
    "ExecuteTime": {
     "end_time": "2024-07-30T14:19:25.992477Z",
     "start_time": "2024-07-30T14:19:25.985501Z"
    }
   },
   "id": "9cb3a05ed59900e9",
   "execution_count": 28
  },
  {
   "cell_type": "markdown",
   "source": [
    "EXERCÍCIO 7"
   ],
   "metadata": {
    "collapsed": false
   },
   "id": "9580c51af540c726"
  },
  {
   "cell_type": "code",
   "outputs": [
    {
     "data": {
      "text/plain": "[2, 3, 5, 7]"
     },
     "execution_count": 31,
     "metadata": {},
     "output_type": "execute_result"
    }
   ],
   "source": [
    "a = [1,2,3,5,7,9]\n",
    "b = [2,3,5,6,7,8]\n",
    "\n",
    "list(filter(lambda x : x in a, b ))"
   ],
   "metadata": {
    "collapsed": false,
    "ExecuteTime": {
     "end_time": "2024-07-30T14:23:56.738020Z",
     "start_time": "2024-07-30T14:23:56.731381Z"
    }
   },
   "id": "41715dd76c294e89",
   "execution_count": 31
  },
  {
   "cell_type": "markdown",
   "source": [
    "EXERCÍCIO 8"
   ],
   "metadata": {
    "collapsed": false
   },
   "id": "a71bd5ca4e23e17"
  },
  {
   "cell_type": "code",
   "outputs": [
    {
     "name": "stdout",
     "output_type": "stream",
     "text": [
      "{'a': 4, 'b': 5}\n"
     ]
    }
   ],
   "source": [
    "dict1 = {'a':1,'b':2}\n",
    "dict2 = {'c':4,'d':5}\n",
    "\n",
    "def trocaValores(d1,d2):\n",
    "    dicTemp = {}\n",
    "    for d1key, d2val in zip(d1,d2.values()):\n",
    "        dicTemp[d1key] = d2val\n",
    "    return dicTemp\n",
    "\n",
    "dict3 = trocaValores(dict1, dict2)\n",
    "print(dict3)"
   ],
   "metadata": {
    "collapsed": false,
    "ExecuteTime": {
     "end_time": "2024-07-30T14:27:42.701183Z",
     "start_time": "2024-07-30T14:27:42.695433Z"
    }
   },
   "id": "31c10f031bdc1be8",
   "execution_count": 35
  },
  {
   "cell_type": "markdown",
   "source": [
    "EXERCÍCIO 9"
   ],
   "metadata": {
    "collapsed": false
   },
   "id": "23bf27bc06ab76e3"
  },
  {
   "cell_type": "code",
   "outputs": [
    {
     "name": "stdout",
     "output_type": "stream",
     "text": [
      "g\n",
      "h\n"
     ]
    }
   ],
   "source": [
    "lista = ['a', 'b', 'c', 'd', 'e', 'f', 'g', 'h']\n",
    "\n",
    "for indice, valor in enumerate(lista):\n",
    "    if indice <= 5:\n",
    "        continue\n",
    "    else:\n",
    "        print(valor)"
   ],
   "metadata": {
    "collapsed": false,
    "ExecuteTime": {
     "end_time": "2024-07-30T14:30:19.144354Z",
     "start_time": "2024-07-30T14:30:19.139246Z"
    }
   },
   "id": "2d52fde551aa8cc7",
   "execution_count": 38
  },
  {
   "cell_type": "markdown",
   "source": [
    "EXERCÍCIO 10"
   ],
   "metadata": {
    "collapsed": false
   },
   "id": "669c6111c8a287d"
  },
  {
   "cell_type": "code",
   "outputs": [
    {
     "name": "stdout",
     "output_type": "stream",
     "text": [
      "A palavra seguida po Data Science é: ['Academy']\n"
     ]
    }
   ],
   "source": [
    "import re\n",
    "\n",
    "texto = 'A Data Science Academy oferece os melhores cursos de análise de dados do Brasil.'\n",
    "\n",
    "match = re.findall(r'Data Science (\\w+)', texto)\n",
    "print(\"A palavra seguida po Data Science é:\", match)"
   ],
   "metadata": {
    "collapsed": false,
    "ExecuteTime": {
     "end_time": "2024-07-30T14:33:32.923445Z",
     "start_time": "2024-07-30T14:33:32.919052Z"
    }
   },
   "id": "35a7fd037c6c8629",
   "execution_count": 42
  },
  {
   "cell_type": "code",
   "outputs": [],
   "source": [],
   "metadata": {
    "collapsed": false
   },
   "id": "17724ff78e197265"
  }
 ],
 "metadata": {
  "kernelspec": {
   "display_name": "Python 3",
   "language": "python",
   "name": "python3"
  },
  "language_info": {
   "codemirror_mode": {
    "name": "ipython",
    "version": 2
   },
   "file_extension": ".py",
   "mimetype": "text/x-python",
   "name": "python",
   "nbconvert_exporter": "python",
   "pygments_lexer": "ipython2",
   "version": "2.7.6"
  }
 },
 "nbformat": 4,
 "nbformat_minor": 5
}
