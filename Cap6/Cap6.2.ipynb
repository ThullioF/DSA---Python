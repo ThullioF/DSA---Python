{
 "cells": [
  {
   "cell_type": "markdown",
   "source": [
    "MANIPULANDO ARQUIVOS TXT\n",
    "- Arquivos txt são universais e podem ser lidos em praticamente qualquer dispositivo ou sistema operacional\n",
    "- São amplamentes utilizados para armazenar dados de texto simples"
   ],
   "metadata": {
    "collapsed": false
   },
   "id": "ca9aa043eea65a75"
  },
  {
   "cell_type": "code",
   "outputs": [],
   "source": [
    "texto = \"Cientistas de dados pode ser um execelente alternativa de carreira. \\n\"\n",
    "texto = texto + \"Esses profissionais precisam saber como programas em python. \\n\"\n",
    "texto += \"E, claro, devem ser proficientes em Data Science.\""
   ],
   "metadata": {
    "collapsed": false,
    "ExecuteTime": {
     "end_time": "2024-07-24T14:04:02.881021Z",
     "start_time": "2024-07-24T14:04:02.876759Z"
    }
   },
   "id": "e48dbbe555c56492",
   "execution_count": 15
  },
  {
   "cell_type": "code",
   "outputs": [
    {
     "name": "stdout",
     "output_type": "stream",
     "text": [
      "Cientistas de dados pode ser um execelente alternativa de carreira. \n",
      "Esses profissionais precisam saber como programas em python. \n",
      "E, claro, devem ser proficientes em Data Science.\n"
     ]
    }
   ],
   "source": [
    "print(texto)"
   ],
   "metadata": {
    "collapsed": false,
    "ExecuteTime": {
     "end_time": "2024-07-24T14:04:03.868756Z",
     "start_time": "2024-07-24T14:04:03.863673Z"
    }
   },
   "id": "ec5a116453233c85",
   "execution_count": 16
  },
  {
   "cell_type": "code",
   "outputs": [],
   "source": [
    "#Importando o módulo os\n",
    "import os"
   ],
   "metadata": {
    "collapsed": false,
    "ExecuteTime": {
     "end_time": "2024-07-31T12:38:43.279650Z",
     "start_time": "2024-07-31T12:38:43.272967Z"
    }
   },
   "id": "ce1bd5c7d79add93",
   "execution_count": 4
  },
  {
   "cell_type": "code",
   "outputs": [],
   "source": [
    "#Criando um arquivo para gravação a partir da função JOIN do OS\n",
    "arquivo = open(os.path.join('arquivos/cientistas.txt'), 'w')"
   ],
   "metadata": {
    "collapsed": false,
    "ExecuteTime": {
     "end_time": "2024-07-31T12:38:43.930527Z",
     "start_time": "2024-07-31T12:38:43.922945Z"
    }
   },
   "id": "5683a671c7b1e326",
   "execution_count": 5
  },
  {
   "cell_type": "code",
   "outputs": [],
   "source": [
    "#Gravando os dados no arquivo\n",
    "for palavra in texto.split():\n",
    "    arquivo.write(palavra + ' ')"
   ],
   "metadata": {
    "collapsed": false,
    "ExecuteTime": {
     "end_time": "2024-07-24T14:04:06.231278Z",
     "start_time": "2024-07-24T14:04:06.225447Z"
    }
   },
   "id": "4de645f4be9cd1b5",
   "execution_count": 19
  },
  {
   "cell_type": "code",
   "outputs": [],
   "source": [
    "#Fechando o arquivo\n",
    "arquivo.close()"
   ],
   "metadata": {
    "collapsed": false,
    "ExecuteTime": {
     "end_time": "2024-07-24T14:04:07.568997Z",
     "start_time": "2024-07-24T14:04:07.563656Z"
    }
   },
   "id": "cc3a45b78995f310",
   "execution_count": 20
  },
  {
   "cell_type": "code",
   "outputs": [
    {
     "name": "stdout",
     "output_type": "stream",
     "text": [
      "Cientistas de dados pode ser um execelente alternativa de carreira. Esses profissionais precisam saber como programas em python. E, claro, devem ser proficientes em Data Science. \n"
     ]
    }
   ],
   "source": [
    "#Lendo o arquivo\n",
    "arquivo = open('arquivos/cientistas.txt','r')\n",
    "conteudo = arquivo.read()\n",
    "arquivo.close()\n",
    "print(conteudo)"
   ],
   "metadata": {
    "collapsed": false,
    "ExecuteTime": {
     "end_time": "2024-07-24T14:04:08.007214Z",
     "start_time": "2024-07-24T14:04:07.994201Z"
    }
   },
   "id": "260e52822f8ac102",
   "execution_count": 21
  },
  {
   "cell_type": "markdown",
   "source": [
    "USANDO A EXPRESSÃO WITH\n",
    "- O método close() é executado automaticamente"
   ],
   "metadata": {
    "collapsed": false
   },
   "id": "47e20b7af1812b9d"
  },
  {
   "cell_type": "code",
   "outputs": [],
   "source": [
    "with open('arquivos/cientistas.txt','r') as arquivo:\n",
    "    conteudo = arquivo.read()"
   ],
   "metadata": {
    "collapsed": false,
    "ExecuteTime": {
     "end_time": "2024-07-24T14:14:00.208346Z",
     "start_time": "2024-07-24T14:14:00.202815Z"
    }
   },
   "id": "d194ea1882a83d0d",
   "execution_count": 22
  },
  {
   "cell_type": "code",
   "outputs": [
    {
     "name": "stdout",
     "output_type": "stream",
     "text": [
      "179\n"
     ]
    }
   ],
   "source": [
    "print(len(conteudo))"
   ],
   "metadata": {
    "collapsed": false,
    "ExecuteTime": {
     "end_time": "2024-07-24T14:14:09.288303Z",
     "start_time": "2024-07-24T14:14:09.283834Z"
    }
   },
   "id": "7a3d590fe7b73195",
   "execution_count": 23
  },
  {
   "cell_type": "code",
   "outputs": [
    {
     "name": "stdout",
     "output_type": "stream",
     "text": [
      "Cientistas de dados pode ser um execelente alternativa de carreira. Esses profissionais precisam saber como programas em python. E, claro, devem ser proficientes em Data Science. \n"
     ]
    }
   ],
   "source": [
    "print(conteudo)"
   ],
   "metadata": {
    "collapsed": false,
    "ExecuteTime": {
     "end_time": "2024-07-24T14:14:14.343586Z",
     "start_time": "2024-07-24T14:14:14.338353Z"
    }
   },
   "id": "7a0aa10d47bf7592",
   "execution_count": 24
  },
  {
   "cell_type": "code",
   "outputs": [],
   "source": [
    "with open('arquivos/cientistas.txt','w') as arquivo:\n",
    "    arquivo.write(texto[:19])\n",
    "    arquivo.write('\\n')\n",
    "    arquivo.write(texto[28:66])"
   ],
   "metadata": {
    "collapsed": false,
    "ExecuteTime": {
     "end_time": "2024-07-24T14:15:25.709948Z",
     "start_time": "2024-07-24T14:15:25.703878Z"
    }
   },
   "id": "8f0b209dc8904cee",
   "execution_count": 25
  },
  {
   "cell_type": "code",
   "outputs": [
    {
     "name": "stdout",
     "output_type": "stream",
     "text": [
      "Cientistas de dados\n",
      " um execelente alternativa de carreira\n"
     ]
    }
   ],
   "source": [
    "#Lendo o arquivo\n",
    "arquivo = open('arquivos/cientistas.txt','r')\n",
    "conteudo = arquivo.read()\n",
    "arquivo.close()\n",
    "print(conteudo)"
   ],
   "metadata": {
    "collapsed": false,
    "ExecuteTime": {
     "end_time": "2024-07-24T14:16:04.375746Z",
     "start_time": "2024-07-24T14:16:04.369902Z"
    }
   },
   "id": "9133b320dfbd8a4f",
   "execution_count": 26
  },
  {
   "cell_type": "markdown",
   "source": [
    "MANIPULANDO ARQUIVOS CSV\n",
    "- É um formato de arquivo que armazena dados tabulares em formato de texto plano\n",
    "- Cada linha do arquivo CSV representa uma linha da tabela e as colunas são separadas por vírgulas\n",
    "- É amplamente utilizado para exportar e importar dados em diferentes aplicações, como planilhas e banco de dados"
   ],
   "metadata": {
    "collapsed": false
   },
   "id": "885ccc0743e1e095"
  },
  {
   "cell_type": "code",
   "outputs": [],
   "source": [
    "#Importando o módulo csv\n",
    "import csv"
   ],
   "metadata": {
    "collapsed": false,
    "ExecuteTime": {
     "end_time": "2024-07-25T12:40:39.899568Z",
     "start_time": "2024-07-25T12:40:39.850574Z"
    }
   },
   "id": "f7383fcb237412b8",
   "execution_count": 1
  },
  {
   "cell_type": "code",
   "outputs": [],
   "source": [
    "with open('arquivos/numeros.csv', 'w', newline='') as arquivo:\n",
    "    #Cria o objeto de gravação\n",
    "    writer = csv.writer(arquivo) \n",
    "    \n",
    "    #Grava no arquivo linha a linha\n",
    "    writer.writerow(('nota1','nota2','nota3'))\n",
    "    writer.writerow((63,87,92))\n",
    "    writer.writerow((61,79,76))\n",
    "    writer.writerow((72,64,91))"
   ],
   "metadata": {
    "collapsed": false,
    "ExecuteTime": {
     "end_time": "2024-07-25T12:57:27.625353Z",
     "start_time": "2024-07-25T12:57:27.614646Z"
    }
   },
   "id": "168f384b9efd9366",
   "execution_count": 21
  },
  {
   "cell_type": "code",
   "outputs": [
    {
     "name": "stdout",
     "output_type": "stream",
     "text": [
      "['nota1', 'nota2', 'nota3']\n",
      "['63', '87', '92']\n",
      "['61', '79', '76']\n",
      "['72', '64', '91']\n"
     ]
    }
   ],
   "source": [
    "#Leitura de arquivos csv\n",
    "#Encoding: codificação do arquivo, formato de caracteres\n",
    "with open('arquivos/numeros.csv', 'r', encoding='utf8', newline='\\r\\n') as arquivo:\n",
    "    #Cria o objeto de leitura\n",
    "    leitor = csv.reader(arquivo)\n",
    "    \n",
    "    #Loop, percorrer o objeto e imprimir cada elemento\n",
    "    for x in leitor:\n",
    "        print(x)"
   ],
   "metadata": {
    "collapsed": false,
    "ExecuteTime": {
     "end_time": "2024-07-25T12:57:45.823978Z",
     "start_time": "2024-07-25T12:57:45.813875Z"
    }
   },
   "id": "b1a196b55f083785",
   "execution_count": 22
  },
  {
   "cell_type": "code",
   "outputs": [],
   "source": [
    "#Gerando uma lista com dados do arquivo csv\n",
    "with open('arquivos/numeros.csv', 'r') as arquivo:\n",
    "    leitor = csv.reader(arquivo)\n",
    "    dados = list(leitor)"
   ],
   "metadata": {
    "collapsed": false,
    "ExecuteTime": {
     "end_time": "2024-07-25T12:57:47.208744Z",
     "start_time": "2024-07-25T12:57:47.200459Z"
    }
   },
   "id": "a0d6a0dc9193bba1",
   "execution_count": 23
  },
  {
   "cell_type": "code",
   "outputs": [
    {
     "name": "stdout",
     "output_type": "stream",
     "text": [
      "[['nota1', 'nota2', 'nota3'], ['63', '87', '92'], ['61', '79', '76'], ['72', '64', '91']]\n"
     ]
    }
   ],
   "source": [
    "print(dados)"
   ],
   "metadata": {
    "collapsed": false,
    "ExecuteTime": {
     "end_time": "2024-07-25T12:57:47.979622Z",
     "start_time": "2024-07-25T12:57:47.971217Z"
    }
   },
   "id": "60028085b1f46676",
   "execution_count": 24
  },
  {
   "cell_type": "code",
   "outputs": [
    {
     "name": "stdout",
     "output_type": "stream",
     "text": [
      "['63', '87', '92']\n",
      "['61', '79', '76']\n",
      "['72', '64', '91']\n"
     ]
    }
   ],
   "source": [
    "#Imprimindo a partir da segunda linha\n",
    "for linha in dados[1:]:\n",
    "    print(linha)"
   ],
   "metadata": {
    "collapsed": false,
    "ExecuteTime": {
     "end_time": "2024-07-25T12:57:49.122602Z",
     "start_time": "2024-07-25T12:57:49.113983Z"
    }
   },
   "id": "3f45ebdc2556f78f",
   "execution_count": 25
  },
  {
   "cell_type": "markdown",
   "source": [
    "MANIPULANDO ARQUIVOS JSON (JAVA SCRIPT OBJECT NOTATION)\n",
    "- É um formato de dados de texto simples e leve que é utilizado para transmitir informações em aplicações web\n",
    "- Conteúdo organizado em formato de dicionário python\n",
    "- Usa pares de chave-valor para representar dados "
   ],
   "metadata": {
    "collapsed": false
   },
   "id": "152d61cd943e6a26"
  },
  {
   "cell_type": "code",
   "outputs": [],
   "source": [
    "#Criando um dicionário\n",
    "dict_guido = {'nome': 'Guido van Rossum',\n",
    "              'linguagem': 'Python',\n",
    "              'similar': ['c','Modula-3','lisp'],\n",
    "              'users': '1000000'}"
   ],
   "metadata": {
    "collapsed": false,
    "ExecuteTime": {
     "end_time": "2024-07-25T13:11:33.550953Z",
     "start_time": "2024-07-25T13:11:33.543043Z"
    }
   },
   "id": "3e0cdcbacb768014",
   "execution_count": 27
  },
  {
   "cell_type": "code",
   "outputs": [
    {
     "name": "stdout",
     "output_type": "stream",
     "text": [
      "nome Guido van Rossum\n",
      "linguagem Python\n",
      "similar ['c', 'Modula-3', 'lisp']\n",
      "users 1000000\n"
     ]
    }
   ],
   "source": [
    "for k, v in dict_guido.items():\n",
    "    print(k, v)"
   ],
   "metadata": {
    "collapsed": false,
    "ExecuteTime": {
     "end_time": "2024-07-25T13:11:50.556510Z",
     "start_time": "2024-07-25T13:11:50.547940Z"
    }
   },
   "id": "ca385b663c398b2a",
   "execution_count": 28
  },
  {
   "cell_type": "code",
   "outputs": [],
   "source": [
    "#Importanto o módulo JSON\n",
    "import json"
   ],
   "metadata": {
    "collapsed": false,
    "ExecuteTime": {
     "end_time": "2024-07-25T13:12:23.715247Z",
     "start_time": "2024-07-25T13:12:23.707402Z"
    }
   },
   "id": "1796d4e445e6e446",
   "execution_count": 29
  },
  {
   "cell_type": "code",
   "outputs": [
    {
     "data": {
      "text/plain": "'{\"nome\": \"Guido van Rossum\", \"linguagem\": \"Python\", \"similar\": [\"c\", \"Modula-3\", \"lisp\"], \"users\": \"1000000\"}'"
     },
     "execution_count": 30,
     "metadata": {},
     "output_type": "execute_result"
    }
   ],
   "source": [
    " #Convertendo o dicionário para um objeto JSON\n",
    "json.dumps(dict_guido)"
   ],
   "metadata": {
    "collapsed": false,
    "ExecuteTime": {
     "end_time": "2024-07-25T13:16:36.556531Z",
     "start_time": "2024-07-25T13:16:36.537395Z"
    }
   },
   "id": "d4391d2662a1567b",
   "execution_count": 30
  },
  {
   "cell_type": "code",
   "outputs": [],
   "source": [
    "#Criando um arquivo JSON\n",
    "with open('arquivos/dados.json', 'w') as arquivo:\n",
    "    arquivo.write(json.dumps(dict_guido))"
   ],
   "metadata": {
    "collapsed": false,
    "ExecuteTime": {
     "end_time": "2024-07-25T13:17:50.670953Z",
     "start_time": "2024-07-25T13:17:50.662285Z"
    }
   },
   "id": "55e284fb16d1e86a",
   "execution_count": 31
  },
  {
   "cell_type": "code",
   "outputs": [],
   "source": [
    "#Leitura de arquivos JSON\n",
    "with open('arquivos/dados.json', 'r') as arquivo:\n",
    "    texto = arquivo.read()\n",
    "    dados = json.loads(texto) #Carregar conteudo do texto no formato json"
   ],
   "metadata": {
    "collapsed": false,
    "ExecuteTime": {
     "end_time": "2024-07-25T13:20:00.694455Z",
     "start_time": "2024-07-25T13:20:00.683461Z"
    }
   },
   "id": "b40d6b8ba02c7c10",
   "execution_count": 34
  },
  {
   "cell_type": "code",
   "outputs": [
    {
     "data": {
      "text/plain": "{'nome': 'Guido van Rossum',\n 'linguagem': 'Python',\n 'similar': ['c', 'Modula-3', 'lisp'],\n 'users': '1000000'}"
     },
     "execution_count": 33,
     "metadata": {},
     "output_type": "execute_result"
    }
   ],
   "source": [
    "dados"
   ],
   "metadata": {
    "collapsed": false,
    "ExecuteTime": {
     "end_time": "2024-07-25T13:19:06.764110Z",
     "start_time": "2024-07-25T13:19:06.752001Z"
    }
   },
   "id": "69f4ddf2ff2409cc",
   "execution_count": 33
  },
  {
   "cell_type": "code",
   "outputs": [
    {
     "name": "stdout",
     "output_type": "stream",
     "text": [
      "Guido van Rossum\n"
     ]
    }
   ],
   "source": [
    "print(dados['nome'])"
   ],
   "metadata": {
    "collapsed": false,
    "ExecuteTime": {
     "end_time": "2024-07-25T13:20:02.965188Z",
     "start_time": "2024-07-25T13:20:02.957158Z"
    }
   },
   "id": "61dceb4737fab6a9",
   "execution_count": 35
  },
  {
   "cell_type": "markdown",
   "source": [
    "EXTRAÇÃO DE ARQUIVO DA WEB"
   ],
   "metadata": {
    "collapsed": false
   },
   "id": "4e676f258415f25"
  },
  {
   "cell_type": "code",
   "outputs": [],
   "source": [
    "#Imprimindo um arquivo JSON copiado da internet\n",
    "from urllib.request import urlopen\n",
    "\n",
    "#urlopen: abre arquivo web\n",
    "response = urlopen(\"http://vimeo.com/api/v2/video/57733101.json\").read().decode('utf8')\n",
    "dados = json.loads(response)[0]"
   ],
   "metadata": {
    "collapsed": false,
    "ExecuteTime": {
     "end_time": "2024-07-25T13:30:06.044465Z",
     "start_time": "2024-07-25T13:30:05.523234Z"
    }
   },
   "id": "9cdf8d912cfd455b",
   "execution_count": 36
  },
  {
   "cell_type": "code",
   "outputs": [
    {
     "data": {
      "text/plain": "{'id': 57733101,\n 'title': 'The Good Man trailer',\n 'description': 'Trailer for the Manifesto Films production, The Good Man, now available in UK/Ireland/US/Canada/Australia/New Zealand on iTunes (https://itunes.apple.com/us/movie/the-good-man/id873130906) and DVD (http://www.amazon.co.uk/The-Good-Man-Aiden-Gillen/dp/B00IIK6CGU/). Co-production with Jet Black Entertainment (South Africa). Starring Aidan Gillen, Thabang Sidloyi, Kelly Campbell, Lunathi Mampofu. Written & directed by Phil Harrison. More info at www.thegoodmanfilm.com<br />\\r\\n<br />\\r\\nCheck out the Variety Magazine review here: http://www.variety.com/review/VE1117947909/',\n 'url': 'https://vimeo.com/57733101',\n 'upload_date': '2013-01-19 04:01:15',\n 'thumbnail_small': 'https://i.vimeocdn.com/video/436057121-e828a1f5478ec0136e957753d107f2a1268c64def9b82faac37c8e30c031cff2-d_100x75',\n 'thumbnail_medium': 'https://i.vimeocdn.com/video/436057121-e828a1f5478ec0136e957753d107f2a1268c64def9b82faac37c8e30c031cff2-d_200x150',\n 'thumbnail_large': 'https://i.vimeocdn.com/video/436057121-e828a1f5478ec0136e957753d107f2a1268c64def9b82faac37c8e30c031cff2-d_640',\n 'user_id': 1334563,\n 'user_name': 'Manifesto Films',\n 'user_url': 'https://vimeo.com/manifestofilms',\n 'user_portrait_small': 'https://i.vimeocdn.com/portrait/4778306_30x30?sig=dce4bd41e32adf3305ffd0a161ae27a5c919bba5773cf2f2c3ca5be075726518&v=1',\n 'user_portrait_medium': 'https://i.vimeocdn.com/portrait/4778306_75x75?sig=dce4bd41e32adf3305ffd0a161ae27a5c919bba5773cf2f2c3ca5be075726518&v=1',\n 'user_portrait_large': 'https://i.vimeocdn.com/portrait/4778306_100x100?sig=dce4bd41e32adf3305ffd0a161ae27a5c919bba5773cf2f2c3ca5be075726518&v=1',\n 'user_portrait_huge': 'https://i.vimeocdn.com/portrait/4778306_300x300?sig=dce4bd41e32adf3305ffd0a161ae27a5c919bba5773cf2f2c3ca5be075726518&v=1',\n 'stats_number_of_likes': 18,\n 'stats_number_of_plays': 6743,\n 'stats_number_of_comments': 0,\n 'duration': 143,\n 'width': 1024,\n 'height': 576,\n 'tags': 'belfast, cape town, africa, ireland, film',\n 'embed_privacy': 'anywhere'}"
     },
     "execution_count": 37,
     "metadata": {},
     "output_type": "execute_result"
    }
   ],
   "source": [
    "dados"
   ],
   "metadata": {
    "collapsed": false,
    "ExecuteTime": {
     "end_time": "2024-07-25T13:30:10.094504Z",
     "start_time": "2024-07-25T13:30:10.083025Z"
    }
   },
   "id": "570340db64331680",
   "execution_count": 37
  },
  {
   "cell_type": "code",
   "outputs": [
    {
     "name": "stdout",
     "output_type": "stream",
     "text": [
      "Título:  The Good Man trailer\n",
      "URL:  https://vimeo.com/57733101\n",
      "Duração:  143\n",
      "Número de visualizações:  6743\n"
     ]
    }
   ],
   "source": [
    "print('Título: ', dados['title'])\n",
    "print('URL: ', dados['url'])\n",
    "print('Duração: ', dados['duration'])\n",
    "print('Número de visualizações: ', dados['stats_number_of_plays'])"
   ],
   "metadata": {
    "collapsed": false,
    "ExecuteTime": {
     "end_time": "2024-07-25T13:33:21.602570Z",
     "start_time": "2024-07-25T13:33:21.592590Z"
    }
   },
   "id": "56c90b0b42027128",
   "execution_count": 38
  },
  {
   "cell_type": "code",
   "outputs": [],
   "source": [
    "#Copiando o conteúdo de um arquivo para o outro\n",
    "#Nomes dos arquivos\n",
    "arquivo_fonte = 'arquivos/dados.json'\n",
    "arquivo_destino = 'arquivos/dados.txt'"
   ],
   "metadata": {
    "collapsed": false,
    "ExecuteTime": {
     "end_time": "2024-07-25T13:35:10.997679Z",
     "start_time": "2024-07-25T13:35:10.989720Z"
    }
   },
   "id": "3f9a9b2a4e7981a7",
   "execution_count": 39
  },
  {
   "cell_type": "code",
   "outputs": [],
   "source": [
    "#Método 1\n",
    "with open(arquivo_fonte, 'r') as infile:\n",
    "    text = infile.read()\n",
    "    with open(arquivo_destino, 'w') as outfile:\n",
    "        outfile.write(text)"
   ],
   "metadata": {
    "collapsed": false,
    "ExecuteTime": {
     "end_time": "2024-07-25T13:36:34.339153Z",
     "start_time": "2024-07-25T13:36:34.328856Z"
    }
   },
   "id": "791e09339ca76b60",
   "execution_count": 40
  },
  {
   "cell_type": "code",
   "outputs": [
    {
     "data": {
      "text/plain": "109"
     },
     "execution_count": 41,
     "metadata": {},
     "output_type": "execute_result"
    }
   ],
   "source": [
    "#Método 2\n",
    "open(arquivo_destino,'w').write(open(arquivo_fonte, 'r').read())"
   ],
   "metadata": {
    "collapsed": false,
    "ExecuteTime": {
     "end_time": "2024-07-25T13:37:50.088041Z",
     "start_time": "2024-07-25T13:37:50.073002Z"
    }
   },
   "id": "2346a001cc8429ca",
   "execution_count": 41
  },
  {
   "cell_type": "code",
   "outputs": [],
   "source": [
    "#Leitura do arquivo txt\n",
    "with open('arquivos/dados.txt', 'r') as arquivo:\n",
    "    texto = arquivo.read()\n",
    "    dados = json.loads(texto)"
   ],
   "metadata": {
    "collapsed": false,
    "ExecuteTime": {
     "end_time": "2024-07-25T13:39:22.236179Z",
     "start_time": "2024-07-25T13:39:22.226959Z"
    }
   },
   "id": "c46653f0ee16713",
   "execution_count": 43
  },
  {
   "cell_type": "code",
   "outputs": [
    {
     "name": "stdout",
     "output_type": "stream",
     "text": [
      "{'nome': 'Guido van Rossum', 'linguagem': 'Python', 'similar': ['c', 'Modula-3', 'lisp'], 'users': '1000000'}\n"
     ]
    }
   ],
   "source": [
    "print(dados)"
   ],
   "metadata": {
    "collapsed": false,
    "ExecuteTime": {
     "end_time": "2024-07-25T13:41:26.044026Z",
     "start_time": "2024-07-25T13:41:26.036128Z"
    }
   },
   "id": "df2edfe66382bfa5",
   "execution_count": 44
  },
  {
   "cell_type": "code",
   "outputs": [],
   "source": [],
   "metadata": {
    "collapsed": false
   },
   "id": "a25009d9ed19fbb2"
  }
 ],
 "metadata": {
  "kernelspec": {
   "display_name": "Python 3",
   "language": "python",
   "name": "python3"
  },
  "language_info": {
   "codemirror_mode": {
    "name": "ipython",
    "version": 2
   },
   "file_extension": ".py",
   "mimetype": "text/x-python",
   "name": "python",
   "nbconvert_exporter": "python",
   "pygments_lexer": "ipython2",
   "version": "2.7.6"
  }
 },
 "nbformat": 4,
 "nbformat_minor": 5
}
