{
 "cells": [
  {
   "cell_type": "markdown",
   "source": [
    "CRIANDO UMA STRING E IMPRIMINDO"
   ],
   "metadata": {
    "collapsed": false
   },
   "id": "cc2d14ea77eb62da"
  },
  {
   "cell_type": "code",
   "outputs": [
    {
     "data": {
      "text/plain": "'Primeira string'"
     },
     "execution_count": 2,
     "metadata": {},
     "output_type": "execute_result"
    }
   ],
   "source": [
    "#Usar aspas simples ou duplas\n",
    "'Primeira string'"
   ],
   "metadata": {
    "collapsed": false,
    "ExecuteTime": {
     "end_time": "2024-05-23T13:18:36.120830Z",
     "start_time": "2024-05-23T13:18:36.112772Z"
    }
   },
   "id": "343e9906aca2275a",
   "execution_count": 2
  },
  {
   "cell_type": "code",
   "outputs": [
    {
     "data": {
      "text/plain": "'Segunda string'"
     },
     "execution_count": 3,
     "metadata": {},
     "output_type": "execute_result"
    }
   ],
   "source": [
    "\"Segunda string\""
   ],
   "metadata": {
    "collapsed": false,
    "ExecuteTime": {
     "end_time": "2024-05-23T13:18:45.603433Z",
     "start_time": "2024-05-23T13:18:45.596784Z"
    }
   },
   "id": "25a5b78d9a650497",
   "execution_count": 3
  },
  {
   "cell_type": "code",
   "outputs": [
    {
     "name": "stdout",
     "output_type": "stream",
     "text": [
      "Primeira string\n"
     ]
    }
   ],
   "source": [
    "print(\"Primeira string\")"
   ],
   "metadata": {
    "collapsed": false,
    "ExecuteTime": {
     "end_time": "2024-05-23T13:18:58.021508Z",
     "start_time": "2024-05-23T13:18:58.016543Z"
    }
   },
   "id": "b579043d3a268e30",
   "execution_count": 4
  },
  {
   "cell_type": "code",
   "outputs": [
    {
     "name": "stdout",
     "output_type": "stream",
     "text": [
      "Segunda string\n"
     ]
    }
   ],
   "source": [
    "print(\"Segunda string\")"
   ],
   "metadata": {
    "collapsed": false,
    "ExecuteTime": {
     "end_time": "2024-05-23T13:19:03.413559Z",
     "start_time": "2024-05-23T13:19:03.408621Z"
    }
   },
   "id": "f2c98f1d02f367a3",
   "execution_count": 5
  },
  {
   "cell_type": "markdown",
   "source": [
    "INDEXANDO STRINGS"
   ],
   "metadata": {
    "collapsed": false
   },
   "id": "821fc50b6a01cebe"
  },
  {
   "cell_type": "code",
   "outputs": [],
   "source": [
    "s = \"Hello World\""
   ],
   "metadata": {
    "collapsed": false,
    "ExecuteTime": {
     "end_time": "2024-05-23T13:31:33.533853Z",
     "start_time": "2024-05-23T13:31:33.527760Z"
    }
   },
   "id": "a64b281705aab9ae",
   "execution_count": 22
  },
  {
   "cell_type": "code",
   "outputs": [
    {
     "name": "stdout",
     "output_type": "stream",
     "text": [
      "Hello World\n"
     ]
    }
   ],
   "source": [
    "print(s)"
   ],
   "metadata": {
    "collapsed": false,
    "ExecuteTime": {
     "end_time": "2024-05-23T13:19:47.831245Z",
     "start_time": "2024-05-23T13:19:47.826517Z"
    }
   },
   "id": "692b354864e4914e",
   "execution_count": 7
  },
  {
   "cell_type": "code",
   "outputs": [
    {
     "data": {
      "text/plain": "'H'"
     },
     "execution_count": 8,
     "metadata": {},
     "output_type": "execute_result"
    }
   ],
   "source": [
    "#Primeiro elemento da String\n",
    "#Inicia pela posição 0\n",
    "s[0]"
   ],
   "metadata": {
    "collapsed": false,
    "ExecuteTime": {
     "end_time": "2024-05-23T13:20:32.603876Z",
     "start_time": "2024-05-23T13:20:32.597470Z"
    }
   },
   "id": "7a53d2a3244f63ac",
   "execution_count": 8
  },
  {
   "cell_type": "code",
   "outputs": [
    {
     "data": {
      "text/plain": "'e'"
     },
     "execution_count": 9,
     "metadata": {},
     "output_type": "execute_result"
    }
   ],
   "source": [
    "s[1]"
   ],
   "metadata": {
    "collapsed": false,
    "ExecuteTime": {
     "end_time": "2024-05-23T13:20:44.780255Z",
     "start_time": "2024-05-23T13:20:44.773115Z"
    }
   },
   "id": "3a0ad17681b60dc",
   "execution_count": 9
  },
  {
   "cell_type": "code",
   "outputs": [
    {
     "data": {
      "text/plain": "'l'"
     },
     "execution_count": 10,
     "metadata": {},
     "output_type": "execute_result"
    }
   ],
   "source": [
    "s[2]"
   ],
   "metadata": {
    "collapsed": false,
    "ExecuteTime": {
     "end_time": "2024-05-23T13:20:48.541118Z",
     "start_time": "2024-05-23T13:20:48.535473Z"
    }
   },
   "id": "beb0505c4012dd3e",
   "execution_count": 10
  },
  {
   "cell_type": "code",
   "outputs": [
    {
     "data": {
      "text/plain": "'ello World'"
     },
     "execution_count": 12,
     "metadata": {},
     "output_type": "execute_result"
    }
   ],
   "source": [
    "#Pode usar ':' para exucutar um slicing que faz a leitura de tudo até um ponto designado\n",
    "#Retorna todos os elementos da String, começando pela posição\n",
    "s[1:]"
   ],
   "metadata": {
    "collapsed": false,
    "ExecuteTime": {
     "end_time": "2024-05-23T13:24:02.060921Z",
     "start_time": "2024-05-23T13:24:02.053163Z"
    }
   },
   "id": "7429d9617bbef9e3",
   "execution_count": 12
  },
  {
   "cell_type": "code",
   "outputs": [
    {
     "data": {
      "text/plain": "'Hello World'"
     },
     "execution_count": 13,
     "metadata": {},
     "output_type": "execute_result"
    }
   ],
   "source": [
    "#A String original permanece inalterada\n",
    "s"
   ],
   "metadata": {
    "collapsed": false,
    "ExecuteTime": {
     "end_time": "2024-05-23T13:24:31.647463Z",
     "start_time": "2024-05-23T13:24:31.640575Z"
    }
   },
   "id": "130403fda4704338",
   "execution_count": 13
  },
  {
   "cell_type": "code",
   "outputs": [
    {
     "data": {
      "text/plain": "'Hel'"
     },
     "execution_count": 14,
     "metadata": {},
     "output_type": "execute_result"
    }
   ],
   "source": [
    "#Retorna todos os elementos até um ponto designado\n",
    "s[:3]"
   ],
   "metadata": {
    "collapsed": false,
    "ExecuteTime": {
     "end_time": "2024-05-23T13:25:22.396088Z",
     "start_time": "2024-05-23T13:25:22.388122Z"
    }
   },
   "id": "4fdb124cc3828357",
   "execution_count": 14
  },
  {
   "cell_type": "code",
   "outputs": [
    {
     "data": {
      "text/plain": "'d'"
     },
     "execution_count": 24,
     "metadata": {},
     "output_type": "execute_result"
    }
   ],
   "source": [
    "#Indexação negativa, ler de trás para frente\n",
    "s[-1] "
   ],
   "metadata": {
    "collapsed": false,
    "ExecuteTime": {
     "end_time": "2024-05-23T13:31:52.019800Z",
     "start_time": "2024-05-23T13:31:52.013462Z"
    }
   },
   "id": "29838350e35d3a5e",
   "execution_count": 24
  },
  {
   "cell_type": "code",
   "outputs": [
    {
     "data": {
      "text/plain": "'Hello Worl'"
     },
     "execution_count": 23,
     "metadata": {},
     "output_type": "execute_result"
    }
   ],
   "source": [
    "#Retornar tudo, exceto a última letra\n",
    "s[:-1]"
   ],
   "metadata": {
    "collapsed": false,
    "ExecuteTime": {
     "end_time": "2024-05-23T13:31:39.189543Z",
     "start_time": "2024-05-23T13:31:39.182379Z"
    }
   },
   "id": "b49a91dd5b065a1c",
   "execution_count": 23
  },
  {
   "cell_type": "code",
   "outputs": [
    {
     "data": {
      "text/plain": "'Hello World'"
     },
     "execution_count": 26,
     "metadata": {},
     "output_type": "execute_result"
    }
   ],
   "source": [
    "#Usar a notação de índice e fatiar a String em pedaços específicos (o padrão é 1)\n",
    "#Usar ':' duas vezes em uma linha e em seguida, um número que espeficica a frequência para retornar elementos\n",
    "s[::1]"
   ],
   "metadata": {
    "collapsed": false,
    "ExecuteTime": {
     "end_time": "2024-05-23T13:44:08.898707Z",
     "start_time": "2024-05-23T13:44:08.892846Z"
    }
   },
   "id": "4bd644e0189650ba",
   "execution_count": 26
  },
  {
   "cell_type": "code",
   "outputs": [
    {
     "data": {
      "text/plain": "'HloWrd'"
     },
     "execution_count": 27,
     "metadata": {},
     "output_type": "execute_result"
    }
   ],
   "source": [
    "s[::2]"
   ],
   "metadata": {
    "collapsed": false,
    "ExecuteTime": {
     "end_time": "2024-05-23T13:44:29.744034Z",
     "start_time": "2024-05-23T13:44:29.738264Z"
    }
   },
   "id": "da9a1b40ecf98197",
   "execution_count": 27
  },
  {
   "cell_type": "code",
   "outputs": [
    {
     "data": {
      "text/plain": "'dlroW olleH'"
     },
     "execution_count": 28,
     "metadata": {},
     "output_type": "execute_result"
    }
   ],
   "source": [
    "s[::-1]"
   ],
   "metadata": {
    "collapsed": false,
    "ExecuteTime": {
     "end_time": "2024-05-23T13:44:51.185666Z",
     "start_time": "2024-05-23T13:44:51.178240Z"
    }
   },
   "id": "c28a10cb03463d16",
   "execution_count": 28
  },
  {
   "cell_type": "markdown",
   "source": [
    "PROPRIEDADES DE STRINGS"
   ],
   "metadata": {
    "collapsed": false
   },
   "id": "299924536258074f"
  },
  {
   "cell_type": "code",
   "outputs": [
    {
     "data": {
      "text/plain": "'Hello World'"
     },
     "execution_count": 29,
     "metadata": {},
     "output_type": "execute_result"
    }
   ],
   "source": [
    "s"
   ],
   "metadata": {
    "collapsed": false,
    "ExecuteTime": {
     "end_time": "2024-05-23T13:45:29.627732Z",
     "start_time": "2024-05-23T13:45:29.621093Z"
    }
   },
   "id": "fad03eb0e11e9904",
   "execution_count": 29
  },
  {
   "cell_type": "code",
   "outputs": [],
   "source": [
    "#Não é possível alterar um elemento da string"
   ],
   "metadata": {
    "collapsed": false,
    "ExecuteTime": {
     "end_time": "2024-05-23T13:46:26.875903Z",
     "start_time": "2024-05-23T13:46:26.872151Z"
    }
   },
   "id": "bbbc64702dde5c43",
   "execution_count": 31
  },
  {
   "cell_type": "code",
   "outputs": [
    {
     "data": {
      "text/plain": "'Hello World: Oi mundo'"
     },
     "execution_count": 32,
     "metadata": {},
     "output_type": "execute_result"
    }
   ],
   "source": [
    "#Concatenando strings\n",
    "s + ': Oi mundo'"
   ],
   "metadata": {
    "collapsed": false,
    "ExecuteTime": {
     "end_time": "2024-05-23T13:53:19.400848Z",
     "start_time": "2024-05-23T13:53:19.395188Z"
    }
   },
   "id": "affe93ffd7abfdf",
   "execution_count": 32
  },
  {
   "cell_type": "code",
   "outputs": [],
   "source": [
    "s = s + ': Oi Mundo'"
   ],
   "metadata": {
    "collapsed": false,
    "ExecuteTime": {
     "end_time": "2024-05-23T13:53:40.947603Z",
     "start_time": "2024-05-23T13:53:40.943744Z"
    }
   },
   "id": "ee651eb0daf88ac6",
   "execution_count": 33
  },
  {
   "cell_type": "code",
   "outputs": [
    {
     "data": {
      "text/plain": "'Hello World: Oi Mundo'"
     },
     "execution_count": 34,
     "metadata": {},
     "output_type": "execute_result"
    }
   ],
   "source": [
    "s"
   ],
   "metadata": {
    "collapsed": false,
    "ExecuteTime": {
     "end_time": "2024-05-23T13:53:44.129976Z",
     "start_time": "2024-05-23T13:53:44.124876Z"
    }
   },
   "id": "e285e0d1dd08afcb",
   "execution_count": 34
  },
  {
   "cell_type": "code",
   "outputs": [],
   "source": [
    "#Usar o símbolo de multiplicação para criar repetição\n",
    "letra = 'w'"
   ],
   "metadata": {
    "collapsed": false,
    "ExecuteTime": {
     "end_time": "2024-05-23T13:54:39.423040Z",
     "start_time": "2024-05-23T13:54:39.418816Z"
    }
   },
   "id": "af95c9278f3a946",
   "execution_count": 35
  },
  {
   "cell_type": "code",
   "outputs": [
    {
     "data": {
      "text/plain": "'www'"
     },
     "execution_count": 36,
     "metadata": {},
     "output_type": "execute_result"
    }
   ],
   "source": [
    "letra * 3"
   ],
   "metadata": {
    "collapsed": false,
    "ExecuteTime": {
     "end_time": "2024-05-23T13:54:45.194270Z",
     "start_time": "2024-05-23T13:54:45.188369Z"
    }
   },
   "id": "70f3c5766c473020",
   "execution_count": 36
  },
  {
   "cell_type": "markdown",
   "source": [
    "FUNÇÕES BUILT-IN DE STRINGS"
   ],
   "metadata": {
    "collapsed": false
   },
   "id": "2a54f01fdc82952a"
  },
  {
   "cell_type": "code",
   "outputs": [
    {
     "data": {
      "text/plain": "'Hello World: Oi Mundo'"
     },
     "execution_count": 37,
     "metadata": {},
     "output_type": "execute_result"
    }
   ],
   "source": [
    "s"
   ],
   "metadata": {
    "collapsed": false,
    "ExecuteTime": {
     "end_time": "2024-05-23T13:55:34.592739Z",
     "start_time": "2024-05-23T13:55:34.586266Z"
    }
   },
   "id": "9525004a57f762d2",
   "execution_count": 37
  },
  {
   "cell_type": "code",
   "outputs": [
    {
     "data": {
      "text/plain": "'HELLO WORLD: OI MUNDO'"
     },
     "execution_count": 38,
     "metadata": {},
     "output_type": "execute_result"
    }
   ],
   "source": [
    "#Upper case\n",
    "s.upper()"
   ],
   "metadata": {
    "collapsed": false,
    "ExecuteTime": {
     "end_time": "2024-05-23T13:55:50.453039Z",
     "start_time": "2024-05-23T13:55:50.446863Z"
    }
   },
   "id": "8e3088dd8fadd408",
   "execution_count": 38
  },
  {
   "cell_type": "code",
   "outputs": [
    {
     "data": {
      "text/plain": "'hello world: oi mundo'"
     },
     "execution_count": 39,
     "metadata": {},
     "output_type": "execute_result"
    }
   ],
   "source": [
    "#Lower case\n",
    "s.lower()"
   ],
   "metadata": {
    "collapsed": false,
    "ExecuteTime": {
     "end_time": "2024-05-23T13:56:06.467675Z",
     "start_time": "2024-05-23T13:56:06.460962Z"
    }
   },
   "id": "98b5181859e53326",
   "execution_count": 39
  },
  {
   "cell_type": "code",
   "outputs": [
    {
     "data": {
      "text/plain": "['Hello', 'World:', 'Oi', 'Mundo']"
     },
     "execution_count": 40,
     "metadata": {},
     "output_type": "execute_result"
    }
   ],
   "source": [
    "#Dividir uma string por espaços em branco (padrão)\n",
    "s.split()"
   ],
   "metadata": {
    "collapsed": false,
    "ExecuteTime": {
     "end_time": "2024-05-23T13:56:59.743783Z",
     "start_time": "2024-05-23T13:56:59.737514Z"
    }
   },
   "id": "9d6d675a0e815f71",
   "execution_count": 40
  },
  {
   "cell_type": "code",
   "outputs": [
    {
     "data": {
      "text/plain": "['He', '', 'o Wor', 'd: Oi Mundo']"
     },
     "execution_count": 41,
     "metadata": {},
     "output_type": "execute_result"
    }
   ],
   "source": [
    "#Dividir um string por um elemento específico\n",
    "s.split('l')"
   ],
   "metadata": {
    "collapsed": false,
    "ExecuteTime": {
     "end_time": "2024-05-23T13:57:38.698557Z",
     "start_time": "2024-05-23T13:57:38.692327Z"
    }
   },
   "id": "762db710895b23ad",
   "execution_count": 41
  },
  {
   "cell_type": "markdown",
   "source": [
    "FUNÇÕES STRING"
   ],
   "metadata": {
    "collapsed": false
   },
   "id": "c6ed0d0c93d27e5f"
  },
  {
   "cell_type": "code",
   "outputs": [],
   "source": [
    "s = 'Data Science Academy'"
   ],
   "metadata": {
    "collapsed": false,
    "ExecuteTime": {
     "end_time": "2024-05-23T13:59:45.557155Z",
     "start_time": "2024-05-23T13:59:45.553215Z"
    }
   },
   "id": "28c09fe4f61c986a",
   "execution_count": 42
  },
  {
   "cell_type": "code",
   "outputs": [
    {
     "data": {
      "text/plain": "'Data Science Academy'"
     },
     "execution_count": 43,
     "metadata": {},
     "output_type": "execute_result"
    }
   ],
   "source": [
    "s"
   ],
   "metadata": {
    "collapsed": false,
    "ExecuteTime": {
     "end_time": "2024-05-23T13:59:47.015638Z",
     "start_time": "2024-05-23T13:59:47.009344Z"
    }
   },
   "id": "f3897ed043c6f7d7",
   "execution_count": 43
  },
  {
   "cell_type": "code",
   "outputs": [
    {
     "data": {
      "text/plain": "'Data science academy'"
     },
     "execution_count": 44,
     "metadata": {},
     "output_type": "execute_result"
    }
   ],
   "source": [
    "s.capitalize()"
   ],
   "metadata": {
    "collapsed": false,
    "ExecuteTime": {
     "end_time": "2024-05-23T13:59:56.139143Z",
     "start_time": "2024-05-23T13:59:56.132584Z"
    }
   },
   "id": "f6c94507a12c6a68",
   "execution_count": 44
  },
  {
   "cell_type": "code",
   "outputs": [
    {
     "data": {
      "text/plain": "3"
     },
     "execution_count": 45,
     "metadata": {},
     "output_type": "execute_result"
    }
   ],
   "source": [
    "s.count('a')"
   ],
   "metadata": {
    "collapsed": false,
    "ExecuteTime": {
     "end_time": "2024-05-23T14:00:09.397280Z",
     "start_time": "2024-05-23T14:00:09.390201Z"
    }
   },
   "id": "f3a891f977ad0625",
   "execution_count": 45
  },
  {
   "cell_type": "code",
   "outputs": [
    {
     "data": {
      "text/plain": "False"
     },
     "execution_count": 46,
     "metadata": {},
     "output_type": "execute_result"
    }
   ],
   "source": [
    "s.isalnum()"
   ],
   "metadata": {
    "collapsed": false,
    "ExecuteTime": {
     "end_time": "2024-05-23T14:00:19.050890Z",
     "start_time": "2024-05-23T14:00:19.044342Z"
    }
   },
   "id": "db61c22063985be1",
   "execution_count": 46
  },
  {
   "cell_type": "code",
   "outputs": [
    {
     "data": {
      "text/plain": "False"
     },
     "execution_count": 47,
     "metadata": {},
     "output_type": "execute_result"
    }
   ],
   "source": [
    "s.islower()"
   ],
   "metadata": {
    "collapsed": false,
    "ExecuteTime": {
     "end_time": "2024-05-23T14:00:26.402252Z",
     "start_time": "2024-05-23T14:00:26.395762Z"
    }
   },
   "id": "65bd8cb9098aafaa",
   "execution_count": 47
  },
  {
   "cell_type": "code",
   "outputs": [
    {
     "data": {
      "text/plain": "False"
     },
     "execution_count": 48,
     "metadata": {},
     "output_type": "execute_result"
    }
   ],
   "source": [
    "s.isspace()"
   ],
   "metadata": {
    "collapsed": false,
    "ExecuteTime": {
     "end_time": "2024-05-23T14:00:34.755211Z",
     "start_time": "2024-05-23T14:00:34.748251Z"
    }
   },
   "id": "c124d2cd9b91750a",
   "execution_count": 48
  },
  {
   "cell_type": "code",
   "outputs": [
    {
     "data": {
      "text/plain": "True"
     },
     "execution_count": 50,
     "metadata": {},
     "output_type": "execute_result"
    }
   ],
   "source": [
    "s.endswith('y')"
   ],
   "metadata": {
    "collapsed": false,
    "ExecuteTime": {
     "end_time": "2024-05-23T14:01:14.434570Z",
     "start_time": "2024-05-23T14:01:14.428048Z"
    }
   },
   "id": "dbc0fa77d3251ace",
   "execution_count": 50
  },
  {
   "cell_type": "markdown",
   "source": [
    "COMPARANDO STRINGS"
   ],
   "metadata": {
    "collapsed": false
   },
   "id": "3f67a183dede0aba"
  },
  {
   "cell_type": "code",
   "outputs": [
    {
     "name": "stdout",
     "output_type": "stream",
     "text": [
      "False\n"
     ]
    }
   ],
   "source": [
    "print(\"Python\" == \"R\")"
   ],
   "metadata": {
    "collapsed": false,
    "ExecuteTime": {
     "end_time": "2024-05-23T14:02:13.382289Z",
     "start_time": "2024-05-23T14:02:13.376676Z"
    }
   },
   "id": "f7befd94c7197371",
   "execution_count": 51
  },
  {
   "cell_type": "code",
   "outputs": [
    {
     "name": "stdout",
     "output_type": "stream",
     "text": [
      "True\n"
     ]
    }
   ],
   "source": [
    "print(\"Python\" == \"Python\")"
   ],
   "metadata": {
    "collapsed": false,
    "ExecuteTime": {
     "end_time": "2024-05-23T14:02:25.701990Z",
     "start_time": "2024-05-23T14:02:25.696887Z"
    }
   },
   "id": "652dad40b19f05",
   "execution_count": 52
  },
  {
   "cell_type": "code",
   "outputs": [],
   "source": [],
   "metadata": {
    "collapsed": false
   },
   "id": "8ff46fb2107d7cd9"
  }
 ],
 "metadata": {
  "kernelspec": {
   "display_name": "Python 3",
   "language": "python",
   "name": "python3"
  },
  "language_info": {
   "codemirror_mode": {
    "name": "ipython",
    "version": 2
   },
   "file_extension": ".py",
   "mimetype": "text/x-python",
   "name": "python",
   "nbconvert_exporter": "python",
   "pygments_lexer": "ipython2",
   "version": "2.7.6"
  }
 },
 "nbformat": 4,
 "nbformat_minor": 5
}
