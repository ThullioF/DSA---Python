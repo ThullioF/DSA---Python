{
 "cells": [
  {
   "cell_type": "markdown",
   "source": [
    "TRABALHANDO COM DICIONÁRIOS"
   ],
   "metadata": {
    "collapsed": false
   },
   "id": "ecc577439c067ac7"
  },
  {
   "cell_type": "code",
   "outputs": [],
   "source": [
    "#Criar uma lista\n",
    "#Elementos são independentes\n",
    "estudantes_lst = [\"Pedro\", 24, \"Ana\", 22, \"Ronaldo\", 26, \"Janaina\", 25]"
   ],
   "metadata": {
    "collapsed": false,
    "ExecuteTime": {
     "end_time": "2024-06-06T14:24:33.483862Z",
     "start_time": "2024-06-06T14:24:33.475158Z"
    }
   },
   "id": "3deaf0e33acd4b27",
   "execution_count": 1
  },
  {
   "cell_type": "code",
   "outputs": [
    {
     "data": {
      "text/plain": "['Pedro', 24, 'Ana', 22, 'Ronaldo', 26, 'Janaina', 25]"
     },
     "execution_count": 2,
     "metadata": {},
     "output_type": "execute_result"
    }
   ],
   "source": [
    "estudantes_lst"
   ],
   "metadata": {
    "collapsed": false,
    "ExecuteTime": {
     "end_time": "2024-06-06T14:24:40.880671Z",
     "start_time": "2024-06-06T14:24:40.871585Z"
    }
   },
   "id": "21f34c6cc8fb6293",
   "execution_count": 2
  },
  {
   "cell_type": "code",
   "outputs": [],
   "source": [
    "#Isso é um dicionário\n",
    "#Amarra um elemento a outro\n",
    "estudantes_dict = {\"Pedro\": 24, \"Ana\":22, \"Ronaldo\":26, \"Janaina\":25}"
   ],
   "metadata": {
    "collapsed": false,
    "ExecuteTime": {
     "end_time": "2024-06-06T14:26:16.361883Z",
     "start_time": "2024-06-06T14:26:16.357640Z"
    }
   },
   "id": "d8730b9148576818",
   "execution_count": 3
  },
  {
   "cell_type": "code",
   "outputs": [
    {
     "data": {
      "text/plain": "{'Pedro': 24, 'Ana': 22, 'Ronaldo': 26, 'Janaina': 25}"
     },
     "execution_count": 4,
     "metadata": {},
     "output_type": "execute_result"
    }
   ],
   "source": [
    "estudantes_dict"
   ],
   "metadata": {
    "collapsed": false,
    "ExecuteTime": {
     "end_time": "2024-06-06T14:26:20.203937Z",
     "start_time": "2024-06-06T14:26:20.197898Z"
    }
   },
   "id": "9458470c434fa8fd",
   "execution_count": 4
  },
  {
   "cell_type": "code",
   "outputs": [
    {
     "data": {
      "text/plain": "24"
     },
     "execution_count": 6,
     "metadata": {},
     "output_type": "execute_result"
    }
   ],
   "source": [
    "estudantes_dict[\"Pedro\"]"
   ],
   "metadata": {
    "collapsed": false,
    "ExecuteTime": {
     "end_time": "2024-06-06T14:26:51.317770Z",
     "start_time": "2024-06-06T14:26:51.311668Z"
    }
   },
   "id": "9164c93d6511f14a",
   "execution_count": 6
  },
  {
   "cell_type": "code",
   "outputs": [],
   "source": [
    "estudantes_dict[\"Marcelo\"] = 23"
   ],
   "metadata": {
    "collapsed": false,
    "ExecuteTime": {
     "end_time": "2024-06-06T14:27:10.207041Z",
     "start_time": "2024-06-06T14:27:10.201929Z"
    }
   },
   "id": "51577332f97e493a",
   "execution_count": 7
  },
  {
   "cell_type": "code",
   "outputs": [
    {
     "data": {
      "text/plain": "23"
     },
     "execution_count": 8,
     "metadata": {},
     "output_type": "execute_result"
    }
   ],
   "source": [
    "estudantes_dict[\"Marcelo\"]"
   ],
   "metadata": {
    "collapsed": false,
    "ExecuteTime": {
     "end_time": "2024-06-06T14:27:25.205265Z",
     "start_time": "2024-06-06T14:27:25.199633Z"
    }
   },
   "id": "b3af60bcf62e8c6e",
   "execution_count": 8
  },
  {
   "cell_type": "code",
   "outputs": [
    {
     "data": {
      "text/plain": "{'Pedro': 24, 'Ana': 22, 'Ronaldo': 26, 'Janaina': 25, 'Marcelo': 23}"
     },
     "execution_count": 9,
     "metadata": {},
     "output_type": "execute_result"
    }
   ],
   "source": [
    "estudantes_dict"
   ],
   "metadata": {
    "collapsed": false,
    "ExecuteTime": {
     "end_time": "2024-06-06T14:27:31.226204Z",
     "start_time": "2024-06-06T14:27:31.220650Z"
    }
   },
   "id": "5eab84f3d635dec6",
   "execution_count": 9
  },
  {
   "cell_type": "code",
   "outputs": [
    {
     "data": {
      "text/plain": "dict"
     },
     "execution_count": 10,
     "metadata": {},
     "output_type": "execute_result"
    }
   ],
   "source": [
    "type(estudantes_dict)"
   ],
   "metadata": {
    "collapsed": false,
    "ExecuteTime": {
     "end_time": "2024-06-06T14:27:52.651258Z",
     "start_time": "2024-06-06T14:27:52.645255Z"
    }
   },
   "id": "4105f41aebed7988",
   "execution_count": 10
  },
  {
   "cell_type": "code",
   "outputs": [],
   "source": [
    "estudantes_dict.clear()"
   ],
   "metadata": {
    "collapsed": false,
    "ExecuteTime": {
     "end_time": "2024-06-06T14:28:10.766846Z",
     "start_time": "2024-06-06T14:28:10.762137Z"
    }
   },
   "id": "90624ecb0d03b118",
   "execution_count": 11
  },
  {
   "cell_type": "code",
   "outputs": [
    {
     "data": {
      "text/plain": "{}"
     },
     "execution_count": 12,
     "metadata": {},
     "output_type": "execute_result"
    }
   ],
   "source": [
    "estudantes_dict"
   ],
   "metadata": {
    "collapsed": false,
    "ExecuteTime": {
     "end_time": "2024-06-06T14:28:16.413387Z",
     "start_time": "2024-06-06T14:28:16.407290Z"
    }
   },
   "id": "a5c6c8a91d79e1ca",
   "execution_count": 12
  },
  {
   "cell_type": "code",
   "outputs": [],
   "source": [
    "#Deleta o dicionário\n",
    "del estudantes_dict"
   ],
   "metadata": {
    "collapsed": false,
    "ExecuteTime": {
     "end_time": "2024-06-06T14:28:26.210230Z",
     "start_time": "2024-06-06T14:28:26.205556Z"
    }
   },
   "id": "7baa7070f1dee30d",
   "execution_count": 13
  },
  {
   "cell_type": "code",
   "outputs": [
    {
     "ename": "NameError",
     "evalue": "name 'estudantes_dict' is not defined",
     "output_type": "error",
     "traceback": [
      "\u001B[1;31m---------------------------------------------------------------------------\u001B[0m",
      "\u001B[1;31mNameError\u001B[0m                                 Traceback (most recent call last)",
      "Cell \u001B[1;32mIn[14], line 1\u001B[0m\n\u001B[1;32m----> 1\u001B[0m estudantes_dict\n",
      "\u001B[1;31mNameError\u001B[0m: name 'estudantes_dict' is not defined"
     ]
    }
   ],
   "source": [
    "estudantes_dict"
   ],
   "metadata": {
    "collapsed": false,
    "ExecuteTime": {
     "end_time": "2024-06-06T14:28:32.257663Z",
     "start_time": "2024-06-06T14:28:31.696665Z"
    }
   },
   "id": "109507055ac43299",
   "execution_count": 14
  },
  {
   "cell_type": "code",
   "outputs": [],
   "source": [
    "estudantes = {\"Pedro\": 24, \"Ana\":22, \"Ronaldo\":26, \"Janaina\":25}"
   ],
   "metadata": {
    "collapsed": false,
    "ExecuteTime": {
     "end_time": "2024-06-06T14:29:53.696711Z",
     "start_time": "2024-06-06T14:29:53.692176Z"
    }
   },
   "id": "1e52c9cbe99f136b",
   "execution_count": 15
  },
  {
   "cell_type": "code",
   "outputs": [
    {
     "data": {
      "text/plain": "{'Pedro': 24, 'Ana': 22, 'Ronaldo': 26, 'Janaina': 25}"
     },
     "execution_count": 16,
     "metadata": {},
     "output_type": "execute_result"
    }
   ],
   "source": [
    "estudantes"
   ],
   "metadata": {
    "collapsed": false,
    "ExecuteTime": {
     "end_time": "2024-06-06T14:30:13.050077Z",
     "start_time": "2024-06-06T14:30:13.043621Z"
    }
   },
   "id": "2ba188e2c48df34a",
   "execution_count": 16
  },
  {
   "cell_type": "code",
   "outputs": [
    {
     "data": {
      "text/plain": "4"
     },
     "execution_count": 18,
     "metadata": {},
     "output_type": "execute_result"
    }
   ],
   "source": [
    "#Retorna o tamanho do dicionário\n",
    "len(estudantes)"
   ],
   "metadata": {
    "collapsed": false,
    "ExecuteTime": {
     "end_time": "2024-06-06T14:30:46.843022Z",
     "start_time": "2024-06-06T14:30:46.836941Z"
    }
   },
   "id": "302f625bd3e9a794",
   "execution_count": 18
  },
  {
   "cell_type": "code",
   "outputs": [
    {
     "data": {
      "text/plain": "dict_keys(['Pedro', 'Ana', 'Ronaldo', 'Janaina'])"
     },
     "execution_count": 19,
     "metadata": {},
     "output_type": "execute_result"
    }
   ],
   "source": [
    "#Retorna somente as chaves\n",
    "estudantes.keys()"
   ],
   "metadata": {
    "collapsed": false,
    "ExecuteTime": {
     "end_time": "2024-06-06T14:30:49.966522Z",
     "start_time": "2024-06-06T14:30:49.960051Z"
    }
   },
   "id": "1215ac21055d328e",
   "execution_count": 19
  },
  {
   "cell_type": "code",
   "outputs": [
    {
     "data": {
      "text/plain": "dict_values([24, 22, 26, 25])"
     },
     "execution_count": 20,
     "metadata": {},
     "output_type": "execute_result"
    }
   ],
   "source": [
    "#Retorna somente os valores\n",
    "estudantes.values()"
   ],
   "metadata": {
    "collapsed": false,
    "ExecuteTime": {
     "end_time": "2024-06-06T14:30:59.713392Z",
     "start_time": "2024-06-06T14:30:59.706192Z"
    }
   },
   "id": "c7a6963cbc1d462",
   "execution_count": 20
  },
  {
   "cell_type": "code",
   "outputs": [
    {
     "data": {
      "text/plain": "dict_items([('Pedro', 24), ('Ana', 22), ('Ronaldo', 26), ('Janaina', 25)])"
     },
     "execution_count": 22,
     "metadata": {},
     "output_type": "execute_result"
    }
   ],
   "source": [
    "#Retorna os elementos\n",
    "estudantes.items()"
   ],
   "metadata": {
    "collapsed": false,
    "ExecuteTime": {
     "end_time": "2024-06-06T14:32:00.144418Z",
     "start_time": "2024-06-06T14:32:00.137888Z"
    }
   },
   "id": "db4630a653f85189",
   "execution_count": 22
  },
  {
   "cell_type": "code",
   "outputs": [],
   "source": [
    "estudantes2 = {\"Camila\": 27, \"Adriana\":28, \"Roberta\":26}"
   ],
   "metadata": {
    "collapsed": false,
    "ExecuteTime": {
     "end_time": "2024-06-06T14:32:48.452397Z",
     "start_time": "2024-06-06T14:32:48.448287Z"
    }
   },
   "id": "e1252f3fef2df21e",
   "execution_count": 23
  },
  {
   "cell_type": "code",
   "outputs": [
    {
     "data": {
      "text/plain": "{'Camila': 27, 'Adriana': 28, 'Roberta': 26}"
     },
     "execution_count": 24,
     "metadata": {},
     "output_type": "execute_result"
    }
   ],
   "source": [
    "estudantes2"
   ],
   "metadata": {
    "collapsed": false,
    "ExecuteTime": {
     "end_time": "2024-06-06T14:32:52.256530Z",
     "start_time": "2024-06-06T14:32:52.249756Z"
    }
   },
   "id": "4b5f71bb43bffb49",
   "execution_count": 24
  },
  {
   "cell_type": "code",
   "outputs": [],
   "source": [
    "estudantes.update(estudantes2)"
   ],
   "metadata": {
    "collapsed": false,
    "ExecuteTime": {
     "end_time": "2024-06-06T14:33:16.384507Z",
     "start_time": "2024-06-06T14:33:16.380106Z"
    }
   },
   "id": "da81075be5944921",
   "execution_count": 25
  },
  {
   "cell_type": "code",
   "outputs": [
    {
     "data": {
      "text/plain": "{'Pedro': 24,\n 'Ana': 22,\n 'Ronaldo': 26,\n 'Janaina': 25,\n 'Camila': 27,\n 'Adriana': 28,\n 'Roberta': 26}"
     },
     "execution_count": 26,
     "metadata": {},
     "output_type": "execute_result"
    }
   ],
   "source": [
    "estudantes"
   ],
   "metadata": {
    "collapsed": false,
    "ExecuteTime": {
     "end_time": "2024-06-06T14:33:29.877924Z",
     "start_time": "2024-06-06T14:33:29.871754Z"
    }
   },
   "id": "6bb5442de91bf56b",
   "execution_count": 26
  },
  {
   "cell_type": "code",
   "outputs": [],
   "source": [
    "dic1 = {}"
   ],
   "metadata": {
    "collapsed": false,
    "ExecuteTime": {
     "end_time": "2024-06-06T14:33:49.082566Z",
     "start_time": "2024-06-06T14:33:49.077622Z"
    }
   },
   "id": "53d379d7e65df2a7",
   "execution_count": 27
  },
  {
   "cell_type": "code",
   "outputs": [],
   "source": [
    "dic1[\"chave_um\"] = 2"
   ],
   "metadata": {
    "collapsed": false,
    "ExecuteTime": {
     "end_time": "2024-06-06T14:34:10.792662Z",
     "start_time": "2024-06-06T14:34:10.788274Z"
    }
   },
   "id": "c30224b23f460d05",
   "execution_count": 28
  },
  {
   "cell_type": "code",
   "outputs": [
    {
     "data": {
      "text/plain": "{'chave_um': 2}"
     },
     "execution_count": 29,
     "metadata": {},
     "output_type": "execute_result"
    }
   ],
   "source": [
    "dic1"
   ],
   "metadata": {
    "collapsed": false,
    "ExecuteTime": {
     "end_time": "2024-06-06T14:34:14.935015Z",
     "start_time": "2024-06-06T14:34:14.928765Z"
    }
   },
   "id": "cc58f481a3e1c6da",
   "execution_count": 29
  },
  {
   "cell_type": "code",
   "outputs": [],
   "source": [
    "dic1[10] = 5"
   ],
   "metadata": {
    "collapsed": false,
    "ExecuteTime": {
     "end_time": "2024-06-06T14:34:35.112814Z",
     "start_time": "2024-06-06T14:34:35.108274Z"
    }
   },
   "id": "506ef458a6434207",
   "execution_count": 30
  },
  {
   "cell_type": "code",
   "outputs": [
    {
     "data": {
      "text/plain": "{'chave_um': 2, 10: 5}"
     },
     "execution_count": 31,
     "metadata": {},
     "output_type": "execute_result"
    }
   ],
   "source": [
    "dic1"
   ],
   "metadata": {
    "collapsed": false,
    "ExecuteTime": {
     "end_time": "2024-06-06T14:34:37.820133Z",
     "start_time": "2024-06-06T14:34:37.814076Z"
    }
   },
   "id": "3205ac199958e7f",
   "execution_count": 31
  },
  {
   "cell_type": "code",
   "outputs": [],
   "source": [
    "dic1[9.13] = \"Python\""
   ],
   "metadata": {
    "collapsed": false,
    "ExecuteTime": {
     "end_time": "2024-06-06T14:35:00.631522Z",
     "start_time": "2024-06-06T14:35:00.626224Z"
    }
   },
   "id": "4298b95c1f153aff",
   "execution_count": 32
  },
  {
   "cell_type": "code",
   "outputs": [
    {
     "data": {
      "text/plain": "{'chave_um': 2, 10: 5, 9.13: 'Python'}"
     },
     "execution_count": 33,
     "metadata": {},
     "output_type": "execute_result"
    }
   ],
   "source": [
    "dic1"
   ],
   "metadata": {
    "collapsed": false,
    "ExecuteTime": {
     "end_time": "2024-06-06T14:35:02.812793Z",
     "start_time": "2024-06-06T14:35:02.806626Z"
    }
   },
   "id": "fefbb4befcda26e",
   "execution_count": 33
  },
  {
   "cell_type": "code",
   "outputs": [],
   "source": [
    "dic1[\"teste\"] = 5"
   ],
   "metadata": {
    "collapsed": false,
    "ExecuteTime": {
     "end_time": "2024-06-06T14:35:31.718302Z",
     "start_time": "2024-06-06T14:35:31.713524Z"
    }
   },
   "id": "5cf476e938c905f8",
   "execution_count": 35
  },
  {
   "cell_type": "code",
   "outputs": [
    {
     "data": {
      "text/plain": "{'chave_um': 2, 10: 5, 9.13: 'Python', 'teste': 5}"
     },
     "execution_count": 36,
     "metadata": {},
     "output_type": "execute_result"
    }
   ],
   "source": [
    "dic1"
   ],
   "metadata": {
    "collapsed": false,
    "ExecuteTime": {
     "end_time": "2024-06-06T14:35:34.246691Z",
     "start_time": "2024-06-06T14:35:34.239562Z"
    }
   },
   "id": "dcd60afbce2e2763",
   "execution_count": 36
  },
  {
   "cell_type": "code",
   "outputs": [],
   "source": [
    "dic1 = {}"
   ],
   "metadata": {
    "collapsed": false,
    "ExecuteTime": {
     "end_time": "2024-06-06T14:35:43.002504Z",
     "start_time": "2024-06-06T14:35:42.997752Z"
    }
   },
   "id": "b41e6929bede3402",
   "execution_count": 37
  },
  {
   "cell_type": "code",
   "outputs": [
    {
     "data": {
      "text/plain": "{}"
     },
     "execution_count": 38,
     "metadata": {},
     "output_type": "execute_result"
    }
   ],
   "source": [
    "dic1"
   ],
   "metadata": {
    "collapsed": false,
    "ExecuteTime": {
     "end_time": "2024-06-06T14:36:29.238132Z",
     "start_time": "2024-06-06T14:36:29.231993Z"
    }
   },
   "id": "532d29583f290270",
   "execution_count": 38
  },
  {
   "cell_type": "code",
   "outputs": [],
   "source": [
    "dic1[\"teste\"] = 10"
   ],
   "metadata": {
    "collapsed": false,
    "ExecuteTime": {
     "end_time": "2024-06-06T14:36:42.491807Z",
     "start_time": "2024-06-06T14:36:42.486204Z"
    }
   },
   "id": "695f278c1db069a9",
   "execution_count": 39
  },
  {
   "cell_type": "code",
   "outputs": [],
   "source": [
    "dic1[\"key\"] = \"teste\""
   ],
   "metadata": {
    "collapsed": false,
    "ExecuteTime": {
     "end_time": "2024-06-06T14:36:59.601683Z",
     "start_time": "2024-06-06T14:36:59.597736Z"
    }
   },
   "id": "2bb14600e349b9d9",
   "execution_count": 40
  },
  {
   "cell_type": "code",
   "outputs": [
    {
     "data": {
      "text/plain": "{'teste': 10, 'key': 'teste'}"
     },
     "execution_count": 42,
     "metadata": {},
     "output_type": "execute_result"
    }
   ],
   "source": [
    "#Chave e valor podem ser iguais, mas representarem coisas diferentes\n",
    "dic1"
   ],
   "metadata": {
    "collapsed": false,
    "ExecuteTime": {
     "end_time": "2024-06-06T14:37:39.247817Z",
     "start_time": "2024-06-06T14:37:39.241815Z"
    }
   },
   "id": "6d718a1ed38d9b3a",
   "execution_count": 42
  },
  {
   "cell_type": "code",
   "outputs": [],
   "source": [
    "dic2 = {}"
   ],
   "metadata": {
    "collapsed": false,
    "ExecuteTime": {
     "end_time": "2024-06-06T14:38:06.711271Z",
     "start_time": "2024-06-06T14:38:06.705363Z"
    }
   },
   "id": "d14c87df9e799edb",
   "execution_count": 43
  },
  {
   "cell_type": "code",
   "outputs": [],
   "source": [
    "dic2[\"key1\"] = \"DSA\""
   ],
   "metadata": {
    "collapsed": false,
    "ExecuteTime": {
     "end_time": "2024-06-06T14:38:39.697791Z",
     "start_time": "2024-06-06T14:38:39.693111Z"
    }
   },
   "id": "12af6b35ca08914",
   "execution_count": 44
  },
  {
   "cell_type": "code",
   "outputs": [],
   "source": [
    "dic2[\"key2\"] = 10"
   ],
   "metadata": {
    "collapsed": false,
    "ExecuteTime": {
     "end_time": "2024-06-06T14:38:47.194896Z",
     "start_time": "2024-06-06T14:38:47.190682Z"
    }
   },
   "id": "7660170904a95a82",
   "execution_count": 45
  },
  {
   "cell_type": "code",
   "outputs": [],
   "source": [
    "dic2[\"key3\"] = 100"
   ],
   "metadata": {
    "collapsed": false,
    "ExecuteTime": {
     "end_time": "2024-06-06T14:39:09.925236Z",
     "start_time": "2024-06-06T14:39:09.921077Z"
    }
   },
   "id": "e5377e693bb58ddc",
   "execution_count": 46
  },
  {
   "cell_type": "code",
   "outputs": [
    {
     "data": {
      "text/plain": "{'key1': 'DSA', 'key2': 10, 'key3': 100}"
     },
     "execution_count": 47,
     "metadata": {},
     "output_type": "execute_result"
    }
   ],
   "source": [
    "dic2"
   ],
   "metadata": {
    "collapsed": false,
    "ExecuteTime": {
     "end_time": "2024-06-06T14:39:13.512482Z",
     "start_time": "2024-06-06T14:39:13.505477Z"
    }
   },
   "id": "168e492cf73c02a7",
   "execution_count": 47
  },
  {
   "cell_type": "code",
   "outputs": [],
   "source": [
    "a = dic2[\"key1\"]"
   ],
   "metadata": {
    "collapsed": false,
    "ExecuteTime": {
     "end_time": "2024-06-06T14:39:36.095831Z",
     "start_time": "2024-06-06T14:39:36.091328Z"
    }
   },
   "id": "cd21762946498fc6",
   "execution_count": 48
  },
  {
   "cell_type": "code",
   "outputs": [],
   "source": [
    "b = dic2[\"key2\"]"
   ],
   "metadata": {
    "collapsed": false,
    "ExecuteTime": {
     "end_time": "2024-06-06T14:39:46.498009Z",
     "start_time": "2024-06-06T14:39:46.493816Z"
    }
   },
   "id": "47ad1b2f32bdf50e",
   "execution_count": 49
  },
  {
   "cell_type": "code",
   "outputs": [],
   "source": [
    "c = dic2[\"key3\"]"
   ],
   "metadata": {
    "collapsed": false,
    "ExecuteTime": {
     "end_time": "2024-06-06T14:39:56.350640Z",
     "start_time": "2024-06-06T14:39:56.346219Z"
    }
   },
   "id": "534f1831c57d73e3",
   "execution_count": 50
  },
  {
   "cell_type": "code",
   "outputs": [
    {
     "data": {
      "text/plain": "('DSA', 10, 100)"
     },
     "execution_count": 51,
     "metadata": {},
     "output_type": "execute_result"
    }
   ],
   "source": [
    "a, b, c"
   ],
   "metadata": {
    "collapsed": false,
    "ExecuteTime": {
     "end_time": "2024-06-06T14:40:22.960582Z",
     "start_time": "2024-06-06T14:40:22.954208Z"
    }
   },
   "id": "c9af542523b44bb2",
   "execution_count": 51
  },
  {
   "cell_type": "code",
   "outputs": [],
   "source": [
    "#Diocionário de listas\n",
    "dic3 = {'chave1': 1230, 'chave2': [22,453,73.4], 'chave3':['picanha', 'fraldinha', 'alcatra']}"
   ],
   "metadata": {
    "collapsed": false,
    "ExecuteTime": {
     "end_time": "2024-06-06T14:47:06.516302Z",
     "start_time": "2024-06-06T14:47:06.512244Z"
    }
   },
   "id": "d430e6a1482913b8",
   "execution_count": 61
  },
  {
   "cell_type": "code",
   "outputs": [
    {
     "data": {
      "text/plain": "{'chave1': 1230,\n 'chave2': [22, 453, 73.4],\n 'chave3': ['picanha', 'fraldinha', 'alcatra']}"
     },
     "execution_count": 53,
     "metadata": {},
     "output_type": "execute_result"
    }
   ],
   "source": [
    "dic3"
   ],
   "metadata": {
    "collapsed": false,
    "ExecuteTime": {
     "end_time": "2024-06-06T14:42:20.066656Z",
     "start_time": "2024-06-06T14:42:20.060444Z"
    }
   },
   "id": "4fde9381df43b0a8",
   "execution_count": 53
  },
  {
   "cell_type": "code",
   "outputs": [
    {
     "data": {
      "text/plain": "[22, 453, 73.4]"
     },
     "execution_count": 54,
     "metadata": {},
     "output_type": "execute_result"
    }
   ],
   "source": [
    "dic3['chave2']"
   ],
   "metadata": {
    "collapsed": false,
    "ExecuteTime": {
     "end_time": "2024-06-06T14:42:34.921061Z",
     "start_time": "2024-06-06T14:42:34.913970Z"
    }
   },
   "id": "918c7fdaa2bd6d1d",
   "execution_count": 54
  },
  {
   "cell_type": "code",
   "outputs": [
    {
     "data": {
      "text/plain": "'PICANHA'"
     },
     "execution_count": 55,
     "metadata": {},
     "output_type": "execute_result"
    }
   ],
   "source": [
    "#Acessando um item da lista, dentro do dicionário\n",
    "dic3['chave3'][0].upper()"
   ],
   "metadata": {
    "collapsed": false,
    "ExecuteTime": {
     "end_time": "2024-06-06T14:43:05.729739Z",
     "start_time": "2024-06-06T14:43:05.721703Z"
    }
   },
   "id": "1eada71c97509b3b",
   "execution_count": 55
  },
  {
   "cell_type": "code",
   "outputs": [],
   "source": [
    "#Operações com itens da lista, dentro do dicionário\n",
    "var1 = dic3['chave2'][0] - 2"
   ],
   "metadata": {
    "collapsed": false,
    "ExecuteTime": {
     "end_time": "2024-06-06T14:44:34.941026Z",
     "start_time": "2024-06-06T14:44:34.936967Z"
    }
   },
   "id": "73083833518317dc",
   "execution_count": 56
  },
  {
   "cell_type": "code",
   "outputs": [
    {
     "data": {
      "text/plain": "20"
     },
     "execution_count": 57,
     "metadata": {},
     "output_type": "execute_result"
    }
   ],
   "source": [
    "var1"
   ],
   "metadata": {
    "collapsed": false,
    "ExecuteTime": {
     "end_time": "2024-06-06T14:44:37.416538Z",
     "start_time": "2024-06-06T14:44:37.410376Z"
    }
   },
   "id": "c0677fd46ce379f0",
   "execution_count": 57
  },
  {
   "cell_type": "code",
   "outputs": [],
   "source": [
    "#Duas operações no mesmo comando, para atualizar um item dentro da lista\n",
    "dic3['chave2'][0] -= 2"
   ],
   "metadata": {
    "collapsed": false,
    "ExecuteTime": {
     "end_time": "2024-06-06T14:47:08.885236Z",
     "start_time": "2024-06-06T14:47:08.881029Z"
    }
   },
   "id": "c605db6f560824a7",
   "execution_count": 62
  },
  {
   "cell_type": "code",
   "outputs": [
    {
     "data": {
      "text/plain": "{'chave1': 1230,\n 'chave2': [20, 453, 73.4],\n 'chave3': ['picanha', 'fraldinha', 'alcatra']}"
     },
     "execution_count": 63,
     "metadata": {},
     "output_type": "execute_result"
    }
   ],
   "source": [
    "dic3"
   ],
   "metadata": {
    "collapsed": false,
    "ExecuteTime": {
     "end_time": "2024-06-06T14:47:10.437332Z",
     "start_time": "2024-06-06T14:47:10.430628Z"
    }
   },
   "id": "6825059a289314b0",
   "execution_count": 63
  },
  {
   "cell_type": "markdown",
   "source": [
    "CRIANDO DICIONÁRIOS ANINHADOS"
   ],
   "metadata": {
    "collapsed": false
   },
   "id": "3e4f251bbd1f4cc1"
  },
  {
   "cell_type": "code",
   "outputs": [],
   "source": [
    "#Criando dicionários aninhados\n",
    "dic_aninhado = {'key1': {'key2_aninhada': {'key3_aninhada':'Dicionário aninhado em Python'}}}"
   ],
   "metadata": {
    "collapsed": false,
    "ExecuteTime": {
     "end_time": "2024-06-06T14:48:53.711780Z",
     "start_time": "2024-06-06T14:48:53.707262Z"
    }
   },
   "id": "a2846d324fcc3b",
   "execution_count": 64
  },
  {
   "cell_type": "code",
   "outputs": [
    {
     "data": {
      "text/plain": "{'key1': {'key2_aninhada': {'key3_aninhada': 'Dicionário aninhado em Python'}}}"
     },
     "execution_count": 65,
     "metadata": {},
     "output_type": "execute_result"
    }
   ],
   "source": [
    "dic_aninhado"
   ],
   "metadata": {
    "collapsed": false,
    "ExecuteTime": {
     "end_time": "2024-06-06T14:48:57.238945Z",
     "start_time": "2024-06-06T14:48:57.232905Z"
    }
   },
   "id": "47c6338ead655966",
   "execution_count": 65
  },
  {
   "cell_type": "code",
   "outputs": [
    {
     "data": {
      "text/plain": "'Dicionário aninhado em Python'"
     },
     "execution_count": 66,
     "metadata": {},
     "output_type": "execute_result"
    }
   ],
   "source": [
    "dic_aninhado['key1']['key2_aninhada']['key3_aninhada']"
   ],
   "metadata": {
    "collapsed": false,
    "ExecuteTime": {
     "end_time": "2024-06-06T14:49:26.948945Z",
     "start_time": "2024-06-06T14:49:26.943358Z"
    }
   },
   "id": "1d9cc58d9ed5eedb",
   "execution_count": 66
  },
  {
   "cell_type": "code",
   "outputs": [],
   "source": [],
   "metadata": {
    "collapsed": false
   },
   "id": "1764606c374ce513"
  }
 ],
 "metadata": {
  "kernelspec": {
   "display_name": "Python 3",
   "language": "python",
   "name": "python3"
  },
  "language_info": {
   "codemirror_mode": {
    "name": "ipython",
    "version": 2
   },
   "file_extension": ".py",
   "mimetype": "text/x-python",
   "name": "python",
   "nbconvert_exporter": "python",
   "pygments_lexer": "ipython2",
   "version": "2.7.6"
  }
 },
 "nbformat": 4,
 "nbformat_minor": 5
}
