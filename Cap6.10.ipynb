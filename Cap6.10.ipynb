{
 "cells": [
  {
   "cell_type": "markdown",
   "source": [
    "EXPRESSÕES REGULARES\n",
    "- São padrões usados para combinar ou encontrar ocorrências de sequências de caracteres em uma string\n",
    "- São geralmente usadas para manipular strings e realizar tarefas como validação de entrada de dados, extração de informações de strings e substituição de texto"
   ],
   "metadata": {
    "collapsed": false
   },
   "id": "63f0b4bf0964f149"
  },
  {
   "cell_type": "code",
   "outputs": [],
   "source": [
    "import re"
   ],
   "metadata": {
    "collapsed": false,
    "ExecuteTime": {
     "end_time": "2024-07-29T12:30:00.646500Z",
     "start_time": "2024-07-29T12:30:00.629890Z"
    }
   },
   "id": "4a03e195476a8d27",
   "execution_count": 1
  },
  {
   "cell_type": "code",
   "outputs": [],
   "source": [
    "texto = \"Meu e-mail é exemplo@gmail.com e você pode me contatar em outro_email@yahoo.com\""
   ],
   "metadata": {
    "collapsed": false,
    "ExecuteTime": {
     "end_time": "2024-07-29T12:30:58.100555Z",
     "start_time": "2024-07-29T12:30:58.092459Z"
    }
   },
   "id": "7fb7dffa1de75b16",
   "execution_count": 2
  },
  {
   "cell_type": "code",
   "outputs": [],
   "source": [
    "#Expressão regular para contar quantas vezes o caracter arroba aparece no texto\n",
    "resultado = len(re.findall(\"@\", texto))"
   ],
   "metadata": {
    "collapsed": false,
    "ExecuteTime": {
     "end_time": "2024-07-29T12:31:59.159352Z",
     "start_time": "2024-07-29T12:31:59.150202Z"
    }
   },
   "id": "f004f47861c38172",
   "execution_count": 3
  },
  {
   "cell_type": "code",
   "outputs": [
    {
     "name": "stdout",
     "output_type": "stream",
     "text": [
      "O caracter '@' foi encontrado 2 vezes no texto\n"
     ]
    }
   ],
   "source": [
    "print(\"O caracter '@' foi encontrado\", resultado, \"vezes no texto\")"
   ],
   "metadata": {
    "collapsed": false,
    "ExecuteTime": {
     "end_time": "2024-07-29T12:32:48.262275Z",
     "start_time": "2024-07-29T12:32:48.253251Z"
    }
   },
   "id": "1011a3908bfd7371",
   "execution_count": 4
  },
  {
   "cell_type": "code",
   "outputs": [],
   "source": [
    "#Expressão regular para extrair a palavra que aparece após a palavra \"você\" em um texto\n",
    "resultado = re.findall(r'você (\\w+)', texto)"
   ],
   "metadata": {
    "collapsed": false,
    "ExecuteTime": {
     "end_time": "2024-07-29T12:34:37.872077Z",
     "start_time": "2024-07-29T12:34:37.862929Z"
    }
   },
   "id": "77aeaf543c69866a",
   "execution_count": 5
  },
  {
   "cell_type": "code",
   "outputs": [
    {
     "name": "stdout",
     "output_type": "stream",
     "text": [
      "A palavra após 'você' é: pode\n"
     ]
    }
   ],
   "source": [
    "print(\"A palavra após 'você' é:\", resultado[0])"
   ],
   "metadata": {
    "collapsed": false,
    "ExecuteTime": {
     "end_time": "2024-07-29T12:35:12.871951Z",
     "start_time": "2024-07-29T12:35:12.863319Z"
    }
   },
   "id": "49d1a8c6ae35d55",
   "execution_count": 6
  },
  {
   "cell_type": "markdown",
   "source": [
    "- O 'r' antes da string que representa a expressão regular em python é usado para indicar que a string é uma string literal raw\n",
    "- Significa que as barras invertidas '\\' não são interpretadas como caracteres de escape, mas são incluídas na expressão regular como parte do padrão "
   ],
   "metadata": {
    "collapsed": false
   },
   "id": "317f11dc1e5ef9fb"
  },
  {
   "cell_type": "code",
   "outputs": [],
   "source": [
    "#Expressão regular para extrair endereços de e-mail de uma string\n",
    "#Consultar documentação\n",
    "emails = re.findall(r'\\b[A-Za-z0-9._%+-]+@[A-Za-z0-9.-]+\\.[A-Z|a-z]{2,}\\b', texto)"
   ],
   "metadata": {
    "collapsed": false,
    "ExecuteTime": {
     "end_time": "2024-07-29T12:41:13.656500Z",
     "start_time": "2024-07-29T12:41:13.646871Z"
    }
   },
   "id": "e58c3f7681dc8266",
   "execution_count": 7
  },
  {
   "cell_type": "code",
   "outputs": [
    {
     "name": "stdout",
     "output_type": "stream",
     "text": [
      "['exemplo@gmail.com', 'outro_email@yahoo.com']\n"
     ]
    }
   ],
   "source": [
    "print(emails)"
   ],
   "metadata": {
    "collapsed": false,
    "ExecuteTime": {
     "end_time": "2024-07-29T12:41:21.507372Z",
     "start_time": "2024-07-29T12:41:21.499669Z"
    }
   },
   "id": "fd8e82b9479a1f57",
   "execution_count": 8
  },
  {
   "cell_type": "code",
   "outputs": [],
   "source": [
    "text = \"O aluno estava incrivelmente perdido, mas encontrou a DSA e rapidamente começou a aprender\" "
   ],
   "metadata": {
    "collapsed": false,
    "ExecuteTime": {
     "end_time": "2024-07-29T13:05:25.622196Z",
     "start_time": "2024-07-29T13:05:25.614407Z"
    }
   },
   "id": "6b7602be2cde10ee",
   "execution_count": 9
  },
  {
   "cell_type": "code",
   "outputs": [
    {
     "name": "stdout",
     "output_type": "stream",
     "text": [
      "15-28: incrivelmente\n",
      "60-71: rapidamente\n"
     ]
    }
   ],
   "source": [
    "#Extraindo os advérbios da frase\n",
    "for m in re.finditer(r\"\\w+mente\\b\", text):\n",
    "    print('%02d-%02d: %s' % (m.start(), m.end(), m.group(0)))"
   ],
   "metadata": {
    "collapsed": false,
    "ExecuteTime": {
     "end_time": "2024-07-29T13:07:07.926357Z",
     "start_time": "2024-07-29T13:07:07.917155Z"
    }
   },
   "id": "bbf2f019dce82e6b",
   "execution_count": 11
  },
  {
   "cell_type": "markdown",
   "source": [
    "REGEX"
   ],
   "metadata": {
    "collapsed": false
   },
   "id": "32fbda5bf43ee94d"
  },
  {
   "cell_type": "code",
   "outputs": [],
   "source": [
    "musica = '''\n",
    "Todos os dias quando acordo\n",
    "Não tenho mais\n",
    "O tempo que passou\n",
    "Mas tenho muito tempo\n",
    "Temos todo o tempo do mundo\n",
    "Todos os dias\n",
    "Antes de dormir\n",
    "Lembro e esqueço\n",
    "Como foi o dia\n",
    "Sempre em frente\n",
    "Não temos tempo a perder\n",
    "Nosso suor sagrado\n",
    "É bem mais belo\n",
    "Que esse sangue amargo\n",
    "E tão sério\n",
    "E selvagem! Selvagem!\n",
    "Selvagem!\n",
    "Veja o sol\n",
    "Dessa manhã tão cinza\n",
    "A tempestade que chega\n",
    "É da cor dos teus olhos\n",
    "Castanhos\n",
    "Então me abraça forte\n",
    "E diz mais uma vez\n",
    "Que já estamos\n",
    "Distantes de tudo\n",
    "Temos nosso próprio tempo\n",
    "Temos nosso próprio tempo\n",
    "Temos nosso próprio tempo\n",
    "Não tenho medo do escuro\n",
    "Mas deixe as luzes\n",
    "Acesas agora\n",
    "O que foi escondido\n",
    "É o que se escondeu\n",
    "E o que foi prometido\n",
    "Ninguém prometeu\n",
    "Nem foi tempo perdido\n",
    "Somos tão jovens\n",
    "Tão jovens! Tão jovens!\n",
    "'''"
   ],
   "metadata": {
    "collapsed": false,
    "ExecuteTime": {
     "end_time": "2024-07-29T13:12:26.984826Z",
     "start_time": "2024-07-29T13:12:26.976850Z"
    }
   },
   "id": "3397393f323cdc5b",
   "execution_count": 12
  },
  {
   "cell_type": "code",
   "outputs": [
    {
     "name": "stdout",
     "output_type": "stream",
     "text": [
      "\n",
      "Todos os dias quando acordo\n",
      "Não tenho mais\n",
      "O tempo que passou\n",
      "Mas tenho muito tempo\n",
      "Temos todo o tempo do mundo\n",
      "Todos os dias\n",
      "Antes de dormir\n",
      "Lembro e esqueço\n",
      "Como foi o dia\n",
      "Sempre em frente\n",
      "Não temos tempo a perder\n",
      "Nosso suor sagrado\n",
      "É bem mais belo\n",
      "Que esse sangue amargo\n",
      "E tão sério\n",
      "E selvagem! Selvagem!\n",
      "Selvagem!\n",
      "Veja o sol\n",
      "Dessa manhã tão cinza\n",
      "A tempestade que chega\n",
      "É da cor dos teus olhos\n",
      "Castanhos\n",
      "Então me abraça forte\n",
      "E diz mais uma vez\n",
      "Que já estamos\n",
      "Distantes de tudo\n",
      "Temos nosso próprio tempo\n",
      "Temos nosso próprio tempo\n",
      "Temos nosso próprio tempo\n",
      "Não tenho medo do escuro\n",
      "Mas deixe as luzes\n",
      "Acesas agora\n",
      "O que foi escondido\n",
      "É o que se escondeu\n",
      "E o que foi prometido\n",
      "Ninguém prometeu\n",
      "Nem foi tempo perdido\n",
      "Somos tão jovens\n",
      "Tão jovens! Tão jovens!\n"
     ]
    }
   ],
   "source": [
    "print(musica)"
   ],
   "metadata": {
    "collapsed": false,
    "ExecuteTime": {
     "end_time": "2024-07-29T13:12:32.926456Z",
     "start_time": "2024-07-29T13:12:32.918639Z"
    }
   },
   "id": "779109d9692972dd",
   "execution_count": 13
  },
  {
   "cell_type": "code",
   "outputs": [
    {
     "name": "stdout",
     "output_type": "stream",
     "text": [
      "O caractere 'a' aparece 39 vezes\n",
      "O caractere 'a' aparece 39 vezes!!\n"
     ]
    }
   ],
   "source": [
    "#REGEX para contar quantas vezes o caracter 'a' aparece no texto da música\n",
    "match = re.findall(\"a\", musica)\n",
    "count = len(match)\n",
    "print(\"O caractere 'a' aparece\", count, \"vezes\")\n",
    "\n",
    "#Outra forma de fazer\n",
    "resultado1 = len(re.findall(\"a\", musica))\n",
    "print(\"O caractere 'a' aparece\", resultado1, \"vezes!!\")"
   ],
   "metadata": {
    "collapsed": false,
    "ExecuteTime": {
     "end_time": "2024-07-29T13:34:29.913267Z",
     "start_time": "2024-07-29T13:34:29.904039Z"
    }
   },
   "id": "d19e76f742c42685",
   "execution_count": 21
  },
  {
   "cell_type": "code",
   "outputs": [
    {
     "name": "stdout",
     "output_type": "stream",
     "text": [
      "A palavra 'tempo' aparece 8 vezes\n",
      "A palavra 'tempo' aparece 8 vezes!!\n"
     ]
    }
   ],
   "source": [
    "#REGEX para contar quantas vezes a palavra tempo aparece na música\n",
    "match = re.findall(r\"\\btempo\\b\", musica)\n",
    "count = len(match)\n",
    "print(\"A palavra 'tempo' aparece\", count, \"vezes\")\n",
    "\n",
    "#Outra forma de fazer\n",
    "resultado2 = len(re.findall(\"tempo\", musica))\n",
    "print(\"A palavra 'tempo' aparece\", resultado2, \"vezes!!\")"
   ],
   "metadata": {
    "collapsed": false,
    "ExecuteTime": {
     "end_time": "2024-07-29T13:39:29.715425Z",
     "start_time": "2024-07-29T13:39:29.702571Z"
    }
   },
   "id": "3a7d8e46ce6b77c3",
   "execution_count": 23
  },
  {
   "cell_type": "code",
   "outputs": [
    {
     "name": "stdout",
     "output_type": "stream",
     "text": [
      "As palavras seguidas por exclamação são: ['selvagem!', 'Selvagem!', 'Selvagem!', 'jovens!', 'jovens!']\n"
     ]
    }
   ],
   "source": [
    "#REGEX para extrair as palavras seguidas por exclamação\n",
    "match = re.findall(r\"\\b\\w+!\", musica)\n",
    "print(\"As palavras seguidas por exclamação são:\", match)"
   ],
   "metadata": {
    "collapsed": false,
    "ExecuteTime": {
     "end_time": "2024-07-29T13:48:44.924662Z",
     "start_time": "2024-07-29T13:48:44.914064Z"
    }
   },
   "id": "25a5933f0c8aaa7",
   "execution_count": 25
  },
  {
   "cell_type": "code",
   "outputs": [
    {
     "name": "stdout",
     "output_type": "stream",
     "text": [
      "Palavras entre 'esse' e 'amargo': ['sangue']\n",
      "Palavras entre 'esse' e 'amargo': ['sangue'] !!\n"
     ]
    }
   ],
   "source": [
    "#REGEX que extrai qualquer palavra cujo antecessor seja a palavra 'esse' e o sucessor seja a palavra 'amargo'\n",
    "resultado3 = re.findall(r\"esse\\s(\\w+)\\samargo\", musica)\n",
    "print(\"Palavras entre 'esse' e 'amargo':\", resultado3)\n",
    "\n",
    "#Outra forma de fazer\n",
    "resultado4 = re.findall(r'\\besse\\s(\\w+)\\samargo\\b', musica)\n",
    "print(\"Palavras entre 'esse' e 'amargo':\", resultado4, \"!!\")"
   ],
   "metadata": {
    "collapsed": false,
    "ExecuteTime": {
     "end_time": "2024-07-29T14:10:47.271415Z",
     "start_time": "2024-07-29T14:10:47.259191Z"
    }
   },
   "id": "438e7fac3d95edc6",
   "execution_count": 28
  },
  {
   "cell_type": "code",
   "outputs": [
    {
     "name": "stdout",
     "output_type": "stream",
     "text": [
      "Palavras com acento: ['Nã', 'esqueç', 'Nã', 'tã', 'sé', 'manhã', 'tã', 'Entã', 'abraç', 'já', 'pró', 'pró', 'pró', 'Nã', 'Ningué', 'tã', 'Tã', 'Tã']\n"
     ]
    }
   ],
   "source": [
    "#REGEX que retorne as palavras com acento, mas somente os caracteres na palavra que são anteriores ao caracter com acento\n",
    "resultado5 = re.findall(r'\\b[\\wÀ-ÿ]+[áéíóúãõç]', musica)\n",
    "print(\"Palavras com acento:\", resultado5)"
   ],
   "metadata": {
    "collapsed": false,
    "ExecuteTime": {
     "end_time": "2024-07-29T14:35:06.730407Z",
     "start_time": "2024-07-29T14:35:06.723262Z"
    }
   },
   "id": "573fa34ec0786e1e",
   "execution_count": 30
  },
  {
   "cell_type": "code",
   "outputs": [],
   "source": [],
   "metadata": {
    "collapsed": false
   },
   "id": "b8246205ea7a41e5"
  }
 ],
 "metadata": {
  "kernelspec": {
   "display_name": "Python 3",
   "language": "python",
   "name": "python3"
  },
  "language_info": {
   "codemirror_mode": {
    "name": "ipython",
    "version": 2
   },
   "file_extension": ".py",
   "mimetype": "text/x-python",
   "name": "python",
   "nbconvert_exporter": "python",
   "pygments_lexer": "ipython2",
   "version": "2.7.6"
  }
 },
 "nbformat": 4,
 "nbformat_minor": 5
}
