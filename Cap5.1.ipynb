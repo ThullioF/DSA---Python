{
 "cells": [
  {
   "cell_type": "markdown",
   "source": [
    "CONDICIONAIS"
   ],
   "metadata": {
    "collapsed": false
   },
   "id": "fa41bc2b3b95db37"
  },
  {
   "cell_type": "code",
   "outputs": [
    {
     "name": "stdout",
     "output_type": "stream",
     "text": [
      "A setença é verdadeira\n"
     ]
    }
   ],
   "source": [
    "#Condicional if (se)\n",
    "if 5 > 2:\n",
    "    print(\"A setença é verdadeira\")"
   ],
   "metadata": {
    "collapsed": false,
    "ExecuteTime": {
     "end_time": "2024-07-01T12:49:46.138408Z",
     "start_time": "2024-07-01T12:49:46.133002Z"
    }
   },
   "id": "3dfa70c8c5b12c27",
   "execution_count": 5
  },
  {
   "cell_type": "code",
   "outputs": [
    {
     "name": "stdout",
     "output_type": "stream",
     "text": [
      "A setença é falsa\n"
     ]
    }
   ],
   "source": [
    "#Condicional if...else (se...se não)\n",
    "if 5 < 2:\n",
    "    print(\"A setença é verdadeira\")\n",
    "else:\n",
    "    print(\"A setença é falsa\")"
   ],
   "metadata": {
    "collapsed": false,
    "ExecuteTime": {
     "end_time": "2024-07-01T13:43:58.585782Z",
     "start_time": "2024-07-01T13:43:58.572108Z"
    }
   },
   "id": "f8accc667a44a874",
   "execution_count": 1
  },
  {
   "cell_type": "code",
   "outputs": [
    {
     "name": "stdout",
     "output_type": "stream",
     "text": [
      "Hoje vai chover\n"
     ]
    }
   ],
   "source": [
    "#Condicional if...else com variável\n",
    "dia = (\"Terça\")\n",
    "if dia == \"Segunda\":\n",
    "    print(\"Hoje fará sol\")\n",
    "else:\n",
    "    print(\"Hoje vai chover\")"
   ],
   "metadata": {
    "collapsed": false,
    "ExecuteTime": {
     "end_time": "2024-07-01T12:53:25.881250Z",
     "start_time": "2024-07-01T12:53:25.874448Z"
    }
   },
   "id": "57ebd39b677f4fd",
   "execution_count": 9
  },
  {
   "cell_type": "code",
   "outputs": [
    {
     "name": "stdout",
     "output_type": "stream",
     "text": [
      "Hoje vai chover\n"
     ]
    }
   ],
   "source": [
    "#Podemos usar o elif para validar mais de uma condição (se não/se)\n",
    "if dia == \"Segunda\":\n",
    "    print(\"Hoje fará sol\")\n",
    "elif dia == \"Terça\":\n",
    "    print(\"Hoje vai chover\")\n",
    "else:\n",
    "    print(\"Sem previsão do tempo para o dia selecionado\")"
   ],
   "metadata": {
    "collapsed": false,
    "ExecuteTime": {
     "end_time": "2024-07-01T12:55:49.216173Z",
     "start_time": "2024-07-01T12:55:49.211247Z"
    }
   },
   "id": "221be87c2ad47e4",
   "execution_count": 11
  },
  {
   "cell_type": "markdown",
   "source": [
    "RELACIONAIS\n",
    "Retorna um valor booleano"
   ],
   "metadata": {
    "collapsed": false
   },
   "id": "b37bd4e38e9738cd"
  },
  {
   "cell_type": "code",
   "outputs": [
    {
     "data": {
      "text/plain": "True"
     },
     "execution_count": 12,
     "metadata": {},
     "output_type": "execute_result"
    }
   ],
   "source": [
    "6 > 3"
   ],
   "metadata": {
    "collapsed": false,
    "ExecuteTime": {
     "end_time": "2024-07-01T13:04:18.275685Z",
     "start_time": "2024-07-01T13:04:18.265226Z"
    }
   },
   "id": "d7ae19bb586b8328",
   "execution_count": 12
  },
  {
   "cell_type": "code",
   "outputs": [
    {
     "data": {
      "text/plain": "False"
     },
     "execution_count": 14,
     "metadata": {},
     "output_type": "execute_result"
    }
   ],
   "source": [
    "9 < 7"
   ],
   "metadata": {
    "collapsed": false,
    "ExecuteTime": {
     "end_time": "2024-07-01T13:04:38.478667Z",
     "start_time": "2024-07-01T13:04:38.471901Z"
    }
   },
   "id": "2478510e14dea0c4",
   "execution_count": 14
  },
  {
   "cell_type": "code",
   "outputs": [
    {
     "data": {
      "text/plain": "True"
     },
     "execution_count": 15,
     "metadata": {},
     "output_type": "execute_result"
    }
   ],
   "source": [
    "4 >= 4"
   ],
   "metadata": {
    "collapsed": false,
    "ExecuteTime": {
     "end_time": "2024-07-01T13:05:47.842259Z",
     "start_time": "2024-07-01T13:05:47.836083Z"
    }
   },
   "id": "74b10e5edeb1082e",
   "execution_count": 15
  },
  {
   "cell_type": "code",
   "outputs": [
    {
     "name": "stdout",
     "output_type": "stream",
     "text": [
      "teste\n"
     ]
    }
   ],
   "source": [
    "if 5 == 5:\n",
    "    print(\"teste\")"
   ],
   "metadata": {
    "collapsed": false,
    "ExecuteTime": {
     "end_time": "2024-07-01T13:06:07.327812Z",
     "start_time": "2024-07-01T13:06:07.323487Z"
    }
   },
   "id": "7e5e38fde5cda9c6",
   "execution_count": 16
  },
  {
   "cell_type": "code",
   "outputs": [
    {
     "name": "stdout",
     "output_type": "stream",
     "text": [
      "teste\n"
     ]
    }
   ],
   "source": [
    "if True:\n",
    "    print(\"teste\")"
   ],
   "metadata": {
    "collapsed": false,
    "ExecuteTime": {
     "end_time": "2024-07-01T13:06:36.264647Z",
     "start_time": "2024-07-01T13:06:36.260013Z"
    }
   },
   "id": "9eeb3dee5bccc3ed",
   "execution_count": 17
  },
  {
   "cell_type": "code",
   "outputs": [
    {
     "name": "stdout",
     "output_type": "stream",
     "text": [
      "teste\n"
     ]
    }
   ],
   "source": [
    "if 4 > 3:\n",
    "    print(\"teste\")"
   ],
   "metadata": {
    "collapsed": false,
    "ExecuteTime": {
     "end_time": "2024-07-01T13:07:07.163605Z",
     "start_time": "2024-07-01T13:07:07.158863Z"
    }
   },
   "id": "4b9689de0d90434f",
   "execution_count": 18
  },
  {
   "cell_type": "markdown",
   "source": [
    "CONDICIONAIS ANINHADOS"
   ],
   "metadata": {
    "collapsed": false
   },
   "id": "28c3886653907b56"
  },
  {
   "cell_type": "code",
   "outputs": [
    {
     "name": "stdout",
     "output_type": "stream",
     "text": [
      "Pode dirigir\n"
     ]
    }
   ],
   "source": [
    "idade = 18\n",
    "if idade > 17:\n",
    "    print(\"Pode dirigir\")"
   ],
   "metadata": {
    "collapsed": false,
    "ExecuteTime": {
     "end_time": "2024-07-01T13:16:12.207045Z",
     "start_time": "2024-07-01T13:16:12.201592Z"
    }
   },
   "id": "d924956c7fd2bfed",
   "execution_count": 20
  },
  {
   "cell_type": "code",
   "outputs": [
    {
     "name": "stdout",
     "output_type": "stream",
     "text": [
      "Pode dirigir Bob\n"
     ]
    }
   ],
   "source": [
    "nome = \"Bob\"\n",
    "if idade > 17:\n",
    "    if nome == \"Bob\":\n",
    "        print(\"Pode dirigir Bob\")\n",
    "    else:\n",
    "        print(\"Não pode dirigir Bob\")"
   ],
   "metadata": {
    "collapsed": false,
    "ExecuteTime": {
     "end_time": "2024-07-01T13:17:29.474799Z",
     "start_time": "2024-07-01T13:17:29.470353Z"
    }
   },
   "id": "ff58f39a3190d6dd",
   "execution_count": 22
  },
  {
   "cell_type": "code",
   "outputs": [
    {
     "name": "stdout",
     "output_type": "stream",
     "text": [
      "Pode dirigir Bob\n"
     ]
    }
   ],
   "source": [
    "idade = 19\n",
    "nome = \"Bob\"\n",
    "if idade >= 17 and nome == \"Bob\":\n",
    "    print(\"Pode dirigir Bob\")"
   ],
   "metadata": {
    "collapsed": false,
    "ExecuteTime": {
     "end_time": "2024-07-01T13:18:47.784155Z",
     "start_time": "2024-07-01T13:18:47.778848Z"
    }
   },
   "id": "764908de3e2aa071",
   "execution_count": 24
  },
  {
   "cell_type": "code",
   "outputs": [
    {
     "name": "stdout",
     "output_type": "stream",
     "text": [
      "Ok Bob\n"
     ]
    }
   ],
   "source": [
    "idade = 12\n",
    "nome = \"Bob\"\n",
    "if (idade >= 13) or (nome == \"Bob\"):\n",
    "    print(\"Ok Bob\")"
   ],
   "metadata": {
    "collapsed": false,
    "ExecuteTime": {
     "end_time": "2024-07-01T13:26:58.453874Z",
     "start_time": "2024-07-01T13:26:58.447219Z"
    }
   },
   "id": "c41e1b83ee8b5a59",
   "execution_count": 25
  },
  {
   "cell_type": "markdown",
   "source": [
    "OPERADORES LÓGICOS\n",
    "- Operador AND - Retorna True se ambas as declarações forem verdadeiras\n",
    "- Operador OR - Retorna True se uma das declarações for verdadeira\n",
    "- Operador NOT - Inverte o resultado, retorna False se o resultado for True"
   ],
   "metadata": {
    "collapsed": false
   },
   "id": "45c74ffd0249f96c"
  },
  {
   "cell_type": "code",
   "outputs": [
    {
     "name": "stdout",
     "output_type": "stream",
     "text": [
      "verdadeiro\n"
     ]
    }
   ],
   "source": [
    "#Operador and\n",
    "numero = 4\n",
    "if (numero >= 4) and (numero % 2 == 0):\n",
    "    print(\"verdadeiro\")"
   ],
   "metadata": {
    "collapsed": false,
    "ExecuteTime": {
     "end_time": "2024-07-01T13:44:18.323140Z",
     "start_time": "2024-07-01T13:44:18.316809Z"
    }
   },
   "id": "2e3bcb49b6c2e4bb",
   "execution_count": 3
  },
  {
   "cell_type": "code",
   "outputs": [
    {
     "name": "stdout",
     "output_type": "stream",
     "text": [
      "verdadeiro\n"
     ]
    }
   ],
   "source": [
    "#Operador or\n",
    "numero = 4\n",
    "if (numero >= 4) or (numero < 2):\n",
    "    print(\"verdadeiro\")"
   ],
   "metadata": {
    "collapsed": false,
    "ExecuteTime": {
     "end_time": "2024-07-01T13:45:02.847978Z",
     "start_time": "2024-07-01T13:45:02.842446Z"
    }
   },
   "id": "3da2f3010fd09084",
   "execution_count": 4
  },
  {
   "cell_type": "code",
   "outputs": [
    {
     "name": "stdout",
     "output_type": "stream",
     "text": [
      "verdadeiro\n"
     ]
    }
   ],
   "source": [
    "#Operador not\n",
    "numero = 4\n",
    "if not(numero > 5) and (numero % 2 == 0):\n",
    "    print(\"verdadeiro\")"
   ],
   "metadata": {
    "collapsed": false,
    "ExecuteTime": {
     "end_time": "2024-07-01T13:46:33.261851Z",
     "start_time": "2024-07-01T13:46:33.255777Z"
    }
   },
   "id": "f9558701e649d2d7",
   "execution_count": 5
  },
  {
   "cell_type": "code",
   "outputs": [
    {
     "name": "stdout",
     "output_type": "stream",
     "text": [
      "verdadeiro\n"
     ]
    }
   ],
   "source": [
    "#Operador and, or e not\n",
    "numero = 4\n",
    "if (not(numero > 5) and (numero % 2 == 0)) or (numero == 4):\n",
    "    print(\"verdadeiro\")"
   ],
   "metadata": {
    "collapsed": false,
    "ExecuteTime": {
     "end_time": "2024-07-01T13:47:35.885040Z",
     "start_time": "2024-07-01T13:47:35.879495Z"
    }
   },
   "id": "17b978aa09d70020",
   "execution_count": 6
  },
  {
   "cell_type": "code",
   "outputs": [
    {
     "name": "stdout",
     "output_type": "stream",
     "text": [
      "Aprovado\n"
     ]
    }
   ],
   "source": [
    "disciplina = \"DSA\"\n",
    "nota_final = 70\n",
    "if disciplina == \"DSA\" and nota_final >=70:\n",
    "    print(\"Aprovado\")"
   ],
   "metadata": {
    "collapsed": false,
    "ExecuteTime": {
     "end_time": "2024-07-01T14:01:24.944071Z",
     "start_time": "2024-07-01T14:01:24.938995Z"
    }
   },
   "id": "38942369dd5d162",
   "execution_count": 10
  },
  {
   "cell_type": "code",
   "outputs": [
    {
     "name": "stdout",
     "output_type": "stream",
     "text": [
      "Reprovado\n"
     ]
    }
   ],
   "source": [
    "disciplina = \"DSA\"\n",
    "nota_final = 60\n",
    "if disciplina == \"DSA\" and nota_final >=70:\n",
    "    print(\"Aprovado\")\n",
    "else:\n",
    "    print(\"Reprovado\")"
   ],
   "metadata": {
    "collapsed": false,
    "ExecuteTime": {
     "end_time": "2024-07-01T14:01:25.675938Z",
     "start_time": "2024-07-01T14:01:25.669723Z"
    }
   },
   "id": "9f0aa37ae1b08dfb",
   "execution_count": 11
  },
  {
   "cell_type": "code",
   "outputs": [
    {
     "name": "stdout",
     "output_type": "stream",
     "text": [
      "Você foi aprovado em DSA com média final de 90\n"
     ]
    }
   ],
   "source": [
    "#Adicionando Placeholders (guardador de lugar)\n",
    "# %s (recebe string)\n",
    "# %r (recebe número)\n",
    "disciplina = \"DSA\"\n",
    "nota_final = 90\n",
    "semestre = 2\n",
    "if disciplina == \"DSA\" and nota_final >= 80 and semestre != 1:\n",
    "    print('Você foi aprovado em %s com média final de %r' % (disciplina, nota_final))"
   ],
   "metadata": {
    "collapsed": false,
    "ExecuteTime": {
     "end_time": "2024-07-01T14:06:08.932137Z",
     "start_time": "2024-07-01T14:06:08.926496Z"
    }
   },
   "id": "c903ebc8efe33d5a",
   "execution_count": 14
  },
  {
   "cell_type": "code",
   "outputs": [],
   "source": [],
   "metadata": {
    "collapsed": false
   },
   "id": "c8db3415c78e6a1c"
  }
 ],
 "metadata": {
  "kernelspec": {
   "display_name": "Python 3",
   "language": "python",
   "name": "python3"
  },
  "language_info": {
   "codemirror_mode": {
    "name": "ipython",
    "version": 2
   },
   "file_extension": ".py",
   "mimetype": "text/x-python",
   "name": "python",
   "nbconvert_exporter": "python",
   "pygments_lexer": "ipython2",
   "version": "2.7.6"
  }
 },
 "nbformat": 4,
 "nbformat_minor": 5
}
