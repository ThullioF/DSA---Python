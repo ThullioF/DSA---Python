{
 "cells": [
  {
   "cell_type": "markdown",
   "source": [
    "TRABALHANDO COM TUPLAS"
   ],
   "metadata": {
    "collapsed": false
   },
   "id": "9805992d9859ca69"
  },
  {
   "cell_type": "code",
   "outputs": [],
   "source": [
    "#Criando um tupla\n",
    "#A tupla é imutável\n",
    "tupla1 = (\"Geografia\", 23, \"Elefantes\", 9.8, 'Python')"
   ],
   "metadata": {
    "collapsed": false,
    "ExecuteTime": {
     "end_time": "2024-06-11T13:56:44.253474Z",
     "start_time": "2024-06-11T13:56:44.242482Z"
    }
   },
   "id": "777124be7e1de106",
   "execution_count": 1
  },
  {
   "cell_type": "code",
   "outputs": [
    {
     "data": {
      "text/plain": "('Geografia', 23, 'Elefantes', 9.8, 'Python')"
     },
     "execution_count": 2,
     "metadata": {},
     "output_type": "execute_result"
    }
   ],
   "source": [
    "tupla1"
   ],
   "metadata": {
    "collapsed": false,
    "ExecuteTime": {
     "end_time": "2024-06-11T13:56:47.737077Z",
     "start_time": "2024-06-11T13:56:47.728154Z"
    }
   },
   "id": "4982c92d11525437",
   "execution_count": 2
  },
  {
   "cell_type": "code",
   "outputs": [],
   "source": [
    "#Tupla podem ter um único item\n",
    "tupla2 = (\"Chocolate\")"
   ],
   "metadata": {
    "collapsed": false,
    "ExecuteTime": {
     "end_time": "2024-06-11T13:58:46.691935Z",
     "start_time": "2024-06-11T13:58:46.687121Z"
    }
   },
   "id": "a1b434d1a9d7c2ea",
   "execution_count": 3
  },
  {
   "cell_type": "code",
   "outputs": [
    {
     "data": {
      "text/plain": "'Geografia'"
     },
     "execution_count": 4,
     "metadata": {},
     "output_type": "execute_result"
    }
   ],
   "source": [
    "tupla1[0]"
   ],
   "metadata": {
    "collapsed": false,
    "ExecuteTime": {
     "end_time": "2024-06-11T13:59:01.571644Z",
     "start_time": "2024-06-11T13:59:01.565812Z"
    }
   },
   "id": "3e22f6a72dfab9df",
   "execution_count": 4
  },
  {
   "cell_type": "code",
   "outputs": [
    {
     "data": {
      "text/plain": "5"
     },
     "execution_count": 5,
     "metadata": {},
     "output_type": "execute_result"
    }
   ],
   "source": [
    "#Verificando o comprimento da tupla\n",
    "len(tupla1)"
   ],
   "metadata": {
    "collapsed": false,
    "ExecuteTime": {
     "end_time": "2024-06-11T13:59:23.787482Z",
     "start_time": "2024-06-11T13:59:23.780515Z"
    }
   },
   "id": "fc43c03b4606b1ae",
   "execution_count": 5
  },
  {
   "cell_type": "code",
   "outputs": [
    {
     "data": {
      "text/plain": "(23, 'Elefantes', 9.8, 'Python')"
     },
     "execution_count": 6,
     "metadata": {},
     "output_type": "execute_result"
    }
   ],
   "source": [
    "#Slicing\n",
    "tupla1[1:]"
   ],
   "metadata": {
    "collapsed": false,
    "ExecuteTime": {
     "end_time": "2024-06-11T14:00:01.354963Z",
     "start_time": "2024-06-11T14:00:01.348851Z"
    }
   },
   "id": "1346963f24cc3a49",
   "execution_count": 6
  },
  {
   "cell_type": "code",
   "outputs": [],
   "source": [
    "#Deletando a tupla\n",
    "del tupla1"
   ],
   "metadata": {
    "collapsed": false,
    "ExecuteTime": {
     "end_time": "2024-06-11T14:00:31.175562Z",
     "start_time": "2024-06-11T14:00:31.171327Z"
    }
   },
   "id": "aa12766c9074ed26",
   "execution_count": 7
  },
  {
   "cell_type": "code",
   "outputs": [],
   "source": [
    "#Criando outra tupla\n",
    "t2 = (1,2,3,4,5,6,7,8,9)"
   ],
   "metadata": {
    "collapsed": false,
    "ExecuteTime": {
     "end_time": "2024-06-11T14:01:08.711595Z",
     "start_time": "2024-06-11T14:01:08.706127Z"
    }
   },
   "id": "ff64f84b76293868",
   "execution_count": 9
  },
  {
   "cell_type": "code",
   "outputs": [],
   "source": [
    "#Usando a função list() para converter um tupla para lista\n",
    "lista_t2 = list(t2)"
   ],
   "metadata": {
    "collapsed": false,
    "ExecuteTime": {
     "end_time": "2024-06-11T14:02:17.271446Z",
     "start_time": "2024-06-11T14:02:17.266880Z"
    }
   },
   "id": "3cb058b44267e119",
   "execution_count": 10
  },
  {
   "cell_type": "code",
   "outputs": [
    {
     "data": {
      "text/plain": "[1, 2, 3, 4, 5, 6, 7, 8, 9]"
     },
     "execution_count": 11,
     "metadata": {},
     "output_type": "execute_result"
    }
   ],
   "source": [
    "lista_t2"
   ],
   "metadata": {
    "collapsed": false,
    "ExecuteTime": {
     "end_time": "2024-06-11T14:02:33.650330Z",
     "start_time": "2024-06-11T14:02:33.644160Z"
    }
   },
   "id": "8140d246625b64b4",
   "execution_count": 11
  },
  {
   "cell_type": "code",
   "outputs": [
    {
     "data": {
      "text/plain": "list"
     },
     "execution_count": 12,
     "metadata": {},
     "output_type": "execute_result"
    }
   ],
   "source": [
    "type(lista_t2)"
   ],
   "metadata": {
    "collapsed": false,
    "ExecuteTime": {
     "end_time": "2024-06-11T14:02:37.757254Z",
     "start_time": "2024-06-11T14:02:37.750951Z"
    }
   },
   "id": "1a6e7e8aa2057f8a",
   "execution_count": 12
  },
  {
   "cell_type": "code",
   "outputs": [
    {
     "data": {
      "text/plain": "tuple"
     },
     "execution_count": 13,
     "metadata": {},
     "output_type": "execute_result"
    }
   ],
   "source": [
    "type(t2)"
   ],
   "metadata": {
    "collapsed": false,
    "ExecuteTime": {
     "end_time": "2024-06-11T14:02:43.075456Z",
     "start_time": "2024-06-11T14:02:43.068611Z"
    }
   },
   "id": "5f314a0e741f5faa",
   "execution_count": 13
  },
  {
   "cell_type": "code",
   "outputs": [],
   "source": [
    "lista_t2.append(90)"
   ],
   "metadata": {
    "collapsed": false,
    "ExecuteTime": {
     "end_time": "2024-06-11T14:03:16.146461Z",
     "start_time": "2024-06-11T14:03:16.141832Z"
    }
   },
   "id": "398dce06bfa2c848",
   "execution_count": 14
  },
  {
   "cell_type": "code",
   "outputs": [],
   "source": [
    "#Usando a função tuple() para converter uma lista para tupla\n",
    "t2 = tuple(lista_t2)"
   ],
   "metadata": {
    "collapsed": false,
    "ExecuteTime": {
     "end_time": "2024-06-11T14:03:50.841223Z",
     "start_time": "2024-06-11T14:03:50.836665Z"
    }
   },
   "id": "251d1459607d10c3",
   "execution_count": 15
  },
  {
   "cell_type": "code",
   "outputs": [
    {
     "data": {
      "text/plain": "(1, 2, 3, 4, 5, 6, 7, 8, 9, 90)"
     },
     "execution_count": 16,
     "metadata": {},
     "output_type": "execute_result"
    }
   ],
   "source": [
    "t2"
   ],
   "metadata": {
    "collapsed": false,
    "ExecuteTime": {
     "end_time": "2024-06-11T14:03:55.251740Z",
     "start_time": "2024-06-11T14:03:55.245689Z"
    }
   },
   "id": "94d68b68f8e7eb1",
   "execution_count": 16
  },
  {
   "cell_type": "code",
   "outputs": [],
   "source": [],
   "metadata": {
    "collapsed": false
   },
   "id": "95f6c8f952db71fb"
  }
 ],
 "metadata": {
  "kernelspec": {
   "display_name": "Python 3",
   "language": "python",
   "name": "python3"
  },
  "language_info": {
   "codemirror_mode": {
    "name": "ipython",
    "version": 2
   },
   "file_extension": ".py",
   "mimetype": "text/x-python",
   "name": "python",
   "nbconvert_exporter": "python",
   "pygments_lexer": "ipython2",
   "version": "2.7.6"
  }
 },
 "nbformat": 4,
 "nbformat_minor": 5
}
