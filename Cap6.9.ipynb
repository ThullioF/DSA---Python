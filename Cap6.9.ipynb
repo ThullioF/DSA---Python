{
 "cells": [
  {
   "cell_type": "markdown",
   "source": [
    "ERROS E EXCEÇÕES\n",
    "- TRY, EXCEPT, FINALLY"
   ],
   "metadata": {
    "collapsed": false
   },
   "id": "13f534b7546e2040"
  },
  {
   "cell_type": "code",
   "outputs": [
    {
     "name": "stdout",
     "output_type": "stream",
     "text": [
      "Operção não permitida\n"
     ]
    }
   ],
   "source": [
    "#Utilizando try e except\n",
    "try:\n",
    "    8 + 's'\n",
    "except TypeError:\n",
    "    print(\"Operção não permitida\")"
   ],
   "metadata": {
    "collapsed": false,
    "ExecuteTime": {
     "end_time": "2024-07-29T12:01:25.396427Z",
     "start_time": "2024-07-29T12:01:25.384615Z"
    }
   },
   "id": "e357459f51d40428",
   "execution_count": 1
  },
  {
   "cell_type": "code",
   "outputs": [
    {
     "name": "stdout",
     "output_type": "stream",
     "text": [
      "Conteúdo gravado com sucesso\n"
     ]
    }
   ],
   "source": [
    "#Utilizando try, except e else\n",
    "try:\n",
    "    f = open('arquivos/testandoerros.txt', 'w')\n",
    "    f.write('Gravando no arquivo')\n",
    "except IOError:\n",
    "    print(\"Erro: arquivo não encontrado ou não pode ser salvo\")\n",
    "else:\n",
    "    print(\"Conteúdo gravado com sucesso\")\n",
    "    f.close()"
   ],
   "metadata": {
    "collapsed": false,
    "ExecuteTime": {
     "end_time": "2024-07-29T12:03:57.761981Z",
     "start_time": "2024-07-29T12:03:57.750764Z"
    }
   },
   "id": "f0a27d93cf86a4ac",
   "execution_count": 2
  },
  {
   "cell_type": "code",
   "outputs": [
    {
     "name": "stdout",
     "output_type": "stream",
     "text": [
      "Erro: arquivo não encontrado ou não pode ser salvo\n"
     ]
    }
   ],
   "source": [
    "#Utilizando try, except e else\n",
    "try:\n",
    "    f = open('arquivos/testandoerros', 'r')\n",
    "except IOError:\n",
    "    print(\"Erro: arquivo não encontrado ou não pode ser salvo\")\n",
    "else:\n",
    "    print(\"Conteúdo gravado com sucesso\")\n",
    "    f.close()"
   ],
   "metadata": {
    "collapsed": false,
    "ExecuteTime": {
     "end_time": "2024-07-29T12:05:13.531359Z",
     "start_time": "2024-07-29T12:05:13.521419Z"
    }
   },
   "id": "8540a204cac54a3a",
   "execution_count": 3
  },
  {
   "cell_type": "code",
   "outputs": [
    {
     "name": "stdout",
     "output_type": "stream",
     "text": [
      "Conteúdo gravado com sucesso\n",
      "Comandos no bloco finally sempre serão executados\n"
     ]
    }
   ],
   "source": [
    "#Utilizando try, except, else e finally\n",
    "try:\n",
    "    f = open('arquivos/testandoerros.txt', 'w')\n",
    "    f.write('Gravando no arquivo')\n",
    "except IOError:\n",
    "    print(\"Erro: arquivo não encontrado ou não pode ser salvo\")\n",
    "else:\n",
    "    print(\"Conteúdo gravado com sucesso\")\n",
    "    f.close()\n",
    "finally:\n",
    "    print(\"Comandos no bloco finally sempre serão executados\")"
   ],
   "metadata": {
    "collapsed": false,
    "ExecuteTime": {
     "end_time": "2024-07-29T12:06:35.141490Z",
     "start_time": "2024-07-29T12:06:35.128426Z"
    }
   },
   "id": "85efde221f352248",
   "execution_count": 4
  },
  {
   "cell_type": "code",
   "outputs": [],
   "source": [
    "def askint():\n",
    "    try:\n",
    "        val = int(input(\"Digite um número: \"))\n",
    "    except:\n",
    "        print(\"Você não digitou um valor\")\n",
    "    finally:\n",
    "        print(\"Obrigado\")"
   ],
   "metadata": {
    "collapsed": false,
    "ExecuteTime": {
     "end_time": "2024-07-29T12:08:51.129388Z",
     "start_time": "2024-07-29T12:08:51.120495Z"
    }
   },
   "id": "ef24796e87469cb7",
   "execution_count": 5
  },
  {
   "cell_type": "code",
   "outputs": [
    {
     "name": "stdout",
     "output_type": "stream",
     "text": [
      "Você não digitou um valor\n",
      "Obrigado\n"
     ]
    }
   ],
   "source": [
    "askint()"
   ],
   "metadata": {
    "collapsed": false,
    "ExecuteTime": {
     "end_time": "2024-07-29T12:09:40.828154Z",
     "start_time": "2024-07-29T12:09:39.989463Z"
    }
   },
   "id": "a69653d28da18173",
   "execution_count": 8
  },
  {
   "cell_type": "code",
   "outputs": [],
   "source": [
    "def askint():\n",
    "    try:\n",
    "        val = int(input(\"Digite um número: \"))\n",
    "    except:\n",
    "        print(\"Você não digitou um valor\")\n",
    "        val = int(input(\"Tente novamente. Digite um valor: \"))\n",
    "    finally:\n",
    "        print(\"Obrigado\")\n",
    "    print(val)"
   ],
   "metadata": {
    "collapsed": false,
    "ExecuteTime": {
     "end_time": "2024-07-29T12:10:57.800100Z",
     "start_time": "2024-07-29T12:10:57.790165Z"
    }
   },
   "id": "dc1609348b23e094",
   "execution_count": 9
  },
  {
   "cell_type": "code",
   "outputs": [
    {
     "name": "stdout",
     "output_type": "stream",
     "text": [
      "Você não digitou um valor\n",
      "Obrigado\n",
      "3\n"
     ]
    }
   ],
   "source": [
    "askint()"
   ],
   "metadata": {
    "collapsed": false,
    "ExecuteTime": {
     "end_time": "2024-07-29T12:11:42.965331Z",
     "start_time": "2024-07-29T12:11:39.831440Z"
    }
   },
   "id": "8c4d716c73365b5c",
   "execution_count": 13
  },
  {
   "cell_type": "code",
   "outputs": [],
   "source": [
    "def askint():\n",
    "    while True:\n",
    "        try:\n",
    "            val = int(input(\"Digite um número: \"))\n",
    "        except:\n",
    "            print(\"Você não digitou um valor\")\n",
    "            continue\n",
    "        else:\n",
    "            print(\"Obrigado\")\n",
    "            break\n",
    "        finally:\n",
    "            print(\"Fim\")\n",
    "        print(val)"
   ],
   "metadata": {
    "collapsed": false,
    "ExecuteTime": {
     "end_time": "2024-07-29T12:14:41.913436Z",
     "start_time": "2024-07-29T12:14:41.902239Z"
    }
   },
   "id": "836f613a55e40e73",
   "execution_count": 14
  },
  {
   "cell_type": "code",
   "outputs": [
    {
     "name": "stdout",
     "output_type": "stream",
     "text": [
      "Obrigado\n",
      "Fim\n"
     ]
    }
   ],
   "source": [
    "askint()"
   ],
   "metadata": {
    "collapsed": false,
    "ExecuteTime": {
     "end_time": "2024-07-29T12:15:08.068181Z",
     "start_time": "2024-07-29T12:15:06.856126Z"
    }
   },
   "id": "c0ed1b4aadcf8f84",
   "execution_count": 16
  },
  {
   "cell_type": "code",
   "outputs": [],
   "source": [],
   "metadata": {
    "collapsed": false
   },
   "id": "e5db7fe3f3bfb44"
  }
 ],
 "metadata": {
  "kernelspec": {
   "display_name": "Python 3",
   "language": "python",
   "name": "python3"
  },
  "language_info": {
   "codemirror_mode": {
    "name": "ipython",
    "version": 2
   },
   "file_extension": ".py",
   "mimetype": "text/x-python",
   "name": "python",
   "nbconvert_exporter": "python",
   "pygments_lexer": "ipython2",
   "version": "2.7.6"
  }
 },
 "nbformat": 4,
 "nbformat_minor": 5
}
