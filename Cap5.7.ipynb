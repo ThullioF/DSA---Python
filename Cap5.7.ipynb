{
 "cells": [
  {
   "cell_type": "markdown",
   "source": [
    "EXPRESSÃO LAMBDA"
   ],
   "metadata": {
    "collapsed": false
   },
   "id": "be48a854e15d6c1e"
  },
  {
   "cell_type": "code",
   "outputs": [],
   "source": [
    "#Definindo uma função  - 3 linhas de código\n",
    "def potencia(num):\n",
    "    resultado = num ** 2\n",
    "    return resultado"
   ],
   "metadata": {
    "collapsed": false,
    "ExecuteTime": {
     "end_time": "2024-07-15T13:56:14.126228Z",
     "start_time": "2024-07-15T13:56:14.117759Z"
    }
   },
   "id": "6d3df4c87d650d38",
   "execution_count": 1
  },
  {
   "cell_type": "code",
   "outputs": [
    {
     "data": {
      "text/plain": "25"
     },
     "execution_count": 2,
     "metadata": {},
     "output_type": "execute_result"
    }
   ],
   "source": [
    "potencia(5)"
   ],
   "metadata": {
    "collapsed": false,
    "ExecuteTime": {
     "end_time": "2024-07-15T13:56:19.330279Z",
     "start_time": "2024-07-15T13:56:19.321940Z"
    }
   },
   "id": "dc899477c58c2975",
   "execution_count": 2
  },
  {
   "cell_type": "code",
   "outputs": [],
   "source": [
    "#Definindo uma função  - 2 linhas de código\n",
    "def potencia2(num):\n",
    "    return num ** 2"
   ],
   "metadata": {
    "collapsed": false,
    "ExecuteTime": {
     "end_time": "2024-07-15T14:11:14.763524Z",
     "start_time": "2024-07-15T14:11:14.758636Z"
    }
   },
   "id": "d426fc6cb561eee4",
   "execution_count": 3
  },
  {
   "cell_type": "code",
   "outputs": [
    {
     "data": {
      "text/plain": "25"
     },
     "execution_count": 4,
     "metadata": {},
     "output_type": "execute_result"
    }
   ],
   "source": [
    "potencia2(5)"
   ],
   "metadata": {
    "collapsed": false,
    "ExecuteTime": {
     "end_time": "2024-07-15T14:11:24.771519Z",
     "start_time": "2024-07-15T14:11:24.765066Z"
    }
   },
   "id": "be164358440620dd",
   "execution_count": 4
  },
  {
   "cell_type": "code",
   "outputs": [],
   "source": [
    "#Definindo uma função  - 1 linhas de código\n",
    "def potencia3(num): return num ** 2"
   ],
   "metadata": {
    "collapsed": false,
    "ExecuteTime": {
     "end_time": "2024-07-15T14:11:46.709783Z",
     "start_time": "2024-07-15T14:11:46.705147Z"
    }
   },
   "id": "77474a6d11708b05",
   "execution_count": 5
  },
  {
   "cell_type": "code",
   "outputs": [
    {
     "data": {
      "text/plain": "25"
     },
     "execution_count": 6,
     "metadata": {},
     "output_type": "execute_result"
    }
   ],
   "source": [
    "potencia3(5)"
   ],
   "metadata": {
    "collapsed": false,
    "ExecuteTime": {
     "end_time": "2024-07-15T14:11:51.271751Z",
     "start_time": "2024-07-15T14:11:51.264020Z"
    }
   },
   "id": "1327e29caf6ebc1",
   "execution_count": 6
  },
  {
   "cell_type": "code",
   "outputs": [],
   "source": [
    "#Definindo uma expressão lambda (função anônima)\n",
    "potencia4 = lambda num: num ** 2"
   ],
   "metadata": {
    "collapsed": false,
    "ExecuteTime": {
     "end_time": "2024-07-15T14:13:45.646595Z",
     "start_time": "2024-07-15T14:13:45.641535Z"
    }
   },
   "id": "16c89926854c7f67",
   "execution_count": 7
  },
  {
   "cell_type": "code",
   "outputs": [
    {
     "data": {
      "text/plain": "25"
     },
     "execution_count": 8,
     "metadata": {},
     "output_type": "execute_result"
    }
   ],
   "source": [
    "potencia4(5)"
   ],
   "metadata": {
    "collapsed": false,
    "ExecuteTime": {
     "end_time": "2024-07-15T14:13:54.781199Z",
     "start_time": "2024-07-15T14:13:54.774613Z"
    }
   },
   "id": "e09e00f13de5b67c",
   "execution_count": 8
  },
  {
   "cell_type": "code",
   "outputs": [],
   "source": [
    "#Lembre: operadores de comparção retornam boolean\n",
    "Par = lambda x: x % 2 == 0"
   ],
   "metadata": {
    "collapsed": false,
    "ExecuteTime": {
     "end_time": "2024-07-15T14:14:52.076129Z",
     "start_time": "2024-07-15T14:14:52.070444Z"
    }
   },
   "id": "517d5ad4f843cac7",
   "execution_count": 9
  },
  {
   "cell_type": "code",
   "outputs": [
    {
     "data": {
      "text/plain": "False"
     },
     "execution_count": 10,
     "metadata": {},
     "output_type": "execute_result"
    }
   ],
   "source": [
    "Par(3)"
   ],
   "metadata": {
    "collapsed": false,
    "ExecuteTime": {
     "end_time": "2024-07-15T14:14:58.354948Z",
     "start_time": "2024-07-15T14:14:58.348572Z"
    }
   },
   "id": "e825a9c322d3f97c",
   "execution_count": 10
  },
  {
   "cell_type": "code",
   "outputs": [
    {
     "data": {
      "text/plain": "True"
     },
     "execution_count": 11,
     "metadata": {},
     "output_type": "execute_result"
    }
   ],
   "source": [
    "Par(4)"
   ],
   "metadata": {
    "collapsed": false,
    "ExecuteTime": {
     "end_time": "2024-07-15T14:15:03.022396Z",
     "start_time": "2024-07-15T14:15:03.016703Z"
    }
   },
   "id": "c87cea7f545d62f5",
   "execution_count": 11
  },
  {
   "cell_type": "code",
   "outputs": [],
   "source": [
    "first = lambda s: s[0]"
   ],
   "metadata": {
    "collapsed": false,
    "ExecuteTime": {
     "end_time": "2024-07-15T14:15:25.517596Z",
     "start_time": "2024-07-15T14:15:25.513012Z"
    }
   },
   "id": "4970b771e05c063a",
   "execution_count": 12
  },
  {
   "cell_type": "code",
   "outputs": [
    {
     "data": {
      "text/plain": "'P'"
     },
     "execution_count": 13,
     "metadata": {},
     "output_type": "execute_result"
    }
   ],
   "source": [
    "first('Python')"
   ],
   "metadata": {
    "collapsed": false,
    "ExecuteTime": {
     "end_time": "2024-07-15T14:15:34.773259Z",
     "start_time": "2024-07-15T14:15:34.767358Z"
    }
   },
   "id": "611f4ad69dc5fa7e",
   "execution_count": 13
  },
  {
   "cell_type": "code",
   "outputs": [],
   "source": [
    "reverso = lambda s: s[::-1]"
   ],
   "metadata": {
    "collapsed": false,
    "ExecuteTime": {
     "end_time": "2024-07-15T14:15:50.087332Z",
     "start_time": "2024-07-15T14:15:50.082246Z"
    }
   },
   "id": "b2e0519385fedd38",
   "execution_count": 14
  },
  {
   "cell_type": "code",
   "outputs": [
    {
     "data": {
      "text/plain": "'nohtyP'"
     },
     "execution_count": 15,
     "metadata": {},
     "output_type": "execute_result"
    }
   ],
   "source": [
    "reverso('Python')"
   ],
   "metadata": {
    "collapsed": false,
    "ExecuteTime": {
     "end_time": "2024-07-15T14:15:54.291425Z",
     "start_time": "2024-07-15T14:15:54.284685Z"
    }
   },
   "id": "62136275b1960325",
   "execution_count": 15
  },
  {
   "cell_type": "code",
   "outputs": [],
   "source": [
    "addNum = lambda x, y : x+y"
   ],
   "metadata": {
    "collapsed": false,
    "ExecuteTime": {
     "end_time": "2024-07-15T14:16:20.808768Z",
     "start_time": "2024-07-15T14:16:20.804674Z"
    }
   },
   "id": "8dbd1c8aff9c137d",
   "execution_count": 16
  },
  {
   "cell_type": "code",
   "outputs": [
    {
     "data": {
      "text/plain": "5"
     },
     "execution_count": 17,
     "metadata": {},
     "output_type": "execute_result"
    }
   ],
   "source": [
    "addNum(2,3)"
   ],
   "metadata": {
    "collapsed": false,
    "ExecuteTime": {
     "end_time": "2024-07-15T14:16:28.797679Z",
     "start_time": "2024-07-15T14:16:28.791822Z"
    }
   },
   "id": "dfebad11629cfa0",
   "execution_count": 17
  },
  {
   "cell_type": "code",
   "outputs": [],
   "source": [],
   "metadata": {
    "collapsed": false
   },
   "id": "a35054b0b05faef0"
  }
 ],
 "metadata": {
  "kernelspec": {
   "display_name": "Python 3",
   "language": "python",
   "name": "python3"
  },
  "language_info": {
   "codemirror_mode": {
    "name": "ipython",
    "version": 2
   },
   "file_extension": ".py",
   "mimetype": "text/x-python",
   "name": "python",
   "nbconvert_exporter": "python",
   "pygments_lexer": "ipython2",
   "version": "2.7.6"
  }
 },
 "nbformat": 4,
 "nbformat_minor": 5
}
