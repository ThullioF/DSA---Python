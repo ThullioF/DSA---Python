{
 "cells": [
  {
   "cell_type": "markdown",
   "source": [
    "TRABALHANDO COM VARIÁVEIS"
   ],
   "metadata": {
    "collapsed": false
   },
   "id": "b3277a321675d87d"
  },
  {
   "cell_type": "code",
   "outputs": [],
   "source": [
    "#Atribuindo valor à variável\n",
    "var_teste = 1"
   ],
   "metadata": {
    "collapsed": false,
    "ExecuteTime": {
     "end_time": "2024-05-23T12:57:20.008547Z",
     "start_time": "2024-05-23T12:57:19.996473Z"
    }
   },
   "id": "713ecbeda91185be",
   "execution_count": 1
  },
  {
   "cell_type": "code",
   "outputs": [
    {
     "data": {
      "text/plain": "1"
     },
     "execution_count": 2,
     "metadata": {},
     "output_type": "execute_result"
    }
   ],
   "source": [
    "#Imprimindo o valor da variável\n",
    "var_teste"
   ],
   "metadata": {
    "collapsed": false,
    "ExecuteTime": {
     "end_time": "2024-05-23T12:57:35.317231Z",
     "start_time": "2024-05-23T12:57:35.308317Z"
    }
   },
   "id": "b61cb4706a599c16",
   "execution_count": 2
  },
  {
   "cell_type": "code",
   "outputs": [
    {
     "name": "stdout",
     "output_type": "stream",
     "text": [
      "1\n"
     ]
    }
   ],
   "source": [
    "print(var_teste)"
   ],
   "metadata": {
    "collapsed": false,
    "ExecuteTime": {
     "end_time": "2024-05-23T12:57:46.108627Z",
     "start_time": "2024-05-23T12:57:46.103582Z"
    }
   },
   "id": "9ad15a888cf11528",
   "execution_count": 3
  },
  {
   "cell_type": "code",
   "outputs": [],
   "source": [
    "var_teste = 2"
   ],
   "metadata": {
    "collapsed": false,
    "ExecuteTime": {
     "end_time": "2024-05-23T12:58:23.883083Z",
     "start_time": "2024-05-23T12:58:23.878237Z"
    }
   },
   "id": "a146133f48e73096",
   "execution_count": 4
  },
  {
   "cell_type": "code",
   "outputs": [
    {
     "data": {
      "text/plain": "2"
     },
     "execution_count": 5,
     "metadata": {},
     "output_type": "execute_result"
    }
   ],
   "source": [
    "var_teste"
   ],
   "metadata": {
    "collapsed": false,
    "ExecuteTime": {
     "end_time": "2024-05-23T12:58:28.155942Z",
     "start_time": "2024-05-23T12:58:28.149584Z"
    }
   },
   "id": "5967b3ae09064457",
   "execution_count": 5
  },
  {
   "cell_type": "code",
   "outputs": [
    {
     "data": {
      "text/plain": "int"
     },
     "execution_count": 6,
     "metadata": {},
     "output_type": "execute_result"
    }
   ],
   "source": [
    "type(var_teste)"
   ],
   "metadata": {
    "collapsed": false,
    "ExecuteTime": {
     "end_time": "2024-05-23T12:58:34.718335Z",
     "start_time": "2024-05-23T12:58:34.710387Z"
    }
   },
   "id": "34885380b7e6e500",
   "execution_count": 6
  },
  {
   "cell_type": "code",
   "outputs": [],
   "source": [
    "var_teste = 9.5"
   ],
   "metadata": {
    "collapsed": false,
    "ExecuteTime": {
     "end_time": "2024-05-23T12:58:43.456796Z",
     "start_time": "2024-05-23T12:58:43.452102Z"
    }
   },
   "id": "b38a26b4f5eced44",
   "execution_count": 7
  },
  {
   "cell_type": "code",
   "outputs": [
    {
     "data": {
      "text/plain": "float"
     },
     "execution_count": 8,
     "metadata": {},
     "output_type": "execute_result"
    }
   ],
   "source": [
    "type(var_teste)"
   ],
   "metadata": {
    "collapsed": false,
    "ExecuteTime": {
     "end_time": "2024-05-23T12:58:53.178811Z",
     "start_time": "2024-05-23T12:58:53.172203Z"
    }
   },
   "id": "9f0d4e196b10893f",
   "execution_count": 8
  },
  {
   "cell_type": "markdown",
   "source": [
    "DECLARAÇÃO MÚLTIPLA"
   ],
   "metadata": {
    "collapsed": false
   },
   "id": "7d8fadf20460c2d0"
  },
  {
   "cell_type": "code",
   "outputs": [],
   "source": [
    "pessoa1, pessoa2, pessoa3 = \"Bob\", \"Maria\", \"Ana\""
   ],
   "metadata": {
    "collapsed": false,
    "ExecuteTime": {
     "end_time": "2024-05-23T13:01:07.451509Z",
     "start_time": "2024-05-23T13:01:07.447441Z"
    }
   },
   "id": "bf41da0bc32eb22",
   "execution_count": 9
  },
  {
   "cell_type": "code",
   "outputs": [
    {
     "data": {
      "text/plain": "'Bob'"
     },
     "execution_count": 10,
     "metadata": {},
     "output_type": "execute_result"
    }
   ],
   "source": [
    "pessoa1"
   ],
   "metadata": {
    "collapsed": false,
    "ExecuteTime": {
     "end_time": "2024-05-23T13:01:18.905893Z",
     "start_time": "2024-05-23T13:01:18.899326Z"
    }
   },
   "id": "669936099b4c364c",
   "execution_count": 10
  },
  {
   "cell_type": "code",
   "outputs": [
    {
     "data": {
      "text/plain": "'Maria'"
     },
     "execution_count": 11,
     "metadata": {},
     "output_type": "execute_result"
    }
   ],
   "source": [
    "pessoa2"
   ],
   "metadata": {
    "collapsed": false,
    "ExecuteTime": {
     "end_time": "2024-05-23T13:01:22.471884Z",
     "start_time": "2024-05-23T13:01:22.465092Z"
    }
   },
   "id": "3fedd8ef68566955",
   "execution_count": 11
  },
  {
   "cell_type": "code",
   "outputs": [
    {
     "data": {
      "text/plain": "'Ana'"
     },
     "execution_count": 12,
     "metadata": {},
     "output_type": "execute_result"
    }
   ],
   "source": [
    "pessoa3"
   ],
   "metadata": {
    "collapsed": false,
    "ExecuteTime": {
     "end_time": "2024-05-23T13:01:26.897341Z",
     "start_time": "2024-05-23T13:01:26.890707Z"
    }
   },
   "id": "482e7bcc707874a",
   "execution_count": 12
  },
  {
   "cell_type": "code",
   "outputs": [],
   "source": [
    "fruta1 = fruta2 = fruta3 = \"Melancia\""
   ],
   "metadata": {
    "collapsed": false,
    "ExecuteTime": {
     "end_time": "2024-05-23T13:02:02.305040Z",
     "start_time": "2024-05-23T13:02:02.299964Z"
    }
   },
   "id": "2ad112b231eec020",
   "execution_count": 14
  },
  {
   "cell_type": "code",
   "outputs": [
    {
     "data": {
      "text/plain": "'Melancia'"
     },
     "execution_count": 15,
     "metadata": {},
     "output_type": "execute_result"
    }
   ],
   "source": [
    "fruta1"
   ],
   "metadata": {
    "collapsed": false,
    "ExecuteTime": {
     "end_time": "2024-05-23T13:02:06.180466Z",
     "start_time": "2024-05-23T13:02:06.173038Z"
    }
   },
   "id": "6a5c37f51819cac7",
   "execution_count": 15
  },
  {
   "cell_type": "code",
   "outputs": [
    {
     "data": {
      "text/plain": "'Melancia'"
     },
     "execution_count": 16,
     "metadata": {},
     "output_type": "execute_result"
    }
   ],
   "source": [
    "fruta2"
   ],
   "metadata": {
    "collapsed": false,
    "ExecuteTime": {
     "end_time": "2024-05-23T13:02:09.116401Z",
     "start_time": "2024-05-23T13:02:09.109896Z"
    }
   },
   "id": "4ec120b29747c59b",
   "execution_count": 16
  },
  {
   "cell_type": "code",
   "outputs": [],
   "source": [
    "#Case-sensitive: tem diferença entre maiúsculo e minúsculo no nome da variável\n",
    "#Não se pode começar o nome da variável com número\n",
    "#Não pode criar nome de variável com palavras reservadas do Python"
   ],
   "metadata": {
    "collapsed": false
   },
   "id": "17a50e7ccba9f998"
  },
  {
   "cell_type": "markdown",
   "source": [
    "VARIÁVEIS ATRIBUÍDAS A OUTRAS VARIÁVEIS E ORDEM DOS OPERADORES"
   ],
   "metadata": {
    "collapsed": false
   },
   "id": "3df511a96d7ae696"
  },
  {
   "cell_type": "code",
   "outputs": [],
   "source": [
    "largura = 2"
   ],
   "metadata": {
    "collapsed": false,
    "ExecuteTime": {
     "end_time": "2024-05-23T13:07:14.678746Z",
     "start_time": "2024-05-23T13:07:14.674426Z"
    }
   },
   "id": "de5cef3e087239cf",
   "execution_count": 17
  },
  {
   "cell_type": "code",
   "outputs": [],
   "source": [
    "altura = 4"
   ],
   "metadata": {
    "collapsed": false,
    "ExecuteTime": {
     "end_time": "2024-05-23T13:07:23.564999Z",
     "start_time": "2024-05-23T13:07:23.560700Z"
    }
   },
   "id": "3f7434f0b30b140b",
   "execution_count": 18
  },
  {
   "cell_type": "code",
   "outputs": [],
   "source": [
    "area = largura * altura"
   ],
   "metadata": {
    "collapsed": false,
    "ExecuteTime": {
     "end_time": "2024-05-23T13:07:31.357549Z",
     "start_time": "2024-05-23T13:07:31.353604Z"
    }
   },
   "id": "206087e3ba6877ea",
   "execution_count": 19
  },
  {
   "cell_type": "code",
   "outputs": [
    {
     "data": {
      "text/plain": "8"
     },
     "execution_count": 20,
     "metadata": {},
     "output_type": "execute_result"
    }
   ],
   "source": [
    "area"
   ],
   "metadata": {
    "collapsed": false,
    "ExecuteTime": {
     "end_time": "2024-05-23T13:07:34.355248Z",
     "start_time": "2024-05-23T13:07:34.348980Z"
    }
   },
   "id": "84ea953a5766c595",
   "execution_count": 20
  },
  {
   "cell_type": "code",
   "outputs": [],
   "source": [
    "perimetro = 2 * largura + 2 * altura"
   ],
   "metadata": {
    "collapsed": false,
    "ExecuteTime": {
     "end_time": "2024-05-23T13:07:49.028217Z",
     "start_time": "2024-05-23T13:07:49.022810Z"
    }
   },
   "id": "206ca81954e8f064",
   "execution_count": 21
  },
  {
   "cell_type": "code",
   "outputs": [
    {
     "data": {
      "text/plain": "12"
     },
     "execution_count": 22,
     "metadata": {},
     "output_type": "execute_result"
    }
   ],
   "source": [
    "perimetro"
   ],
   "metadata": {
    "collapsed": false,
    "ExecuteTime": {
     "end_time": "2024-05-23T13:07:53.748835Z",
     "start_time": "2024-05-23T13:07:53.743354Z"
    }
   },
   "id": "16080ac63ad78a9d",
   "execution_count": 22
  },
  {
   "cell_type": "code",
   "outputs": [],
   "source": [
    "#A ordem dos operadores é a mesma da matemática\n",
    "perimetro = 2 * (largura + 2) * altura"
   ],
   "metadata": {
    "collapsed": false,
    "ExecuteTime": {
     "end_time": "2024-05-23T13:08:34.278922Z",
     "start_time": "2024-05-23T13:08:34.275174Z"
    }
   },
   "id": "d9f0b00f3fe63d86",
   "execution_count": 23
  },
  {
   "cell_type": "code",
   "outputs": [
    {
     "data": {
      "text/plain": "32"
     },
     "execution_count": 24,
     "metadata": {},
     "output_type": "execute_result"
    }
   ],
   "source": [
    "perimetro"
   ],
   "metadata": {
    "collapsed": false,
    "ExecuteTime": {
     "end_time": "2024-05-23T13:08:37.108107Z",
     "start_time": "2024-05-23T13:08:37.102436Z"
    }
   },
   "id": "6fdc606027c9ab71",
   "execution_count": 24
  },
  {
   "cell_type": "markdown",
   "source": [
    "OPERAÇÕES COM VARIÁVEIS"
   ],
   "metadata": {
    "collapsed": false
   },
   "id": "dc605a65a7f993d0"
  },
  {
   "cell_type": "code",
   "outputs": [],
   "source": [
    "idade1 = 25"
   ],
   "metadata": {
    "collapsed": false,
    "ExecuteTime": {
     "end_time": "2024-05-23T13:12:28.800258Z",
     "start_time": "2024-05-23T13:12:28.796138Z"
    }
   },
   "id": "8c45bd1f0002b463",
   "execution_count": 27
  },
  {
   "cell_type": "code",
   "outputs": [],
   "source": [
    "idade2 = 35"
   ],
   "metadata": {
    "collapsed": false,
    "ExecuteTime": {
     "end_time": "2024-05-23T13:12:30.246800Z",
     "start_time": "2024-05-23T13:12:30.242986Z"
    }
   },
   "id": "33c827fea5013fbb",
   "execution_count": 28
  },
  {
   "cell_type": "code",
   "outputs": [
    {
     "data": {
      "text/plain": "60"
     },
     "execution_count": 29,
     "metadata": {},
     "output_type": "execute_result"
    }
   ],
   "source": [
    "idade1 + idade2"
   ],
   "metadata": {
    "collapsed": false,
    "ExecuteTime": {
     "end_time": "2024-05-23T13:12:40.746896Z",
     "start_time": "2024-05-23T13:12:40.741297Z"
    }
   },
   "id": "b86d5f16f61632dd",
   "execution_count": 29
  },
  {
   "cell_type": "code",
   "outputs": [
    {
     "data": {
      "text/plain": "10"
     },
     "execution_count": 31,
     "metadata": {},
     "output_type": "execute_result"
    }
   ],
   "source": [
    "idade2 - idade1"
   ],
   "metadata": {
    "collapsed": false,
    "ExecuteTime": {
     "end_time": "2024-05-23T13:12:58.792273Z",
     "start_time": "2024-05-23T13:12:58.785300Z"
    }
   },
   "id": "744e8f5b97f5e382",
   "execution_count": 31
  },
  {
   "cell_type": "code",
   "outputs": [
    {
     "data": {
      "text/plain": "875"
     },
     "execution_count": 32,
     "metadata": {},
     "output_type": "execute_result"
    }
   ],
   "source": [
    "idade2 * idade1"
   ],
   "metadata": {
    "collapsed": false,
    "ExecuteTime": {
     "end_time": "2024-05-23T13:13:12.519595Z",
     "start_time": "2024-05-23T13:13:12.513074Z"
    }
   },
   "id": "1435fc2262f67af5",
   "execution_count": 32
  },
  {
   "cell_type": "code",
   "outputs": [
    {
     "data": {
      "text/plain": "1.4"
     },
     "execution_count": 33,
     "metadata": {},
     "output_type": "execute_result"
    }
   ],
   "source": [
    "idade2 / idade1"
   ],
   "metadata": {
    "collapsed": false,
    "ExecuteTime": {
     "end_time": "2024-05-23T13:13:21.364588Z",
     "start_time": "2024-05-23T13:13:21.356658Z"
    }
   },
   "id": "2bf0e199203c7452",
   "execution_count": 33
  },
  {
   "cell_type": "code",
   "outputs": [
    {
     "data": {
      "text/plain": "10"
     },
     "execution_count": 34,
     "metadata": {},
     "output_type": "execute_result"
    }
   ],
   "source": [
    "idade2 % idade1"
   ],
   "metadata": {
    "collapsed": false,
    "ExecuteTime": {
     "end_time": "2024-05-23T13:13:38.077416Z",
     "start_time": "2024-05-23T13:13:38.070347Z"
    }
   },
   "id": "38d56d0d12575ac4",
   "execution_count": 34
  },
  {
   "cell_type": "markdown",
   "source": [
    "CONCATENAÇÃO DE VARIÁVEIS"
   ],
   "metadata": {
    "collapsed": false
   },
   "id": "cd644ddf3c07752e"
  },
  {
   "cell_type": "code",
   "outputs": [],
   "source": [
    "nome = \"Bob\""
   ],
   "metadata": {
    "collapsed": false,
    "ExecuteTime": {
     "end_time": "2024-05-23T13:14:10.586028Z",
     "start_time": "2024-05-23T13:14:10.581267Z"
    }
   },
   "id": "9dbdada7b6211a7f",
   "execution_count": 35
  },
  {
   "cell_type": "code",
   "outputs": [],
   "source": [
    "sobrenome = \"Marley\""
   ],
   "metadata": {
    "collapsed": false,
    "ExecuteTime": {
     "end_time": "2024-05-23T13:14:26.837031Z",
     "start_time": "2024-05-23T13:14:26.831944Z"
    }
   },
   "id": "645836711c193b24",
   "execution_count": 36
  },
  {
   "cell_type": "code",
   "outputs": [],
   "source": [
    "full_name = nome + \" \" + sobrenome"
   ],
   "metadata": {
    "collapsed": false,
    "ExecuteTime": {
     "end_time": "2024-05-23T13:14:36.260890Z",
     "start_time": "2024-05-23T13:14:36.256562Z"
    }
   },
   "id": "a9de238990d25d6",
   "execution_count": 37
  },
  {
   "cell_type": "code",
   "outputs": [
    {
     "data": {
      "text/plain": "'Bob Marley'"
     },
     "execution_count": 38,
     "metadata": {},
     "output_type": "execute_result"
    }
   ],
   "source": [
    "full_name"
   ],
   "metadata": {
    "collapsed": false,
    "ExecuteTime": {
     "end_time": "2024-05-23T13:14:38.696529Z",
     "start_time": "2024-05-23T13:14:38.690786Z"
    }
   },
   "id": "d92c13e2a348cdd6",
   "execution_count": 38
  },
  {
   "cell_type": "code",
   "outputs": [],
   "source": [],
   "metadata": {
    "collapsed": false
   },
   "id": "84af874f4c5572c5"
  }
 ],
 "metadata": {
  "kernelspec": {
   "display_name": "Python 3",
   "language": "python",
   "name": "python3"
  },
  "language_info": {
   "codemirror_mode": {
    "name": "ipython",
    "version": 2
   },
   "file_extension": ".py",
   "mimetype": "text/x-python",
   "name": "python",
   "nbconvert_exporter": "python",
   "pygments_lexer": "ipython2",
   "version": "2.7.6"
  }
 },
 "nbformat": 4,
 "nbformat_minor": 5
}
