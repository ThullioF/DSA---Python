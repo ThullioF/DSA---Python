{
 "cells": [
  {
   "cell_type": "markdown",
   "source": [
    "OPERAÇÕES ARITMÉTICAS"
   ],
   "metadata": {
    "collapsed": false
   },
   "id": "f42337e6cdaa95eb"
  },
  {
   "cell_type": "code",
   "outputs": [
    {
     "data": {
      "text/plain": "8"
     },
     "execution_count": 1,
     "metadata": {},
     "output_type": "execute_result"
    }
   ],
   "source": [
    "#Soma\n",
    "4 + 4"
   ],
   "metadata": {
    "collapsed": false,
    "ExecuteTime": {
     "end_time": "2024-05-22T14:45:05.587336Z",
     "start_time": "2024-05-22T14:45:05.569529Z"
    }
   },
   "id": "5db2a21abce983ff",
   "execution_count": 1
  },
  {
   "cell_type": "code",
   "outputs": [
    {
     "data": {
      "text/plain": "1"
     },
     "execution_count": 2,
     "metadata": {},
     "output_type": "execute_result"
    }
   ],
   "source": [
    "#Subtração\n",
    "4 - 3"
   ],
   "metadata": {
    "collapsed": false,
    "ExecuteTime": {
     "end_time": "2024-05-22T14:46:26.490293Z",
     "start_time": "2024-05-22T14:46:26.483496Z"
    }
   },
   "id": "d2347788a7f3f569",
   "execution_count": 2
  },
  {
   "cell_type": "code",
   "outputs": [
    {
     "data": {
      "text/plain": "16"
     },
     "execution_count": 3,
     "metadata": {},
     "output_type": "execute_result"
    }
   ],
   "source": [
    "#Multiplicação\n",
    "4 * 4"
   ],
   "metadata": {
    "collapsed": false,
    "ExecuteTime": {
     "end_time": "2024-05-22T14:46:45.497309Z",
     "start_time": "2024-05-22T14:46:45.490579Z"
    }
   },
   "id": "559f024b8ff01e56",
   "execution_count": 3
  },
  {
   "cell_type": "code",
   "outputs": [
    {
     "data": {
      "text/plain": "3.0"
     },
     "execution_count": 4,
     "metadata": {},
     "output_type": "execute_result"
    }
   ],
   "source": [
    "#Divisão\n",
    "6 / 2"
   ],
   "metadata": {
    "collapsed": false,
    "ExecuteTime": {
     "end_time": "2024-05-22T14:47:15.545042Z",
     "start_time": "2024-05-22T14:47:15.538255Z"
    }
   },
   "id": "e121d84884010962",
   "execution_count": 4
  },
  {
   "cell_type": "code",
   "outputs": [
    {
     "data": {
      "text/plain": "16"
     },
     "execution_count": 5,
     "metadata": {},
     "output_type": "execute_result"
    }
   ],
   "source": [
    "#Potencia\n",
    "4 ** 2"
   ],
   "metadata": {
    "collapsed": false,
    "ExecuteTime": {
     "end_time": "2024-05-22T14:47:35.459141Z",
     "start_time": "2024-05-22T14:47:35.452988Z"
    }
   },
   "id": "5439155d16a26e9",
   "execution_count": 5
  },
  {
   "cell_type": "code",
   "outputs": [
    {
     "data": {
      "text/plain": "1"
     },
     "execution_count": 6,
     "metadata": {},
     "output_type": "execute_result"
    }
   ],
   "source": [
    "#Módulo\n",
    "10 % 3"
   ],
   "metadata": {
    "collapsed": false,
    "ExecuteTime": {
     "end_time": "2024-05-22T14:48:07.982693Z",
     "start_time": "2024-05-22T14:48:07.977203Z"
    }
   },
   "id": "bf45730214fcbbab",
   "execution_count": 6
  },
  {
   "cell_type": "markdown",
   "source": [
    "FUNÇÃO TYPE"
   ],
   "metadata": {
    "collapsed": false
   },
   "id": "35e0ea882e7d2b9c"
  },
  {
   "cell_type": "code",
   "outputs": [
    {
     "data": {
      "text/plain": "int"
     },
     "execution_count": 7,
     "metadata": {},
     "output_type": "execute_result"
    }
   ],
   "source": [
    "type(5)"
   ],
   "metadata": {
    "collapsed": false,
    "ExecuteTime": {
     "end_time": "2024-05-22T14:48:35.085986Z",
     "start_time": "2024-05-22T14:48:35.079064Z"
    }
   },
   "id": "4737b29508e6ecca",
   "execution_count": 7
  },
  {
   "cell_type": "code",
   "outputs": [
    {
     "data": {
      "text/plain": "float"
     },
     "execution_count": 8,
     "metadata": {},
     "output_type": "execute_result"
    }
   ],
   "source": [
    "type(5.0)"
   ],
   "metadata": {
    "collapsed": false,
    "ExecuteTime": {
     "end_time": "2024-05-22T14:48:42.442728Z",
     "start_time": "2024-05-22T14:48:42.436003Z"
    }
   },
   "id": "f534936c6d733dfc",
   "execution_count": 8
  },
  {
   "cell_type": "code",
   "outputs": [
    {
     "data": {
      "text/plain": "str"
     },
     "execution_count": 10,
     "metadata": {},
     "output_type": "execute_result"
    }
   ],
   "source": [
    "x = 'DSA'\n",
    "type(x)"
   ],
   "metadata": {
    "collapsed": false,
    "ExecuteTime": {
     "end_time": "2024-05-22T14:49:08.055046Z",
     "start_time": "2024-05-22T14:49:08.048510Z"
    }
   },
   "id": "3a09dbd4296ed9a1",
   "execution_count": 10
  },
  {
   "cell_type": "markdown",
   "source": [
    "OPERAÇÕES COM NÚMEROS FLOAT"
   ],
   "metadata": {
    "collapsed": false
   },
   "id": "db04c89b5b099342"
  },
  {
   "cell_type": "code",
   "outputs": [
    {
     "data": {
      "text/plain": "9.5"
     },
     "execution_count": 11,
     "metadata": {},
     "output_type": "execute_result"
    }
   ],
   "source": [
    "3.1 + 6.4"
   ],
   "metadata": {
    "collapsed": false,
    "ExecuteTime": {
     "end_time": "2024-05-22T14:50:12.806973Z",
     "start_time": "2024-05-22T14:50:12.801163Z"
    }
   },
   "id": "6c384f397e124bba",
   "execution_count": 11
  },
  {
   "cell_type": "code",
   "outputs": [
    {
     "data": {
      "text/plain": "8.0"
     },
     "execution_count": 12,
     "metadata": {},
     "output_type": "execute_result"
    }
   ],
   "source": [
    "4 + 4.0"
   ],
   "metadata": {
    "collapsed": false,
    "ExecuteTime": {
     "end_time": "2024-05-22T14:50:21.211763Z",
     "start_time": "2024-05-22T14:50:21.204757Z"
    }
   },
   "id": "76cb93a622ddc3ae",
   "execution_count": 12
  },
  {
   "cell_type": "code",
   "outputs": [
    {
     "data": {
      "text/plain": "8"
     },
     "execution_count": 13,
     "metadata": {},
     "output_type": "execute_result"
    }
   ],
   "source": [
    "4 + 4"
   ],
   "metadata": {
    "collapsed": false,
    "ExecuteTime": {
     "end_time": "2024-05-22T14:50:27.117482Z",
     "start_time": "2024-05-22T14:50:27.111579Z"
    }
   },
   "id": "cff692cb3379d2fc",
   "execution_count": 13
  },
  {
   "cell_type": "code",
   "outputs": [
    {
     "data": {
      "text/plain": "2.0"
     },
     "execution_count": 14,
     "metadata": {},
     "output_type": "execute_result"
    }
   ],
   "source": [
    "4 / 2"
   ],
   "metadata": {
    "collapsed": false,
    "ExecuteTime": {
     "end_time": "2024-05-22T14:50:37.819486Z",
     "start_time": "2024-05-22T14:50:37.812939Z"
    }
   },
   "id": "58ff9f06b0d0a0a0",
   "execution_count": 14
  },
  {
   "cell_type": "code",
   "outputs": [
    {
     "data": {
      "text/plain": "2"
     },
     "execution_count": 15,
     "metadata": {},
     "output_type": "execute_result"
    }
   ],
   "source": [
    "4 // 2"
   ],
   "metadata": {
    "collapsed": false,
    "ExecuteTime": {
     "end_time": "2024-05-22T14:50:45.908212Z",
     "start_time": "2024-05-22T14:50:45.902748Z"
    }
   },
   "id": "4ec916845cc2fd41",
   "execution_count": 15
  },
  {
   "cell_type": "code",
   "outputs": [
    {
     "data": {
      "text/plain": "1.3333333333333333"
     },
     "execution_count": 16,
     "metadata": {},
     "output_type": "execute_result"
    }
   ],
   "source": [
    "4 / 3.0"
   ],
   "metadata": {
    "collapsed": false,
    "ExecuteTime": {
     "end_time": "2024-05-22T14:50:54.989221Z",
     "start_time": "2024-05-22T14:50:54.982964Z"
    }
   },
   "id": "2e43e050aaf52a73",
   "execution_count": 16
  },
  {
   "cell_type": "code",
   "outputs": [
    {
     "data": {
      "text/plain": "1.0"
     },
     "execution_count": 17,
     "metadata": {},
     "output_type": "execute_result"
    }
   ],
   "source": [
    "4 // 3.0"
   ],
   "metadata": {
    "collapsed": false,
    "ExecuteTime": {
     "end_time": "2024-05-22T14:51:04.845175Z",
     "start_time": "2024-05-22T14:51:04.839025Z"
    }
   },
   "id": "13631183bdd219ea",
   "execution_count": 17
  },
  {
   "cell_type": "markdown",
   "source": [
    "CONVERSÃO"
   ],
   "metadata": {
    "collapsed": false
   },
   "id": "d3aee8263c6f67d9"
  },
  {
   "cell_type": "code",
   "outputs": [
    {
     "data": {
      "text/plain": "9.0"
     },
     "execution_count": 18,
     "metadata": {},
     "output_type": "execute_result"
    }
   ],
   "source": [
    "float (9)"
   ],
   "metadata": {
    "collapsed": false,
    "ExecuteTime": {
     "end_time": "2024-05-22T14:52:53.185900Z",
     "start_time": "2024-05-22T14:52:53.179892Z"
    }
   },
   "id": "dc84a28b2ac71359",
   "execution_count": 18
  },
  {
   "cell_type": "code",
   "outputs": [
    {
     "data": {
      "text/plain": "6"
     },
     "execution_count": 19,
     "metadata": {},
     "output_type": "execute_result"
    }
   ],
   "source": [
    "int(6.0)"
   ],
   "metadata": {
    "collapsed": false,
    "ExecuteTime": {
     "end_time": "2024-05-22T14:53:02.627364Z",
     "start_time": "2024-05-22T14:53:02.621561Z"
    }
   },
   "id": "a3d5bfab518d4d5d",
   "execution_count": 19
  },
  {
   "cell_type": "code",
   "outputs": [
    {
     "data": {
      "text/plain": "6"
     },
     "execution_count": 20,
     "metadata": {},
     "output_type": "execute_result"
    }
   ],
   "source": [
    "int(6.5)"
   ],
   "metadata": {
    "collapsed": false,
    "ExecuteTime": {
     "end_time": "2024-05-22T14:53:10.002825Z",
     "start_time": "2024-05-22T14:53:09.996253Z"
    }
   },
   "id": "4f2031940c7cfd2e",
   "execution_count": 20
  },
  {
   "cell_type": "markdown",
   "source": [
    "HEXADECIMAL E BINÁRIO"
   ],
   "metadata": {
    "collapsed": false
   },
   "id": "9b7f7f154501d4d0"
  },
  {
   "cell_type": "code",
   "outputs": [
    {
     "data": {
      "text/plain": "'0x18a'"
     },
     "execution_count": 21,
     "metadata": {},
     "output_type": "execute_result"
    }
   ],
   "source": [
    "hex(394)"
   ],
   "metadata": {
    "collapsed": false,
    "ExecuteTime": {
     "end_time": "2024-05-22T14:53:44.919337Z",
     "start_time": "2024-05-22T14:53:44.912795Z"
    }
   },
   "id": "e5d1be7997894201",
   "execution_count": 21
  },
  {
   "cell_type": "code",
   "outputs": [
    {
     "data": {
      "text/plain": "'0xd9'"
     },
     "execution_count": 22,
     "metadata": {},
     "output_type": "execute_result"
    }
   ],
   "source": [
    "hex(217)"
   ],
   "metadata": {
    "collapsed": false,
    "ExecuteTime": {
     "end_time": "2024-05-22T14:53:52.887788Z",
     "start_time": "2024-05-22T14:53:52.882206Z"
    }
   },
   "id": "a9df9cf056052b8c",
   "execution_count": 22
  },
  {
   "cell_type": "code",
   "outputs": [
    {
     "data": {
      "text/plain": "'0b100011110'"
     },
     "execution_count": 23,
     "metadata": {},
     "output_type": "execute_result"
    }
   ],
   "source": [
    "bin(286)"
   ],
   "metadata": {
    "collapsed": false,
    "ExecuteTime": {
     "end_time": "2024-05-22T14:54:03.027424Z",
     "start_time": "2024-05-22T14:54:03.022124Z"
    }
   },
   "id": "c6bdeaa97e23f309",
   "execution_count": 23
  },
  {
   "cell_type": "code",
   "outputs": [
    {
     "data": {
      "text/plain": "'0b110000110'"
     },
     "execution_count": 24,
     "metadata": {},
     "output_type": "execute_result"
    }
   ],
   "source": [
    "bin(390)"
   ],
   "metadata": {
    "collapsed": false,
    "ExecuteTime": {
     "end_time": "2024-05-22T14:54:28.397143Z",
     "start_time": "2024-05-22T14:54:28.390627Z"
    }
   },
   "id": "be4d5825277af117",
   "execution_count": 24
  },
  {
   "cell_type": "markdown",
   "source": [
    "FUNÇÕES ABS, ROUND E POW"
   ],
   "metadata": {
    "collapsed": false
   },
   "id": "e4d0504f4b6da9f0"
  },
  {
   "cell_type": "code",
   "outputs": [
    {
     "data": {
      "text/plain": "8"
     },
     "execution_count": 31,
     "metadata": {},
     "output_type": "execute_result"
    }
   ],
   "source": [
    "#Retorna o valor absoluto\n",
    "abs(-8)"
   ],
   "metadata": {
    "collapsed": false,
    "ExecuteTime": {
     "end_time": "2024-05-22T14:58:22.966824Z",
     "start_time": "2024-05-22T14:58:22.959276Z"
    }
   },
   "id": "e0ed663a5516f106",
   "execution_count": 31
  },
  {
   "cell_type": "code",
   "outputs": [
    {
     "data": {
      "text/plain": "8"
     },
     "execution_count": 26,
     "metadata": {},
     "output_type": "execute_result"
    }
   ],
   "source": [
    "abs(8)"
   ],
   "metadata": {
    "collapsed": false
   },
   "id": "43e1073a64e0c118",
   "execution_count": 26
  },
  {
   "cell_type": "code",
   "outputs": [
    {
     "data": {
      "text/plain": "3.14"
     },
     "execution_count": 27,
     "metadata": {},
     "output_type": "execute_result"
    }
   ],
   "source": [
    "#Retorna o valor com duas casas decimais\n",
    "round(3.14151922, 2)"
   ],
   "metadata": {
    "collapsed": false,
    "ExecuteTime": {
     "end_time": "2024-05-22T14:56:44.899732Z",
     "start_time": "2024-05-22T14:56:44.893100Z"
    }
   },
   "id": "ad8feda9c61a6ab5",
   "execution_count": 27
  },
  {
   "cell_type": "code",
   "outputs": [
    {
     "data": {
      "text/plain": "16"
     },
     "execution_count": 29,
     "metadata": {},
     "output_type": "execute_result"
    }
   ],
   "source": [
    "#Potencia\n",
    "pow(4, 2)"
   ],
   "metadata": {
    "collapsed": false,
    "ExecuteTime": {
     "end_time": "2024-05-22T14:58:03.786825Z",
     "start_time": "2024-05-22T14:58:03.781398Z"
    }
   },
   "id": "3c1ae5ec98d3b15f",
   "execution_count": 29
  },
  {
   "cell_type": "code",
   "outputs": [],
   "source": [],
   "metadata": {
    "collapsed": false
   },
   "id": "54403b992fad994f"
  }
 ],
 "metadata": {
  "kernelspec": {
   "display_name": "Python 3",
   "language": "python",
   "name": "python3"
  },
  "language_info": {
   "codemirror_mode": {
    "name": "ipython",
    "version": 2
   },
   "file_extension": ".py",
   "mimetype": "text/x-python",
   "name": "python",
   "nbconvert_exporter": "python",
   "pygments_lexer": "ipython2",
   "version": "2.7.6"
  }
 },
 "nbformat": 4,
 "nbformat_minor": 5
}
