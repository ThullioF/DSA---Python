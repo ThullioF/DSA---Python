{
 "cells": [
  {
   "cell_type": "code",
   "outputs": [],
   "source": [
    "import pandas as pd"
   ],
   "metadata": {
    "collapsed": false,
    "ExecuteTime": {
     "end_time": "2024-08-16T12:43:16.115220Z",
     "start_time": "2024-08-16T12:43:14.795814Z"
    }
   },
   "id": "66e756c94a7ec7e6",
   "execution_count": 4
  },
  {
   "cell_type": "code",
   "outputs": [
    {
     "data": {
      "text/plain": "'2.1.4'"
     },
     "execution_count": 2,
     "metadata": {},
     "output_type": "execute_result"
    }
   ],
   "source": [
    "pd.__version__"
   ],
   "metadata": {
    "collapsed": false,
    "ExecuteTime": {
     "end_time": "2024-08-15T13:21:25.066809Z",
     "start_time": "2024-08-15T13:21:25.047152Z"
    }
   },
   "id": "a94dad801513a0e1",
   "execution_count": 2
  },
  {
   "cell_type": "markdown",
   "source": [
    "MANIPULANDO DADOS EM DATAFRAMES DO PANDAS"
   ],
   "metadata": {
    "collapsed": false
   },
   "id": "ec43d2e1b26ab6"
  },
  {
   "cell_type": "code",
   "outputs": [],
   "source": [
    "dados = {'Estado': ['Santa Catarina', 'Rio de Janeiro', 'Tocantins', 'Bahia', 'Minas Gerais'], \n",
    "         'Ano':[2004,2005,2006,2007,2008],\n",
    "         'Taxa Desemprego':[1.5,1.7,1.6,2.4,2.7]}"
   ],
   "metadata": {
    "collapsed": false,
    "ExecuteTime": {
     "end_time": "2024-08-15T13:25:36.298686Z",
     "start_time": "2024-08-15T13:25:36.288082Z"
    }
   },
   "id": "7451c03313109d4b",
   "execution_count": 3
  },
  {
   "cell_type": "code",
   "outputs": [
    {
     "name": "stdout",
     "output_type": "stream",
     "text": [
      "{'Estado': ['Santa Catarina', 'Rio de Janeiro', 'Tocantins', 'Bahia', 'Minas Gerais'], 'Ano': [2004, 2005, 2006, 2007, 2008], 'Taxa Desemprego': [1.5, 1.7, 1.6, 2.4, 2.7]}\n"
     ]
    }
   ],
   "source": [
    "print(dados)"
   ],
   "metadata": {
    "collapsed": false,
    "ExecuteTime": {
     "end_time": "2024-08-15T13:25:41.517188Z",
     "start_time": "2024-08-15T13:25:41.506794Z"
    }
   },
   "id": "81e803e0b3bc6e9c",
   "execution_count": 4
  },
  {
   "cell_type": "code",
   "outputs": [],
   "source": [
    "#Importa a função DataFrame do Pandas\n",
    "from pandas import DataFrame"
   ],
   "metadata": {
    "collapsed": false,
    "ExecuteTime": {
     "end_time": "2024-08-15T13:26:07.738543Z",
     "start_time": "2024-08-15T13:26:07.727386Z"
    }
   },
   "id": "262d4ced4545ded1",
   "execution_count": 5
  },
  {
   "cell_type": "code",
   "outputs": [],
   "source": [
    "#Converte o dicionário em um dataframe\n",
    "df = DataFrame(dados)"
   ],
   "metadata": {
    "collapsed": false,
    "ExecuteTime": {
     "end_time": "2024-08-15T13:26:48.857044Z",
     "start_time": "2024-08-15T13:26:48.839752Z"
    }
   },
   "id": "cf224e33259de09c",
   "execution_count": 6
  },
  {
   "cell_type": "code",
   "outputs": [
    {
     "data": {
      "text/plain": "           Estado   Ano  Taxa Desemprego\n0  Santa Catarina  2004              1.5\n1  Rio de Janeiro  2005              1.7\n2       Tocantins  2006              1.6\n3           Bahia  2007              2.4\n4    Minas Gerais  2008              2.7",
      "text/html": "<div>\n<style scoped>\n    .dataframe tbody tr th:only-of-type {\n        vertical-align: middle;\n    }\n\n    .dataframe tbody tr th {\n        vertical-align: top;\n    }\n\n    .dataframe thead th {\n        text-align: right;\n    }\n</style>\n<table border=\"1\" class=\"dataframe\">\n  <thead>\n    <tr style=\"text-align: right;\">\n      <th></th>\n      <th>Estado</th>\n      <th>Ano</th>\n      <th>Taxa Desemprego</th>\n    </tr>\n  </thead>\n  <tbody>\n    <tr>\n      <th>0</th>\n      <td>Santa Catarina</td>\n      <td>2004</td>\n      <td>1.5</td>\n    </tr>\n    <tr>\n      <th>1</th>\n      <td>Rio de Janeiro</td>\n      <td>2005</td>\n      <td>1.7</td>\n    </tr>\n    <tr>\n      <th>2</th>\n      <td>Tocantins</td>\n      <td>2006</td>\n      <td>1.6</td>\n    </tr>\n    <tr>\n      <th>3</th>\n      <td>Bahia</td>\n      <td>2007</td>\n      <td>2.4</td>\n    </tr>\n    <tr>\n      <th>4</th>\n      <td>Minas Gerais</td>\n      <td>2008</td>\n      <td>2.7</td>\n    </tr>\n  </tbody>\n</table>\n</div>"
     },
     "execution_count": 7,
     "metadata": {},
     "output_type": "execute_result"
    }
   ],
   "source": [
    "df.head()"
   ],
   "metadata": {
    "collapsed": false,
    "ExecuteTime": {
     "end_time": "2024-08-15T13:26:55.402958Z",
     "start_time": "2024-08-15T13:26:55.373674Z"
    }
   },
   "id": "aad5559397872ca3",
   "execution_count": 7
  },
  {
   "cell_type": "code",
   "outputs": [
    {
     "data": {
      "text/plain": "pandas.core.frame.DataFrame"
     },
     "execution_count": 8,
     "metadata": {},
     "output_type": "execute_result"
    }
   ],
   "source": [
    "type(df)"
   ],
   "metadata": {
    "collapsed": false,
    "ExecuteTime": {
     "end_time": "2024-08-15T13:27:12.883958Z",
     "start_time": "2024-08-15T13:27:12.867989Z"
    }
   },
   "id": "2b57421363c97250",
   "execution_count": 8
  },
  {
   "cell_type": "code",
   "outputs": [
    {
     "data": {
      "text/plain": "           Estado  Taxa Desemprego   Ano\n0  Santa Catarina              1.5  2004\n1  Rio de Janeiro              1.7  2005\n2       Tocantins              1.6  2006\n3           Bahia              2.4  2007\n4    Minas Gerais              2.7  2008",
      "text/html": "<div>\n<style scoped>\n    .dataframe tbody tr th:only-of-type {\n        vertical-align: middle;\n    }\n\n    .dataframe tbody tr th {\n        vertical-align: top;\n    }\n\n    .dataframe thead th {\n        text-align: right;\n    }\n</style>\n<table border=\"1\" class=\"dataframe\">\n  <thead>\n    <tr style=\"text-align: right;\">\n      <th></th>\n      <th>Estado</th>\n      <th>Taxa Desemprego</th>\n      <th>Ano</th>\n    </tr>\n  </thead>\n  <tbody>\n    <tr>\n      <th>0</th>\n      <td>Santa Catarina</td>\n      <td>1.5</td>\n      <td>2004</td>\n    </tr>\n    <tr>\n      <th>1</th>\n      <td>Rio de Janeiro</td>\n      <td>1.7</td>\n      <td>2005</td>\n    </tr>\n    <tr>\n      <th>2</th>\n      <td>Tocantins</td>\n      <td>1.6</td>\n      <td>2006</td>\n    </tr>\n    <tr>\n      <th>3</th>\n      <td>Bahia</td>\n      <td>2.4</td>\n      <td>2007</td>\n    </tr>\n    <tr>\n      <th>4</th>\n      <td>Minas Gerais</td>\n      <td>2.7</td>\n      <td>2008</td>\n    </tr>\n  </tbody>\n</table>\n</div>"
     },
     "execution_count": 9,
     "metadata": {},
     "output_type": "execute_result"
    }
   ],
   "source": [
    "#Reorganizando as colunas\n",
    "DataFrame(dados, columns=['Estado', 'Taxa Desemprego', 'Ano'])"
   ],
   "metadata": {
    "collapsed": false,
    "ExecuteTime": {
     "end_time": "2024-08-15T13:28:11.472583Z",
     "start_time": "2024-08-15T13:28:11.444739Z"
    }
   },
   "id": "8a02190376c64f",
   "execution_count": 9
  },
  {
   "cell_type": "code",
   "outputs": [],
   "source": [
    "#Criando outro dataframe com os mesmo dados anteriores mas adicionando um coluna\n",
    "df2 = DataFrame(dados,\n",
    "                columns=['Estado', 'Taxa Desemprego','Taxa Crescimento','Ano'],\n",
    "                index=['estado1', 'estado2', 'estado3', 'estado4', 'estado5'])"
   ],
   "metadata": {
    "collapsed": false,
    "ExecuteTime": {
     "end_time": "2024-08-15T13:30:12.902189Z",
     "start_time": "2024-08-15T13:30:12.885285Z"
    }
   },
   "id": "632b30ec6e991eb8",
   "execution_count": 10
  },
  {
   "cell_type": "code",
   "outputs": [
    {
     "data": {
      "text/plain": "                 Estado  Taxa Desemprego Taxa Crescimento   Ano\nestado1  Santa Catarina              1.5              NaN  2004\nestado2  Rio de Janeiro              1.7              NaN  2005\nestado3       Tocantins              1.6              NaN  2006\nestado4           Bahia              2.4              NaN  2007\nestado5    Minas Gerais              2.7              NaN  2008",
      "text/html": "<div>\n<style scoped>\n    .dataframe tbody tr th:only-of-type {\n        vertical-align: middle;\n    }\n\n    .dataframe tbody tr th {\n        vertical-align: top;\n    }\n\n    .dataframe thead th {\n        text-align: right;\n    }\n</style>\n<table border=\"1\" class=\"dataframe\">\n  <thead>\n    <tr style=\"text-align: right;\">\n      <th></th>\n      <th>Estado</th>\n      <th>Taxa Desemprego</th>\n      <th>Taxa Crescimento</th>\n      <th>Ano</th>\n    </tr>\n  </thead>\n  <tbody>\n    <tr>\n      <th>estado1</th>\n      <td>Santa Catarina</td>\n      <td>1.5</td>\n      <td>NaN</td>\n      <td>2004</td>\n    </tr>\n    <tr>\n      <th>estado2</th>\n      <td>Rio de Janeiro</td>\n      <td>1.7</td>\n      <td>NaN</td>\n      <td>2005</td>\n    </tr>\n    <tr>\n      <th>estado3</th>\n      <td>Tocantins</td>\n      <td>1.6</td>\n      <td>NaN</td>\n      <td>2006</td>\n    </tr>\n    <tr>\n      <th>estado4</th>\n      <td>Bahia</td>\n      <td>2.4</td>\n      <td>NaN</td>\n      <td>2007</td>\n    </tr>\n    <tr>\n      <th>estado5</th>\n      <td>Minas Gerais</td>\n      <td>2.7</td>\n      <td>NaN</td>\n      <td>2008</td>\n    </tr>\n  </tbody>\n</table>\n</div>"
     },
     "execution_count": 11,
     "metadata": {},
     "output_type": "execute_result"
    }
   ],
   "source": [
    "df2"
   ],
   "metadata": {
    "collapsed": false,
    "ExecuteTime": {
     "end_time": "2024-08-15T13:30:16.614908Z",
     "start_time": "2024-08-15T13:30:16.592256Z"
    }
   },
   "id": "5be8ffc2d559f1aa",
   "execution_count": 11
  },
  {
   "cell_type": "code",
   "outputs": [
    {
     "data": {
      "text/plain": "array([['Santa Catarina', 1.5, nan, 2004],\n       ['Rio de Janeiro', 1.7, nan, 2005],\n       ['Tocantins', 1.6, nan, 2006],\n       ['Bahia', 2.4, nan, 2007],\n       ['Minas Gerais', 2.7, nan, 2008]], dtype=object)"
     },
     "execution_count": 14,
     "metadata": {},
     "output_type": "execute_result"
    }
   ],
   "source": [
    "df2.values"
   ],
   "metadata": {
    "collapsed": false,
    "ExecuteTime": {
     "end_time": "2024-08-15T13:32:48.707410Z",
     "start_time": "2024-08-15T13:32:48.695676Z"
    }
   },
   "id": "75a537a948292f29",
   "execution_count": 14
  },
  {
   "cell_type": "code",
   "outputs": [
    {
     "data": {
      "text/plain": "Estado               object\nTaxa Desemprego     float64\nTaxa Crescimento     object\nAno                   int64\ndtype: object"
     },
     "execution_count": 15,
     "metadata": {},
     "output_type": "execute_result"
    }
   ],
   "source": [
    "df2.dtypes"
   ],
   "metadata": {
    "collapsed": false,
    "ExecuteTime": {
     "end_time": "2024-08-15T13:32:57.958715Z",
     "start_time": "2024-08-15T13:32:57.944235Z"
    }
   },
   "id": "1249fb1832388ee3",
   "execution_count": 15
  },
  {
   "cell_type": "code",
   "outputs": [
    {
     "data": {
      "text/plain": "Index(['Estado', 'Taxa Desemprego', 'Taxa Crescimento', 'Ano'], dtype='object')"
     },
     "execution_count": 12,
     "metadata": {},
     "output_type": "execute_result"
    }
   ],
   "source": [
    "df2.columns"
   ],
   "metadata": {
    "collapsed": false,
    "ExecuteTime": {
     "end_time": "2024-08-15T13:30:32.172575Z",
     "start_time": "2024-08-15T13:30:32.159656Z"
    }
   },
   "id": "3e2668c2627145c0",
   "execution_count": 12
  },
  {
   "cell_type": "code",
   "outputs": [
    {
     "data": {
      "text/plain": "estado1    Santa Catarina\nestado2    Rio de Janeiro\nestado3         Tocantins\nestado4             Bahia\nestado5      Minas Gerais\nName: Estado, dtype: object"
     },
     "execution_count": 16,
     "metadata": {},
     "output_type": "execute_result"
    }
   ],
   "source": [
    "#Imprimindo apenas uma coluna do DataFrame\n",
    "#Python é case sensitive (diferença de maiúsculo e minúsculo)\n",
    "df2['Estado']"
   ],
   "metadata": {
    "collapsed": false,
    "ExecuteTime": {
     "end_time": "2024-08-15T13:37:22.294861Z",
     "start_time": "2024-08-15T13:37:22.281660Z"
    }
   },
   "id": "dc2f158793f5bcc7",
   "execution_count": 16
  },
  {
   "cell_type": "code",
   "outputs": [
    {
     "data": {
      "text/plain": "         Taxa Desemprego   Ano\nestado1              1.5  2004\nestado2              1.7  2005\nestado3              1.6  2006\nestado4              2.4  2007\nestado5              2.7  2008",
      "text/html": "<div>\n<style scoped>\n    .dataframe tbody tr th:only-of-type {\n        vertical-align: middle;\n    }\n\n    .dataframe tbody tr th {\n        vertical-align: top;\n    }\n\n    .dataframe thead th {\n        text-align: right;\n    }\n</style>\n<table border=\"1\" class=\"dataframe\">\n  <thead>\n    <tr style=\"text-align: right;\">\n      <th></th>\n      <th>Taxa Desemprego</th>\n      <th>Ano</th>\n    </tr>\n  </thead>\n  <tbody>\n    <tr>\n      <th>estado1</th>\n      <td>1.5</td>\n      <td>2004</td>\n    </tr>\n    <tr>\n      <th>estado2</th>\n      <td>1.7</td>\n      <td>2005</td>\n    </tr>\n    <tr>\n      <th>estado3</th>\n      <td>1.6</td>\n      <td>2006</td>\n    </tr>\n    <tr>\n      <th>estado4</th>\n      <td>2.4</td>\n      <td>2007</td>\n    </tr>\n    <tr>\n      <th>estado5</th>\n      <td>2.7</td>\n      <td>2008</td>\n    </tr>\n  </tbody>\n</table>\n</div>"
     },
     "execution_count": 17,
     "metadata": {},
     "output_type": "execute_result"
    }
   ],
   "source": [
    "#Imprimindo apenas duas colunas do DataFrame\n",
    "df2[['Taxa Desemprego','Ano']]"
   ],
   "metadata": {
    "collapsed": false,
    "ExecuteTime": {
     "end_time": "2024-08-15T13:40:12.646710Z",
     "start_time": "2024-08-15T13:40:12.622758Z"
    }
   },
   "id": "fb08c996cf303018",
   "execution_count": 17
  },
  {
   "cell_type": "code",
   "outputs": [
    {
     "data": {
      "text/plain": "Index(['estado1', 'estado2', 'estado3', 'estado4', 'estado5'], dtype='object')"
     },
     "execution_count": 18,
     "metadata": {},
     "output_type": "execute_result"
    }
   ],
   "source": [
    "df2.index"
   ],
   "metadata": {
    "collapsed": false,
    "ExecuteTime": {
     "end_time": "2024-08-15T13:40:44.582625Z",
     "start_time": "2024-08-15T13:40:44.568973Z"
    }
   },
   "id": "1fd20a2b45cbdaa8",
   "execution_count": 18
  },
  {
   "cell_type": "code",
   "outputs": [
    {
     "data": {
      "text/plain": "            Estado  Taxa Desemprego Taxa Crescimento   Ano\nestado3  Tocantins              1.6              NaN  2006",
      "text/html": "<div>\n<style scoped>\n    .dataframe tbody tr th:only-of-type {\n        vertical-align: middle;\n    }\n\n    .dataframe tbody tr th {\n        vertical-align: top;\n    }\n\n    .dataframe thead th {\n        text-align: right;\n    }\n</style>\n<table border=\"1\" class=\"dataframe\">\n  <thead>\n    <tr style=\"text-align: right;\">\n      <th></th>\n      <th>Estado</th>\n      <th>Taxa Desemprego</th>\n      <th>Taxa Crescimento</th>\n      <th>Ano</th>\n    </tr>\n  </thead>\n  <tbody>\n    <tr>\n      <th>estado3</th>\n      <td>Tocantins</td>\n      <td>1.6</td>\n      <td>NaN</td>\n      <td>2006</td>\n    </tr>\n  </tbody>\n</table>\n</div>"
     },
     "execution_count": 19,
     "metadata": {},
     "output_type": "execute_result"
    }
   ],
   "source": [
    "#Filtrando peli índice\n",
    "df2.filter(items=['estado3'],axis= 0)"
   ],
   "metadata": {
    "collapsed": false,
    "ExecuteTime": {
     "end_time": "2024-08-15T13:41:34.031872Z",
     "start_time": "2024-08-15T13:41:34.004319Z"
    }
   },
   "id": "f2a6301a2dfc1e7e",
   "execution_count": 19
  },
  {
   "cell_type": "markdown",
   "source": [
    "USANDO NUMPY E PANDAS PARA MANIPULAÇÃO DE DADOS"
   ],
   "metadata": {
    "collapsed": false
   },
   "id": "a8e00d7e3304d7ee"
  },
  {
   "cell_type": "code",
   "outputs": [
    {
     "data": {
      "text/plain": "                 Estado  Taxa Desemprego Taxa Crescimento   Ano\nestado1  Santa Catarina              1.5              NaN  2004\nestado2  Rio de Janeiro              1.7              NaN  2005\nestado3       Tocantins              1.6              NaN  2006\nestado4           Bahia              2.4              NaN  2007\nestado5    Minas Gerais              2.7              NaN  2008",
      "text/html": "<div>\n<style scoped>\n    .dataframe tbody tr th:only-of-type {\n        vertical-align: middle;\n    }\n\n    .dataframe tbody tr th {\n        vertical-align: top;\n    }\n\n    .dataframe thead th {\n        text-align: right;\n    }\n</style>\n<table border=\"1\" class=\"dataframe\">\n  <thead>\n    <tr style=\"text-align: right;\">\n      <th></th>\n      <th>Estado</th>\n      <th>Taxa Desemprego</th>\n      <th>Taxa Crescimento</th>\n      <th>Ano</th>\n    </tr>\n  </thead>\n  <tbody>\n    <tr>\n      <th>estado1</th>\n      <td>Santa Catarina</td>\n      <td>1.5</td>\n      <td>NaN</td>\n      <td>2004</td>\n    </tr>\n    <tr>\n      <th>estado2</th>\n      <td>Rio de Janeiro</td>\n      <td>1.7</td>\n      <td>NaN</td>\n      <td>2005</td>\n    </tr>\n    <tr>\n      <th>estado3</th>\n      <td>Tocantins</td>\n      <td>1.6</td>\n      <td>NaN</td>\n      <td>2006</td>\n    </tr>\n    <tr>\n      <th>estado4</th>\n      <td>Bahia</td>\n      <td>2.4</td>\n      <td>NaN</td>\n      <td>2007</td>\n    </tr>\n    <tr>\n      <th>estado5</th>\n      <td>Minas Gerais</td>\n      <td>2.7</td>\n      <td>NaN</td>\n      <td>2008</td>\n    </tr>\n  </tbody>\n</table>\n</div>"
     },
     "execution_count": 20,
     "metadata": {},
     "output_type": "execute_result"
    }
   ],
   "source": [
    "df2.head()"
   ],
   "metadata": {
    "collapsed": false,
    "ExecuteTime": {
     "end_time": "2024-08-15T13:42:45.699495Z",
     "start_time": "2024-08-15T13:42:45.678342Z"
    }
   },
   "id": "604470fb5a88e1ee",
   "execution_count": 20
  },
  {
   "cell_type": "code",
   "outputs": [
    {
     "data": {
      "text/plain": "Estado               object\nTaxa Desemprego     float64\nTaxa Crescimento     object\nAno                   int64\ndtype: object"
     },
     "execution_count": 21,
     "metadata": {},
     "output_type": "execute_result"
    }
   ],
   "source": [
    "df2.dtypes"
   ],
   "metadata": {
    "collapsed": false,
    "ExecuteTime": {
     "end_time": "2024-08-15T13:42:55.909141Z",
     "start_time": "2024-08-15T13:42:55.893501Z"
    }
   },
   "id": "43e5136212620305",
   "execution_count": 21
  },
  {
   "cell_type": "code",
   "outputs": [
    {
     "data": {
      "text/plain": "       Taxa Desemprego          Ano\ncount         5.000000     5.000000\nmean          1.980000  2006.000000\nstd           0.535724     1.581139\nmin           1.500000  2004.000000\n25%           1.600000  2005.000000\n50%           1.700000  2006.000000\n75%           2.400000  2007.000000\nmax           2.700000  2008.000000",
      "text/html": "<div>\n<style scoped>\n    .dataframe tbody tr th:only-of-type {\n        vertical-align: middle;\n    }\n\n    .dataframe tbody tr th {\n        vertical-align: top;\n    }\n\n    .dataframe thead th {\n        text-align: right;\n    }\n</style>\n<table border=\"1\" class=\"dataframe\">\n  <thead>\n    <tr style=\"text-align: right;\">\n      <th></th>\n      <th>Taxa Desemprego</th>\n      <th>Ano</th>\n    </tr>\n  </thead>\n  <tbody>\n    <tr>\n      <th>count</th>\n      <td>5.000000</td>\n      <td>5.000000</td>\n    </tr>\n    <tr>\n      <th>mean</th>\n      <td>1.980000</td>\n      <td>2006.000000</td>\n    </tr>\n    <tr>\n      <th>std</th>\n      <td>0.535724</td>\n      <td>1.581139</td>\n    </tr>\n    <tr>\n      <th>min</th>\n      <td>1.500000</td>\n      <td>2004.000000</td>\n    </tr>\n    <tr>\n      <th>25%</th>\n      <td>1.600000</td>\n      <td>2005.000000</td>\n    </tr>\n    <tr>\n      <th>50%</th>\n      <td>1.700000</td>\n      <td>2006.000000</td>\n    </tr>\n    <tr>\n      <th>75%</th>\n      <td>2.400000</td>\n      <td>2007.000000</td>\n    </tr>\n    <tr>\n      <th>max</th>\n      <td>2.700000</td>\n      <td>2008.000000</td>\n    </tr>\n  </tbody>\n</table>\n</div>"
     },
     "execution_count": 22,
     "metadata": {},
     "output_type": "execute_result"
    }
   ],
   "source": [
    "#Resumo estatístico do DataFrame\n",
    "#Somente colunas dos tipos númericos\n",
    "df2.describe()"
   ],
   "metadata": {
    "collapsed": false,
    "ExecuteTime": {
     "end_time": "2024-08-15T13:43:03.664989Z",
     "start_time": "2024-08-15T13:43:03.638097Z"
    }
   },
   "id": "5358ca55de7d1a16",
   "execution_count": 22
  },
  {
   "cell_type": "code",
   "outputs": [
    {
     "data": {
      "text/plain": "         Estado  Taxa Desemprego  Taxa Crescimento    Ano\nestado1   False            False              True  False\nestado2   False            False              True  False\nestado3   False            False              True  False\nestado4   False            False              True  False\nestado5   False            False              True  False",
      "text/html": "<div>\n<style scoped>\n    .dataframe tbody tr th:only-of-type {\n        vertical-align: middle;\n    }\n\n    .dataframe tbody tr th {\n        vertical-align: top;\n    }\n\n    .dataframe thead th {\n        text-align: right;\n    }\n</style>\n<table border=\"1\" class=\"dataframe\">\n  <thead>\n    <tr style=\"text-align: right;\">\n      <th></th>\n      <th>Estado</th>\n      <th>Taxa Desemprego</th>\n      <th>Taxa Crescimento</th>\n      <th>Ano</th>\n    </tr>\n  </thead>\n  <tbody>\n    <tr>\n      <th>estado1</th>\n      <td>False</td>\n      <td>False</td>\n      <td>True</td>\n      <td>False</td>\n    </tr>\n    <tr>\n      <th>estado2</th>\n      <td>False</td>\n      <td>False</td>\n      <td>True</td>\n      <td>False</td>\n    </tr>\n    <tr>\n      <th>estado3</th>\n      <td>False</td>\n      <td>False</td>\n      <td>True</td>\n      <td>False</td>\n    </tr>\n    <tr>\n      <th>estado4</th>\n      <td>False</td>\n      <td>False</td>\n      <td>True</td>\n      <td>False</td>\n    </tr>\n    <tr>\n      <th>estado5</th>\n      <td>False</td>\n      <td>False</td>\n      <td>True</td>\n      <td>False</td>\n    </tr>\n  </tbody>\n</table>\n</div>"
     },
     "execution_count": 23,
     "metadata": {},
     "output_type": "execute_result"
    }
   ],
   "source": [
    "df2.isna()"
   ],
   "metadata": {
    "collapsed": false,
    "ExecuteTime": {
     "end_time": "2024-08-15T13:43:56.570787Z",
     "start_time": "2024-08-15T13:43:56.547885Z"
    }
   },
   "id": "eec4d09387f3a29c",
   "execution_count": 23
  },
  {
   "cell_type": "code",
   "outputs": [
    {
     "data": {
      "text/plain": "estado1    True\nestado2    True\nestado3    True\nestado4    True\nestado5    True\nName: Taxa Crescimento, dtype: bool"
     },
     "execution_count": 24,
     "metadata": {},
     "output_type": "execute_result"
    }
   ],
   "source": [
    "df2['Taxa Crescimento'].isna()"
   ],
   "metadata": {
    "collapsed": false,
    "ExecuteTime": {
     "end_time": "2024-08-15T13:50:58.495468Z",
     "start_time": "2024-08-15T13:50:58.481035Z"
    }
   },
   "id": "d78b9907c3d68ebb",
   "execution_count": 24
  },
  {
   "cell_type": "code",
   "outputs": [],
   "source": [
    "#Imporantando o NumPy\n",
    "import numpy as np"
   ],
   "metadata": {
    "collapsed": false,
    "ExecuteTime": {
     "end_time": "2024-08-16T12:43:05.229564Z",
     "start_time": "2024-08-16T12:43:05.068414Z"
    }
   },
   "id": "ab1499ce51d85a5c",
   "execution_count": 3
  },
  {
   "cell_type": "code",
   "outputs": [],
   "source": [
    "#Usando o NumPy para alimentar uma das colunas do dataframe\n",
    "df2['Taxa Crescimento'] = np.arange(5.)"
   ],
   "metadata": {
    "collapsed": false,
    "ExecuteTime": {
     "end_time": "2024-08-15T13:52:35.487527Z",
     "start_time": "2024-08-15T13:52:35.478359Z"
    }
   },
   "id": "ae34e68a2d046dd3",
   "execution_count": 26
  },
  {
   "cell_type": "code",
   "outputs": [
    {
     "data": {
      "text/plain": "                 Estado  Taxa Desemprego  Taxa Crescimento   Ano\nestado1  Santa Catarina              1.5               0.0  2004\nestado2  Rio de Janeiro              1.7               1.0  2005\nestado3       Tocantins              1.6               2.0  2006\nestado4           Bahia              2.4               3.0  2007\nestado5    Minas Gerais              2.7               4.0  2008",
      "text/html": "<div>\n<style scoped>\n    .dataframe tbody tr th:only-of-type {\n        vertical-align: middle;\n    }\n\n    .dataframe tbody tr th {\n        vertical-align: top;\n    }\n\n    .dataframe thead th {\n        text-align: right;\n    }\n</style>\n<table border=\"1\" class=\"dataframe\">\n  <thead>\n    <tr style=\"text-align: right;\">\n      <th></th>\n      <th>Estado</th>\n      <th>Taxa Desemprego</th>\n      <th>Taxa Crescimento</th>\n      <th>Ano</th>\n    </tr>\n  </thead>\n  <tbody>\n    <tr>\n      <th>estado1</th>\n      <td>Santa Catarina</td>\n      <td>1.5</td>\n      <td>0.0</td>\n      <td>2004</td>\n    </tr>\n    <tr>\n      <th>estado2</th>\n      <td>Rio de Janeiro</td>\n      <td>1.7</td>\n      <td>1.0</td>\n      <td>2005</td>\n    </tr>\n    <tr>\n      <th>estado3</th>\n      <td>Tocantins</td>\n      <td>1.6</td>\n      <td>2.0</td>\n      <td>2006</td>\n    </tr>\n    <tr>\n      <th>estado4</th>\n      <td>Bahia</td>\n      <td>2.4</td>\n      <td>3.0</td>\n      <td>2007</td>\n    </tr>\n    <tr>\n      <th>estado5</th>\n      <td>Minas Gerais</td>\n      <td>2.7</td>\n      <td>4.0</td>\n      <td>2008</td>\n    </tr>\n  </tbody>\n</table>\n</div>"
     },
     "execution_count": 27,
     "metadata": {},
     "output_type": "execute_result"
    }
   ],
   "source": [
    "df2"
   ],
   "metadata": {
    "collapsed": false,
    "ExecuteTime": {
     "end_time": "2024-08-15T13:52:42.881199Z",
     "start_time": "2024-08-15T13:52:42.852423Z"
    }
   },
   "id": "e39bdc1acf91ba6c",
   "execution_count": 27
  },
  {
   "cell_type": "code",
   "outputs": [
    {
     "data": {
      "text/plain": "Estado               object\nTaxa Desemprego     float64\nTaxa Crescimento    float64\nAno                   int64\ndtype: object"
     },
     "execution_count": 30,
     "metadata": {},
     "output_type": "execute_result"
    }
   ],
   "source": [
    "df2.dtypes"
   ],
   "metadata": {
    "collapsed": false,
    "ExecuteTime": {
     "end_time": "2024-08-15T13:54:27.421673Z",
     "start_time": "2024-08-15T13:54:27.400109Z"
    }
   },
   "id": "b57d8b42f4acfa4a",
   "execution_count": 30
  },
  {
   "cell_type": "code",
   "outputs": [
    {
     "data": {
      "text/plain": "estado1    False\nestado2    False\nestado3    False\nestado4    False\nestado5    False\nName: Taxa Crescimento, dtype: bool"
     },
     "execution_count": 28,
     "metadata": {},
     "output_type": "execute_result"
    }
   ],
   "source": [
    "df2['Taxa Crescimento'].isna()"
   ],
   "metadata": {
    "collapsed": false,
    "ExecuteTime": {
     "end_time": "2024-08-15T13:53:04.909439Z",
     "start_time": "2024-08-15T13:53:04.897289Z"
    }
   },
   "id": "db7d37a34fb1d1c0",
   "execution_count": 28
  },
  {
   "cell_type": "code",
   "outputs": [
    {
     "data": {
      "text/plain": "       Taxa Desemprego  Taxa Crescimento          Ano\ncount         5.000000          5.000000     5.000000\nmean          1.980000          2.000000  2006.000000\nstd           0.535724          1.581139     1.581139\nmin           1.500000          0.000000  2004.000000\n25%           1.600000          1.000000  2005.000000\n50%           1.700000          2.000000  2006.000000\n75%           2.400000          3.000000  2007.000000\nmax           2.700000          4.000000  2008.000000",
      "text/html": "<div>\n<style scoped>\n    .dataframe tbody tr th:only-of-type {\n        vertical-align: middle;\n    }\n\n    .dataframe tbody tr th {\n        vertical-align: top;\n    }\n\n    .dataframe thead th {\n        text-align: right;\n    }\n</style>\n<table border=\"1\" class=\"dataframe\">\n  <thead>\n    <tr style=\"text-align: right;\">\n      <th></th>\n      <th>Taxa Desemprego</th>\n      <th>Taxa Crescimento</th>\n      <th>Ano</th>\n    </tr>\n  </thead>\n  <tbody>\n    <tr>\n      <th>count</th>\n      <td>5.000000</td>\n      <td>5.000000</td>\n      <td>5.000000</td>\n    </tr>\n    <tr>\n      <th>mean</th>\n      <td>1.980000</td>\n      <td>2.000000</td>\n      <td>2006.000000</td>\n    </tr>\n    <tr>\n      <th>std</th>\n      <td>0.535724</td>\n      <td>1.581139</td>\n      <td>1.581139</td>\n    </tr>\n    <tr>\n      <th>min</th>\n      <td>1.500000</td>\n      <td>0.000000</td>\n      <td>2004.000000</td>\n    </tr>\n    <tr>\n      <th>25%</th>\n      <td>1.600000</td>\n      <td>1.000000</td>\n      <td>2005.000000</td>\n    </tr>\n    <tr>\n      <th>50%</th>\n      <td>1.700000</td>\n      <td>2.000000</td>\n      <td>2006.000000</td>\n    </tr>\n    <tr>\n      <th>75%</th>\n      <td>2.400000</td>\n      <td>3.000000</td>\n      <td>2007.000000</td>\n    </tr>\n    <tr>\n      <th>max</th>\n      <td>2.700000</td>\n      <td>4.000000</td>\n      <td>2008.000000</td>\n    </tr>\n  </tbody>\n</table>\n</div>"
     },
     "execution_count": 29,
     "metadata": {},
     "output_type": "execute_result"
    }
   ],
   "source": [
    "#Resumo estatístico do DataFrame\n",
    "df2.describe()"
   ],
   "metadata": {
    "collapsed": false,
    "ExecuteTime": {
     "end_time": "2024-08-15T13:53:27.821057Z",
     "start_time": "2024-08-15T13:53:27.788007Z"
    }
   },
   "id": "c54a2ee799f47997",
   "execution_count": 29
  },
  {
   "cell_type": "markdown",
   "source": [
    "SLICING DE DATAFRAMES DO PANDAS"
   ],
   "metadata": {
    "collapsed": false
   },
   "id": "206aa892ea346269"
  },
  {
   "cell_type": "code",
   "outputs": [
    {
     "data": {
      "text/plain": "                 Estado  Taxa Desemprego  Taxa Crescimento   Ano\nestado1  Santa Catarina              1.5               0.0  2004\nestado2  Rio de Janeiro              1.7               1.0  2005\nestado3       Tocantins              1.6               2.0  2006\nestado4           Bahia              2.4               3.0  2007\nestado5    Minas Gerais              2.7               4.0  2008",
      "text/html": "<div>\n<style scoped>\n    .dataframe tbody tr th:only-of-type {\n        vertical-align: middle;\n    }\n\n    .dataframe tbody tr th {\n        vertical-align: top;\n    }\n\n    .dataframe thead th {\n        text-align: right;\n    }\n</style>\n<table border=\"1\" class=\"dataframe\">\n  <thead>\n    <tr style=\"text-align: right;\">\n      <th></th>\n      <th>Estado</th>\n      <th>Taxa Desemprego</th>\n      <th>Taxa Crescimento</th>\n      <th>Ano</th>\n    </tr>\n  </thead>\n  <tbody>\n    <tr>\n      <th>estado1</th>\n      <td>Santa Catarina</td>\n      <td>1.5</td>\n      <td>0.0</td>\n      <td>2004</td>\n    </tr>\n    <tr>\n      <th>estado2</th>\n      <td>Rio de Janeiro</td>\n      <td>1.7</td>\n      <td>1.0</td>\n      <td>2005</td>\n    </tr>\n    <tr>\n      <th>estado3</th>\n      <td>Tocantins</td>\n      <td>1.6</td>\n      <td>2.0</td>\n      <td>2006</td>\n    </tr>\n    <tr>\n      <th>estado4</th>\n      <td>Bahia</td>\n      <td>2.4</td>\n      <td>3.0</td>\n      <td>2007</td>\n    </tr>\n    <tr>\n      <th>estado5</th>\n      <td>Minas Gerais</td>\n      <td>2.7</td>\n      <td>4.0</td>\n      <td>2008</td>\n    </tr>\n  </tbody>\n</table>\n</div>"
     },
     "execution_count": 32,
     "metadata": {},
     "output_type": "execute_result"
    }
   ],
   "source": [
    "df2"
   ],
   "metadata": {
    "collapsed": false,
    "ExecuteTime": {
     "end_time": "2024-08-15T13:56:30.910277Z",
     "start_time": "2024-08-15T13:56:30.890342Z"
    }
   },
   "id": "1a032aa5f49d5069",
   "execution_count": 32
  },
  {
   "cell_type": "code",
   "outputs": [
    {
     "data": {
      "text/plain": "                 Estado  Taxa Desemprego  Taxa Crescimento   Ano\nestado2  Rio de Janeiro              1.7               1.0  2005\nestado3       Tocantins              1.6               2.0  2006\nestado4           Bahia              2.4               3.0  2007",
      "text/html": "<div>\n<style scoped>\n    .dataframe tbody tr th:only-of-type {\n        vertical-align: middle;\n    }\n\n    .dataframe tbody tr th {\n        vertical-align: top;\n    }\n\n    .dataframe thead th {\n        text-align: right;\n    }\n</style>\n<table border=\"1\" class=\"dataframe\">\n  <thead>\n    <tr style=\"text-align: right;\">\n      <th></th>\n      <th>Estado</th>\n      <th>Taxa Desemprego</th>\n      <th>Taxa Crescimento</th>\n      <th>Ano</th>\n    </tr>\n  </thead>\n  <tbody>\n    <tr>\n      <th>estado2</th>\n      <td>Rio de Janeiro</td>\n      <td>1.7</td>\n      <td>1.0</td>\n      <td>2005</td>\n    </tr>\n    <tr>\n      <th>estado3</th>\n      <td>Tocantins</td>\n      <td>1.6</td>\n      <td>2.0</td>\n      <td>2006</td>\n    </tr>\n    <tr>\n      <th>estado4</th>\n      <td>Bahia</td>\n      <td>2.4</td>\n      <td>3.0</td>\n      <td>2007</td>\n    </tr>\n  </tbody>\n</table>\n</div>"
     },
     "execution_count": 33,
     "metadata": {},
     "output_type": "execute_result"
    }
   ],
   "source": [
    "df2['estado2':'estado4']"
   ],
   "metadata": {
    "collapsed": false,
    "ExecuteTime": {
     "end_time": "2024-08-15T13:56:52.120724Z",
     "start_time": "2024-08-15T13:56:52.090956Z"
    }
   },
   "id": "af94d12a679bd989",
   "execution_count": 33
  },
  {
   "cell_type": "code",
   "outputs": [
    {
     "data": {
      "text/plain": "                 Estado  Taxa Desemprego  Taxa Crescimento   Ano\nestado1  Santa Catarina              1.5               0.0  2004\nestado2  Rio de Janeiro              1.7               1.0  2005\nestado3       Tocantins              1.6               2.0  2006",
      "text/html": "<div>\n<style scoped>\n    .dataframe tbody tr th:only-of-type {\n        vertical-align: middle;\n    }\n\n    .dataframe tbody tr th {\n        vertical-align: top;\n    }\n\n    .dataframe thead th {\n        text-align: right;\n    }\n</style>\n<table border=\"1\" class=\"dataframe\">\n  <thead>\n    <tr style=\"text-align: right;\">\n      <th></th>\n      <th>Estado</th>\n      <th>Taxa Desemprego</th>\n      <th>Taxa Crescimento</th>\n      <th>Ano</th>\n    </tr>\n  </thead>\n  <tbody>\n    <tr>\n      <th>estado1</th>\n      <td>Santa Catarina</td>\n      <td>1.5</td>\n      <td>0.0</td>\n      <td>2004</td>\n    </tr>\n    <tr>\n      <th>estado2</th>\n      <td>Rio de Janeiro</td>\n      <td>1.7</td>\n      <td>1.0</td>\n      <td>2005</td>\n    </tr>\n    <tr>\n      <th>estado3</th>\n      <td>Tocantins</td>\n      <td>1.6</td>\n      <td>2.0</td>\n      <td>2006</td>\n    </tr>\n  </tbody>\n</table>\n</div>"
     },
     "execution_count": 34,
     "metadata": {},
     "output_type": "execute_result"
    }
   ],
   "source": [
    "df2[df2['Taxa Desemprego']<2]"
   ],
   "metadata": {
    "collapsed": false,
    "ExecuteTime": {
     "end_time": "2024-08-15T13:57:16.094057Z",
     "start_time": "2024-08-15T13:57:16.073169Z"
    }
   },
   "id": "3b5734f9faf842",
   "execution_count": 34
  },
  {
   "cell_type": "code",
   "outputs": [
    {
     "data": {
      "text/plain": "                 Estado  Taxa Crescimento\nestado1  Santa Catarina               0.0\nestado2  Rio de Janeiro               1.0\nestado3       Tocantins               2.0\nestado4           Bahia               3.0\nestado5    Minas Gerais               4.0",
      "text/html": "<div>\n<style scoped>\n    .dataframe tbody tr th:only-of-type {\n        vertical-align: middle;\n    }\n\n    .dataframe tbody tr th {\n        vertical-align: top;\n    }\n\n    .dataframe thead th {\n        text-align: right;\n    }\n</style>\n<table border=\"1\" class=\"dataframe\">\n  <thead>\n    <tr style=\"text-align: right;\">\n      <th></th>\n      <th>Estado</th>\n      <th>Taxa Crescimento</th>\n    </tr>\n  </thead>\n  <tbody>\n    <tr>\n      <th>estado1</th>\n      <td>Santa Catarina</td>\n      <td>0.0</td>\n    </tr>\n    <tr>\n      <th>estado2</th>\n      <td>Rio de Janeiro</td>\n      <td>1.0</td>\n    </tr>\n    <tr>\n      <th>estado3</th>\n      <td>Tocantins</td>\n      <td>2.0</td>\n    </tr>\n    <tr>\n      <th>estado4</th>\n      <td>Bahia</td>\n      <td>3.0</td>\n    </tr>\n    <tr>\n      <th>estado5</th>\n      <td>Minas Gerais</td>\n      <td>4.0</td>\n    </tr>\n  </tbody>\n</table>\n</div>"
     },
     "execution_count": 35,
     "metadata": {},
     "output_type": "execute_result"
    }
   ],
   "source": [
    "df2[['Estado','Taxa Crescimento']]"
   ],
   "metadata": {
    "collapsed": false,
    "ExecuteTime": {
     "end_time": "2024-08-15T13:57:44.545801Z",
     "start_time": "2024-08-15T13:57:44.522725Z"
    }
   },
   "id": "cf618b2409cc490",
   "execution_count": 35
  },
  {
   "cell_type": "markdown",
   "source": [
    "PREENCHENDO VALORES AUSENTES EM DATAFRAMES DO PANDAS\n",
    "- A função fillna() é usada para preencher os valres ausentes"
   ],
   "metadata": {
    "collapsed": false
   },
   "id": "73c04274a841717a"
  },
  {
   "cell_type": "code",
   "outputs": [],
   "source": [
    "#Primeiro importamos um dataset\n",
    "dsa_df = pd.read_csv(\"dataset.csv\")"
   ],
   "metadata": {
    "collapsed": false,
    "ExecuteTime": {
     "end_time": "2024-08-16T12:43:22.123916Z",
     "start_time": "2024-08-16T12:43:22.062131Z"
    }
   },
   "id": "3a0f946bcfb3e12d",
   "execution_count": 5
  },
  {
   "cell_type": "code",
   "outputs": [
    {
     "data": {
      "text/plain": "        ID_Pedido Data_Pedido ID_Cliente   Segmento           Pais Regiao  \\\n0  CA-2016-152156  2016-11-08   CG-12520   Consumer  United States  South   \n1  CA-2016-152156  2016-11-08   CG-12520   Consumer  United States  South   \n2  CA-2016-138688  2016-06-12   DV-13045  Corporate  United States   West   \n3  US-2015-108966  2015-10-11   SO-20335   Consumer  United States  South   \n4  US-2015-108966  2015-10-11   SO-20335   Consumer  United States  South   \n\n        ID_Produto        Categoria  \\\n0  FUR-BO-10001798        Furniture   \n1  FUR-CH-10000454        Furniture   \n2  OFF-LA-10000240  Office Supplies   \n3  FUR-TA-10000577        Furniture   \n4  OFF-ST-10000760  Office Supplies   \n\n                                        Nome_Produto  Valor_Venda  Quantidade  \n0                  Bush Somerset Collection Bookcase     261.9600         NaN  \n1  Hon Deluxe Fabric Upholstered Stacking Chairs,...     731.9400         NaN  \n2  Self-Adhesive Address Labels for Typewriters b...      14.6200         2.0  \n3      Bretford CR4500 Series Slim Rectangular Table     957.5775         5.0  \n4                     Eldon Fold 'N Roll Cart System      22.3680         2.0  ",
      "text/html": "<div>\n<style scoped>\n    .dataframe tbody tr th:only-of-type {\n        vertical-align: middle;\n    }\n\n    .dataframe tbody tr th {\n        vertical-align: top;\n    }\n\n    .dataframe thead th {\n        text-align: right;\n    }\n</style>\n<table border=\"1\" class=\"dataframe\">\n  <thead>\n    <tr style=\"text-align: right;\">\n      <th></th>\n      <th>ID_Pedido</th>\n      <th>Data_Pedido</th>\n      <th>ID_Cliente</th>\n      <th>Segmento</th>\n      <th>Pais</th>\n      <th>Regiao</th>\n      <th>ID_Produto</th>\n      <th>Categoria</th>\n      <th>Nome_Produto</th>\n      <th>Valor_Venda</th>\n      <th>Quantidade</th>\n    </tr>\n  </thead>\n  <tbody>\n    <tr>\n      <th>0</th>\n      <td>CA-2016-152156</td>\n      <td>2016-11-08</td>\n      <td>CG-12520</td>\n      <td>Consumer</td>\n      <td>United States</td>\n      <td>South</td>\n      <td>FUR-BO-10001798</td>\n      <td>Furniture</td>\n      <td>Bush Somerset Collection Bookcase</td>\n      <td>261.9600</td>\n      <td>NaN</td>\n    </tr>\n    <tr>\n      <th>1</th>\n      <td>CA-2016-152156</td>\n      <td>2016-11-08</td>\n      <td>CG-12520</td>\n      <td>Consumer</td>\n      <td>United States</td>\n      <td>South</td>\n      <td>FUR-CH-10000454</td>\n      <td>Furniture</td>\n      <td>Hon Deluxe Fabric Upholstered Stacking Chairs,...</td>\n      <td>731.9400</td>\n      <td>NaN</td>\n    </tr>\n    <tr>\n      <th>2</th>\n      <td>CA-2016-138688</td>\n      <td>2016-06-12</td>\n      <td>DV-13045</td>\n      <td>Corporate</td>\n      <td>United States</td>\n      <td>West</td>\n      <td>OFF-LA-10000240</td>\n      <td>Office Supplies</td>\n      <td>Self-Adhesive Address Labels for Typewriters b...</td>\n      <td>14.6200</td>\n      <td>2.0</td>\n    </tr>\n    <tr>\n      <th>3</th>\n      <td>US-2015-108966</td>\n      <td>2015-10-11</td>\n      <td>SO-20335</td>\n      <td>Consumer</td>\n      <td>United States</td>\n      <td>South</td>\n      <td>FUR-TA-10000577</td>\n      <td>Furniture</td>\n      <td>Bretford CR4500 Series Slim Rectangular Table</td>\n      <td>957.5775</td>\n      <td>5.0</td>\n    </tr>\n    <tr>\n      <th>4</th>\n      <td>US-2015-108966</td>\n      <td>2015-10-11</td>\n      <td>SO-20335</td>\n      <td>Consumer</td>\n      <td>United States</td>\n      <td>South</td>\n      <td>OFF-ST-10000760</td>\n      <td>Office Supplies</td>\n      <td>Eldon Fold 'N Roll Cart System</td>\n      <td>22.3680</td>\n      <td>2.0</td>\n    </tr>\n  </tbody>\n</table>\n</div>"
     },
     "execution_count": 37,
     "metadata": {},
     "output_type": "execute_result"
    }
   ],
   "source": [
    "dsa_df.head(5)"
   ],
   "metadata": {
    "collapsed": false,
    "ExecuteTime": {
     "end_time": "2024-08-15T14:23:17.618122Z",
     "start_time": "2024-08-15T14:23:17.605248Z"
    }
   },
   "id": "3c7c188742bad32",
   "execution_count": 37
  },
  {
   "cell_type": "code",
   "outputs": [
    {
     "data": {
      "text/plain": "ID_Pedido       0\nData_Pedido     0\nID_Cliente      0\nSegmento        0\nPais            0\nRegiao          0\nID_Produto      0\nCategoria       0\nNome_Produto    0\nValor_Venda     0\nQuantidade      2\ndtype: int64"
     },
     "execution_count": 38,
     "metadata": {},
     "output_type": "execute_result"
    }
   ],
   "source": [
    "dsa_df.isna().sum()"
   ],
   "metadata": {
    "collapsed": false,
    "ExecuteTime": {
     "end_time": "2024-08-15T14:23:40.695020Z",
     "start_time": "2024-08-15T14:23:40.684489Z"
    }
   },
   "id": "902e3d275ef36066",
   "execution_count": 38
  },
  {
   "cell_type": "code",
   "outputs": [],
   "source": [
    "#Extrímos a moda da coluna Quantidade\n",
    "moda = dsa_df['Quantidade'].value_counts().index[0]"
   ],
   "metadata": {
    "collapsed": false,
    "ExecuteTime": {
     "end_time": "2024-08-15T14:27:17.197767Z",
     "start_time": "2024-08-15T14:27:17.193141Z"
    }
   },
   "id": "a3c4cb8cd3aad6b6",
   "execution_count": 40
  },
  {
   "cell_type": "code",
   "outputs": [
    {
     "name": "stdout",
     "output_type": "stream",
     "text": [
      "3.0\n"
     ]
    }
   ],
   "source": [
    "print(moda)"
   ],
   "metadata": {
    "collapsed": false,
    "ExecuteTime": {
     "end_time": "2024-08-15T14:27:31.121897Z",
     "start_time": "2024-08-15T14:27:31.117352Z"
    }
   },
   "id": "558acd0e7185ad9e",
   "execution_count": 41
  },
  {
   "cell_type": "code",
   "outputs": [],
   "source": [
    "#E por fim preenchemos os valores NA com a moda\n",
    "dsa_df['Quantidade'].fillna(value= moda, inplace=True)"
   ],
   "metadata": {
    "collapsed": false,
    "ExecuteTime": {
     "end_time": "2024-08-15T14:28:39.363298Z",
     "start_time": "2024-08-15T14:28:39.356665Z"
    }
   },
   "id": "add2faadff1d18b4",
   "execution_count": 42
  },
  {
   "cell_type": "code",
   "outputs": [
    {
     "data": {
      "text/plain": "ID_Pedido       0\nData_Pedido     0\nID_Cliente      0\nSegmento        0\nPais            0\nRegiao          0\nID_Produto      0\nCategoria       0\nNome_Produto    0\nValor_Venda     0\nQuantidade      0\ndtype: int64"
     },
     "execution_count": 43,
     "metadata": {},
     "output_type": "execute_result"
    }
   ],
   "source": [
    "dsa_df.isna().sum()"
   ],
   "metadata": {
    "collapsed": false,
    "ExecuteTime": {
     "end_time": "2024-08-15T14:28:53.640831Z",
     "start_time": "2024-08-15T14:28:53.628989Z"
    }
   },
   "id": "a5ed09d63dc62946",
   "execution_count": 43
  },
  {
   "cell_type": "markdown",
   "source": [
    "QUERY (CONSULTA) DE DADOS NO DATAFRAMES DO PANDAS\n",
    "- Método query() para fazer consultas"
   ],
   "metadata": {
    "collapsed": false
   },
   "id": "88b174166518cd64"
  },
  {
   "cell_type": "code",
   "outputs": [
    {
     "data": {
      "text/plain": "count     9994.000000\nmean       229.858001\nstd        623.245101\nmin          0.444000\n25%         17.280000\n50%         54.490000\n75%        209.940000\nmax      22638.480000\nName: Valor_Venda, dtype: float64"
     },
     "execution_count": 6,
     "metadata": {},
     "output_type": "execute_result"
    }
   ],
   "source": [
    "#Checamos os valores mínimo e máximo da coluna Valor_venda\n",
    "dsa_df.Valor_Venda.describe()"
   ],
   "metadata": {
    "collapsed": false,
    "ExecuteTime": {
     "end_time": "2024-08-16T12:43:31.040058Z",
     "start_time": "2024-08-16T12:43:31.022170Z"
    }
   },
   "id": "5f9d843ee6138639",
   "execution_count": 6
  },
  {
   "cell_type": "code",
   "outputs": [],
   "source": [
    "#Geramos um novo dataframe apenas com o intervalo de vendas entre 229 e 10000\n",
    "df2 = dsa_df.query('229 < Valor_Venda < 10000')"
   ],
   "metadata": {
    "collapsed": false,
    "ExecuteTime": {
     "end_time": "2024-08-16T12:45:51.794047Z",
     "start_time": "2024-08-16T12:45:51.780823Z"
    }
   },
   "id": "9277b221540d91db",
   "execution_count": 7
  },
  {
   "cell_type": "code",
   "outputs": [
    {
     "data": {
      "text/plain": "count    2357.000000\nmean      766.679142\nstd       856.315136\nmin       229.544000\n25%       323.100000\n50%       490.320000\n75%       859.200000\nmax      9892.740000\nName: Valor_Venda, dtype: float64"
     },
     "execution_count": 8,
     "metadata": {},
     "output_type": "execute_result"
    }
   ],
   "source": [
    "df2.Valor_Venda.describe()"
   ],
   "metadata": {
    "collapsed": false,
    "ExecuteTime": {
     "end_time": "2024-08-16T12:46:10.302565Z",
     "start_time": "2024-08-16T12:46:10.292784Z"
    }
   },
   "id": "615b2eb73b3f27f6",
   "execution_count": 8
  },
  {
   "cell_type": "code",
   "outputs": [],
   "source": [
    "#Geramos um novo dataframe apenas com os valores de venda acima da média\n",
    "df3 = df2.query('Valor_Venda > 766')"
   ],
   "metadata": {
    "collapsed": false,
    "ExecuteTime": {
     "end_time": "2024-08-16T12:47:43.884697Z",
     "start_time": "2024-08-16T12:47:43.876190Z"
    }
   },
   "id": "b209053ff38d6c00",
   "execution_count": 10
  },
  {
   "cell_type": "code",
   "outputs": [
    {
     "data": {
      "text/plain": "         ID_Pedido Data_Pedido ID_Cliente  Segmento           Pais Regiao  \\\n3   US-2015-108966  2015-10-11   SO-20335  Consumer  United States  South   \n7   CA-2014-115812  2014-06-09   BH-11710  Consumer  United States   West   \n10  CA-2014-115812  2014-06-09   BH-11710  Consumer  United States   West   \n11  CA-2014-115812  2014-06-09   BH-11710  Consumer  United States   West   \n24  CA-2015-106320  2015-09-25   EB-13870  Consumer  United States   West   \n\n         ID_Produto   Categoria  \\\n3   FUR-TA-10000577   Furniture   \n7   TEC-PH-10002275  Technology   \n10  FUR-TA-10001539   Furniture   \n11  TEC-PH-10002033  Technology   \n24  FUR-TA-10000577   Furniture   \n\n                                     Nome_Produto  Valor_Venda  Quantidade  \n3   Bretford CR4500 Series Slim Rectangular Table     957.5775         5.0  \n7                  Mitel 5320 IP Phone VoIP phone     907.1520         6.0  \n10       Chromcraft Rectangular Conference Tables    1706.1840         9.0  \n11  Konftel 250 Conference phone - Charcoal black     911.4240         4.0  \n24  Bretford CR4500 Series Slim Rectangular Table    1044.6300         3.0  ",
      "text/html": "<div>\n<style scoped>\n    .dataframe tbody tr th:only-of-type {\n        vertical-align: middle;\n    }\n\n    .dataframe tbody tr th {\n        vertical-align: top;\n    }\n\n    .dataframe thead th {\n        text-align: right;\n    }\n</style>\n<table border=\"1\" class=\"dataframe\">\n  <thead>\n    <tr style=\"text-align: right;\">\n      <th></th>\n      <th>ID_Pedido</th>\n      <th>Data_Pedido</th>\n      <th>ID_Cliente</th>\n      <th>Segmento</th>\n      <th>Pais</th>\n      <th>Regiao</th>\n      <th>ID_Produto</th>\n      <th>Categoria</th>\n      <th>Nome_Produto</th>\n      <th>Valor_Venda</th>\n      <th>Quantidade</th>\n    </tr>\n  </thead>\n  <tbody>\n    <tr>\n      <th>3</th>\n      <td>US-2015-108966</td>\n      <td>2015-10-11</td>\n      <td>SO-20335</td>\n      <td>Consumer</td>\n      <td>United States</td>\n      <td>South</td>\n      <td>FUR-TA-10000577</td>\n      <td>Furniture</td>\n      <td>Bretford CR4500 Series Slim Rectangular Table</td>\n      <td>957.5775</td>\n      <td>5.0</td>\n    </tr>\n    <tr>\n      <th>7</th>\n      <td>CA-2014-115812</td>\n      <td>2014-06-09</td>\n      <td>BH-11710</td>\n      <td>Consumer</td>\n      <td>United States</td>\n      <td>West</td>\n      <td>TEC-PH-10002275</td>\n      <td>Technology</td>\n      <td>Mitel 5320 IP Phone VoIP phone</td>\n      <td>907.1520</td>\n      <td>6.0</td>\n    </tr>\n    <tr>\n      <th>10</th>\n      <td>CA-2014-115812</td>\n      <td>2014-06-09</td>\n      <td>BH-11710</td>\n      <td>Consumer</td>\n      <td>United States</td>\n      <td>West</td>\n      <td>FUR-TA-10001539</td>\n      <td>Furniture</td>\n      <td>Chromcraft Rectangular Conference Tables</td>\n      <td>1706.1840</td>\n      <td>9.0</td>\n    </tr>\n    <tr>\n      <th>11</th>\n      <td>CA-2014-115812</td>\n      <td>2014-06-09</td>\n      <td>BH-11710</td>\n      <td>Consumer</td>\n      <td>United States</td>\n      <td>West</td>\n      <td>TEC-PH-10002033</td>\n      <td>Technology</td>\n      <td>Konftel 250 Conference phone - Charcoal black</td>\n      <td>911.4240</td>\n      <td>4.0</td>\n    </tr>\n    <tr>\n      <th>24</th>\n      <td>CA-2015-106320</td>\n      <td>2015-09-25</td>\n      <td>EB-13870</td>\n      <td>Consumer</td>\n      <td>United States</td>\n      <td>West</td>\n      <td>FUR-TA-10000577</td>\n      <td>Furniture</td>\n      <td>Bretford CR4500 Series Slim Rectangular Table</td>\n      <td>1044.6300</td>\n      <td>3.0</td>\n    </tr>\n  </tbody>\n</table>\n</div>"
     },
     "execution_count": 11,
     "metadata": {},
     "output_type": "execute_result"
    }
   ],
   "source": [
    "df3.head()"
   ],
   "metadata": {
    "collapsed": false,
    "ExecuteTime": {
     "end_time": "2024-08-16T12:47:51.211317Z",
     "start_time": "2024-08-16T12:47:51.199136Z"
    }
   },
   "id": "9194c8b8a825919d",
   "execution_count": 11
  },
  {
   "cell_type": "markdown",
   "source": [
    "VERIFICANDO A OCORRêNCIA DE DIVERSOS VALORES EM UMA COLUNA\n",
    "- Método isin() para checar diversos valores em uma coluna"
   ],
   "metadata": {
    "collapsed": false
   },
   "id": "f9efd6622e0f6a63"
  },
  {
   "cell_type": "code",
   "outputs": [
    {
     "data": {
      "text/plain": "(9994, 11)"
     },
     "execution_count": 13,
     "metadata": {},
     "output_type": "execute_result"
    }
   ],
   "source": [
    "# shape = (número de linhas, número de colunas)\n",
    "dsa_df.shape"
   ],
   "metadata": {
    "collapsed": false,
    "ExecuteTime": {
     "end_time": "2024-08-16T12:55:51.801121Z",
     "start_time": "2024-08-16T12:55:51.794537Z"
    }
   },
   "id": "ee6aa76691498f25",
   "execution_count": 13
  },
  {
   "cell_type": "code",
   "outputs": [
    {
     "data": {
      "text/plain": "           ID_Pedido Data_Pedido ID_Cliente     Segmento           Pais  \\\n3     US-2015-108966  2015-10-11   SO-20335     Consumer  United States   \n5     CA-2014-115812  2014-06-09   BH-11710     Consumer  United States   \n9     CA-2014-115812  2014-06-09   BH-11710     Consumer  United States   \n10    CA-2014-115812  2014-06-09   BH-11710     Consumer  United States   \n14    US-2015-118983  2015-11-22   HP-14815  Home Office  United States   \n...              ...         ...        ...          ...            ...   \n9974  US-2016-103674  2016-12-06   AP-10720  Home Office  United States   \n9977  US-2016-103674  2016-12-06   AP-10720  Home Office  United States   \n9981  CA-2017-163566  2017-08-03   TB-21055     Consumer  United States   \n9982  US-2016-157728  2016-09-22   RC-19960     Consumer  United States   \n9988  CA-2017-163629  2017-11-17   RA-19885    Corporate  United States   \n\n       Regiao       ID_Produto        Categoria  \\\n3       South  FUR-TA-10000577        Furniture   \n5        West  FUR-FU-10001487        Furniture   \n9        West  OFF-AP-10002892  Office Supplies   \n10       West  FUR-TA-10001539        Furniture   \n14    Central  OFF-AP-10002311  Office Supplies   \n...       ...              ...              ...   \n9974     West  OFF-AR-10004752  Office Supplies   \n9977     West  OFF-FA-10003467  Office Supplies   \n9981     East  OFF-LA-10004484  Office Supplies   \n9982  Central  OFF-PA-10002195  Office Supplies   \n9988    South  TEC-PH-10004006       Technology   \n\n                                           Nome_Produto  Valor_Venda  \\\n3         Bretford CR4500 Series Slim Rectangular Table     957.5775   \n5     Eldon Expressions Wood and Plastic Desk Access...      48.8600   \n9                      Belkin F5C206VTEL 6 Outlet Surge     114.9000   \n10             Chromcraft Rectangular Conference Tables    1706.1840   \n14    Holmes Replacement Filter for HEPA Air Cleaner...      68.8100   \n...                                                 ...          ...   \n9974                               Blackstonian Pencils      18.6900   \n9977           Alliance Big Bands Rubber Bands, 12/Pack      13.8600   \n9981                                          Avery 476      16.5200   \n9982  RSVP Cards & Envelopes, Blank White, 8-1/2\" X ...      35.5600   \n9988                    Panasonic KX - TS880B Telephone     206.1000   \n\n      Quantidade  \n3            5.0  \n5            7.0  \n9            5.0  \n10           9.0  \n14           5.0  \n...          ...  \n9974         7.0  \n9977         7.0  \n9981         5.0  \n9982         7.0  \n9988         5.0  \n\n[2128 rows x 11 columns]",
      "text/html": "<div>\n<style scoped>\n    .dataframe tbody tr th:only-of-type {\n        vertical-align: middle;\n    }\n\n    .dataframe tbody tr th {\n        vertical-align: top;\n    }\n\n    .dataframe thead th {\n        text-align: right;\n    }\n</style>\n<table border=\"1\" class=\"dataframe\">\n  <thead>\n    <tr style=\"text-align: right;\">\n      <th></th>\n      <th>ID_Pedido</th>\n      <th>Data_Pedido</th>\n      <th>ID_Cliente</th>\n      <th>Segmento</th>\n      <th>Pais</th>\n      <th>Regiao</th>\n      <th>ID_Produto</th>\n      <th>Categoria</th>\n      <th>Nome_Produto</th>\n      <th>Valor_Venda</th>\n      <th>Quantidade</th>\n    </tr>\n  </thead>\n  <tbody>\n    <tr>\n      <th>3</th>\n      <td>US-2015-108966</td>\n      <td>2015-10-11</td>\n      <td>SO-20335</td>\n      <td>Consumer</td>\n      <td>United States</td>\n      <td>South</td>\n      <td>FUR-TA-10000577</td>\n      <td>Furniture</td>\n      <td>Bretford CR4500 Series Slim Rectangular Table</td>\n      <td>957.5775</td>\n      <td>5.0</td>\n    </tr>\n    <tr>\n      <th>5</th>\n      <td>CA-2014-115812</td>\n      <td>2014-06-09</td>\n      <td>BH-11710</td>\n      <td>Consumer</td>\n      <td>United States</td>\n      <td>West</td>\n      <td>FUR-FU-10001487</td>\n      <td>Furniture</td>\n      <td>Eldon Expressions Wood and Plastic Desk Access...</td>\n      <td>48.8600</td>\n      <td>7.0</td>\n    </tr>\n    <tr>\n      <th>9</th>\n      <td>CA-2014-115812</td>\n      <td>2014-06-09</td>\n      <td>BH-11710</td>\n      <td>Consumer</td>\n      <td>United States</td>\n      <td>West</td>\n      <td>OFF-AP-10002892</td>\n      <td>Office Supplies</td>\n      <td>Belkin F5C206VTEL 6 Outlet Surge</td>\n      <td>114.9000</td>\n      <td>5.0</td>\n    </tr>\n    <tr>\n      <th>10</th>\n      <td>CA-2014-115812</td>\n      <td>2014-06-09</td>\n      <td>BH-11710</td>\n      <td>Consumer</td>\n      <td>United States</td>\n      <td>West</td>\n      <td>FUR-TA-10001539</td>\n      <td>Furniture</td>\n      <td>Chromcraft Rectangular Conference Tables</td>\n      <td>1706.1840</td>\n      <td>9.0</td>\n    </tr>\n    <tr>\n      <th>14</th>\n      <td>US-2015-118983</td>\n      <td>2015-11-22</td>\n      <td>HP-14815</td>\n      <td>Home Office</td>\n      <td>United States</td>\n      <td>Central</td>\n      <td>OFF-AP-10002311</td>\n      <td>Office Supplies</td>\n      <td>Holmes Replacement Filter for HEPA Air Cleaner...</td>\n      <td>68.8100</td>\n      <td>5.0</td>\n    </tr>\n    <tr>\n      <th>...</th>\n      <td>...</td>\n      <td>...</td>\n      <td>...</td>\n      <td>...</td>\n      <td>...</td>\n      <td>...</td>\n      <td>...</td>\n      <td>...</td>\n      <td>...</td>\n      <td>...</td>\n      <td>...</td>\n    </tr>\n    <tr>\n      <th>9974</th>\n      <td>US-2016-103674</td>\n      <td>2016-12-06</td>\n      <td>AP-10720</td>\n      <td>Home Office</td>\n      <td>United States</td>\n      <td>West</td>\n      <td>OFF-AR-10004752</td>\n      <td>Office Supplies</td>\n      <td>Blackstonian Pencils</td>\n      <td>18.6900</td>\n      <td>7.0</td>\n    </tr>\n    <tr>\n      <th>9977</th>\n      <td>US-2016-103674</td>\n      <td>2016-12-06</td>\n      <td>AP-10720</td>\n      <td>Home Office</td>\n      <td>United States</td>\n      <td>West</td>\n      <td>OFF-FA-10003467</td>\n      <td>Office Supplies</td>\n      <td>Alliance Big Bands Rubber Bands, 12/Pack</td>\n      <td>13.8600</td>\n      <td>7.0</td>\n    </tr>\n    <tr>\n      <th>9981</th>\n      <td>CA-2017-163566</td>\n      <td>2017-08-03</td>\n      <td>TB-21055</td>\n      <td>Consumer</td>\n      <td>United States</td>\n      <td>East</td>\n      <td>OFF-LA-10004484</td>\n      <td>Office Supplies</td>\n      <td>Avery 476</td>\n      <td>16.5200</td>\n      <td>5.0</td>\n    </tr>\n    <tr>\n      <th>9982</th>\n      <td>US-2016-157728</td>\n      <td>2016-09-22</td>\n      <td>RC-19960</td>\n      <td>Consumer</td>\n      <td>United States</td>\n      <td>Central</td>\n      <td>OFF-PA-10002195</td>\n      <td>Office Supplies</td>\n      <td>RSVP Cards &amp; Envelopes, Blank White, 8-1/2\" X ...</td>\n      <td>35.5600</td>\n      <td>7.0</td>\n    </tr>\n    <tr>\n      <th>9988</th>\n      <td>CA-2017-163629</td>\n      <td>2017-11-17</td>\n      <td>RA-19885</td>\n      <td>Corporate</td>\n      <td>United States</td>\n      <td>South</td>\n      <td>TEC-PH-10004006</td>\n      <td>Technology</td>\n      <td>Panasonic KX - TS880B Telephone</td>\n      <td>206.1000</td>\n      <td>5.0</td>\n    </tr>\n  </tbody>\n</table>\n<p>2128 rows × 11 columns</p>\n</div>"
     },
     "execution_count": 14,
     "metadata": {},
     "output_type": "execute_result"
    }
   ],
   "source": [
    "#Então aplicamos o filtro\n",
    "dsa_df[dsa_df['Quantidade'].isin([5,7,9,11])]"
   ],
   "metadata": {
    "collapsed": false,
    "ExecuteTime": {
     "end_time": "2024-08-16T12:56:26.629053Z",
     "start_time": "2024-08-16T12:56:26.610805Z"
    }
   },
   "id": "aa0711853730f125",
   "execution_count": 14
  },
  {
   "cell_type": "code",
   "outputs": [
    {
     "data": {
      "text/plain": "(2128, 11)"
     },
     "execution_count": 15,
     "metadata": {},
     "output_type": "execute_result"
    }
   ],
   "source": [
    "#Shape\n",
    "dsa_df[dsa_df['Quantidade'].isin([5,7,9,11])].shape"
   ],
   "metadata": {
    "collapsed": false,
    "ExecuteTime": {
     "end_time": "2024-08-16T12:58:00.261548Z",
     "start_time": "2024-08-16T12:58:00.253452Z"
    }
   },
   "id": "c7d93eaab68c1e8a",
   "execution_count": 15
  },
  {
   "cell_type": "code",
   "outputs": [
    {
     "data": {
      "text/plain": "         ID_Pedido Data_Pedido ID_Cliente     Segmento           Pais  \\\n3   US-2015-108966  2015-10-11   SO-20335     Consumer  United States   \n5   CA-2014-115812  2014-06-09   BH-11710     Consumer  United States   \n9   CA-2014-115812  2014-06-09   BH-11710     Consumer  United States   \n10  CA-2014-115812  2014-06-09   BH-11710     Consumer  United States   \n14  US-2015-118983  2015-11-22   HP-14815  Home Office  United States   \n21  CA-2016-137330  2016-12-09   KB-16585    Corporate  United States   \n22  CA-2016-137330  2016-12-09   KB-16585    Corporate  United States   \n27  US-2015-150630  2015-09-17   TB-21520     Consumer  United States   \n35  CA-2016-117590  2016-12-08   GH-14485    Corporate  United States   \n36  CA-2016-117590  2016-12-08   GH-14485    Corporate  United States   \n\n     Regiao       ID_Produto        Categoria  \\\n3     South  FUR-TA-10000577        Furniture   \n5      West  FUR-FU-10001487        Furniture   \n9      West  OFF-AP-10002892  Office Supplies   \n10     West  FUR-TA-10001539        Furniture   \n14  Central  OFF-AP-10002311  Office Supplies   \n21  Central  OFF-AR-10000246  Office Supplies   \n22  Central  OFF-AP-10001492  Office Supplies   \n27     East  FUR-BO-10004834        Furniture   \n35  Central  TEC-PH-10004977       Technology   \n36  Central  FUR-FU-10003664        Furniture   \n\n                                         Nome_Produto  Valor_Venda  Quantidade  \n3       Bretford CR4500 Series Slim Rectangular Table     957.5775         5.0  \n5   Eldon Expressions Wood and Plastic Desk Access...      48.8600         7.0  \n9                    Belkin F5C206VTEL 6 Outlet Surge     114.9000         5.0  \n10           Chromcraft Rectangular Conference Tables    1706.1840         9.0  \n14  Holmes Replacement Filter for HEPA Air Cleaner...      68.8100         5.0  \n21                                         Newell 318      19.4600         7.0  \n22        Acco Six-Outlet Power Strip, 4' Cord Length      60.3400         7.0  \n27  Riverside Palais Royal Lawyers Bookcase, Royal...    3083.4300         7.0  \n35                                        GE 30524EE4    1097.5440         7.0  \n36  Electrix Architect's Clamp-On Swing Arm Lamp, ...     190.9200         5.0  ",
      "text/html": "<div>\n<style scoped>\n    .dataframe tbody tr th:only-of-type {\n        vertical-align: middle;\n    }\n\n    .dataframe tbody tr th {\n        vertical-align: top;\n    }\n\n    .dataframe thead th {\n        text-align: right;\n    }\n</style>\n<table border=\"1\" class=\"dataframe\">\n  <thead>\n    <tr style=\"text-align: right;\">\n      <th></th>\n      <th>ID_Pedido</th>\n      <th>Data_Pedido</th>\n      <th>ID_Cliente</th>\n      <th>Segmento</th>\n      <th>Pais</th>\n      <th>Regiao</th>\n      <th>ID_Produto</th>\n      <th>Categoria</th>\n      <th>Nome_Produto</th>\n      <th>Valor_Venda</th>\n      <th>Quantidade</th>\n    </tr>\n  </thead>\n  <tbody>\n    <tr>\n      <th>3</th>\n      <td>US-2015-108966</td>\n      <td>2015-10-11</td>\n      <td>SO-20335</td>\n      <td>Consumer</td>\n      <td>United States</td>\n      <td>South</td>\n      <td>FUR-TA-10000577</td>\n      <td>Furniture</td>\n      <td>Bretford CR4500 Series Slim Rectangular Table</td>\n      <td>957.5775</td>\n      <td>5.0</td>\n    </tr>\n    <tr>\n      <th>5</th>\n      <td>CA-2014-115812</td>\n      <td>2014-06-09</td>\n      <td>BH-11710</td>\n      <td>Consumer</td>\n      <td>United States</td>\n      <td>West</td>\n      <td>FUR-FU-10001487</td>\n      <td>Furniture</td>\n      <td>Eldon Expressions Wood and Plastic Desk Access...</td>\n      <td>48.8600</td>\n      <td>7.0</td>\n    </tr>\n    <tr>\n      <th>9</th>\n      <td>CA-2014-115812</td>\n      <td>2014-06-09</td>\n      <td>BH-11710</td>\n      <td>Consumer</td>\n      <td>United States</td>\n      <td>West</td>\n      <td>OFF-AP-10002892</td>\n      <td>Office Supplies</td>\n      <td>Belkin F5C206VTEL 6 Outlet Surge</td>\n      <td>114.9000</td>\n      <td>5.0</td>\n    </tr>\n    <tr>\n      <th>10</th>\n      <td>CA-2014-115812</td>\n      <td>2014-06-09</td>\n      <td>BH-11710</td>\n      <td>Consumer</td>\n      <td>United States</td>\n      <td>West</td>\n      <td>FUR-TA-10001539</td>\n      <td>Furniture</td>\n      <td>Chromcraft Rectangular Conference Tables</td>\n      <td>1706.1840</td>\n      <td>9.0</td>\n    </tr>\n    <tr>\n      <th>14</th>\n      <td>US-2015-118983</td>\n      <td>2015-11-22</td>\n      <td>HP-14815</td>\n      <td>Home Office</td>\n      <td>United States</td>\n      <td>Central</td>\n      <td>OFF-AP-10002311</td>\n      <td>Office Supplies</td>\n      <td>Holmes Replacement Filter for HEPA Air Cleaner...</td>\n      <td>68.8100</td>\n      <td>5.0</td>\n    </tr>\n    <tr>\n      <th>21</th>\n      <td>CA-2016-137330</td>\n      <td>2016-12-09</td>\n      <td>KB-16585</td>\n      <td>Corporate</td>\n      <td>United States</td>\n      <td>Central</td>\n      <td>OFF-AR-10000246</td>\n      <td>Office Supplies</td>\n      <td>Newell 318</td>\n      <td>19.4600</td>\n      <td>7.0</td>\n    </tr>\n    <tr>\n      <th>22</th>\n      <td>CA-2016-137330</td>\n      <td>2016-12-09</td>\n      <td>KB-16585</td>\n      <td>Corporate</td>\n      <td>United States</td>\n      <td>Central</td>\n      <td>OFF-AP-10001492</td>\n      <td>Office Supplies</td>\n      <td>Acco Six-Outlet Power Strip, 4' Cord Length</td>\n      <td>60.3400</td>\n      <td>7.0</td>\n    </tr>\n    <tr>\n      <th>27</th>\n      <td>US-2015-150630</td>\n      <td>2015-09-17</td>\n      <td>TB-21520</td>\n      <td>Consumer</td>\n      <td>United States</td>\n      <td>East</td>\n      <td>FUR-BO-10004834</td>\n      <td>Furniture</td>\n      <td>Riverside Palais Royal Lawyers Bookcase, Royal...</td>\n      <td>3083.4300</td>\n      <td>7.0</td>\n    </tr>\n    <tr>\n      <th>35</th>\n      <td>CA-2016-117590</td>\n      <td>2016-12-08</td>\n      <td>GH-14485</td>\n      <td>Corporate</td>\n      <td>United States</td>\n      <td>Central</td>\n      <td>TEC-PH-10004977</td>\n      <td>Technology</td>\n      <td>GE 30524EE4</td>\n      <td>1097.5440</td>\n      <td>7.0</td>\n    </tr>\n    <tr>\n      <th>36</th>\n      <td>CA-2016-117590</td>\n      <td>2016-12-08</td>\n      <td>GH-14485</td>\n      <td>Corporate</td>\n      <td>United States</td>\n      <td>Central</td>\n      <td>FUR-FU-10003664</td>\n      <td>Furniture</td>\n      <td>Electrix Architect's Clamp-On Swing Arm Lamp, ...</td>\n      <td>190.9200</td>\n      <td>5.0</td>\n    </tr>\n  </tbody>\n</table>\n</div>"
     },
     "execution_count": 16,
     "metadata": {},
     "output_type": "execute_result"
    }
   ],
   "source": [
    "dsa_df[dsa_df['Quantidade'].isin([5,7,9,11])][:10]"
   ],
   "metadata": {
    "collapsed": false,
    "ExecuteTime": {
     "end_time": "2024-08-16T12:58:15.227424Z",
     "start_time": "2024-08-16T12:58:15.211586Z"
    }
   },
   "id": "25a9ba7e8ce04f7a",
   "execution_count": 16
  },
  {
   "cell_type": "markdown",
   "source": [
    "OPERADORES LÓGICOS PARA MANIPULAÇÃO DE DADOS COM PANDAS\n",
    "- São excelentes para filtrar dataframes e retornar exatamente os dados que precisamos "
   ],
   "metadata": {
    "collapsed": false
   },
   "id": "c544cf48af53277d"
  },
  {
   "cell_type": "code",
   "outputs": [
    {
     "data": {
      "text/plain": "          ID_Pedido Data_Pedido ID_Cliente     Segmento           Pais Regiao  \\\n182  CA-2014-158274  2014-11-19   RM-19675  Home Office  United States  South   \n183  CA-2014-158274  2014-11-19   RM-19675  Home Office  United States  South   \n184  CA-2014-158274  2014-11-19   RM-19675  Home Office  United States  South   \n231  US-2017-100930  2017-04-07   CS-12400  Home Office  United States  South   \n232  US-2017-100930  2017-04-07   CS-12400  Home Office  United States  South   \n\n          ID_Produto   Categoria  \\\n182  TEC-PH-10003273  Technology   \n183  TEC-PH-10004896  Technology   \n184  TEC-AC-10002345  Technology   \n231  FUR-TA-10001705   Furniture   \n232  FUR-TA-10003473   Furniture   \n\n                                         Nome_Produto  Valor_Venda  Quantidade  \n182                                      AT&T TR1909W     503.9600         4.0  \n183                        Nokia Lumia 521 (T-Mobile)     149.9500         5.0  \n184                 HP Standard 104 key PS/2 Keyboard      29.0000         2.0  \n231  Bush Advantage Collection Round Conference Table     233.8600         2.0  \n232        Bretford Rectangular Conference Table Tops     620.6145         3.0  ",
      "text/html": "<div>\n<style scoped>\n    .dataframe tbody tr th:only-of-type {\n        vertical-align: middle;\n    }\n\n    .dataframe tbody tr th {\n        vertical-align: top;\n    }\n\n    .dataframe thead th {\n        text-align: right;\n    }\n</style>\n<table border=\"1\" class=\"dataframe\">\n  <thead>\n    <tr style=\"text-align: right;\">\n      <th></th>\n      <th>ID_Pedido</th>\n      <th>Data_Pedido</th>\n      <th>ID_Cliente</th>\n      <th>Segmento</th>\n      <th>Pais</th>\n      <th>Regiao</th>\n      <th>ID_Produto</th>\n      <th>Categoria</th>\n      <th>Nome_Produto</th>\n      <th>Valor_Venda</th>\n      <th>Quantidade</th>\n    </tr>\n  </thead>\n  <tbody>\n    <tr>\n      <th>182</th>\n      <td>CA-2014-158274</td>\n      <td>2014-11-19</td>\n      <td>RM-19675</td>\n      <td>Home Office</td>\n      <td>United States</td>\n      <td>South</td>\n      <td>TEC-PH-10003273</td>\n      <td>Technology</td>\n      <td>AT&amp;T TR1909W</td>\n      <td>503.9600</td>\n      <td>4.0</td>\n    </tr>\n    <tr>\n      <th>183</th>\n      <td>CA-2014-158274</td>\n      <td>2014-11-19</td>\n      <td>RM-19675</td>\n      <td>Home Office</td>\n      <td>United States</td>\n      <td>South</td>\n      <td>TEC-PH-10004896</td>\n      <td>Technology</td>\n      <td>Nokia Lumia 521 (T-Mobile)</td>\n      <td>149.9500</td>\n      <td>5.0</td>\n    </tr>\n    <tr>\n      <th>184</th>\n      <td>CA-2014-158274</td>\n      <td>2014-11-19</td>\n      <td>RM-19675</td>\n      <td>Home Office</td>\n      <td>United States</td>\n      <td>South</td>\n      <td>TEC-AC-10002345</td>\n      <td>Technology</td>\n      <td>HP Standard 104 key PS/2 Keyboard</td>\n      <td>29.0000</td>\n      <td>2.0</td>\n    </tr>\n    <tr>\n      <th>231</th>\n      <td>US-2017-100930</td>\n      <td>2017-04-07</td>\n      <td>CS-12400</td>\n      <td>Home Office</td>\n      <td>United States</td>\n      <td>South</td>\n      <td>FUR-TA-10001705</td>\n      <td>Furniture</td>\n      <td>Bush Advantage Collection Round Conference Table</td>\n      <td>233.8600</td>\n      <td>2.0</td>\n    </tr>\n    <tr>\n      <th>232</th>\n      <td>US-2017-100930</td>\n      <td>2017-04-07</td>\n      <td>CS-12400</td>\n      <td>Home Office</td>\n      <td>United States</td>\n      <td>South</td>\n      <td>FUR-TA-10003473</td>\n      <td>Furniture</td>\n      <td>Bretford Rectangular Conference Table Tops</td>\n      <td>620.6145</td>\n      <td>3.0</td>\n    </tr>\n  </tbody>\n</table>\n</div>"
     },
     "execution_count": 17,
     "metadata": {},
     "output_type": "execute_result"
    }
   ],
   "source": [
    "# & = and (duas condições serem verdadeiras)\n",
    "#Filtrando as vendas que ocorreram para o segmento de Home Office e na região South\n",
    "dsa_df[(dsa_df.Segmento == 'Home Office') & (dsa_df.Regiao == 'South')].head()"
   ],
   "metadata": {
    "collapsed": false,
    "ExecuteTime": {
     "end_time": "2024-08-16T13:03:14.018201Z",
     "start_time": "2024-08-16T13:03:14.002089Z"
    }
   },
   "id": "e79b3bb470959c0",
   "execution_count": 17
  },
  {
   "cell_type": "code",
   "outputs": [
    {
     "data": {
      "text/plain": "           ID_Pedido Data_Pedido ID_Cliente     Segmento           Pais  \\\n9979  US-2016-103674  2016-12-06   AP-10720  Home Office  United States   \n9980  US-2015-151435  2015-09-06   SW-20455     Consumer  United States   \n9987  CA-2017-163629  2017-11-17   RA-19885    Corporate  United States   \n9988  CA-2017-163629  2017-11-17   RA-19885    Corporate  United States   \n9989  CA-2014-110422  2014-01-21   TB-21400     Consumer  United States   \n\n     Regiao       ID_Produto        Categoria  \\\n9979   West  OFF-BI-10002026  Office Supplies   \n9980  South  FUR-TA-10001029        Furniture   \n9987  South  TEC-AC-10001539       Technology   \n9988  South  TEC-PH-10004006       Technology   \n9989  South  FUR-FU-10001889        Furniture   \n\n                                           Nome_Produto  Valor_Venda  \\\n9979                  Ibico Recycled Linen-Style Covers      437.472   \n9980                         KI Adjustable-Height Table       85.980   \n9987  Logitech G430 Surround Sound Gaming Headset wi...       79.990   \n9988                    Panasonic KX - TS880B Telephone      206.100   \n9989                             Ultra Door Pull Handle       25.248   \n\n      Quantidade  \n9979        14.0  \n9980         1.0  \n9987         1.0  \n9988         5.0  \n9989         3.0  ",
      "text/html": "<div>\n<style scoped>\n    .dataframe tbody tr th:only-of-type {\n        vertical-align: middle;\n    }\n\n    .dataframe tbody tr th {\n        vertical-align: top;\n    }\n\n    .dataframe thead th {\n        text-align: right;\n    }\n</style>\n<table border=\"1\" class=\"dataframe\">\n  <thead>\n    <tr style=\"text-align: right;\">\n      <th></th>\n      <th>ID_Pedido</th>\n      <th>Data_Pedido</th>\n      <th>ID_Cliente</th>\n      <th>Segmento</th>\n      <th>Pais</th>\n      <th>Regiao</th>\n      <th>ID_Produto</th>\n      <th>Categoria</th>\n      <th>Nome_Produto</th>\n      <th>Valor_Venda</th>\n      <th>Quantidade</th>\n    </tr>\n  </thead>\n  <tbody>\n    <tr>\n      <th>9979</th>\n      <td>US-2016-103674</td>\n      <td>2016-12-06</td>\n      <td>AP-10720</td>\n      <td>Home Office</td>\n      <td>United States</td>\n      <td>West</td>\n      <td>OFF-BI-10002026</td>\n      <td>Office Supplies</td>\n      <td>Ibico Recycled Linen-Style Covers</td>\n      <td>437.472</td>\n      <td>14.0</td>\n    </tr>\n    <tr>\n      <th>9980</th>\n      <td>US-2015-151435</td>\n      <td>2015-09-06</td>\n      <td>SW-20455</td>\n      <td>Consumer</td>\n      <td>United States</td>\n      <td>South</td>\n      <td>FUR-TA-10001029</td>\n      <td>Furniture</td>\n      <td>KI Adjustable-Height Table</td>\n      <td>85.980</td>\n      <td>1.0</td>\n    </tr>\n    <tr>\n      <th>9987</th>\n      <td>CA-2017-163629</td>\n      <td>2017-11-17</td>\n      <td>RA-19885</td>\n      <td>Corporate</td>\n      <td>United States</td>\n      <td>South</td>\n      <td>TEC-AC-10001539</td>\n      <td>Technology</td>\n      <td>Logitech G430 Surround Sound Gaming Headset wi...</td>\n      <td>79.990</td>\n      <td>1.0</td>\n    </tr>\n    <tr>\n      <th>9988</th>\n      <td>CA-2017-163629</td>\n      <td>2017-11-17</td>\n      <td>RA-19885</td>\n      <td>Corporate</td>\n      <td>United States</td>\n      <td>South</td>\n      <td>TEC-PH-10004006</td>\n      <td>Technology</td>\n      <td>Panasonic KX - TS880B Telephone</td>\n      <td>206.100</td>\n      <td>5.0</td>\n    </tr>\n    <tr>\n      <th>9989</th>\n      <td>CA-2014-110422</td>\n      <td>2014-01-21</td>\n      <td>TB-21400</td>\n      <td>Consumer</td>\n      <td>United States</td>\n      <td>South</td>\n      <td>FUR-FU-10001889</td>\n      <td>Furniture</td>\n      <td>Ultra Door Pull Handle</td>\n      <td>25.248</td>\n      <td>3.0</td>\n    </tr>\n  </tbody>\n</table>\n</div>"
     },
     "execution_count": 18,
     "metadata": {},
     "output_type": "execute_result"
    }
   ],
   "source": [
    "# | = or (uma das condições ser verdadeira)\n",
    "#Filtrando as vendas que ocorreram para o segmento Home Oficce ou região South\n",
    "dsa_df[(dsa_df.Segmento == 'Home Office') | (dsa_df.Regiao == 'South')].tail()"
   ],
   "metadata": {
    "collapsed": false,
    "ExecuteTime": {
     "end_time": "2024-08-16T13:09:13.564821Z",
     "start_time": "2024-08-16T13:09:13.548081Z"
    }
   },
   "id": "cf837789c05f07c3",
   "execution_count": 18
  },
  {
   "cell_type": "code",
   "outputs": [
    {
     "data": {
      "text/plain": "           ID_Pedido Data_Pedido ID_Cliente   Segmento           Pais  \\\n2052  CA-2015-142237  2015-07-11   CK-12595   Consumer  United States   \n810   CA-2014-151995  2014-10-13   ZC-21910   Consumer  United States   \n7705  CA-2016-114601  2016-08-26   AA-10480   Consumer  United States   \n7403  CA-2015-100146  2015-05-14   CB-12535  Corporate  United States   \n8056  CA-2015-121188  2015-08-28   CB-12025   Consumer  United States   \n\n       Regiao       ID_Produto        Categoria  \\\n2052     East  OFF-AR-10003732  Office Supplies   \n810      West  FUR-TA-10002903        Furniture   \n7705  Central  TEC-AC-10003911       Technology   \n7403     West  FUR-BO-10004015        Furniture   \n8056     West  OFF-ST-10000736  Office Supplies   \n\n                                           Nome_Produto  Valor_Venda  \\\n2052                                         Newell 333      11.1200   \n810             Bevis Round Bullnose 29\" High Table Top    1298.5500   \n7705  NETGEAR AC1750 Dual Band Gigabit Smart WiFi Ro...     479.9700   \n7403   Bush Andora Bookcase, Maple/Graphite Gray Finish     509.9575   \n8056  Carina Double Wide Media Storage Towers in Nat...     728.8200   \n\n      Quantidade  \n2052         5.0  \n810          5.0  \n7705         3.0  \n7403         5.0  \n8056         9.0  ",
      "text/html": "<div>\n<style scoped>\n    .dataframe tbody tr th:only-of-type {\n        vertical-align: middle;\n    }\n\n    .dataframe tbody tr th {\n        vertical-align: top;\n    }\n\n    .dataframe thead th {\n        text-align: right;\n    }\n</style>\n<table border=\"1\" class=\"dataframe\">\n  <thead>\n    <tr style=\"text-align: right;\">\n      <th></th>\n      <th>ID_Pedido</th>\n      <th>Data_Pedido</th>\n      <th>ID_Cliente</th>\n      <th>Segmento</th>\n      <th>Pais</th>\n      <th>Regiao</th>\n      <th>ID_Produto</th>\n      <th>Categoria</th>\n      <th>Nome_Produto</th>\n      <th>Valor_Venda</th>\n      <th>Quantidade</th>\n    </tr>\n  </thead>\n  <tbody>\n    <tr>\n      <th>2052</th>\n      <td>CA-2015-142237</td>\n      <td>2015-07-11</td>\n      <td>CK-12595</td>\n      <td>Consumer</td>\n      <td>United States</td>\n      <td>East</td>\n      <td>OFF-AR-10003732</td>\n      <td>Office Supplies</td>\n      <td>Newell 333</td>\n      <td>11.1200</td>\n      <td>5.0</td>\n    </tr>\n    <tr>\n      <th>810</th>\n      <td>CA-2014-151995</td>\n      <td>2014-10-13</td>\n      <td>ZC-21910</td>\n      <td>Consumer</td>\n      <td>United States</td>\n      <td>West</td>\n      <td>FUR-TA-10002903</td>\n      <td>Furniture</td>\n      <td>Bevis Round Bullnose 29\" High Table Top</td>\n      <td>1298.5500</td>\n      <td>5.0</td>\n    </tr>\n    <tr>\n      <th>7705</th>\n      <td>CA-2016-114601</td>\n      <td>2016-08-26</td>\n      <td>AA-10480</td>\n      <td>Consumer</td>\n      <td>United States</td>\n      <td>Central</td>\n      <td>TEC-AC-10003911</td>\n      <td>Technology</td>\n      <td>NETGEAR AC1750 Dual Band Gigabit Smart WiFi Ro...</td>\n      <td>479.9700</td>\n      <td>3.0</td>\n    </tr>\n    <tr>\n      <th>7403</th>\n      <td>CA-2015-100146</td>\n      <td>2015-05-14</td>\n      <td>CB-12535</td>\n      <td>Corporate</td>\n      <td>United States</td>\n      <td>West</td>\n      <td>FUR-BO-10004015</td>\n      <td>Furniture</td>\n      <td>Bush Andora Bookcase, Maple/Graphite Gray Finish</td>\n      <td>509.9575</td>\n      <td>5.0</td>\n    </tr>\n    <tr>\n      <th>8056</th>\n      <td>CA-2015-121188</td>\n      <td>2015-08-28</td>\n      <td>CB-12025</td>\n      <td>Consumer</td>\n      <td>United States</td>\n      <td>West</td>\n      <td>OFF-ST-10000736</td>\n      <td>Office Supplies</td>\n      <td>Carina Double Wide Media Storage Towers in Nat...</td>\n      <td>728.8200</td>\n      <td>9.0</td>\n    </tr>\n  </tbody>\n</table>\n</div>"
     },
     "execution_count": 19,
     "metadata": {},
     "output_type": "execute_result"
    }
   ],
   "source": [
    "# != = not (negação/diferente)\n",
    "#Filtrando as vendas que não ocorreram para o segmento Home Oficce e nem região South\n",
    "dsa_df[(dsa_df.Segmento != 'Home Office') & (dsa_df.Regiao != 'South')].sample(5)"
   ],
   "metadata": {
    "collapsed": false,
    "ExecuteTime": {
     "end_time": "2024-08-16T13:10:55.673985Z",
     "start_time": "2024-08-16T13:10:55.653620Z"
    }
   },
   "id": "58dce4aecc1cbc17",
   "execution_count": 19
  },
  {
   "cell_type": "markdown",
   "source": [
    "AGRUPAMENTO DE DADOS EM DATAFRAMES COM GROUP BY\n",
    "- A função Pandas Groupby é uma função versátil e fácio de usar que ajuda a obter uma visão geral dos dados\n",
    "- Torna mais fácil explorar o conjunto de dados e revelar os relacionamentos entre as variáveis"
   ],
   "metadata": {
    "collapsed": false
   },
   "id": "b31a1018647646d9"
  },
  {
   "cell_type": "code",
   "outputs": [
    {
     "data": {
      "text/plain": "                     Valor_Venda\nSegmento    Regiao              \nConsumer    Central   207.946728\n            East      238.875539\n            South     233.390180\n            West      217.033955\nCorporate   Central   234.763466\n            East      228.516929\n            South     238.992025\n            West      235.265911\nHome Office Central   208.248046\n            East      253.911805\n            South     272.996329\n            West      239.442692",
      "text/html": "<div>\n<style scoped>\n    .dataframe tbody tr th:only-of-type {\n        vertical-align: middle;\n    }\n\n    .dataframe tbody tr th {\n        vertical-align: top;\n    }\n\n    .dataframe thead th {\n        text-align: right;\n    }\n</style>\n<table border=\"1\" class=\"dataframe\">\n  <thead>\n    <tr style=\"text-align: right;\">\n      <th></th>\n      <th></th>\n      <th>Valor_Venda</th>\n    </tr>\n    <tr>\n      <th>Segmento</th>\n      <th>Regiao</th>\n      <th></th>\n    </tr>\n  </thead>\n  <tbody>\n    <tr>\n      <th rowspan=\"4\" valign=\"top\">Consumer</th>\n      <th>Central</th>\n      <td>207.946728</td>\n    </tr>\n    <tr>\n      <th>East</th>\n      <td>238.875539</td>\n    </tr>\n    <tr>\n      <th>South</th>\n      <td>233.390180</td>\n    </tr>\n    <tr>\n      <th>West</th>\n      <td>217.033955</td>\n    </tr>\n    <tr>\n      <th rowspan=\"4\" valign=\"top\">Corporate</th>\n      <th>Central</th>\n      <td>234.763466</td>\n    </tr>\n    <tr>\n      <th>East</th>\n      <td>228.516929</td>\n    </tr>\n    <tr>\n      <th>South</th>\n      <td>238.992025</td>\n    </tr>\n    <tr>\n      <th>West</th>\n      <td>235.265911</td>\n    </tr>\n    <tr>\n      <th rowspan=\"4\" valign=\"top\">Home Office</th>\n      <th>Central</th>\n      <td>208.248046</td>\n    </tr>\n    <tr>\n      <th>East</th>\n      <td>253.911805</td>\n    </tr>\n    <tr>\n      <th>South</th>\n      <td>272.996329</td>\n    </tr>\n    <tr>\n      <th>West</th>\n      <td>239.442692</td>\n    </tr>\n  </tbody>\n</table>\n</div>"
     },
     "execution_count": 20,
     "metadata": {},
     "output_type": "execute_result"
    }
   ],
   "source": [
    "#Aplicamos o group by\n",
    "dsa_df[['Segmento','Regiao','Valor_Venda']].groupby(['Segmento','Regiao']).mean()"
   ],
   "metadata": {
    "collapsed": false,
    "ExecuteTime": {
     "end_time": "2024-08-16T13:23:07.687808Z",
     "start_time": "2024-08-16T13:23:07.656158Z"
    }
   },
   "id": "3a525527414f77fe",
   "execution_count": 20
  },
  {
   "cell_type": "markdown",
   "source": [
    "AGREGAÇÃO MÚLTIPLA COM GROUP \n",
    "- Função agg() realiza agregação múltipla"
   ],
   "metadata": {
    "collapsed": false
   },
   "id": "a528474ec4b3672d"
  },
  {
   "cell_type": "code",
   "outputs": [
    {
     "data": {
      "text/plain": "                    Valor_Venda                   \n                           mean          std count\nSegmento    Regiao                                \nConsumer    Central  207.946728   587.906523  1212\n            East     238.875539   633.371169  1469\n            South    233.390180   559.346824   838\n            West     217.033955   551.997547  1672\nCorporate   Central  234.763466   818.947521   673\n            East     228.516929   530.001654   877\n            South    238.992025   586.176947   510\n            West     235.265911   471.288764   960\nHome Office Central  208.248046   371.009180   438\n            East     253.911805   722.777318   502\n            South    272.996329  1404.798466   272\n            West     239.442692   529.242737   571",
      "text/html": "<div>\n<style scoped>\n    .dataframe tbody tr th:only-of-type {\n        vertical-align: middle;\n    }\n\n    .dataframe tbody tr th {\n        vertical-align: top;\n    }\n\n    .dataframe thead tr th {\n        text-align: left;\n    }\n\n    .dataframe thead tr:last-of-type th {\n        text-align: right;\n    }\n</style>\n<table border=\"1\" class=\"dataframe\">\n  <thead>\n    <tr>\n      <th></th>\n      <th></th>\n      <th colspan=\"3\" halign=\"left\">Valor_Venda</th>\n    </tr>\n    <tr>\n      <th></th>\n      <th></th>\n      <th>mean</th>\n      <th>std</th>\n      <th>count</th>\n    </tr>\n    <tr>\n      <th>Segmento</th>\n      <th>Regiao</th>\n      <th></th>\n      <th></th>\n      <th></th>\n    </tr>\n  </thead>\n  <tbody>\n    <tr>\n      <th rowspan=\"4\" valign=\"top\">Consumer</th>\n      <th>Central</th>\n      <td>207.946728</td>\n      <td>587.906523</td>\n      <td>1212</td>\n    </tr>\n    <tr>\n      <th>East</th>\n      <td>238.875539</td>\n      <td>633.371169</td>\n      <td>1469</td>\n    </tr>\n    <tr>\n      <th>South</th>\n      <td>233.390180</td>\n      <td>559.346824</td>\n      <td>838</td>\n    </tr>\n    <tr>\n      <th>West</th>\n      <td>217.033955</td>\n      <td>551.997547</td>\n      <td>1672</td>\n    </tr>\n    <tr>\n      <th rowspan=\"4\" valign=\"top\">Corporate</th>\n      <th>Central</th>\n      <td>234.763466</td>\n      <td>818.947521</td>\n      <td>673</td>\n    </tr>\n    <tr>\n      <th>East</th>\n      <td>228.516929</td>\n      <td>530.001654</td>\n      <td>877</td>\n    </tr>\n    <tr>\n      <th>South</th>\n      <td>238.992025</td>\n      <td>586.176947</td>\n      <td>510</td>\n    </tr>\n    <tr>\n      <th>West</th>\n      <td>235.265911</td>\n      <td>471.288764</td>\n      <td>960</td>\n    </tr>\n    <tr>\n      <th rowspan=\"4\" valign=\"top\">Home Office</th>\n      <th>Central</th>\n      <td>208.248046</td>\n      <td>371.009180</td>\n      <td>438</td>\n    </tr>\n    <tr>\n      <th>East</th>\n      <td>253.911805</td>\n      <td>722.777318</td>\n      <td>502</td>\n    </tr>\n    <tr>\n      <th>South</th>\n      <td>272.996329</td>\n      <td>1404.798466</td>\n      <td>272</td>\n    </tr>\n    <tr>\n      <th>West</th>\n      <td>239.442692</td>\n      <td>529.242737</td>\n      <td>571</td>\n    </tr>\n  </tbody>\n</table>\n</div>"
     },
     "execution_count": 21,
     "metadata": {},
     "output_type": "execute_result"
    }
   ],
   "source": [
    "#Aplicamos o group by\n",
    "dsa_df[['Segmento','Regiao','Valor_Venda']].groupby(['Segmento','Regiao']).agg(['mean','std','count'])"
   ],
   "metadata": {
    "collapsed": false,
    "ExecuteTime": {
     "end_time": "2024-08-16T13:28:25.409184Z",
     "start_time": "2024-08-16T13:28:25.383921Z"
    }
   },
   "id": "e07821f5f342e5f8",
   "execution_count": 21
  },
  {
   "cell_type": "markdown",
   "source": [
    "FILTRANDO DATAFRAME DO PANDAS COM BASE EM STRINGS"
   ],
   "metadata": {
    "collapsed": false
   },
   "id": "eeaa6c7024930cdb"
  },
  {
   "cell_type": "code",
   "outputs": [
    {
     "data": {
      "text/plain": "        ID_Pedido Data_Pedido ID_Cliente   Segmento           Pais Regiao  \\\n0  CA-2016-152156  2016-11-08   CG-12520   Consumer  United States  South   \n1  CA-2016-152156  2016-11-08   CG-12520   Consumer  United States  South   \n2  CA-2016-138688  2016-06-12   DV-13045  Corporate  United States   West   \n3  US-2015-108966  2015-10-11   SO-20335   Consumer  United States  South   \n4  US-2015-108966  2015-10-11   SO-20335   Consumer  United States  South   \n\n        ID_Produto        Categoria  \\\n0  FUR-BO-10001798        Furniture   \n1  FUR-CH-10000454        Furniture   \n2  OFF-LA-10000240  Office Supplies   \n3  FUR-TA-10000577        Furniture   \n4  OFF-ST-10000760  Office Supplies   \n\n                                        Nome_Produto  Valor_Venda  Quantidade  \n0                  Bush Somerset Collection Bookcase     261.9600         NaN  \n1  Hon Deluxe Fabric Upholstered Stacking Chairs,...     731.9400         NaN  \n2  Self-Adhesive Address Labels for Typewriters b...      14.6200         2.0  \n3      Bretford CR4500 Series Slim Rectangular Table     957.5775         5.0  \n4                     Eldon Fold 'N Roll Cart System      22.3680         2.0  ",
      "text/html": "<div>\n<style scoped>\n    .dataframe tbody tr th:only-of-type {\n        vertical-align: middle;\n    }\n\n    .dataframe tbody tr th {\n        vertical-align: top;\n    }\n\n    .dataframe thead th {\n        text-align: right;\n    }\n</style>\n<table border=\"1\" class=\"dataframe\">\n  <thead>\n    <tr style=\"text-align: right;\">\n      <th></th>\n      <th>ID_Pedido</th>\n      <th>Data_Pedido</th>\n      <th>ID_Cliente</th>\n      <th>Segmento</th>\n      <th>Pais</th>\n      <th>Regiao</th>\n      <th>ID_Produto</th>\n      <th>Categoria</th>\n      <th>Nome_Produto</th>\n      <th>Valor_Venda</th>\n      <th>Quantidade</th>\n    </tr>\n  </thead>\n  <tbody>\n    <tr>\n      <th>0</th>\n      <td>CA-2016-152156</td>\n      <td>2016-11-08</td>\n      <td>CG-12520</td>\n      <td>Consumer</td>\n      <td>United States</td>\n      <td>South</td>\n      <td>FUR-BO-10001798</td>\n      <td>Furniture</td>\n      <td>Bush Somerset Collection Bookcase</td>\n      <td>261.9600</td>\n      <td>NaN</td>\n    </tr>\n    <tr>\n      <th>1</th>\n      <td>CA-2016-152156</td>\n      <td>2016-11-08</td>\n      <td>CG-12520</td>\n      <td>Consumer</td>\n      <td>United States</td>\n      <td>South</td>\n      <td>FUR-CH-10000454</td>\n      <td>Furniture</td>\n      <td>Hon Deluxe Fabric Upholstered Stacking Chairs,...</td>\n      <td>731.9400</td>\n      <td>NaN</td>\n    </tr>\n    <tr>\n      <th>2</th>\n      <td>CA-2016-138688</td>\n      <td>2016-06-12</td>\n      <td>DV-13045</td>\n      <td>Corporate</td>\n      <td>United States</td>\n      <td>West</td>\n      <td>OFF-LA-10000240</td>\n      <td>Office Supplies</td>\n      <td>Self-Adhesive Address Labels for Typewriters b...</td>\n      <td>14.6200</td>\n      <td>2.0</td>\n    </tr>\n    <tr>\n      <th>3</th>\n      <td>US-2015-108966</td>\n      <td>2015-10-11</td>\n      <td>SO-20335</td>\n      <td>Consumer</td>\n      <td>United States</td>\n      <td>South</td>\n      <td>FUR-TA-10000577</td>\n      <td>Furniture</td>\n      <td>Bretford CR4500 Series Slim Rectangular Table</td>\n      <td>957.5775</td>\n      <td>5.0</td>\n    </tr>\n    <tr>\n      <th>4</th>\n      <td>US-2015-108966</td>\n      <td>2015-10-11</td>\n      <td>SO-20335</td>\n      <td>Consumer</td>\n      <td>United States</td>\n      <td>South</td>\n      <td>OFF-ST-10000760</td>\n      <td>Office Supplies</td>\n      <td>Eldon Fold 'N Roll Cart System</td>\n      <td>22.3680</td>\n      <td>2.0</td>\n    </tr>\n  </tbody>\n</table>\n</div>"
     },
     "execution_count": 22,
     "metadata": {},
     "output_type": "execute_result"
    }
   ],
   "source": [
    "dsa_df.head()"
   ],
   "metadata": {
    "collapsed": false,
    "ExecuteTime": {
     "end_time": "2024-08-16T13:30:14.307128Z",
     "start_time": "2024-08-16T13:30:14.293300Z"
    }
   },
   "id": "44e9a6d354a9a808",
   "execution_count": 22
  },
  {
   "cell_type": "code",
   "outputs": [
    {
     "data": {
      "text/plain": "        ID_Pedido Data_Pedido ID_Cliente  Segmento           Pais Regiao  \\\n0  CA-2016-152156  2016-11-08   CG-12520  Consumer  United States  South   \n1  CA-2016-152156  2016-11-08   CG-12520  Consumer  United States  South   \n3  US-2015-108966  2015-10-11   SO-20335  Consumer  United States  South   \n4  US-2015-108966  2015-10-11   SO-20335  Consumer  United States  South   \n5  CA-2014-115812  2014-06-09   BH-11710  Consumer  United States   West   \n\n        ID_Produto        Categoria  \\\n0  FUR-BO-10001798        Furniture   \n1  FUR-CH-10000454        Furniture   \n3  FUR-TA-10000577        Furniture   \n4  OFF-ST-10000760  Office Supplies   \n5  FUR-FU-10001487        Furniture   \n\n                                        Nome_Produto  Valor_Venda  Quantidade  \n0                  Bush Somerset Collection Bookcase     261.9600         NaN  \n1  Hon Deluxe Fabric Upholstered Stacking Chairs,...     731.9400         NaN  \n3      Bretford CR4500 Series Slim Rectangular Table     957.5775         5.0  \n4                     Eldon Fold 'N Roll Cart System      22.3680         2.0  \n5  Eldon Expressions Wood and Plastic Desk Access...      48.8600         7.0  ",
      "text/html": "<div>\n<style scoped>\n    .dataframe tbody tr th:only-of-type {\n        vertical-align: middle;\n    }\n\n    .dataframe tbody tr th {\n        vertical-align: top;\n    }\n\n    .dataframe thead th {\n        text-align: right;\n    }\n</style>\n<table border=\"1\" class=\"dataframe\">\n  <thead>\n    <tr style=\"text-align: right;\">\n      <th></th>\n      <th>ID_Pedido</th>\n      <th>Data_Pedido</th>\n      <th>ID_Cliente</th>\n      <th>Segmento</th>\n      <th>Pais</th>\n      <th>Regiao</th>\n      <th>ID_Produto</th>\n      <th>Categoria</th>\n      <th>Nome_Produto</th>\n      <th>Valor_Venda</th>\n      <th>Quantidade</th>\n    </tr>\n  </thead>\n  <tbody>\n    <tr>\n      <th>0</th>\n      <td>CA-2016-152156</td>\n      <td>2016-11-08</td>\n      <td>CG-12520</td>\n      <td>Consumer</td>\n      <td>United States</td>\n      <td>South</td>\n      <td>FUR-BO-10001798</td>\n      <td>Furniture</td>\n      <td>Bush Somerset Collection Bookcase</td>\n      <td>261.9600</td>\n      <td>NaN</td>\n    </tr>\n    <tr>\n      <th>1</th>\n      <td>CA-2016-152156</td>\n      <td>2016-11-08</td>\n      <td>CG-12520</td>\n      <td>Consumer</td>\n      <td>United States</td>\n      <td>South</td>\n      <td>FUR-CH-10000454</td>\n      <td>Furniture</td>\n      <td>Hon Deluxe Fabric Upholstered Stacking Chairs,...</td>\n      <td>731.9400</td>\n      <td>NaN</td>\n    </tr>\n    <tr>\n      <th>3</th>\n      <td>US-2015-108966</td>\n      <td>2015-10-11</td>\n      <td>SO-20335</td>\n      <td>Consumer</td>\n      <td>United States</td>\n      <td>South</td>\n      <td>FUR-TA-10000577</td>\n      <td>Furniture</td>\n      <td>Bretford CR4500 Series Slim Rectangular Table</td>\n      <td>957.5775</td>\n      <td>5.0</td>\n    </tr>\n    <tr>\n      <th>4</th>\n      <td>US-2015-108966</td>\n      <td>2015-10-11</td>\n      <td>SO-20335</td>\n      <td>Consumer</td>\n      <td>United States</td>\n      <td>South</td>\n      <td>OFF-ST-10000760</td>\n      <td>Office Supplies</td>\n      <td>Eldon Fold 'N Roll Cart System</td>\n      <td>22.3680</td>\n      <td>2.0</td>\n    </tr>\n    <tr>\n      <th>5</th>\n      <td>CA-2014-115812</td>\n      <td>2014-06-09</td>\n      <td>BH-11710</td>\n      <td>Consumer</td>\n      <td>United States</td>\n      <td>West</td>\n      <td>FUR-FU-10001487</td>\n      <td>Furniture</td>\n      <td>Eldon Expressions Wood and Plastic Desk Access...</td>\n      <td>48.8600</td>\n      <td>7.0</td>\n    </tr>\n  </tbody>\n</table>\n</div>"
     },
     "execution_count": 23,
     "metadata": {},
     "output_type": "execute_result"
    }
   ],
   "source": [
    "#Filtramos o dataframe pela coluna Segmento com valores que iniciam com as letra 'Con'\n",
    "#starswitch = começar com\n",
    "dsa_df[dsa_df.Segmento.str.startswith('Con')].head()"
   ],
   "metadata": {
    "collapsed": false,
    "ExecuteTime": {
     "end_time": "2024-08-16T13:31:26.956986Z",
     "start_time": "2024-08-16T13:31:26.939942Z"
    }
   },
   "id": "1cc5bfa132e9fd0b",
   "execution_count": 23
  },
  {
   "cell_type": "code",
   "outputs": [
    {
     "data": {
      "text/plain": "        ID_Pedido Data_Pedido ID_Cliente  Segmento           Pais Regiao  \\\n0  CA-2016-152156  2016-11-08   CG-12520  Consumer  United States  South   \n1  CA-2016-152156  2016-11-08   CG-12520  Consumer  United States  South   \n3  US-2015-108966  2015-10-11   SO-20335  Consumer  United States  South   \n4  US-2015-108966  2015-10-11   SO-20335  Consumer  United States  South   \n5  CA-2014-115812  2014-06-09   BH-11710  Consumer  United States   West   \n\n        ID_Produto        Categoria  \\\n0  FUR-BO-10001798        Furniture   \n1  FUR-CH-10000454        Furniture   \n3  FUR-TA-10000577        Furniture   \n4  OFF-ST-10000760  Office Supplies   \n5  FUR-FU-10001487        Furniture   \n\n                                        Nome_Produto  Valor_Venda  Quantidade  \n0                  Bush Somerset Collection Bookcase     261.9600         NaN  \n1  Hon Deluxe Fabric Upholstered Stacking Chairs,...     731.9400         NaN  \n3      Bretford CR4500 Series Slim Rectangular Table     957.5775         5.0  \n4                     Eldon Fold 'N Roll Cart System      22.3680         2.0  \n5  Eldon Expressions Wood and Plastic Desk Access...      48.8600         7.0  ",
      "text/html": "<div>\n<style scoped>\n    .dataframe tbody tr th:only-of-type {\n        vertical-align: middle;\n    }\n\n    .dataframe tbody tr th {\n        vertical-align: top;\n    }\n\n    .dataframe thead th {\n        text-align: right;\n    }\n</style>\n<table border=\"1\" class=\"dataframe\">\n  <thead>\n    <tr style=\"text-align: right;\">\n      <th></th>\n      <th>ID_Pedido</th>\n      <th>Data_Pedido</th>\n      <th>ID_Cliente</th>\n      <th>Segmento</th>\n      <th>Pais</th>\n      <th>Regiao</th>\n      <th>ID_Produto</th>\n      <th>Categoria</th>\n      <th>Nome_Produto</th>\n      <th>Valor_Venda</th>\n      <th>Quantidade</th>\n    </tr>\n  </thead>\n  <tbody>\n    <tr>\n      <th>0</th>\n      <td>CA-2016-152156</td>\n      <td>2016-11-08</td>\n      <td>CG-12520</td>\n      <td>Consumer</td>\n      <td>United States</td>\n      <td>South</td>\n      <td>FUR-BO-10001798</td>\n      <td>Furniture</td>\n      <td>Bush Somerset Collection Bookcase</td>\n      <td>261.9600</td>\n      <td>NaN</td>\n    </tr>\n    <tr>\n      <th>1</th>\n      <td>CA-2016-152156</td>\n      <td>2016-11-08</td>\n      <td>CG-12520</td>\n      <td>Consumer</td>\n      <td>United States</td>\n      <td>South</td>\n      <td>FUR-CH-10000454</td>\n      <td>Furniture</td>\n      <td>Hon Deluxe Fabric Upholstered Stacking Chairs,...</td>\n      <td>731.9400</td>\n      <td>NaN</td>\n    </tr>\n    <tr>\n      <th>3</th>\n      <td>US-2015-108966</td>\n      <td>2015-10-11</td>\n      <td>SO-20335</td>\n      <td>Consumer</td>\n      <td>United States</td>\n      <td>South</td>\n      <td>FUR-TA-10000577</td>\n      <td>Furniture</td>\n      <td>Bretford CR4500 Series Slim Rectangular Table</td>\n      <td>957.5775</td>\n      <td>5.0</td>\n    </tr>\n    <tr>\n      <th>4</th>\n      <td>US-2015-108966</td>\n      <td>2015-10-11</td>\n      <td>SO-20335</td>\n      <td>Consumer</td>\n      <td>United States</td>\n      <td>South</td>\n      <td>OFF-ST-10000760</td>\n      <td>Office Supplies</td>\n      <td>Eldon Fold 'N Roll Cart System</td>\n      <td>22.3680</td>\n      <td>2.0</td>\n    </tr>\n    <tr>\n      <th>5</th>\n      <td>CA-2014-115812</td>\n      <td>2014-06-09</td>\n      <td>BH-11710</td>\n      <td>Consumer</td>\n      <td>United States</td>\n      <td>West</td>\n      <td>FUR-FU-10001487</td>\n      <td>Furniture</td>\n      <td>Eldon Expressions Wood and Plastic Desk Access...</td>\n      <td>48.8600</td>\n      <td>7.0</td>\n    </tr>\n  </tbody>\n</table>\n</div>"
     },
     "execution_count": 25,
     "metadata": {},
     "output_type": "execute_result"
    }
   ],
   "source": [
    "#Filtramos o dataframe pela coluna Segmento com valores que iniciam com as letra 'mer'\n",
    "#endswitch = termina com\n",
    "dsa_df[dsa_df.Segmento.str.endswith('mer')].head()"
   ],
   "metadata": {
    "collapsed": false,
    "ExecuteTime": {
     "end_time": "2024-08-16T13:33:52.475604Z",
     "start_time": "2024-08-16T13:33:52.457659Z"
    }
   },
   "id": "9c043886ceceafe5",
   "execution_count": 25
  },
  {
   "cell_type": "markdown",
   "source": [
    "SLIPT DE STRINGS EM DATAFRAMES DO PANDAS\n",
    "- Divide a string"
   ],
   "metadata": {
    "collapsed": false
   },
   "id": "94b37d6b4c7ea0bb"
  },
  {
   "cell_type": "code",
   "outputs": [
    {
     "data": {
      "text/plain": "        ID_Pedido Data_Pedido ID_Cliente   Segmento           Pais Regiao  \\\n0  CA-2016-152156  2016-11-08   CG-12520   Consumer  United States  South   \n1  CA-2016-152156  2016-11-08   CG-12520   Consumer  United States  South   \n2  CA-2016-138688  2016-06-12   DV-13045  Corporate  United States   West   \n3  US-2015-108966  2015-10-11   SO-20335   Consumer  United States  South   \n4  US-2015-108966  2015-10-11   SO-20335   Consumer  United States  South   \n\n        ID_Produto        Categoria  \\\n0  FUR-BO-10001798        Furniture   \n1  FUR-CH-10000454        Furniture   \n2  OFF-LA-10000240  Office Supplies   \n3  FUR-TA-10000577        Furniture   \n4  OFF-ST-10000760  Office Supplies   \n\n                                        Nome_Produto  Valor_Venda  Quantidade  \n0                  Bush Somerset Collection Bookcase     261.9600         NaN  \n1  Hon Deluxe Fabric Upholstered Stacking Chairs,...     731.9400         NaN  \n2  Self-Adhesive Address Labels for Typewriters b...      14.6200         2.0  \n3      Bretford CR4500 Series Slim Rectangular Table     957.5775         5.0  \n4                     Eldon Fold 'N Roll Cart System      22.3680         2.0  ",
      "text/html": "<div>\n<style scoped>\n    .dataframe tbody tr th:only-of-type {\n        vertical-align: middle;\n    }\n\n    .dataframe tbody tr th {\n        vertical-align: top;\n    }\n\n    .dataframe thead th {\n        text-align: right;\n    }\n</style>\n<table border=\"1\" class=\"dataframe\">\n  <thead>\n    <tr style=\"text-align: right;\">\n      <th></th>\n      <th>ID_Pedido</th>\n      <th>Data_Pedido</th>\n      <th>ID_Cliente</th>\n      <th>Segmento</th>\n      <th>Pais</th>\n      <th>Regiao</th>\n      <th>ID_Produto</th>\n      <th>Categoria</th>\n      <th>Nome_Produto</th>\n      <th>Valor_Venda</th>\n      <th>Quantidade</th>\n    </tr>\n  </thead>\n  <tbody>\n    <tr>\n      <th>0</th>\n      <td>CA-2016-152156</td>\n      <td>2016-11-08</td>\n      <td>CG-12520</td>\n      <td>Consumer</td>\n      <td>United States</td>\n      <td>South</td>\n      <td>FUR-BO-10001798</td>\n      <td>Furniture</td>\n      <td>Bush Somerset Collection Bookcase</td>\n      <td>261.9600</td>\n      <td>NaN</td>\n    </tr>\n    <tr>\n      <th>1</th>\n      <td>CA-2016-152156</td>\n      <td>2016-11-08</td>\n      <td>CG-12520</td>\n      <td>Consumer</td>\n      <td>United States</td>\n      <td>South</td>\n      <td>FUR-CH-10000454</td>\n      <td>Furniture</td>\n      <td>Hon Deluxe Fabric Upholstered Stacking Chairs,...</td>\n      <td>731.9400</td>\n      <td>NaN</td>\n    </tr>\n    <tr>\n      <th>2</th>\n      <td>CA-2016-138688</td>\n      <td>2016-06-12</td>\n      <td>DV-13045</td>\n      <td>Corporate</td>\n      <td>United States</td>\n      <td>West</td>\n      <td>OFF-LA-10000240</td>\n      <td>Office Supplies</td>\n      <td>Self-Adhesive Address Labels for Typewriters b...</td>\n      <td>14.6200</td>\n      <td>2.0</td>\n    </tr>\n    <tr>\n      <th>3</th>\n      <td>US-2015-108966</td>\n      <td>2015-10-11</td>\n      <td>SO-20335</td>\n      <td>Consumer</td>\n      <td>United States</td>\n      <td>South</td>\n      <td>FUR-TA-10000577</td>\n      <td>Furniture</td>\n      <td>Bretford CR4500 Series Slim Rectangular Table</td>\n      <td>957.5775</td>\n      <td>5.0</td>\n    </tr>\n    <tr>\n      <th>4</th>\n      <td>US-2015-108966</td>\n      <td>2015-10-11</td>\n      <td>SO-20335</td>\n      <td>Consumer</td>\n      <td>United States</td>\n      <td>South</td>\n      <td>OFF-ST-10000760</td>\n      <td>Office Supplies</td>\n      <td>Eldon Fold 'N Roll Cart System</td>\n      <td>22.3680</td>\n      <td>2.0</td>\n    </tr>\n  </tbody>\n</table>\n</div>"
     },
     "execution_count": 26,
     "metadata": {},
     "output_type": "execute_result"
    }
   ],
   "source": [
    "dsa_df.head()"
   ],
   "metadata": {
    "collapsed": false,
    "ExecuteTime": {
     "end_time": "2024-08-16T14:09:56.873736Z",
     "start_time": "2024-08-16T14:09:56.859964Z"
    }
   },
   "id": "b00b70cf8086862e",
   "execution_count": 26
  },
  {
   "cell_type": "code",
   "outputs": [
    {
     "data": {
      "text/plain": "0    CA-2016-152156\n1    CA-2016-152156\n2    CA-2016-138688\n3    US-2015-108966\n4    US-2015-108966\nName: ID_Pedido, dtype: object"
     },
     "execution_count": 27,
     "metadata": {},
     "output_type": "execute_result"
    }
   ],
   "source": [
    "dsa_df['ID_Pedido'].head()"
   ],
   "metadata": {
    "collapsed": false,
    "ExecuteTime": {
     "end_time": "2024-08-16T14:10:13.577598Z",
     "start_time": "2024-08-16T14:10:13.570088Z"
    }
   },
   "id": "4fa21cd2d7ba9dbf",
   "execution_count": 27
  },
  {
   "cell_type": "code",
   "outputs": [
    {
     "data": {
      "text/plain": "0       [CA, 2016, 152156]\n1       [CA, 2016, 152156]\n2       [CA, 2016, 138688]\n3       [US, 2015, 108966]\n4       [US, 2015, 108966]\n               ...        \n9989    [CA, 2014, 110422]\n9990    [CA, 2017, 121258]\n9991    [CA, 2017, 121258]\n9992    [CA, 2017, 121258]\n9993    [CA, 2017, 119914]\nName: ID_Pedido, Length: 9994, dtype: object"
     },
     "execution_count": 28,
     "metadata": {},
     "output_type": "execute_result"
    }
   ],
   "source": [
    "#Split da coluna pelo caracter '-'\n",
    "#Retorna listas\n",
    "dsa_df['ID_Pedido'].str.split('-')"
   ],
   "metadata": {
    "collapsed": false,
    "ExecuteTime": {
     "end_time": "2024-08-16T14:11:13.737264Z",
     "start_time": "2024-08-16T14:11:13.724375Z"
    }
   },
   "id": "f4bd7030e5d33ccb",
   "execution_count": 28
  },
  {
   "cell_type": "code",
   "outputs": [
    {
     "data": {
      "text/plain": "0    2016\n1    2016\n2    2016\n3    2015\n4    2015\nName: ID_Pedido, dtype: object"
     },
     "execution_count": 29,
     "metadata": {},
     "output_type": "execute_result"
    }
   ],
   "source": [
    "#Agora com a lista, temos o índice\n",
    "dsa_df['ID_Pedido'].str.split('-').str[1].head()"
   ],
   "metadata": {
    "collapsed": false,
    "ExecuteTime": {
     "end_time": "2024-08-16T14:12:29.342290Z",
     "start_time": "2024-08-16T14:12:29.324192Z"
    }
   },
   "id": "e5e891066f47b82d",
   "execution_count": 29
  },
  {
   "cell_type": "code",
   "outputs": [],
   "source": [
    "#Fazemod o split da coluna e extraímos o item na posição 2 (índice 1)\n",
    "dsa_df['Ano'] = dsa_df['ID_Pedido'].str.split('-').str[1]"
   ],
   "metadata": {
    "collapsed": false,
    "ExecuteTime": {
     "end_time": "2024-08-16T14:15:08.451158Z",
     "start_time": "2024-08-16T14:15:08.370625Z"
    }
   },
   "id": "9cb454324ebfe8fd",
   "execution_count": 30
  },
  {
   "cell_type": "code",
   "outputs": [
    {
     "data": {
      "text/plain": "        ID_Pedido Data_Pedido ID_Cliente   Segmento           Pais Regiao  \\\n0  CA-2016-152156  2016-11-08   CG-12520   Consumer  United States  South   \n1  CA-2016-152156  2016-11-08   CG-12520   Consumer  United States  South   \n2  CA-2016-138688  2016-06-12   DV-13045  Corporate  United States   West   \n3  US-2015-108966  2015-10-11   SO-20335   Consumer  United States  South   \n4  US-2015-108966  2015-10-11   SO-20335   Consumer  United States  South   \n\n        ID_Produto        Categoria  \\\n0  FUR-BO-10001798        Furniture   \n1  FUR-CH-10000454        Furniture   \n2  OFF-LA-10000240  Office Supplies   \n3  FUR-TA-10000577        Furniture   \n4  OFF-ST-10000760  Office Supplies   \n\n                                        Nome_Produto  Valor_Venda  Quantidade  \\\n0                  Bush Somerset Collection Bookcase     261.9600         NaN   \n1  Hon Deluxe Fabric Upholstered Stacking Chairs,...     731.9400         NaN   \n2  Self-Adhesive Address Labels for Typewriters b...      14.6200         2.0   \n3      Bretford CR4500 Series Slim Rectangular Table     957.5775         5.0   \n4                     Eldon Fold 'N Roll Cart System      22.3680         2.0   \n\n    Ano  \n0  2016  \n1  2016  \n2  2016  \n3  2015  \n4  2015  ",
      "text/html": "<div>\n<style scoped>\n    .dataframe tbody tr th:only-of-type {\n        vertical-align: middle;\n    }\n\n    .dataframe tbody tr th {\n        vertical-align: top;\n    }\n\n    .dataframe thead th {\n        text-align: right;\n    }\n</style>\n<table border=\"1\" class=\"dataframe\">\n  <thead>\n    <tr style=\"text-align: right;\">\n      <th></th>\n      <th>ID_Pedido</th>\n      <th>Data_Pedido</th>\n      <th>ID_Cliente</th>\n      <th>Segmento</th>\n      <th>Pais</th>\n      <th>Regiao</th>\n      <th>ID_Produto</th>\n      <th>Categoria</th>\n      <th>Nome_Produto</th>\n      <th>Valor_Venda</th>\n      <th>Quantidade</th>\n      <th>Ano</th>\n    </tr>\n  </thead>\n  <tbody>\n    <tr>\n      <th>0</th>\n      <td>CA-2016-152156</td>\n      <td>2016-11-08</td>\n      <td>CG-12520</td>\n      <td>Consumer</td>\n      <td>United States</td>\n      <td>South</td>\n      <td>FUR-BO-10001798</td>\n      <td>Furniture</td>\n      <td>Bush Somerset Collection Bookcase</td>\n      <td>261.9600</td>\n      <td>NaN</td>\n      <td>2016</td>\n    </tr>\n    <tr>\n      <th>1</th>\n      <td>CA-2016-152156</td>\n      <td>2016-11-08</td>\n      <td>CG-12520</td>\n      <td>Consumer</td>\n      <td>United States</td>\n      <td>South</td>\n      <td>FUR-CH-10000454</td>\n      <td>Furniture</td>\n      <td>Hon Deluxe Fabric Upholstered Stacking Chairs,...</td>\n      <td>731.9400</td>\n      <td>NaN</td>\n      <td>2016</td>\n    </tr>\n    <tr>\n      <th>2</th>\n      <td>CA-2016-138688</td>\n      <td>2016-06-12</td>\n      <td>DV-13045</td>\n      <td>Corporate</td>\n      <td>United States</td>\n      <td>West</td>\n      <td>OFF-LA-10000240</td>\n      <td>Office Supplies</td>\n      <td>Self-Adhesive Address Labels for Typewriters b...</td>\n      <td>14.6200</td>\n      <td>2.0</td>\n      <td>2016</td>\n    </tr>\n    <tr>\n      <th>3</th>\n      <td>US-2015-108966</td>\n      <td>2015-10-11</td>\n      <td>SO-20335</td>\n      <td>Consumer</td>\n      <td>United States</td>\n      <td>South</td>\n      <td>FUR-TA-10000577</td>\n      <td>Furniture</td>\n      <td>Bretford CR4500 Series Slim Rectangular Table</td>\n      <td>957.5775</td>\n      <td>5.0</td>\n      <td>2015</td>\n    </tr>\n    <tr>\n      <th>4</th>\n      <td>US-2015-108966</td>\n      <td>2015-10-11</td>\n      <td>SO-20335</td>\n      <td>Consumer</td>\n      <td>United States</td>\n      <td>South</td>\n      <td>OFF-ST-10000760</td>\n      <td>Office Supplies</td>\n      <td>Eldon Fold 'N Roll Cart System</td>\n      <td>22.3680</td>\n      <td>2.0</td>\n      <td>2015</td>\n    </tr>\n  </tbody>\n</table>\n</div>"
     },
     "execution_count": 31,
     "metadata": {},
     "output_type": "execute_result"
    }
   ],
   "source": [
    "dsa_df.head()"
   ],
   "metadata": {
    "collapsed": false,
    "ExecuteTime": {
     "end_time": "2024-08-16T14:15:30.412319Z",
     "start_time": "2024-08-16T14:15:30.400220Z"
    }
   },
   "id": "9f53a8930a37cca3",
   "execution_count": 31
  },
  {
   "cell_type": "markdown",
   "source": [
    "STRIP DE STRINGS EM DATAFRAMES DO PANDAS\n",
    "- Remove caracteres da string"
   ],
   "metadata": {
    "collapsed": false
   },
   "id": "8883d2ece467aa5f"
  },
  {
   "cell_type": "code",
   "outputs": [
    {
     "data": {
      "text/plain": "        ID_Pedido Data_Pedido ID_Cliente   Segmento           Pais Regiao  \\\n0  CA-2016-152156  2016-11-08   CG-12520   Consumer  United States  South   \n1  CA-2016-152156  2016-11-08   CG-12520   Consumer  United States  South   \n2  CA-2016-138688  2016-06-12   DV-13045  Corporate  United States   West   \n\n        ID_Produto        Categoria  \\\n0  FUR-BO-10001798        Furniture   \n1  FUR-CH-10000454        Furniture   \n2  OFF-LA-10000240  Office Supplies   \n\n                                        Nome_Produto  Valor_Venda  Quantidade  \\\n0                  Bush Somerset Collection Bookcase       261.96         NaN   \n1  Hon Deluxe Fabric Upholstered Stacking Chairs,...       731.94         NaN   \n2  Self-Adhesive Address Labels for Typewriters b...        14.62         2.0   \n\n    Ano  \n0  2016  \n1  2016  \n2  2016  ",
      "text/html": "<div>\n<style scoped>\n    .dataframe tbody tr th:only-of-type {\n        vertical-align: middle;\n    }\n\n    .dataframe tbody tr th {\n        vertical-align: top;\n    }\n\n    .dataframe thead th {\n        text-align: right;\n    }\n</style>\n<table border=\"1\" class=\"dataframe\">\n  <thead>\n    <tr style=\"text-align: right;\">\n      <th></th>\n      <th>ID_Pedido</th>\n      <th>Data_Pedido</th>\n      <th>ID_Cliente</th>\n      <th>Segmento</th>\n      <th>Pais</th>\n      <th>Regiao</th>\n      <th>ID_Produto</th>\n      <th>Categoria</th>\n      <th>Nome_Produto</th>\n      <th>Valor_Venda</th>\n      <th>Quantidade</th>\n      <th>Ano</th>\n    </tr>\n  </thead>\n  <tbody>\n    <tr>\n      <th>0</th>\n      <td>CA-2016-152156</td>\n      <td>2016-11-08</td>\n      <td>CG-12520</td>\n      <td>Consumer</td>\n      <td>United States</td>\n      <td>South</td>\n      <td>FUR-BO-10001798</td>\n      <td>Furniture</td>\n      <td>Bush Somerset Collection Bookcase</td>\n      <td>261.96</td>\n      <td>NaN</td>\n      <td>2016</td>\n    </tr>\n    <tr>\n      <th>1</th>\n      <td>CA-2016-152156</td>\n      <td>2016-11-08</td>\n      <td>CG-12520</td>\n      <td>Consumer</td>\n      <td>United States</td>\n      <td>South</td>\n      <td>FUR-CH-10000454</td>\n      <td>Furniture</td>\n      <td>Hon Deluxe Fabric Upholstered Stacking Chairs,...</td>\n      <td>731.94</td>\n      <td>NaN</td>\n      <td>2016</td>\n    </tr>\n    <tr>\n      <th>2</th>\n      <td>CA-2016-138688</td>\n      <td>2016-06-12</td>\n      <td>DV-13045</td>\n      <td>Corporate</td>\n      <td>United States</td>\n      <td>West</td>\n      <td>OFF-LA-10000240</td>\n      <td>Office Supplies</td>\n      <td>Self-Adhesive Address Labels for Typewriters b...</td>\n      <td>14.62</td>\n      <td>2.0</td>\n      <td>2016</td>\n    </tr>\n  </tbody>\n</table>\n</div>"
     },
     "execution_count": 32,
     "metadata": {},
     "output_type": "execute_result"
    }
   ],
   "source": [
    "dsa_df.head(3)"
   ],
   "metadata": {
    "collapsed": false,
    "ExecuteTime": {
     "end_time": "2024-08-16T14:17:11.656072Z",
     "start_time": "2024-08-16T14:17:11.643178Z"
    }
   },
   "id": "71e448f2dfcd0b4c",
   "execution_count": 32
  },
  {
   "cell_type": "code",
   "outputs": [
    {
     "data": {
      "text/plain": "0    2016-11-08\n1    2016-11-08\n2    2016-06-12\n3    2015-10-11\n4    2015-10-11\nName: Data_Pedido, dtype: object"
     },
     "execution_count": 33,
     "metadata": {},
     "output_type": "execute_result"
    }
   ],
   "source": [
    "dsa_df['Data_Pedido'].head()"
   ],
   "metadata": {
    "collapsed": false,
    "ExecuteTime": {
     "end_time": "2024-08-16T14:17:29.283796Z",
     "start_time": "2024-08-16T14:17:29.276572Z"
    }
   },
   "id": "67dcae16672cecd6",
   "execution_count": 33
  },
  {
   "cell_type": "code",
   "outputs": [
    {
     "data": {
      "text/plain": "0       16-11-08\n1       16-11-08\n2       16-06-12\n3       15-10-11\n4       15-10-11\n          ...   \n9989    14-01-21\n9990    17-02-26\n9991    17-02-26\n9992    17-02-26\n9993    17-05-04\nName: Data_Pedido, Length: 9994, dtype: object"
     },
     "execution_count": 34,
     "metadata": {},
     "output_type": "execute_result"
    }
   ],
   "source": [
    "#Função lstrip() = left strip, rstrip() = right strip, strip()\n",
    "#Vamos remover os dígitos 2 e 0 à esquerda do valor variável 'Data_Pedido'\n",
    "dsa_df['Data_Pedido'].str.lstrip('20')"
   ],
   "metadata": {
    "collapsed": false,
    "ExecuteTime": {
     "end_time": "2024-08-16T14:19:29.060164Z",
     "start_time": "2024-08-16T14:19:29.050064Z"
    }
   },
   "id": "906209e73c885d5",
   "execution_count": 34
  },
  {
   "cell_type": "markdown",
   "source": [
    "REPLACE DE STRINGS EM DATAFRAMES DO PANDAS\n",
    "- Função replace() = substitui caracteres dentro de uma string"
   ],
   "metadata": {
    "collapsed": false
   },
   "id": "302c6d757359f017"
  },
  {
   "cell_type": "code",
   "outputs": [
    {
     "data": {
      "text/plain": "        ID_Pedido Data_Pedido ID_Cliente   Segmento           Pais Regiao  \\\n0  CA-2016-152156  2016-11-08   CG-12520   Consumer  United States  South   \n1  CA-2016-152156  2016-11-08   CG-12520   Consumer  United States  South   \n2  CA-2016-138688  2016-06-12   DV-13045  Corporate  United States   West   \n3  US-2015-108966  2015-10-11   SO-20335   Consumer  United States  South   \n4  US-2015-108966  2015-10-11   SO-20335   Consumer  United States  South   \n\n        ID_Produto        Categoria  \\\n0  FUR-BO-10001798        Furniture   \n1  FUR-CH-10000454        Furniture   \n2  OFF-LA-10000240  Office Supplies   \n3  FUR-TA-10000577        Furniture   \n4  OFF-ST-10000760  Office Supplies   \n\n                                        Nome_Produto  Valor_Venda  Quantidade  \\\n0                  Bush Somerset Collection Bookcase     261.9600         NaN   \n1  Hon Deluxe Fabric Upholstered Stacking Chairs,...     731.9400         NaN   \n2  Self-Adhesive Address Labels for Typewriters b...      14.6200         2.0   \n3      Bretford CR4500 Series Slim Rectangular Table     957.5775         5.0   \n4                     Eldon Fold 'N Roll Cart System      22.3680         2.0   \n\n    Ano  \n0  2016  \n1  2016  \n2  2016  \n3  2015  \n4  2015  ",
      "text/html": "<div>\n<style scoped>\n    .dataframe tbody tr th:only-of-type {\n        vertical-align: middle;\n    }\n\n    .dataframe tbody tr th {\n        vertical-align: top;\n    }\n\n    .dataframe thead th {\n        text-align: right;\n    }\n</style>\n<table border=\"1\" class=\"dataframe\">\n  <thead>\n    <tr style=\"text-align: right;\">\n      <th></th>\n      <th>ID_Pedido</th>\n      <th>Data_Pedido</th>\n      <th>ID_Cliente</th>\n      <th>Segmento</th>\n      <th>Pais</th>\n      <th>Regiao</th>\n      <th>ID_Produto</th>\n      <th>Categoria</th>\n      <th>Nome_Produto</th>\n      <th>Valor_Venda</th>\n      <th>Quantidade</th>\n      <th>Ano</th>\n    </tr>\n  </thead>\n  <tbody>\n    <tr>\n      <th>0</th>\n      <td>CA-2016-152156</td>\n      <td>2016-11-08</td>\n      <td>CG-12520</td>\n      <td>Consumer</td>\n      <td>United States</td>\n      <td>South</td>\n      <td>FUR-BO-10001798</td>\n      <td>Furniture</td>\n      <td>Bush Somerset Collection Bookcase</td>\n      <td>261.9600</td>\n      <td>NaN</td>\n      <td>2016</td>\n    </tr>\n    <tr>\n      <th>1</th>\n      <td>CA-2016-152156</td>\n      <td>2016-11-08</td>\n      <td>CG-12520</td>\n      <td>Consumer</td>\n      <td>United States</td>\n      <td>South</td>\n      <td>FUR-CH-10000454</td>\n      <td>Furniture</td>\n      <td>Hon Deluxe Fabric Upholstered Stacking Chairs,...</td>\n      <td>731.9400</td>\n      <td>NaN</td>\n      <td>2016</td>\n    </tr>\n    <tr>\n      <th>2</th>\n      <td>CA-2016-138688</td>\n      <td>2016-06-12</td>\n      <td>DV-13045</td>\n      <td>Corporate</td>\n      <td>United States</td>\n      <td>West</td>\n      <td>OFF-LA-10000240</td>\n      <td>Office Supplies</td>\n      <td>Self-Adhesive Address Labels for Typewriters b...</td>\n      <td>14.6200</td>\n      <td>2.0</td>\n      <td>2016</td>\n    </tr>\n    <tr>\n      <th>3</th>\n      <td>US-2015-108966</td>\n      <td>2015-10-11</td>\n      <td>SO-20335</td>\n      <td>Consumer</td>\n      <td>United States</td>\n      <td>South</td>\n      <td>FUR-TA-10000577</td>\n      <td>Furniture</td>\n      <td>Bretford CR4500 Series Slim Rectangular Table</td>\n      <td>957.5775</td>\n      <td>5.0</td>\n      <td>2015</td>\n    </tr>\n    <tr>\n      <th>4</th>\n      <td>US-2015-108966</td>\n      <td>2015-10-11</td>\n      <td>SO-20335</td>\n      <td>Consumer</td>\n      <td>United States</td>\n      <td>South</td>\n      <td>OFF-ST-10000760</td>\n      <td>Office Supplies</td>\n      <td>Eldon Fold 'N Roll Cart System</td>\n      <td>22.3680</td>\n      <td>2.0</td>\n      <td>2015</td>\n    </tr>\n  </tbody>\n</table>\n</div>"
     },
     "execution_count": 35,
     "metadata": {},
     "output_type": "execute_result"
    }
   ],
   "source": [
    "dsa_df.head()"
   ],
   "metadata": {
    "collapsed": false,
    "ExecuteTime": {
     "end_time": "2024-08-16T14:23:14.638157Z",
     "start_time": "2024-08-16T14:23:14.625359Z"
    }
   },
   "id": "5bfa586418bd126",
   "execution_count": 35
  },
  {
   "cell_type": "code",
   "outputs": [],
   "source": [
    "#Substituímos os caracteres CG por AX na coluna 'ID_Cliente'\n",
    "dsa_df['ID_Cliente'] = dsa_df['ID_Cliente'].str.replace('CG','AX')"
   ],
   "metadata": {
    "collapsed": false,
    "ExecuteTime": {
     "end_time": "2024-08-16T14:24:30.621359Z",
     "start_time": "2024-08-16T14:24:30.613818Z"
    }
   },
   "id": "4f73435e5cfc8f42",
   "execution_count": 36
  },
  {
   "cell_type": "code",
   "outputs": [
    {
     "data": {
      "text/plain": "        ID_Pedido Data_Pedido ID_Cliente   Segmento           Pais Regiao  \\\n0  CA-2016-152156  2016-11-08   AX-12520   Consumer  United States  South   \n1  CA-2016-152156  2016-11-08   AX-12520   Consumer  United States  South   \n2  CA-2016-138688  2016-06-12   DV-13045  Corporate  United States   West   \n3  US-2015-108966  2015-10-11   SO-20335   Consumer  United States  South   \n4  US-2015-108966  2015-10-11   SO-20335   Consumer  United States  South   \n\n        ID_Produto        Categoria  \\\n0  FUR-BO-10001798        Furniture   \n1  FUR-CH-10000454        Furniture   \n2  OFF-LA-10000240  Office Supplies   \n3  FUR-TA-10000577        Furniture   \n4  OFF-ST-10000760  Office Supplies   \n\n                                        Nome_Produto  Valor_Venda  Quantidade  \\\n0                  Bush Somerset Collection Bookcase     261.9600         NaN   \n1  Hon Deluxe Fabric Upholstered Stacking Chairs,...     731.9400         NaN   \n2  Self-Adhesive Address Labels for Typewriters b...      14.6200         2.0   \n3      Bretford CR4500 Series Slim Rectangular Table     957.5775         5.0   \n4                     Eldon Fold 'N Roll Cart System      22.3680         2.0   \n\n    Ano  \n0  2016  \n1  2016  \n2  2016  \n3  2015  \n4  2015  ",
      "text/html": "<div>\n<style scoped>\n    .dataframe tbody tr th:only-of-type {\n        vertical-align: middle;\n    }\n\n    .dataframe tbody tr th {\n        vertical-align: top;\n    }\n\n    .dataframe thead th {\n        text-align: right;\n    }\n</style>\n<table border=\"1\" class=\"dataframe\">\n  <thead>\n    <tr style=\"text-align: right;\">\n      <th></th>\n      <th>ID_Pedido</th>\n      <th>Data_Pedido</th>\n      <th>ID_Cliente</th>\n      <th>Segmento</th>\n      <th>Pais</th>\n      <th>Regiao</th>\n      <th>ID_Produto</th>\n      <th>Categoria</th>\n      <th>Nome_Produto</th>\n      <th>Valor_Venda</th>\n      <th>Quantidade</th>\n      <th>Ano</th>\n    </tr>\n  </thead>\n  <tbody>\n    <tr>\n      <th>0</th>\n      <td>CA-2016-152156</td>\n      <td>2016-11-08</td>\n      <td>AX-12520</td>\n      <td>Consumer</td>\n      <td>United States</td>\n      <td>South</td>\n      <td>FUR-BO-10001798</td>\n      <td>Furniture</td>\n      <td>Bush Somerset Collection Bookcase</td>\n      <td>261.9600</td>\n      <td>NaN</td>\n      <td>2016</td>\n    </tr>\n    <tr>\n      <th>1</th>\n      <td>CA-2016-152156</td>\n      <td>2016-11-08</td>\n      <td>AX-12520</td>\n      <td>Consumer</td>\n      <td>United States</td>\n      <td>South</td>\n      <td>FUR-CH-10000454</td>\n      <td>Furniture</td>\n      <td>Hon Deluxe Fabric Upholstered Stacking Chairs,...</td>\n      <td>731.9400</td>\n      <td>NaN</td>\n      <td>2016</td>\n    </tr>\n    <tr>\n      <th>2</th>\n      <td>CA-2016-138688</td>\n      <td>2016-06-12</td>\n      <td>DV-13045</td>\n      <td>Corporate</td>\n      <td>United States</td>\n      <td>West</td>\n      <td>OFF-LA-10000240</td>\n      <td>Office Supplies</td>\n      <td>Self-Adhesive Address Labels for Typewriters b...</td>\n      <td>14.6200</td>\n      <td>2.0</td>\n      <td>2016</td>\n    </tr>\n    <tr>\n      <th>3</th>\n      <td>US-2015-108966</td>\n      <td>2015-10-11</td>\n      <td>SO-20335</td>\n      <td>Consumer</td>\n      <td>United States</td>\n      <td>South</td>\n      <td>FUR-TA-10000577</td>\n      <td>Furniture</td>\n      <td>Bretford CR4500 Series Slim Rectangular Table</td>\n      <td>957.5775</td>\n      <td>5.0</td>\n      <td>2015</td>\n    </tr>\n    <tr>\n      <th>4</th>\n      <td>US-2015-108966</td>\n      <td>2015-10-11</td>\n      <td>SO-20335</td>\n      <td>Consumer</td>\n      <td>United States</td>\n      <td>South</td>\n      <td>OFF-ST-10000760</td>\n      <td>Office Supplies</td>\n      <td>Eldon Fold 'N Roll Cart System</td>\n      <td>22.3680</td>\n      <td>2.0</td>\n      <td>2015</td>\n    </tr>\n  </tbody>\n</table>\n</div>"
     },
     "execution_count": 37,
     "metadata": {},
     "output_type": "execute_result"
    }
   ],
   "source": [
    "dsa_df.head()"
   ],
   "metadata": {
    "collapsed": false,
    "ExecuteTime": {
     "end_time": "2024-08-16T14:24:37.375682Z",
     "start_time": "2024-08-16T14:24:37.363369Z"
    }
   },
   "id": "d50f98445f7072a4",
   "execution_count": 37
  },
  {
   "cell_type": "markdown",
   "source": [
    "COMBINAÇÃO DE STRINGS EM DATAFRAMES DO PANDAS\n",
    "- A função cat() pode ser usada para concatenar strings"
   ],
   "metadata": {
    "collapsed": false
   },
   "id": "85a4f57b50d71915"
  },
  {
   "cell_type": "code",
   "outputs": [
    {
     "data": {
      "text/plain": "        ID_Pedido Data_Pedido ID_Cliente   Segmento           Pais Regiao  \\\n0  CA-2016-152156  2016-11-08   AX-12520   Consumer  United States  South   \n1  CA-2016-152156  2016-11-08   AX-12520   Consumer  United States  South   \n2  CA-2016-138688  2016-06-12   DV-13045  Corporate  United States   West   \n3  US-2015-108966  2015-10-11   SO-20335   Consumer  United States  South   \n4  US-2015-108966  2015-10-11   SO-20335   Consumer  United States  South   \n\n        ID_Produto        Categoria  \\\n0  FUR-BO-10001798        Furniture   \n1  FUR-CH-10000454        Furniture   \n2  OFF-LA-10000240  Office Supplies   \n3  FUR-TA-10000577        Furniture   \n4  OFF-ST-10000760  Office Supplies   \n\n                                        Nome_Produto  Valor_Venda  Quantidade  \\\n0                  Bush Somerset Collection Bookcase     261.9600         NaN   \n1  Hon Deluxe Fabric Upholstered Stacking Chairs,...     731.9400         NaN   \n2  Self-Adhesive Address Labels for Typewriters b...      14.6200         2.0   \n3      Bretford CR4500 Series Slim Rectangular Table     957.5775         5.0   \n4                     Eldon Fold 'N Roll Cart System      22.3680         2.0   \n\n    Ano  \n0  2016  \n1  2016  \n2  2016  \n3  2015  \n4  2015  ",
      "text/html": "<div>\n<style scoped>\n    .dataframe tbody tr th:only-of-type {\n        vertical-align: middle;\n    }\n\n    .dataframe tbody tr th {\n        vertical-align: top;\n    }\n\n    .dataframe thead th {\n        text-align: right;\n    }\n</style>\n<table border=\"1\" class=\"dataframe\">\n  <thead>\n    <tr style=\"text-align: right;\">\n      <th></th>\n      <th>ID_Pedido</th>\n      <th>Data_Pedido</th>\n      <th>ID_Cliente</th>\n      <th>Segmento</th>\n      <th>Pais</th>\n      <th>Regiao</th>\n      <th>ID_Produto</th>\n      <th>Categoria</th>\n      <th>Nome_Produto</th>\n      <th>Valor_Venda</th>\n      <th>Quantidade</th>\n      <th>Ano</th>\n    </tr>\n  </thead>\n  <tbody>\n    <tr>\n      <th>0</th>\n      <td>CA-2016-152156</td>\n      <td>2016-11-08</td>\n      <td>AX-12520</td>\n      <td>Consumer</td>\n      <td>United States</td>\n      <td>South</td>\n      <td>FUR-BO-10001798</td>\n      <td>Furniture</td>\n      <td>Bush Somerset Collection Bookcase</td>\n      <td>261.9600</td>\n      <td>NaN</td>\n      <td>2016</td>\n    </tr>\n    <tr>\n      <th>1</th>\n      <td>CA-2016-152156</td>\n      <td>2016-11-08</td>\n      <td>AX-12520</td>\n      <td>Consumer</td>\n      <td>United States</td>\n      <td>South</td>\n      <td>FUR-CH-10000454</td>\n      <td>Furniture</td>\n      <td>Hon Deluxe Fabric Upholstered Stacking Chairs,...</td>\n      <td>731.9400</td>\n      <td>NaN</td>\n      <td>2016</td>\n    </tr>\n    <tr>\n      <th>2</th>\n      <td>CA-2016-138688</td>\n      <td>2016-06-12</td>\n      <td>DV-13045</td>\n      <td>Corporate</td>\n      <td>United States</td>\n      <td>West</td>\n      <td>OFF-LA-10000240</td>\n      <td>Office Supplies</td>\n      <td>Self-Adhesive Address Labels for Typewriters b...</td>\n      <td>14.6200</td>\n      <td>2.0</td>\n      <td>2016</td>\n    </tr>\n    <tr>\n      <th>3</th>\n      <td>US-2015-108966</td>\n      <td>2015-10-11</td>\n      <td>SO-20335</td>\n      <td>Consumer</td>\n      <td>United States</td>\n      <td>South</td>\n      <td>FUR-TA-10000577</td>\n      <td>Furniture</td>\n      <td>Bretford CR4500 Series Slim Rectangular Table</td>\n      <td>957.5775</td>\n      <td>5.0</td>\n      <td>2015</td>\n    </tr>\n    <tr>\n      <th>4</th>\n      <td>US-2015-108966</td>\n      <td>2015-10-11</td>\n      <td>SO-20335</td>\n      <td>Consumer</td>\n      <td>United States</td>\n      <td>South</td>\n      <td>OFF-ST-10000760</td>\n      <td>Office Supplies</td>\n      <td>Eldon Fold 'N Roll Cart System</td>\n      <td>22.3680</td>\n      <td>2.0</td>\n      <td>2015</td>\n    </tr>\n  </tbody>\n</table>\n</div>"
     },
     "execution_count": 38,
     "metadata": {},
     "output_type": "execute_result"
    }
   ],
   "source": [
    "dsa_df.head()"
   ],
   "metadata": {
    "collapsed": false,
    "ExecuteTime": {
     "end_time": "2024-08-16T14:27:46.663959Z",
     "start_time": "2024-08-16T14:27:46.650113Z"
    }
   },
   "id": "652ba7323fe58c79",
   "execution_count": 38
  },
  {
   "cell_type": "code",
   "outputs": [],
   "source": [
    "#Concatenando strings\n",
    "dsa_df['Pedido_Segmento'] = dsa_df['ID_Pedido'].str.cat(dsa_df['Segmento'], sep = '-')"
   ],
   "metadata": {
    "collapsed": false,
    "ExecuteTime": {
     "end_time": "2024-08-16T14:28:42.610715Z",
     "start_time": "2024-08-16T14:28:42.600316Z"
    }
   },
   "id": "ee75545bc2c278a2",
   "execution_count": 39
  },
  {
   "cell_type": "code",
   "outputs": [
    {
     "data": {
      "text/plain": "        ID_Pedido Data_Pedido ID_Cliente   Segmento           Pais Regiao  \\\n0  CA-2016-152156  2016-11-08   AX-12520   Consumer  United States  South   \n1  CA-2016-152156  2016-11-08   AX-12520   Consumer  United States  South   \n2  CA-2016-138688  2016-06-12   DV-13045  Corporate  United States   West   \n3  US-2015-108966  2015-10-11   SO-20335   Consumer  United States  South   \n4  US-2015-108966  2015-10-11   SO-20335   Consumer  United States  South   \n\n        ID_Produto        Categoria  \\\n0  FUR-BO-10001798        Furniture   \n1  FUR-CH-10000454        Furniture   \n2  OFF-LA-10000240  Office Supplies   \n3  FUR-TA-10000577        Furniture   \n4  OFF-ST-10000760  Office Supplies   \n\n                                        Nome_Produto  Valor_Venda  Quantidade  \\\n0                  Bush Somerset Collection Bookcase     261.9600         NaN   \n1  Hon Deluxe Fabric Upholstered Stacking Chairs,...     731.9400         NaN   \n2  Self-Adhesive Address Labels for Typewriters b...      14.6200         2.0   \n3      Bretford CR4500 Series Slim Rectangular Table     957.5775         5.0   \n4                     Eldon Fold 'N Roll Cart System      22.3680         2.0   \n\n    Ano           Pedido_Segmento  \n0  2016   CA-2016-152156-Consumer  \n1  2016   CA-2016-152156-Consumer  \n2  2016  CA-2016-138688-Corporate  \n3  2015   US-2015-108966-Consumer  \n4  2015   US-2015-108966-Consumer  ",
      "text/html": "<div>\n<style scoped>\n    .dataframe tbody tr th:only-of-type {\n        vertical-align: middle;\n    }\n\n    .dataframe tbody tr th {\n        vertical-align: top;\n    }\n\n    .dataframe thead th {\n        text-align: right;\n    }\n</style>\n<table border=\"1\" class=\"dataframe\">\n  <thead>\n    <tr style=\"text-align: right;\">\n      <th></th>\n      <th>ID_Pedido</th>\n      <th>Data_Pedido</th>\n      <th>ID_Cliente</th>\n      <th>Segmento</th>\n      <th>Pais</th>\n      <th>Regiao</th>\n      <th>ID_Produto</th>\n      <th>Categoria</th>\n      <th>Nome_Produto</th>\n      <th>Valor_Venda</th>\n      <th>Quantidade</th>\n      <th>Ano</th>\n      <th>Pedido_Segmento</th>\n    </tr>\n  </thead>\n  <tbody>\n    <tr>\n      <th>0</th>\n      <td>CA-2016-152156</td>\n      <td>2016-11-08</td>\n      <td>AX-12520</td>\n      <td>Consumer</td>\n      <td>United States</td>\n      <td>South</td>\n      <td>FUR-BO-10001798</td>\n      <td>Furniture</td>\n      <td>Bush Somerset Collection Bookcase</td>\n      <td>261.9600</td>\n      <td>NaN</td>\n      <td>2016</td>\n      <td>CA-2016-152156-Consumer</td>\n    </tr>\n    <tr>\n      <th>1</th>\n      <td>CA-2016-152156</td>\n      <td>2016-11-08</td>\n      <td>AX-12520</td>\n      <td>Consumer</td>\n      <td>United States</td>\n      <td>South</td>\n      <td>FUR-CH-10000454</td>\n      <td>Furniture</td>\n      <td>Hon Deluxe Fabric Upholstered Stacking Chairs,...</td>\n      <td>731.9400</td>\n      <td>NaN</td>\n      <td>2016</td>\n      <td>CA-2016-152156-Consumer</td>\n    </tr>\n    <tr>\n      <th>2</th>\n      <td>CA-2016-138688</td>\n      <td>2016-06-12</td>\n      <td>DV-13045</td>\n      <td>Corporate</td>\n      <td>United States</td>\n      <td>West</td>\n      <td>OFF-LA-10000240</td>\n      <td>Office Supplies</td>\n      <td>Self-Adhesive Address Labels for Typewriters b...</td>\n      <td>14.6200</td>\n      <td>2.0</td>\n      <td>2016</td>\n      <td>CA-2016-138688-Corporate</td>\n    </tr>\n    <tr>\n      <th>3</th>\n      <td>US-2015-108966</td>\n      <td>2015-10-11</td>\n      <td>SO-20335</td>\n      <td>Consumer</td>\n      <td>United States</td>\n      <td>South</td>\n      <td>FUR-TA-10000577</td>\n      <td>Furniture</td>\n      <td>Bretford CR4500 Series Slim Rectangular Table</td>\n      <td>957.5775</td>\n      <td>5.0</td>\n      <td>2015</td>\n      <td>US-2015-108966-Consumer</td>\n    </tr>\n    <tr>\n      <th>4</th>\n      <td>US-2015-108966</td>\n      <td>2015-10-11</td>\n      <td>SO-20335</td>\n      <td>Consumer</td>\n      <td>United States</td>\n      <td>South</td>\n      <td>OFF-ST-10000760</td>\n      <td>Office Supplies</td>\n      <td>Eldon Fold 'N Roll Cart System</td>\n      <td>22.3680</td>\n      <td>2.0</td>\n      <td>2015</td>\n      <td>US-2015-108966-Consumer</td>\n    </tr>\n  </tbody>\n</table>\n</div>"
     },
     "execution_count": 40,
     "metadata": {},
     "output_type": "execute_result"
    }
   ],
   "source": [
    "dsa_df.head()"
   ],
   "metadata": {
    "collapsed": false,
    "ExecuteTime": {
     "end_time": "2024-08-16T14:28:47.695664Z",
     "start_time": "2024-08-16T14:28:47.679275Z"
    }
   },
   "id": "1234be79bb4ed1e9",
   "execution_count": 40
  },
  {
   "cell_type": "markdown",
   "source": [
    "CONSTRUÇÃO DE GRÁFICOS A PARTIR DE DATAFRAMES DO PANDAS"
   ],
   "metadata": {
    "collapsed": false
   },
   "id": "ae20320255bc3c73"
  },
  {
   "cell_type": "code",
   "outputs": [
    {
     "data": {
      "text/plain": "'1.2.2'"
     },
     "execution_count": 44,
     "metadata": {},
     "output_type": "execute_result"
    }
   ],
   "source": [
    "import sklearn\n",
    "sklearn.__version__"
   ],
   "metadata": {
    "collapsed": false,
    "ExecuteTime": {
     "end_time": "2024-08-16T14:39:42.348097Z",
     "start_time": "2024-08-16T14:39:40.366902Z"
    }
   },
   "id": "acd297acc07aac95",
   "execution_count": 44
  },
  {
   "cell_type": "code",
   "outputs": [],
   "source": [
    "#Vamos começar importando o dataset iris do Scikit-learn\n",
    "from sklearn.datasets import load_iris\n",
    "data = load_iris()"
   ],
   "metadata": {
    "collapsed": false,
    "ExecuteTime": {
     "end_time": "2024-08-16T14:40:50.514823Z",
     "start_time": "2024-08-16T14:40:50.260747Z"
    }
   },
   "id": "c4e6f93b7f66d8e2",
   "execution_count": 45
  },
  {
   "cell_type": "code",
   "outputs": [
    {
     "data": {
      "text/plain": "   sepal length (cm)  sepal width (cm)  petal length (cm)  petal width (cm)  \\\n0                5.1               3.5                1.4               0.2   \n1                4.9               3.0                1.4               0.2   \n2                4.7               3.2                1.3               0.2   \n3                4.6               3.1                1.5               0.2   \n4                5.0               3.6                1.4               0.2   \n\n   species  \n0        0  \n1        0  \n2        0  \n3        0  \n4        0  ",
      "text/html": "<div>\n<style scoped>\n    .dataframe tbody tr th:only-of-type {\n        vertical-align: middle;\n    }\n\n    .dataframe tbody tr th {\n        vertical-align: top;\n    }\n\n    .dataframe thead th {\n        text-align: right;\n    }\n</style>\n<table border=\"1\" class=\"dataframe\">\n  <thead>\n    <tr style=\"text-align: right;\">\n      <th></th>\n      <th>sepal length (cm)</th>\n      <th>sepal width (cm)</th>\n      <th>petal length (cm)</th>\n      <th>petal width (cm)</th>\n      <th>species</th>\n    </tr>\n  </thead>\n  <tbody>\n    <tr>\n      <th>0</th>\n      <td>5.1</td>\n      <td>3.5</td>\n      <td>1.4</td>\n      <td>0.2</td>\n      <td>0</td>\n    </tr>\n    <tr>\n      <th>1</th>\n      <td>4.9</td>\n      <td>3.0</td>\n      <td>1.4</td>\n      <td>0.2</td>\n      <td>0</td>\n    </tr>\n    <tr>\n      <th>2</th>\n      <td>4.7</td>\n      <td>3.2</td>\n      <td>1.3</td>\n      <td>0.2</td>\n      <td>0</td>\n    </tr>\n    <tr>\n      <th>3</th>\n      <td>4.6</td>\n      <td>3.1</td>\n      <td>1.5</td>\n      <td>0.2</td>\n      <td>0</td>\n    </tr>\n    <tr>\n      <th>4</th>\n      <td>5.0</td>\n      <td>3.6</td>\n      <td>1.4</td>\n      <td>0.2</td>\n      <td>0</td>\n    </tr>\n  </tbody>\n</table>\n</div>"
     },
     "execution_count": 46,
     "metadata": {},
     "output_type": "execute_result"
    }
   ],
   "source": [
    "#E então carregamos o dataset iris como dataframes do Pandas\n",
    "df = pd.DataFrame(data['data'], columns=data['feature_names'])\n",
    "df['species'] = data['target']\n",
    "df.head()"
   ],
   "metadata": {
    "collapsed": false,
    "ExecuteTime": {
     "end_time": "2024-08-16T14:42:17.369895Z",
     "start_time": "2024-08-16T14:42:17.356724Z"
    }
   },
   "id": "8423dd7c0b029230",
   "execution_count": 46
  },
  {
   "cell_type": "code",
   "outputs": [
    {
     "data": {
      "text/plain": "<Axes: >"
     },
     "execution_count": 47,
     "metadata": {},
     "output_type": "execute_result"
    },
    {
     "data": {
      "text/plain": "<Figure size 640x480 with 1 Axes>",
      "image/png": "[encoded data removed]"
     },
     "metadata": {},
     "output_type": "display_data"
    }
   ],
   "source": [
    "#Para criar um gráfico de linhas com todas as variáveis do dataframe, basta fazer isso:\n",
    "df.plot()"
   ],
   "metadata": {
    "collapsed": false,
    "ExecuteTime": {
     "end_time": "2024-08-16T14:43:12.201666Z",
     "start_time": "2024-08-16T14:43:10.882378Z"
    }
   },
   "id": "7efbc2804a0df069",
   "execution_count": 47
  },
  {
   "cell_type": "code",
   "outputs": [
    {
     "data": {
      "text/plain": "<Axes: xlabel='sepal length (cm)', ylabel='sepal width (cm)'>"
     },
     "execution_count": 48,
     "metadata": {},
     "output_type": "execute_result"
    },
    {
     "data": {
      "text/plain": "<Figure size 640x480 with 1 Axes>",
      "image/png": "[encoded data removed]"
     },
     "metadata": {},
     "output_type": "display_data"
    }
   ],
   "source": [
    "#Scatter plot com duas varáveis\n",
    "df.plot.scatter(x='sepal length (cm)', y='sepal width (cm)')"
   ],
   "metadata": {
    "collapsed": false,
    "ExecuteTime": {
     "end_time": "2024-08-16T14:44:29.352611Z",
     "start_time": "2024-08-16T14:44:29.193567Z"
    }
   },
   "id": "e337a8a6b2ff2e4f",
   "execution_count": 48
  },
  {
   "cell_type": "code",
   "outputs": [
    {
     "data": {
      "text/plain": "<Axes: >"
     },
     "execution_count": 49,
     "metadata": {},
     "output_type": "execute_result"
    },
    {
     "data": {
      "text/plain": "<Figure size 640x480 with 1 Axes>",
      "image/png": "[encoded data removed]"
     },
     "metadata": {},
     "output_type": "display_data"
    }
   ],
   "source": [
    "#Gráfico de área\n",
    "columms = ['petal length (cm)', 'petal length (cm)', 'petal width (cm)', 'sepal width (cm)']\n",
    "df[columms].plot.area()"
   ],
   "metadata": {
    "collapsed": false,
    "ExecuteTime": {
     "end_time": "2024-08-16T14:46:33.430323Z",
     "start_time": "2024-08-16T14:46:33.170329Z"
    }
   },
   "id": "df84f32daca86bf7",
   "execution_count": 49
  },
  {
   "cell_type": "code",
   "outputs": [],
   "source": [],
   "metadata": {
    "collapsed": false
   },
   "id": "c65c14a33dd7e5d6"
  }
 ],
 "metadata": {
  "kernelspec": {
   "display_name": "Python 3",
   "language": "python",
   "name": "python3"
  },
  "language_info": {
   "codemirror_mode": {
    "name": "ipython",
    "version": 2
   },
   "file_extension": ".py",
   "mimetype": "text/x-python",
   "name": "python",
   "nbconvert_exporter": "python",
   "pygments_lexer": "ipython2",
   "version": "2.7.6"
  }
 },
 "nbformat": 4,
 "nbformat_minor": 5
}
