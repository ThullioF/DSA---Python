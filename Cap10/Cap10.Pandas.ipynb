{
 "cells": [
  {
   "cell_type": "code",
   "outputs": [],
   "source": [
    "import pandas as pd"
   ],
   "metadata": {
    "collapsed": false,
    "ExecuteTime": {
     "end_time": "2024-08-15T13:21:15.485653Z",
     "start_time": "2024-08-15T13:21:13.277583Z"
    }
   },
   "id": "66e756c94a7ec7e6",
   "execution_count": 1
  },
  {
   "cell_type": "code",
   "outputs": [
    {
     "data": {
      "text/plain": "'2.1.4'"
     },
     "execution_count": 2,
     "metadata": {},
     "output_type": "execute_result"
    }
   ],
   "source": [
    "pd.__version__"
   ],
   "metadata": {
    "collapsed": false,
    "ExecuteTime": {
     "end_time": "2024-08-15T13:21:25.066809Z",
     "start_time": "2024-08-15T13:21:25.047152Z"
    }
   },
   "id": "a94dad801513a0e1",
   "execution_count": 2
  },
  {
   "cell_type": "markdown",
   "source": [
    "MANIPULANDO DADOS EM DATAFRAMES DO PANDAS"
   ],
   "metadata": {
    "collapsed": false
   },
   "id": "ec43d2e1b26ab6"
  },
  {
   "cell_type": "code",
   "outputs": [],
   "source": [
    "dados = {'Estado': ['Santa Catarina', 'Rio de Janeiro', 'Tocantins', 'Bahia', 'Minas Gerais'], \n",
    "         'Ano':[2004,2005,2006,2007,2008],\n",
    "         'Taxa Desemprego':[1.5,1.7,1.6,2.4,2.7]}"
   ],
   "metadata": {
    "collapsed": false,
    "ExecuteTime": {
     "end_time": "2024-08-15T13:25:36.298686Z",
     "start_time": "2024-08-15T13:25:36.288082Z"
    }
   },
   "id": "7451c03313109d4b",
   "execution_count": 3
  },
  {
   "cell_type": "code",
   "outputs": [
    {
     "name": "stdout",
     "output_type": "stream",
     "text": [
      "{'Estado': ['Santa Catarina', 'Rio de Janeiro', 'Tocantins', 'Bahia', 'Minas Gerais'], 'Ano': [2004, 2005, 2006, 2007, 2008], 'Taxa Desemprego': [1.5, 1.7, 1.6, 2.4, 2.7]}\n"
     ]
    }
   ],
   "source": [
    "print(dados)"
   ],
   "metadata": {
    "collapsed": false,
    "ExecuteTime": {
     "end_time": "2024-08-15T13:25:41.517188Z",
     "start_time": "2024-08-15T13:25:41.506794Z"
    }
   },
   "id": "81e803e0b3bc6e9c",
   "execution_count": 4
  },
  {
   "cell_type": "code",
   "outputs": [],
   "source": [
    "#Importa a função DataFrame do Pandas\n",
    "from pandas import DataFrame"
   ],
   "metadata": {
    "collapsed": false,
    "ExecuteTime": {
     "end_time": "2024-08-15T13:26:07.738543Z",
     "start_time": "2024-08-15T13:26:07.727386Z"
    }
   },
   "id": "262d4ced4545ded1",
   "execution_count": 5
  },
  {
   "cell_type": "code",
   "outputs": [],
   "source": [
    "#Converte o dicionário em um dataframe\n",
    "df = DataFrame(dados)"
   ],
   "metadata": {
    "collapsed": false,
    "ExecuteTime": {
     "end_time": "2024-08-15T13:26:48.857044Z",
     "start_time": "2024-08-15T13:26:48.839752Z"
    }
   },
   "id": "cf224e33259de09c",
   "execution_count": 6
  },
  {
   "cell_type": "code",
   "outputs": [
    {
     "data": {
      "text/plain": "           Estado   Ano  Taxa Desemprego\n0  Santa Catarina  2004              1.5\n1  Rio de Janeiro  2005              1.7\n2       Tocantins  2006              1.6\n3           Bahia  2007              2.4\n4    Minas Gerais  2008              2.7",
      "text/html": "<div>\n<style scoped>\n    .dataframe tbody tr th:only-of-type {\n        vertical-align: middle;\n    }\n\n    .dataframe tbody tr th {\n        vertical-align: top;\n    }\n\n    .dataframe thead th {\n        text-align: right;\n    }\n</style>\n<table border=\"1\" class=\"dataframe\">\n  <thead>\n    <tr style=\"text-align: right;\">\n      <th></th>\n      <th>Estado</th>\n      <th>Ano</th>\n      <th>Taxa Desemprego</th>\n    </tr>\n  </thead>\n  <tbody>\n    <tr>\n      <th>0</th>\n      <td>Santa Catarina</td>\n      <td>2004</td>\n      <td>1.5</td>\n    </tr>\n    <tr>\n      <th>1</th>\n      <td>Rio de Janeiro</td>\n      <td>2005</td>\n      <td>1.7</td>\n    </tr>\n    <tr>\n      <th>2</th>\n      <td>Tocantins</td>\n      <td>2006</td>\n      <td>1.6</td>\n    </tr>\n    <tr>\n      <th>3</th>\n      <td>Bahia</td>\n      <td>2007</td>\n      <td>2.4</td>\n    </tr>\n    <tr>\n      <th>4</th>\n      <td>Minas Gerais</td>\n      <td>2008</td>\n      <td>2.7</td>\n    </tr>\n  </tbody>\n</table>\n</div>"
     },
     "execution_count": 7,
     "metadata": {},
     "output_type": "execute_result"
    }
   ],
   "source": [
    "df.head()"
   ],
   "metadata": {
    "collapsed": false,
    "ExecuteTime": {
     "end_time": "2024-08-15T13:26:55.402958Z",
     "start_time": "2024-08-15T13:26:55.373674Z"
    }
   },
   "id": "aad5559397872ca3",
   "execution_count": 7
  },
  {
   "cell_type": "code",
   "outputs": [
    {
     "data": {
      "text/plain": "pandas.core.frame.DataFrame"
     },
     "execution_count": 8,
     "metadata": {},
     "output_type": "execute_result"
    }
   ],
   "source": [
    "type(df)"
   ],
   "metadata": {
    "collapsed": false,
    "ExecuteTime": {
     "end_time": "2024-08-15T13:27:12.883958Z",
     "start_time": "2024-08-15T13:27:12.867989Z"
    }
   },
   "id": "2b57421363c97250",
   "execution_count": 8
  },
  {
   "cell_type": "code",
   "outputs": [
    {
     "data": {
      "text/plain": "           Estado  Taxa Desemprego   Ano\n0  Santa Catarina              1.5  2004\n1  Rio de Janeiro              1.7  2005\n2       Tocantins              1.6  2006\n3           Bahia              2.4  2007\n4    Minas Gerais              2.7  2008",
      "text/html": "<div>\n<style scoped>\n    .dataframe tbody tr th:only-of-type {\n        vertical-align: middle;\n    }\n\n    .dataframe tbody tr th {\n        vertical-align: top;\n    }\n\n    .dataframe thead th {\n        text-align: right;\n    }\n</style>\n<table border=\"1\" class=\"dataframe\">\n  <thead>\n    <tr style=\"text-align: right;\">\n      <th></th>\n      <th>Estado</th>\n      <th>Taxa Desemprego</th>\n      <th>Ano</th>\n    </tr>\n  </thead>\n  <tbody>\n    <tr>\n      <th>0</th>\n      <td>Santa Catarina</td>\n      <td>1.5</td>\n      <td>2004</td>\n    </tr>\n    <tr>\n      <th>1</th>\n      <td>Rio de Janeiro</td>\n      <td>1.7</td>\n      <td>2005</td>\n    </tr>\n    <tr>\n      <th>2</th>\n      <td>Tocantins</td>\n      <td>1.6</td>\n      <td>2006</td>\n    </tr>\n    <tr>\n      <th>3</th>\n      <td>Bahia</td>\n      <td>2.4</td>\n      <td>2007</td>\n    </tr>\n    <tr>\n      <th>4</th>\n      <td>Minas Gerais</td>\n      <td>2.7</td>\n      <td>2008</td>\n    </tr>\n  </tbody>\n</table>\n</div>"
     },
     "execution_count": 9,
     "metadata": {},
     "output_type": "execute_result"
    }
   ],
   "source": [
    "#Reorganizando as colunas\n",
    "DataFrame(dados, columns=['Estado', 'Taxa Desemprego', 'Ano'])"
   ],
   "metadata": {
    "collapsed": false,
    "ExecuteTime": {
     "end_time": "2024-08-15T13:28:11.472583Z",
     "start_time": "2024-08-15T13:28:11.444739Z"
    }
   },
   "id": "8a02190376c64f",
   "execution_count": 9
  },
  {
   "cell_type": "code",
   "outputs": [],
   "source": [
    "#Criando outro dataframe com os mesmo dados anteriores mas adicionando um coluna\n",
    "df2 = DataFrame(dados,\n",
    "                columns=['Estado', 'Taxa Desemprego','Taxa Crescimento','Ano'],\n",
    "                index=['estado1', 'estado2', 'estado3', 'estado4', 'estado5'])"
   ],
   "metadata": {
    "collapsed": false,
    "ExecuteTime": {
     "end_time": "2024-08-15T13:30:12.902189Z",
     "start_time": "2024-08-15T13:30:12.885285Z"
    }
   },
   "id": "632b30ec6e991eb8",
   "execution_count": 10
  },
  {
   "cell_type": "code",
   "outputs": [
    {
     "data": {
      "text/plain": "                 Estado  Taxa Desemprego Taxa Crescimento   Ano\nestado1  Santa Catarina              1.5              NaN  2004\nestado2  Rio de Janeiro              1.7              NaN  2005\nestado3       Tocantins              1.6              NaN  2006\nestado4           Bahia              2.4              NaN  2007\nestado5    Minas Gerais              2.7              NaN  2008",
      "text/html": "<div>\n<style scoped>\n    .dataframe tbody tr th:only-of-type {\n        vertical-align: middle;\n    }\n\n    .dataframe tbody tr th {\n        vertical-align: top;\n    }\n\n    .dataframe thead th {\n        text-align: right;\n    }\n</style>\n<table border=\"1\" class=\"dataframe\">\n  <thead>\n    <tr style=\"text-align: right;\">\n      <th></th>\n      <th>Estado</th>\n      <th>Taxa Desemprego</th>\n      <th>Taxa Crescimento</th>\n      <th>Ano</th>\n    </tr>\n  </thead>\n  <tbody>\n    <tr>\n      <th>estado1</th>\n      <td>Santa Catarina</td>\n      <td>1.5</td>\n      <td>NaN</td>\n      <td>2004</td>\n    </tr>\n    <tr>\n      <th>estado2</th>\n      <td>Rio de Janeiro</td>\n      <td>1.7</td>\n      <td>NaN</td>\n      <td>2005</td>\n    </tr>\n    <tr>\n      <th>estado3</th>\n      <td>Tocantins</td>\n      <td>1.6</td>\n      <td>NaN</td>\n      <td>2006</td>\n    </tr>\n    <tr>\n      <th>estado4</th>\n      <td>Bahia</td>\n      <td>2.4</td>\n      <td>NaN</td>\n      <td>2007</td>\n    </tr>\n    <tr>\n      <th>estado5</th>\n      <td>Minas Gerais</td>\n      <td>2.7</td>\n      <td>NaN</td>\n      <td>2008</td>\n    </tr>\n  </tbody>\n</table>\n</div>"
     },
     "execution_count": 11,
     "metadata": {},
     "output_type": "execute_result"
    }
   ],
   "source": [
    "df2"
   ],
   "metadata": {
    "collapsed": false,
    "ExecuteTime": {
     "end_time": "2024-08-15T13:30:16.614908Z",
     "start_time": "2024-08-15T13:30:16.592256Z"
    }
   },
   "id": "5be8ffc2d559f1aa",
   "execution_count": 11
  },
  {
   "cell_type": "code",
   "outputs": [
    {
     "data": {
      "text/plain": "array([['Santa Catarina', 1.5, nan, 2004],\n       ['Rio de Janeiro', 1.7, nan, 2005],\n       ['Tocantins', 1.6, nan, 2006],\n       ['Bahia', 2.4, nan, 2007],\n       ['Minas Gerais', 2.7, nan, 2008]], dtype=object)"
     },
     "execution_count": 14,
     "metadata": {},
     "output_type": "execute_result"
    }
   ],
   "source": [
    "df2.values"
   ],
   "metadata": {
    "collapsed": false,
    "ExecuteTime": {
     "end_time": "2024-08-15T13:32:48.707410Z",
     "start_time": "2024-08-15T13:32:48.695676Z"
    }
   },
   "id": "75a537a948292f29",
   "execution_count": 14
  },
  {
   "cell_type": "code",
   "outputs": [
    {
     "data": {
      "text/plain": "Estado               object\nTaxa Desemprego     float64\nTaxa Crescimento     object\nAno                   int64\ndtype: object"
     },
     "execution_count": 15,
     "metadata": {},
     "output_type": "execute_result"
    }
   ],
   "source": [
    "df2.dtypes"
   ],
   "metadata": {
    "collapsed": false,
    "ExecuteTime": {
     "end_time": "2024-08-15T13:32:57.958715Z",
     "start_time": "2024-08-15T13:32:57.944235Z"
    }
   },
   "id": "1249fb1832388ee3",
   "execution_count": 15
  },
  {
   "cell_type": "code",
   "outputs": [
    {
     "data": {
      "text/plain": "Index(['Estado', 'Taxa Desemprego', 'Taxa Crescimento', 'Ano'], dtype='object')"
     },
     "execution_count": 12,
     "metadata": {},
     "output_type": "execute_result"
    }
   ],
   "source": [
    "df2.columns"
   ],
   "metadata": {
    "collapsed": false,
    "ExecuteTime": {
     "end_time": "2024-08-15T13:30:32.172575Z",
     "start_time": "2024-08-15T13:30:32.159656Z"
    }
   },
   "id": "3e2668c2627145c0",
   "execution_count": 12
  },
  {
   "cell_type": "code",
   "outputs": [
    {
     "data": {
      "text/plain": "estado1    Santa Catarina\nestado2    Rio de Janeiro\nestado3         Tocantins\nestado4             Bahia\nestado5      Minas Gerais\nName: Estado, dtype: object"
     },
     "execution_count": 16,
     "metadata": {},
     "output_type": "execute_result"
    }
   ],
   "source": [
    "#Imprimindo apenas uma coluna do DataFrame\n",
    "#Python é case sensitive (diferença de maiúsculo e minúsculo)\n",
    "df2['Estado']"
   ],
   "metadata": {
    "collapsed": false,
    "ExecuteTime": {
     "end_time": "2024-08-15T13:37:22.294861Z",
     "start_time": "2024-08-15T13:37:22.281660Z"
    }
   },
   "id": "dc2f158793f5bcc7",
   "execution_count": 16
  },
  {
   "cell_type": "code",
   "outputs": [
    {
     "data": {
      "text/plain": "         Taxa Desemprego   Ano\nestado1              1.5  2004\nestado2              1.7  2005\nestado3              1.6  2006\nestado4              2.4  2007\nestado5              2.7  2008",
      "text/html": "<div>\n<style scoped>\n    .dataframe tbody tr th:only-of-type {\n        vertical-align: middle;\n    }\n\n    .dataframe tbody tr th {\n        vertical-align: top;\n    }\n\n    .dataframe thead th {\n        text-align: right;\n    }\n</style>\n<table border=\"1\" class=\"dataframe\">\n  <thead>\n    <tr style=\"text-align: right;\">\n      <th></th>\n      <th>Taxa Desemprego</th>\n      <th>Ano</th>\n    </tr>\n  </thead>\n  <tbody>\n    <tr>\n      <th>estado1</th>\n      <td>1.5</td>\n      <td>2004</td>\n    </tr>\n    <tr>\n      <th>estado2</th>\n      <td>1.7</td>\n      <td>2005</td>\n    </tr>\n    <tr>\n      <th>estado3</th>\n      <td>1.6</td>\n      <td>2006</td>\n    </tr>\n    <tr>\n      <th>estado4</th>\n      <td>2.4</td>\n      <td>2007</td>\n    </tr>\n    <tr>\n      <th>estado5</th>\n      <td>2.7</td>\n      <td>2008</td>\n    </tr>\n  </tbody>\n</table>\n</div>"
     },
     "execution_count": 17,
     "metadata": {},
     "output_type": "execute_result"
    }
   ],
   "source": [
    "#Imprimindo apenas duas colunas do DataFrame\n",
    "df2[['Taxa Desemprego','Ano']]"
   ],
   "metadata": {
    "collapsed": false,
    "ExecuteTime": {
     "end_time": "2024-08-15T13:40:12.646710Z",
     "start_time": "2024-08-15T13:40:12.622758Z"
    }
   },
   "id": "fb08c996cf303018",
   "execution_count": 17
  },
  {
   "cell_type": "code",
   "outputs": [
    {
     "data": {
      "text/plain": "Index(['estado1', 'estado2', 'estado3', 'estado4', 'estado5'], dtype='object')"
     },
     "execution_count": 18,
     "metadata": {},
     "output_type": "execute_result"
    }
   ],
   "source": [
    "df2.index"
   ],
   "metadata": {
    "collapsed": false,
    "ExecuteTime": {
     "end_time": "2024-08-15T13:40:44.582625Z",
     "start_time": "2024-08-15T13:40:44.568973Z"
    }
   },
   "id": "1fd20a2b45cbdaa8",
   "execution_count": 18
  },
  {
   "cell_type": "code",
   "outputs": [
    {
     "data": {
      "text/plain": "            Estado  Taxa Desemprego Taxa Crescimento   Ano\nestado3  Tocantins              1.6              NaN  2006",
      "text/html": "<div>\n<style scoped>\n    .dataframe tbody tr th:only-of-type {\n        vertical-align: middle;\n    }\n\n    .dataframe tbody tr th {\n        vertical-align: top;\n    }\n\n    .dataframe thead th {\n        text-align: right;\n    }\n</style>\n<table border=\"1\" class=\"dataframe\">\n  <thead>\n    <tr style=\"text-align: right;\">\n      <th></th>\n      <th>Estado</th>\n      <th>Taxa Desemprego</th>\n      <th>Taxa Crescimento</th>\n      <th>Ano</th>\n    </tr>\n  </thead>\n  <tbody>\n    <tr>\n      <th>estado3</th>\n      <td>Tocantins</td>\n      <td>1.6</td>\n      <td>NaN</td>\n      <td>2006</td>\n    </tr>\n  </tbody>\n</table>\n</div>"
     },
     "execution_count": 19,
     "metadata": {},
     "output_type": "execute_result"
    }
   ],
   "source": [
    "#Filtrando peli índice\n",
    "df2.filter(items=['estado3'],axis= 0)"
   ],
   "metadata": {
    "collapsed": false,
    "ExecuteTime": {
     "end_time": "2024-08-15T13:41:34.031872Z",
     "start_time": "2024-08-15T13:41:34.004319Z"
    }
   },
   "id": "f2a6301a2dfc1e7e",
   "execution_count": 19
  },
  {
   "cell_type": "markdown",
   "source": [
    "USANDO NUMPY E PANDAS PARA MANIPULAÇÃO DE DADOS"
   ],
   "metadata": {
    "collapsed": false
   },
   "id": "a8e00d7e3304d7ee"
  },
  {
   "cell_type": "code",
   "outputs": [
    {
     "data": {
      "text/plain": "                 Estado  Taxa Desemprego Taxa Crescimento   Ano\nestado1  Santa Catarina              1.5              NaN  2004\nestado2  Rio de Janeiro              1.7              NaN  2005\nestado3       Tocantins              1.6              NaN  2006\nestado4           Bahia              2.4              NaN  2007\nestado5    Minas Gerais              2.7              NaN  2008",
      "text/html": "<div>\n<style scoped>\n    .dataframe tbody tr th:only-of-type {\n        vertical-align: middle;\n    }\n\n    .dataframe tbody tr th {\n        vertical-align: top;\n    }\n\n    .dataframe thead th {\n        text-align: right;\n    }\n</style>\n<table border=\"1\" class=\"dataframe\">\n  <thead>\n    <tr style=\"text-align: right;\">\n      <th></th>\n      <th>Estado</th>\n      <th>Taxa Desemprego</th>\n      <th>Taxa Crescimento</th>\n      <th>Ano</th>\n    </tr>\n  </thead>\n  <tbody>\n    <tr>\n      <th>estado1</th>\n      <td>Santa Catarina</td>\n      <td>1.5</td>\n      <td>NaN</td>\n      <td>2004</td>\n    </tr>\n    <tr>\n      <th>estado2</th>\n      <td>Rio de Janeiro</td>\n      <td>1.7</td>\n      <td>NaN</td>\n      <td>2005</td>\n    </tr>\n    <tr>\n      <th>estado3</th>\n      <td>Tocantins</td>\n      <td>1.6</td>\n      <td>NaN</td>\n      <td>2006</td>\n    </tr>\n    <tr>\n      <th>estado4</th>\n      <td>Bahia</td>\n      <td>2.4</td>\n      <td>NaN</td>\n      <td>2007</td>\n    </tr>\n    <tr>\n      <th>estado5</th>\n      <td>Minas Gerais</td>\n      <td>2.7</td>\n      <td>NaN</td>\n      <td>2008</td>\n    </tr>\n  </tbody>\n</table>\n</div>"
     },
     "execution_count": 20,
     "metadata": {},
     "output_type": "execute_result"
    }
   ],
   "source": [
    "df2.head()"
   ],
   "metadata": {
    "collapsed": false,
    "ExecuteTime": {
     "end_time": "2024-08-15T13:42:45.699495Z",
     "start_time": "2024-08-15T13:42:45.678342Z"
    }
   },
   "id": "604470fb5a88e1ee",
   "execution_count": 20
  },
  {
   "cell_type": "code",
   "outputs": [
    {
     "data": {
      "text/plain": "Estado               object\nTaxa Desemprego     float64\nTaxa Crescimento     object\nAno                   int64\ndtype: object"
     },
     "execution_count": 21,
     "metadata": {},
     "output_type": "execute_result"
    }
   ],
   "source": [
    "df2.dtypes"
   ],
   "metadata": {
    "collapsed": false,
    "ExecuteTime": {
     "end_time": "2024-08-15T13:42:55.909141Z",
     "start_time": "2024-08-15T13:42:55.893501Z"
    }
   },
   "id": "43e5136212620305",
   "execution_count": 21
  },
  {
   "cell_type": "code",
   "outputs": [
    {
     "data": {
      "text/plain": "       Taxa Desemprego          Ano\ncount         5.000000     5.000000\nmean          1.980000  2006.000000\nstd           0.535724     1.581139\nmin           1.500000  2004.000000\n25%           1.600000  2005.000000\n50%           1.700000  2006.000000\n75%           2.400000  2007.000000\nmax           2.700000  2008.000000",
      "text/html": "<div>\n<style scoped>\n    .dataframe tbody tr th:only-of-type {\n        vertical-align: middle;\n    }\n\n    .dataframe tbody tr th {\n        vertical-align: top;\n    }\n\n    .dataframe thead th {\n        text-align: right;\n    }\n</style>\n<table border=\"1\" class=\"dataframe\">\n  <thead>\n    <tr style=\"text-align: right;\">\n      <th></th>\n      <th>Taxa Desemprego</th>\n      <th>Ano</th>\n    </tr>\n  </thead>\n  <tbody>\n    <tr>\n      <th>count</th>\n      <td>5.000000</td>\n      <td>5.000000</td>\n    </tr>\n    <tr>\n      <th>mean</th>\n      <td>1.980000</td>\n      <td>2006.000000</td>\n    </tr>\n    <tr>\n      <th>std</th>\n      <td>0.535724</td>\n      <td>1.581139</td>\n    </tr>\n    <tr>\n      <th>min</th>\n      <td>1.500000</td>\n      <td>2004.000000</td>\n    </tr>\n    <tr>\n      <th>25%</th>\n      <td>1.600000</td>\n      <td>2005.000000</td>\n    </tr>\n    <tr>\n      <th>50%</th>\n      <td>1.700000</td>\n      <td>2006.000000</td>\n    </tr>\n    <tr>\n      <th>75%</th>\n      <td>2.400000</td>\n      <td>2007.000000</td>\n    </tr>\n    <tr>\n      <th>max</th>\n      <td>2.700000</td>\n      <td>2008.000000</td>\n    </tr>\n  </tbody>\n</table>\n</div>"
     },
     "execution_count": 22,
     "metadata": {},
     "output_type": "execute_result"
    }
   ],
   "source": [
    "#Resumo estatístico do DataFrame\n",
    "#Somente colunas dos tipos númericos\n",
    "df2.describe()"
   ],
   "metadata": {
    "collapsed": false,
    "ExecuteTime": {
     "end_time": "2024-08-15T13:43:03.664989Z",
     "start_time": "2024-08-15T13:43:03.638097Z"
    }
   },
   "id": "5358ca55de7d1a16",
   "execution_count": 22
  },
  {
   "cell_type": "code",
   "outputs": [
    {
     "data": {
      "text/plain": "         Estado  Taxa Desemprego  Taxa Crescimento    Ano\nestado1   False            False              True  False\nestado2   False            False              True  False\nestado3   False            False              True  False\nestado4   False            False              True  False\nestado5   False            False              True  False",
      "text/html": "<div>\n<style scoped>\n    .dataframe tbody tr th:only-of-type {\n        vertical-align: middle;\n    }\n\n    .dataframe tbody tr th {\n        vertical-align: top;\n    }\n\n    .dataframe thead th {\n        text-align: right;\n    }\n</style>\n<table border=\"1\" class=\"dataframe\">\n  <thead>\n    <tr style=\"text-align: right;\">\n      <th></th>\n      <th>Estado</th>\n      <th>Taxa Desemprego</th>\n      <th>Taxa Crescimento</th>\n      <th>Ano</th>\n    </tr>\n  </thead>\n  <tbody>\n    <tr>\n      <th>estado1</th>\n      <td>False</td>\n      <td>False</td>\n      <td>True</td>\n      <td>False</td>\n    </tr>\n    <tr>\n      <th>estado2</th>\n      <td>False</td>\n      <td>False</td>\n      <td>True</td>\n      <td>False</td>\n    </tr>\n    <tr>\n      <th>estado3</th>\n      <td>False</td>\n      <td>False</td>\n      <td>True</td>\n      <td>False</td>\n    </tr>\n    <tr>\n      <th>estado4</th>\n      <td>False</td>\n      <td>False</td>\n      <td>True</td>\n      <td>False</td>\n    </tr>\n    <tr>\n      <th>estado5</th>\n      <td>False</td>\n      <td>False</td>\n      <td>True</td>\n      <td>False</td>\n    </tr>\n  </tbody>\n</table>\n</div>"
     },
     "execution_count": 23,
     "metadata": {},
     "output_type": "execute_result"
    }
   ],
   "source": [
    "df2.isna()"
   ],
   "metadata": {
    "collapsed": false,
    "ExecuteTime": {
     "end_time": "2024-08-15T13:43:56.570787Z",
     "start_time": "2024-08-15T13:43:56.547885Z"
    }
   },
   "id": "eec4d09387f3a29c",
   "execution_count": 23
  },
  {
   "cell_type": "code",
   "outputs": [
    {
     "data": {
      "text/plain": "estado1    True\nestado2    True\nestado3    True\nestado4    True\nestado5    True\nName: Taxa Crescimento, dtype: bool"
     },
     "execution_count": 24,
     "metadata": {},
     "output_type": "execute_result"
    }
   ],
   "source": [
    "df2['Taxa Crescimento'].isna()"
   ],
   "metadata": {
    "collapsed": false,
    "ExecuteTime": {
     "end_time": "2024-08-15T13:50:58.495468Z",
     "start_time": "2024-08-15T13:50:58.481035Z"
    }
   },
   "id": "d78b9907c3d68ebb",
   "execution_count": 24
  },
  {
   "cell_type": "code",
   "outputs": [],
   "source": [
    "#Imporantando o NumPy\n",
    "import numpy as np"
   ],
   "metadata": {
    "collapsed": false,
    "ExecuteTime": {
     "end_time": "2024-08-15T13:51:46.029859Z",
     "start_time": "2024-08-15T13:51:46.022006Z"
    }
   },
   "id": "ab1499ce51d85a5c",
   "execution_count": 25
  },
  {
   "cell_type": "code",
   "outputs": [],
   "source": [
    "#Usando o NumPy para alimentar uma das colunas do dataframe\n",
    "df2['Taxa Crescimento'] = np.arange(5.)"
   ],
   "metadata": {
    "collapsed": false,
    "ExecuteTime": {
     "end_time": "2024-08-15T13:52:35.487527Z",
     "start_time": "2024-08-15T13:52:35.478359Z"
    }
   },
   "id": "ae34e68a2d046dd3",
   "execution_count": 26
  },
  {
   "cell_type": "code",
   "outputs": [
    {
     "data": {
      "text/plain": "                 Estado  Taxa Desemprego  Taxa Crescimento   Ano\nestado1  Santa Catarina              1.5               0.0  2004\nestado2  Rio de Janeiro              1.7               1.0  2005\nestado3       Tocantins              1.6               2.0  2006\nestado4           Bahia              2.4               3.0  2007\nestado5    Minas Gerais              2.7               4.0  2008",
      "text/html": "<div>\n<style scoped>\n    .dataframe tbody tr th:only-of-type {\n        vertical-align: middle;\n    }\n\n    .dataframe tbody tr th {\n        vertical-align: top;\n    }\n\n    .dataframe thead th {\n        text-align: right;\n    }\n</style>\n<table border=\"1\" class=\"dataframe\">\n  <thead>\n    <tr style=\"text-align: right;\">\n      <th></th>\n      <th>Estado</th>\n      <th>Taxa Desemprego</th>\n      <th>Taxa Crescimento</th>\n      <th>Ano</th>\n    </tr>\n  </thead>\n  <tbody>\n    <tr>\n      <th>estado1</th>\n      <td>Santa Catarina</td>\n      <td>1.5</td>\n      <td>0.0</td>\n      <td>2004</td>\n    </tr>\n    <tr>\n      <th>estado2</th>\n      <td>Rio de Janeiro</td>\n      <td>1.7</td>\n      <td>1.0</td>\n      <td>2005</td>\n    </tr>\n    <tr>\n      <th>estado3</th>\n      <td>Tocantins</td>\n      <td>1.6</td>\n      <td>2.0</td>\n      <td>2006</td>\n    </tr>\n    <tr>\n      <th>estado4</th>\n      <td>Bahia</td>\n      <td>2.4</td>\n      <td>3.0</td>\n      <td>2007</td>\n    </tr>\n    <tr>\n      <th>estado5</th>\n      <td>Minas Gerais</td>\n      <td>2.7</td>\n      <td>4.0</td>\n      <td>2008</td>\n    </tr>\n  </tbody>\n</table>\n</div>"
     },
     "execution_count": 27,
     "metadata": {},
     "output_type": "execute_result"
    }
   ],
   "source": [
    "df2"
   ],
   "metadata": {
    "collapsed": false,
    "ExecuteTime": {
     "end_time": "2024-08-15T13:52:42.881199Z",
     "start_time": "2024-08-15T13:52:42.852423Z"
    }
   },
   "id": "e39bdc1acf91ba6c",
   "execution_count": 27
  },
  {
   "cell_type": "code",
   "outputs": [
    {
     "data": {
      "text/plain": "Estado               object\nTaxa Desemprego     float64\nTaxa Crescimento    float64\nAno                   int64\ndtype: object"
     },
     "execution_count": 30,
     "metadata": {},
     "output_type": "execute_result"
    }
   ],
   "source": [
    "df2.dtypes"
   ],
   "metadata": {
    "collapsed": false,
    "ExecuteTime": {
     "end_time": "2024-08-15T13:54:27.421673Z",
     "start_time": "2024-08-15T13:54:27.400109Z"
    }
   },
   "id": "b57d8b42f4acfa4a",
   "execution_count": 30
  },
  {
   "cell_type": "code",
   "outputs": [
    {
     "data": {
      "text/plain": "estado1    False\nestado2    False\nestado3    False\nestado4    False\nestado5    False\nName: Taxa Crescimento, dtype: bool"
     },
     "execution_count": 28,
     "metadata": {},
     "output_type": "execute_result"
    }
   ],
   "source": [
    "df2['Taxa Crescimento'].isna()"
   ],
   "metadata": {
    "collapsed": false,
    "ExecuteTime": {
     "end_time": "2024-08-15T13:53:04.909439Z",
     "start_time": "2024-08-15T13:53:04.897289Z"
    }
   },
   "id": "db7d37a34fb1d1c0",
   "execution_count": 28
  },
  {
   "cell_type": "code",
   "outputs": [
    {
     "data": {
      "text/plain": "       Taxa Desemprego  Taxa Crescimento          Ano\ncount         5.000000          5.000000     5.000000\nmean          1.980000          2.000000  2006.000000\nstd           0.535724          1.581139     1.581139\nmin           1.500000          0.000000  2004.000000\n25%           1.600000          1.000000  2005.000000\n50%           1.700000          2.000000  2006.000000\n75%           2.400000          3.000000  2007.000000\nmax           2.700000          4.000000  2008.000000",
      "text/html": "<div>\n<style scoped>\n    .dataframe tbody tr th:only-of-type {\n        vertical-align: middle;\n    }\n\n    .dataframe tbody tr th {\n        vertical-align: top;\n    }\n\n    .dataframe thead th {\n        text-align: right;\n    }\n</style>\n<table border=\"1\" class=\"dataframe\">\n  <thead>\n    <tr style=\"text-align: right;\">\n      <th></th>\n      <th>Taxa Desemprego</th>\n      <th>Taxa Crescimento</th>\n      <th>Ano</th>\n    </tr>\n  </thead>\n  <tbody>\n    <tr>\n      <th>count</th>\n      <td>5.000000</td>\n      <td>5.000000</td>\n      <td>5.000000</td>\n    </tr>\n    <tr>\n      <th>mean</th>\n      <td>1.980000</td>\n      <td>2.000000</td>\n      <td>2006.000000</td>\n    </tr>\n    <tr>\n      <th>std</th>\n      <td>0.535724</td>\n      <td>1.581139</td>\n      <td>1.581139</td>\n    </tr>\n    <tr>\n      <th>min</th>\n      <td>1.500000</td>\n      <td>0.000000</td>\n      <td>2004.000000</td>\n    </tr>\n    <tr>\n      <th>25%</th>\n      <td>1.600000</td>\n      <td>1.000000</td>\n      <td>2005.000000</td>\n    </tr>\n    <tr>\n      <th>50%</th>\n      <td>1.700000</td>\n      <td>2.000000</td>\n      <td>2006.000000</td>\n    </tr>\n    <tr>\n      <th>75%</th>\n      <td>2.400000</td>\n      <td>3.000000</td>\n      <td>2007.000000</td>\n    </tr>\n    <tr>\n      <th>max</th>\n      <td>2.700000</td>\n      <td>4.000000</td>\n      <td>2008.000000</td>\n    </tr>\n  </tbody>\n</table>\n</div>"
     },
     "execution_count": 29,
     "metadata": {},
     "output_type": "execute_result"
    }
   ],
   "source": [
    "#Resumo estatístico do DataFrame\n",
    "df2.describe()"
   ],
   "metadata": {
    "collapsed": false,
    "ExecuteTime": {
     "end_time": "2024-08-15T13:53:27.821057Z",
     "start_time": "2024-08-15T13:53:27.788007Z"
    }
   },
   "id": "c54a2ee799f47997",
   "execution_count": 29
  },
  {
   "cell_type": "markdown",
   "source": [
    "SLICING DE DATAFRAMES DO PANDAS"
   ],
   "metadata": {
    "collapsed": false
   },
   "id": "206aa892ea346269"
  },
  {
   "cell_type": "code",
   "outputs": [
    {
     "data": {
      "text/plain": "                 Estado  Taxa Desemprego  Taxa Crescimento   Ano\nestado1  Santa Catarina              1.5               0.0  2004\nestado2  Rio de Janeiro              1.7               1.0  2005\nestado3       Tocantins              1.6               2.0  2006\nestado4           Bahia              2.4               3.0  2007\nestado5    Minas Gerais              2.7               4.0  2008",
      "text/html": "<div>\n<style scoped>\n    .dataframe tbody tr th:only-of-type {\n        vertical-align: middle;\n    }\n\n    .dataframe tbody tr th {\n        vertical-align: top;\n    }\n\n    .dataframe thead th {\n        text-align: right;\n    }\n</style>\n<table border=\"1\" class=\"dataframe\">\n  <thead>\n    <tr style=\"text-align: right;\">\n      <th></th>\n      <th>Estado</th>\n      <th>Taxa Desemprego</th>\n      <th>Taxa Crescimento</th>\n      <th>Ano</th>\n    </tr>\n  </thead>\n  <tbody>\n    <tr>\n      <th>estado1</th>\n      <td>Santa Catarina</td>\n      <td>1.5</td>\n      <td>0.0</td>\n      <td>2004</td>\n    </tr>\n    <tr>\n      <th>estado2</th>\n      <td>Rio de Janeiro</td>\n      <td>1.7</td>\n      <td>1.0</td>\n      <td>2005</td>\n    </tr>\n    <tr>\n      <th>estado3</th>\n      <td>Tocantins</td>\n      <td>1.6</td>\n      <td>2.0</td>\n      <td>2006</td>\n    </tr>\n    <tr>\n      <th>estado4</th>\n      <td>Bahia</td>\n      <td>2.4</td>\n      <td>3.0</td>\n      <td>2007</td>\n    </tr>\n    <tr>\n      <th>estado5</th>\n      <td>Minas Gerais</td>\n      <td>2.7</td>\n      <td>4.0</td>\n      <td>2008</td>\n    </tr>\n  </tbody>\n</table>\n</div>"
     },
     "execution_count": 32,
     "metadata": {},
     "output_type": "execute_result"
    }
   ],
   "source": [
    "df2"
   ],
   "metadata": {
    "collapsed": false,
    "ExecuteTime": {
     "end_time": "2024-08-15T13:56:30.910277Z",
     "start_time": "2024-08-15T13:56:30.890342Z"
    }
   },
   "id": "1a032aa5f49d5069",
   "execution_count": 32
  },
  {
   "cell_type": "code",
   "outputs": [
    {
     "data": {
      "text/plain": "                 Estado  Taxa Desemprego  Taxa Crescimento   Ano\nestado2  Rio de Janeiro              1.7               1.0  2005\nestado3       Tocantins              1.6               2.0  2006\nestado4           Bahia              2.4               3.0  2007",
      "text/html": "<div>\n<style scoped>\n    .dataframe tbody tr th:only-of-type {\n        vertical-align: middle;\n    }\n\n    .dataframe tbody tr th {\n        vertical-align: top;\n    }\n\n    .dataframe thead th {\n        text-align: right;\n    }\n</style>\n<table border=\"1\" class=\"dataframe\">\n  <thead>\n    <tr style=\"text-align: right;\">\n      <th></th>\n      <th>Estado</th>\n      <th>Taxa Desemprego</th>\n      <th>Taxa Crescimento</th>\n      <th>Ano</th>\n    </tr>\n  </thead>\n  <tbody>\n    <tr>\n      <th>estado2</th>\n      <td>Rio de Janeiro</td>\n      <td>1.7</td>\n      <td>1.0</td>\n      <td>2005</td>\n    </tr>\n    <tr>\n      <th>estado3</th>\n      <td>Tocantins</td>\n      <td>1.6</td>\n      <td>2.0</td>\n      <td>2006</td>\n    </tr>\n    <tr>\n      <th>estado4</th>\n      <td>Bahia</td>\n      <td>2.4</td>\n      <td>3.0</td>\n      <td>2007</td>\n    </tr>\n  </tbody>\n</table>\n</div>"
     },
     "execution_count": 33,
     "metadata": {},
     "output_type": "execute_result"
    }
   ],
   "source": [
    "df2['estado2':'estado4']"
   ],
   "metadata": {
    "collapsed": false,
    "ExecuteTime": {
     "end_time": "2024-08-15T13:56:52.120724Z",
     "start_time": "2024-08-15T13:56:52.090956Z"
    }
   },
   "id": "af94d12a679bd989",
   "execution_count": 33
  },
  {
   "cell_type": "code",
   "outputs": [
    {
     "data": {
      "text/plain": "                 Estado  Taxa Desemprego  Taxa Crescimento   Ano\nestado1  Santa Catarina              1.5               0.0  2004\nestado2  Rio de Janeiro              1.7               1.0  2005\nestado3       Tocantins              1.6               2.0  2006",
      "text/html": "<div>\n<style scoped>\n    .dataframe tbody tr th:only-of-type {\n        vertical-align: middle;\n    }\n\n    .dataframe tbody tr th {\n        vertical-align: top;\n    }\n\n    .dataframe thead th {\n        text-align: right;\n    }\n</style>\n<table border=\"1\" class=\"dataframe\">\n  <thead>\n    <tr style=\"text-align: right;\">\n      <th></th>\n      <th>Estado</th>\n      <th>Taxa Desemprego</th>\n      <th>Taxa Crescimento</th>\n      <th>Ano</th>\n    </tr>\n  </thead>\n  <tbody>\n    <tr>\n      <th>estado1</th>\n      <td>Santa Catarina</td>\n      <td>1.5</td>\n      <td>0.0</td>\n      <td>2004</td>\n    </tr>\n    <tr>\n      <th>estado2</th>\n      <td>Rio de Janeiro</td>\n      <td>1.7</td>\n      <td>1.0</td>\n      <td>2005</td>\n    </tr>\n    <tr>\n      <th>estado3</th>\n      <td>Tocantins</td>\n      <td>1.6</td>\n      <td>2.0</td>\n      <td>2006</td>\n    </tr>\n  </tbody>\n</table>\n</div>"
     },
     "execution_count": 34,
     "metadata": {},
     "output_type": "execute_result"
    }
   ],
   "source": [
    "df2[df2['Taxa Desemprego']<2]"
   ],
   "metadata": {
    "collapsed": false,
    "ExecuteTime": {
     "end_time": "2024-08-15T13:57:16.094057Z",
     "start_time": "2024-08-15T13:57:16.073169Z"
    }
   },
   "id": "3b5734f9faf842",
   "execution_count": 34
  },
  {
   "cell_type": "code",
   "outputs": [
    {
     "data": {
      "text/plain": "                 Estado  Taxa Crescimento\nestado1  Santa Catarina               0.0\nestado2  Rio de Janeiro               1.0\nestado3       Tocantins               2.0\nestado4           Bahia               3.0\nestado5    Minas Gerais               4.0",
      "text/html": "<div>\n<style scoped>\n    .dataframe tbody tr th:only-of-type {\n        vertical-align: middle;\n    }\n\n    .dataframe tbody tr th {\n        vertical-align: top;\n    }\n\n    .dataframe thead th {\n        text-align: right;\n    }\n</style>\n<table border=\"1\" class=\"dataframe\">\n  <thead>\n    <tr style=\"text-align: right;\">\n      <th></th>\n      <th>Estado</th>\n      <th>Taxa Crescimento</th>\n    </tr>\n  </thead>\n  <tbody>\n    <tr>\n      <th>estado1</th>\n      <td>Santa Catarina</td>\n      <td>0.0</td>\n    </tr>\n    <tr>\n      <th>estado2</th>\n      <td>Rio de Janeiro</td>\n      <td>1.0</td>\n    </tr>\n    <tr>\n      <th>estado3</th>\n      <td>Tocantins</td>\n      <td>2.0</td>\n    </tr>\n    <tr>\n      <th>estado4</th>\n      <td>Bahia</td>\n      <td>3.0</td>\n    </tr>\n    <tr>\n      <th>estado5</th>\n      <td>Minas Gerais</td>\n      <td>4.0</td>\n    </tr>\n  </tbody>\n</table>\n</div>"
     },
     "execution_count": 35,
     "metadata": {},
     "output_type": "execute_result"
    }
   ],
   "source": [
    "df2[['Estado','Taxa Crescimento']]"
   ],
   "metadata": {
    "collapsed": false,
    "ExecuteTime": {
     "end_time": "2024-08-15T13:57:44.545801Z",
     "start_time": "2024-08-15T13:57:44.522725Z"
    }
   },
   "id": "cf618b2409cc490",
   "execution_count": 35
  },
  {
   "cell_type": "markdown",
   "source": [
    "PREENCHENDO VALORES AUSENTES EM DATAFRAMES DO PANDAS\n",
    "- A função fillna() é usada para preencher os valres ausentes"
   ],
   "metadata": {
    "collapsed": false
   },
   "id": "73c04274a841717a"
  },
  {
   "cell_type": "code",
   "outputs": [],
   "source": [
    "#Primeiro importamos um dataset\n",
    "dsa_df = pd.read_csv(\"dataset.csv\")"
   ],
   "metadata": {
    "collapsed": false,
    "ExecuteTime": {
     "end_time": "2024-08-15T14:23:07.692842Z",
     "start_time": "2024-08-15T14:23:07.647785Z"
    }
   },
   "id": "3a0f946bcfb3e12d",
   "execution_count": 36
  },
  {
   "cell_type": "code",
   "outputs": [
    {
     "data": {
      "text/plain": "        ID_Pedido Data_Pedido ID_Cliente   Segmento           Pais Regiao  \\\n0  CA-2016-152156  2016-11-08   CG-12520   Consumer  United States  South   \n1  CA-2016-152156  2016-11-08   CG-12520   Consumer  United States  South   \n2  CA-2016-138688  2016-06-12   DV-13045  Corporate  United States   West   \n3  US-2015-108966  2015-10-11   SO-20335   Consumer  United States  South   \n4  US-2015-108966  2015-10-11   SO-20335   Consumer  United States  South   \n\n        ID_Produto        Categoria  \\\n0  FUR-BO-10001798        Furniture   \n1  FUR-CH-10000454        Furniture   \n2  OFF-LA-10000240  Office Supplies   \n3  FUR-TA-10000577        Furniture   \n4  OFF-ST-10000760  Office Supplies   \n\n                                        Nome_Produto  Valor_Venda  Quantidade  \n0                  Bush Somerset Collection Bookcase     261.9600         NaN  \n1  Hon Deluxe Fabric Upholstered Stacking Chairs,...     731.9400         NaN  \n2  Self-Adhesive Address Labels for Typewriters b...      14.6200         2.0  \n3      Bretford CR4500 Series Slim Rectangular Table     957.5775         5.0  \n4                     Eldon Fold 'N Roll Cart System      22.3680         2.0  ",
      "text/html": "<div>\n<style scoped>\n    .dataframe tbody tr th:only-of-type {\n        vertical-align: middle;\n    }\n\n    .dataframe tbody tr th {\n        vertical-align: top;\n    }\n\n    .dataframe thead th {\n        text-align: right;\n    }\n</style>\n<table border=\"1\" class=\"dataframe\">\n  <thead>\n    <tr style=\"text-align: right;\">\n      <th></th>\n      <th>ID_Pedido</th>\n      <th>Data_Pedido</th>\n      <th>ID_Cliente</th>\n      <th>Segmento</th>\n      <th>Pais</th>\n      <th>Regiao</th>\n      <th>ID_Produto</th>\n      <th>Categoria</th>\n      <th>Nome_Produto</th>\n      <th>Valor_Venda</th>\n      <th>Quantidade</th>\n    </tr>\n  </thead>\n  <tbody>\n    <tr>\n      <th>0</th>\n      <td>CA-2016-152156</td>\n      <td>2016-11-08</td>\n      <td>CG-12520</td>\n      <td>Consumer</td>\n      <td>United States</td>\n      <td>South</td>\n      <td>FUR-BO-10001798</td>\n      <td>Furniture</td>\n      <td>Bush Somerset Collection Bookcase</td>\n      <td>261.9600</td>\n      <td>NaN</td>\n    </tr>\n    <tr>\n      <th>1</th>\n      <td>CA-2016-152156</td>\n      <td>2016-11-08</td>\n      <td>CG-12520</td>\n      <td>Consumer</td>\n      <td>United States</td>\n      <td>South</td>\n      <td>FUR-CH-10000454</td>\n      <td>Furniture</td>\n      <td>Hon Deluxe Fabric Upholstered Stacking Chairs,...</td>\n      <td>731.9400</td>\n      <td>NaN</td>\n    </tr>\n    <tr>\n      <th>2</th>\n      <td>CA-2016-138688</td>\n      <td>2016-06-12</td>\n      <td>DV-13045</td>\n      <td>Corporate</td>\n      <td>United States</td>\n      <td>West</td>\n      <td>OFF-LA-10000240</td>\n      <td>Office Supplies</td>\n      <td>Self-Adhesive Address Labels for Typewriters b...</td>\n      <td>14.6200</td>\n      <td>2.0</td>\n    </tr>\n    <tr>\n      <th>3</th>\n      <td>US-2015-108966</td>\n      <td>2015-10-11</td>\n      <td>SO-20335</td>\n      <td>Consumer</td>\n      <td>United States</td>\n      <td>South</td>\n      <td>FUR-TA-10000577</td>\n      <td>Furniture</td>\n      <td>Bretford CR4500 Series Slim Rectangular Table</td>\n      <td>957.5775</td>\n      <td>5.0</td>\n    </tr>\n    <tr>\n      <th>4</th>\n      <td>US-2015-108966</td>\n      <td>2015-10-11</td>\n      <td>SO-20335</td>\n      <td>Consumer</td>\n      <td>United States</td>\n      <td>South</td>\n      <td>OFF-ST-10000760</td>\n      <td>Office Supplies</td>\n      <td>Eldon Fold 'N Roll Cart System</td>\n      <td>22.3680</td>\n      <td>2.0</td>\n    </tr>\n  </tbody>\n</table>\n</div>"
     },
     "execution_count": 37,
     "metadata": {},
     "output_type": "execute_result"
    }
   ],
   "source": [
    "dsa_df.head(5)"
   ],
   "metadata": {
    "collapsed": false,
    "ExecuteTime": {
     "end_time": "2024-08-15T14:23:17.618122Z",
     "start_time": "2024-08-15T14:23:17.605248Z"
    }
   },
   "id": "3c7c188742bad32",
   "execution_count": 37
  },
  {
   "cell_type": "code",
   "outputs": [
    {
     "data": {
      "text/plain": "ID_Pedido       0\nData_Pedido     0\nID_Cliente      0\nSegmento        0\nPais            0\nRegiao          0\nID_Produto      0\nCategoria       0\nNome_Produto    0\nValor_Venda     0\nQuantidade      2\ndtype: int64"
     },
     "execution_count": 38,
     "metadata": {},
     "output_type": "execute_result"
    }
   ],
   "source": [
    "dsa_df.isna().sum()"
   ],
   "metadata": {
    "collapsed": false,
    "ExecuteTime": {
     "end_time": "2024-08-15T14:23:40.695020Z",
     "start_time": "2024-08-15T14:23:40.684489Z"
    }
   },
   "id": "902e3d275ef36066",
   "execution_count": 38
  },
  {
   "cell_type": "code",
   "outputs": [],
   "source": [
    "#Extrímos a moda da coluna Quantidade\n",
    "moda = dsa_df['Quantidade'].value_counts().index[0]"
   ],
   "metadata": {
    "collapsed": false,
    "ExecuteTime": {
     "end_time": "2024-08-15T14:27:17.197767Z",
     "start_time": "2024-08-15T14:27:17.193141Z"
    }
   },
   "id": "a3c4cb8cd3aad6b6",
   "execution_count": 40
  },
  {
   "cell_type": "code",
   "outputs": [
    {
     "name": "stdout",
     "output_type": "stream",
     "text": [
      "3.0\n"
     ]
    }
   ],
   "source": [
    "print(moda)"
   ],
   "metadata": {
    "collapsed": false,
    "ExecuteTime": {
     "end_time": "2024-08-15T14:27:31.121897Z",
     "start_time": "2024-08-15T14:27:31.117352Z"
    }
   },
   "id": "558acd0e7185ad9e",
   "execution_count": 41
  },
  {
   "cell_type": "code",
   "outputs": [],
   "source": [
    "#E por fim preenchemos os valores NA com a moda\n",
    "dsa_df['Quantidade'].fillna(value= moda, inplace=True)"
   ],
   "metadata": {
    "collapsed": false,
    "ExecuteTime": {
     "end_time": "2024-08-15T14:28:39.363298Z",
     "start_time": "2024-08-15T14:28:39.356665Z"
    }
   },
   "id": "add2faadff1d18b4",
   "execution_count": 42
  },
  {
   "cell_type": "code",
   "outputs": [
    {
     "data": {
      "text/plain": "ID_Pedido       0\nData_Pedido     0\nID_Cliente      0\nSegmento        0\nPais            0\nRegiao          0\nID_Produto      0\nCategoria       0\nNome_Produto    0\nValor_Venda     0\nQuantidade      0\ndtype: int64"
     },
     "execution_count": 43,
     "metadata": {},
     "output_type": "execute_result"
    }
   ],
   "source": [
    "dsa_df.isna().sum()"
   ],
   "metadata": {
    "collapsed": false,
    "ExecuteTime": {
     "end_time": "2024-08-15T14:28:53.640831Z",
     "start_time": "2024-08-15T14:28:53.628989Z"
    }
   },
   "id": "a5ed09d63dc62946",
   "execution_count": 43
  },
  {
   "cell_type": "code",
   "outputs": [],
   "source": [],
   "metadata": {
    "collapsed": false
   },
   "id": "9f04d299b98f1a4e"
  }
 ],
 "metadata": {
  "kernelspec": {
   "display_name": "Python 3",
   "language": "python",
   "name": "python3"
  },
  "language_info": {
   "codemirror_mode": {
    "name": "ipython",
    "version": 2
   },
   "file_extension": ".py",
   "mimetype": "text/x-python",
   "name": "python",
   "nbconvert_exporter": "python",
   "pygments_lexer": "ipython2",
   "version": "2.7.6"
  }
 },
 "nbformat": 4,
 "nbformat_minor": 5
}
