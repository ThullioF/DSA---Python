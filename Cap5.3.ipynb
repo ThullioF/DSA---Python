{
 "cells": [
  {
   "cell_type": "markdown",
   "source": [
    "LOOP WHILE"
   ],
   "metadata": {
    "collapsed": false
   },
   "id": "d5d3ef10c0a38978"
  },
  {
   "cell_type": "code",
   "outputs": [
    {
     "name": "stdout",
     "output_type": "stream",
     "text": [
      "0\n",
      "1\n",
      "2\n",
      "3\n",
      "4\n",
      "5\n",
      "6\n",
      "7\n",
      "8\n",
      "9\n"
     ]
    }
   ],
   "source": [
    "#Usando o loop while para imprimir os valores de 0 a 9\n",
    "#A condição tem que deixar de ser verdadeira dentro do loop, senão pode travar o navegador ou mesmo o computador\n",
    "#Entra no loop somente se a condição for verdadeira\n",
    "valor = 0\n",
    "while valor <10:\n",
    "    print(valor)\n",
    "    valor = valor + 1"
   ],
   "metadata": {
    "collapsed": false,
    "ExecuteTime": {
     "end_time": "2024-07-03T14:06:38.934628Z",
     "start_time": "2024-07-03T14:06:38.925513Z"
    }
   },
   "id": "4fc809d7081c4451",
   "execution_count": 3
  },
  {
   "cell_type": "code",
   "outputs": [
    {
     "name": "stdout",
     "output_type": "stream",
     "text": [
      "O valor de x é:  0\n",
      "O valor de x é:  1\n",
      "O valor de x é:  2\n",
      "O valor de x é:  3\n",
      "O valor de x é:  4\n",
      "O valor de x é:  5\n",
      "O valor de x é:  6\n",
      "O valor de x é:  7\n",
      "O valor de x é:  8\n",
      "O valor de x é:  9\n",
      "Loop completo\n",
      "10\n"
     ]
    }
   ],
   "source": [
    "#Também é possível usar a claúsula else para encerrar o lopp\n",
    "x = 0\n",
    "while x < 10:\n",
    "    print('O valor de x é: ', x)\n",
    "    x += 1\n",
    "else:\n",
    "    print('Loop completo')\n",
    "print(x)"
   ],
   "metadata": {
    "collapsed": false,
    "ExecuteTime": {
     "end_time": "2024-07-03T14:23:29.263290Z",
     "start_time": "2024-07-03T14:23:29.251986Z"
    }
   },
   "id": "b328edd42568d255",
   "execution_count": 10
  },
  {
   "cell_type": "markdown",
   "source": [
    "PASS, BREAK, CONTINUE"
   ],
   "metadata": {
    "collapsed": false
   },
   "id": "8c26a7351412de13"
  },
  {
   "cell_type": "code",
   "outputs": [
    {
     "name": "stdout",
     "output_type": "stream",
     "text": [
      "0\n",
      "1\n",
      "2\n",
      "3\n"
     ]
    }
   ],
   "source": [
    "#Se encontramos o número 4 interrompemos o loop\n",
    "valor = 0\n",
    "while valor < 10:\n",
    "    if valor == 4:\n",
    "        break\n",
    "    else:\n",
    "        pass\n",
    "    print(valor)\n",
    "    valor = valor + 1"
   ],
   "metadata": {
    "collapsed": false,
    "ExecuteTime": {
     "end_time": "2024-07-03T14:34:45.566184Z",
     "start_time": "2024-07-03T14:34:45.531178Z"
    }
   },
   "id": "b9dabbf5922edfe9",
   "execution_count": 1
  },
  {
   "cell_type": "code",
   "outputs": [
    {
     "name": "stdout",
     "output_type": "stream",
     "text": [
      "P\n",
      "y\n",
      "t\n",
      "h\n",
      "o\n",
      "n\n",
      " \n",
      "é\n",
      " \n",
      " \n",
      "i\n",
      "n\n",
      "c\n",
      "r\n",
      "í\n",
      "v\n",
      "e\n",
      "l\n"
     ]
    }
   ],
   "source": [
    "#Desconsideramos a letra z ao imprimir os caracteres da frase\n",
    "for letra in 'Python é zzz incrível':\n",
    "    if letra == \"z\":\n",
    "        continue\n",
    "    print(letra )"
   ],
   "metadata": {
    "collapsed": false,
    "ExecuteTime": {
     "end_time": "2024-07-03T14:34:50.269456Z",
     "start_time": "2024-07-03T14:34:50.206043Z"
    }
   },
   "id": "f90023245bcb47c1",
   "execution_count": 2
  },
  {
   "cell_type": "markdown",
   "source": [
    "LOOP WHILE E FOR JUNTOS"
   ],
   "metadata": {
    "collapsed": false
   },
   "id": "2a0938f2da68cae6"
  },
  {
   "cell_type": "code",
   "outputs": [
    {
     "name": "stdout",
     "output_type": "stream",
     "text": [
      "[2, 3, 5, 7, 11, 13, 17, 19, 23, 29]\n"
     ]
    }
   ],
   "source": [
    "#Encontrando números primos entre 2 e 30 usando loop for e while\n",
    "\n",
    "#Variável para armazenar números primos\n",
    "primos = []\n",
    "\n",
    "#Loop for para percorrer números de 2 a 30\n",
    "for num in range(2,31):\n",
    "    #Variável de controle\n",
    "    eh_primo = True\n",
    "    #Loop while para verificar se o número é primo\n",
    "    i = 2\n",
    "    while i <= num // 2:\n",
    "        if num % i == 0:\n",
    "            eh_primo = False\n",
    "            break\n",
    "        i += 1\n",
    "    #Adicionando o número primo na lista\n",
    "    if eh_primo:\n",
    "        primos.append(num)\n",
    "#Imprimindo a lista de números primos\n",
    "print(primos)"
   ],
   "metadata": {
    "collapsed": false,
    "ExecuteTime": {
     "end_time": "2024-07-04T12:59:11.542520Z",
     "start_time": "2024-07-04T12:59:11.535303Z"
    }
   },
   "id": "a8984d4b44efc612",
   "execution_count": 2
  },
  {
   "cell_type": "code",
   "outputs": [
    {
     "name": "stdout",
     "output_type": "stream",
     "text": [
      "2 é primo\n",
      "3 é primo\n",
      "5 é primo\n",
      "7 é primo\n",
      "11 é primo\n",
      "13 é primo\n",
      "17 é primo\n",
      "19 é primo\n",
      "23 é primo\n",
      "29 é primo\n"
     ]
    }
   ],
   "source": [
    "#Loop for para percorrer números de 2 a 30\n",
    "for i in range (2,31):\n",
    "    #Variável de controle\n",
    "    j = 2\n",
    "    #Contador\n",
    "    valor = 0\n",
    "    #Loop while para verificar se o número é primo\n",
    "    while j < i:\n",
    "        if i % j == 0:\n",
    "            valor = 1\n",
    "            j = j + 1\n",
    "        else:\n",
    "            j = j + 1\n",
    "    if valor == 0:\n",
    "        print(str(i) + \" é primo\")\n",
    "        valor = 0\n",
    "    else:\n",
    "        valor = 0"
   ],
   "metadata": {
    "collapsed": false,
    "ExecuteTime": {
     "end_time": "2024-07-04T13:08:09.884802Z",
     "start_time": "2024-07-04T13:08:09.877554Z"
    }
   },
   "id": "f090b6c0174428a4",
   "execution_count": 4
  },
  {
   "cell_type": "code",
   "outputs": [],
   "source": [],
   "metadata": {
    "collapsed": false
   },
   "id": "bb62497b397d1097"
  }
 ],
 "metadata": {
  "kernelspec": {
   "display_name": "Python 3",
   "language": "python",
   "name": "python3"
  },
  "language_info": {
   "codemirror_mode": {
    "name": "ipython",
    "version": 2
   },
   "file_extension": ".py",
   "mimetype": "text/x-python",
   "name": "python",
   "nbconvert_exporter": "python",
   "pygments_lexer": "ipython2",
   "version": "2.7.6"
  }
 },
 "nbformat": 4,
 "nbformat_minor": 5
}
