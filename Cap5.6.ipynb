{
 "cells": [
  {
   "cell_type": "markdown",
   "source": [
    "FUNÇÕES"
   ],
   "metadata": {
    "collapsed": false
   },
   "id": "8d8c4db23893d2cb"
  },
  {
   "cell_type": "code",
   "outputs": [
    {
     "name": "stdout",
     "output_type": "stream",
     "text": [
      "Hello World!\n"
     ]
    }
   ],
   "source": [
    "print(\"Hello World!\")"
   ],
   "metadata": {
    "collapsed": false,
    "ExecuteTime": {
     "end_time": "2024-07-04T14:10:05.248083Z",
     "start_time": "2024-07-04T14:10:05.236363Z"
    }
   },
   "id": "d83ceb227126273d",
   "execution_count": 1
  },
  {
   "cell_type": "code",
   "outputs": [],
   "source": [
    "#Definindo uma função\n",
    "def primeiraFunc():\n",
    "    print(\"Primeira\")"
   ],
   "metadata": {
    "collapsed": false,
    "ExecuteTime": {
     "end_time": "2024-07-04T14:10:39.488502Z",
     "start_time": "2024-07-04T14:10:39.482814Z"
    }
   },
   "id": "178f929da63134a7",
   "execution_count": 2
  },
  {
   "cell_type": "code",
   "outputs": [
    {
     "name": "stdout",
     "output_type": "stream",
     "text": [
      "Primeira\n"
     ]
    }
   ],
   "source": [
    "#Chamando a função\n",
    "primeiraFunc()"
   ],
   "metadata": {
    "collapsed": false,
    "ExecuteTime": {
     "end_time": "2024-07-04T14:11:11.867518Z",
     "start_time": "2024-07-04T14:11:11.861425Z"
    }
   },
   "id": "a844484e52e4abac",
   "execution_count": 4
  },
  {
   "cell_type": "code",
   "outputs": [],
   "source": [
    "#Definindo nova função\n",
    "def primeiraFunc():\n",
    "    nome = 'Bob'\n",
    "    print('Oi %s' %(nome))"
   ],
   "metadata": {
    "collapsed": false,
    "ExecuteTime": {
     "end_time": "2024-07-04T14:12:29.649742Z",
     "start_time": "2024-07-04T14:12:29.644774Z"
    }
   },
   "id": "8f932974543f28f3",
   "execution_count": 6
  },
  {
   "cell_type": "code",
   "outputs": [
    {
     "name": "stdout",
     "output_type": "stream",
     "text": [
      "Oi Bob\n"
     ]
    }
   ],
   "source": [
    "#Chamando a função\n",
    "primeiraFunc()"
   ],
   "metadata": {
    "collapsed": false,
    "ExecuteTime": {
     "end_time": "2024-07-04T14:12:35.755364Z",
     "start_time": "2024-07-04T14:12:35.750711Z"
    }
   },
   "id": "d1e370abedb7282b",
   "execution_count": 7
  },
  {
   "cell_type": "code",
   "outputs": [],
   "source": [
    "#Definindo um função com parâmetro\n",
    "def segundaFunc(nome):\n",
    "    print('Oi %s' %(nome))"
   ],
   "metadata": {
    "collapsed": false,
    "ExecuteTime": {
     "end_time": "2024-07-04T14:13:33.454328Z",
     "start_time": "2024-07-04T14:13:33.449703Z"
    }
   },
   "id": "6de5ca0925645b90",
   "execution_count": 9
  },
  {
   "cell_type": "code",
   "outputs": [
    {
     "name": "stdout",
     "output_type": "stream",
     "text": [
      "Oi Aluno\n"
     ]
    }
   ],
   "source": [
    "#Chamando a função passando parâmetro\n",
    "segundaFunc('Aluno')"
   ],
   "metadata": {
    "collapsed": false,
    "ExecuteTime": {
     "end_time": "2024-07-04T14:14:30.799602Z",
     "start_time": "2024-07-04T14:14:30.794197Z"
    }
   },
   "id": "297e7d681701cfe1",
   "execution_count": 11
  },
  {
   "cell_type": "code",
   "outputs": [],
   "source": [
    "#Função para imprimir números\n",
    "def imprimirNumeros():\n",
    "    #Loop\n",
    "    for i in range(1,11):\n",
    "        print(\"Número \" + str(i))"
   ],
   "metadata": {
    "collapsed": false,
    "ExecuteTime": {
     "end_time": "2024-07-04T14:16:32.123799Z",
     "start_time": "2024-07-04T14:16:32.118526Z"
    }
   },
   "id": "e9e627d3c5b1e79b",
   "execution_count": 12
  },
  {
   "cell_type": "code",
   "outputs": [
    {
     "name": "stdout",
     "output_type": "stream",
     "text": [
      "Número 1\n",
      "Número 2\n",
      "Número 3\n",
      "Número 4\n",
      "Número 5\n",
      "Número 6\n",
      "Número 7\n",
      "Número 8\n",
      "Número 9\n",
      "Número 10\n"
     ]
    }
   ],
   "source": [
    "#Chamando a função\n",
    "imprimirNumeros()"
   ],
   "metadata": {
    "collapsed": false,
    "ExecuteTime": {
     "end_time": "2024-07-04T14:16:35.803758Z",
     "start_time": "2024-07-04T14:16:35.799087Z"
    }
   },
   "id": "d6186842b286b566",
   "execution_count": 13
  },
  {
   "cell_type": "code",
   "outputs": [],
   "source": [
    "#Função para somar números\n",
    "def addNumeros(num1,num2):\n",
    "    print(\"Primeiro número \" + str(num1))\n",
    "    print(\"Segundo número \" + str(num2))\n",
    "    print(\"Soma: \", num1 + num2)"
   ],
   "metadata": {
    "collapsed": false,
    "ExecuteTime": {
     "end_time": "2024-07-04T14:18:10.584416Z",
     "start_time": "2024-07-04T14:18:10.580057Z"
    }
   },
   "id": "9b39d7f33d91c0bb",
   "execution_count": 15
  },
  {
   "cell_type": "code",
   "outputs": [
    {
     "name": "stdout",
     "output_type": "stream",
     "text": [
      "Primeiro número 10\n",
      "Segundo número 30\n",
      "Soma:  40\n"
     ]
    }
   ],
   "source": [
    "#Chamando a função passando parâmetros\n",
    "addNumeros(10, 30)"
   ],
   "metadata": {
    "collapsed": false,
    "ExecuteTime": {
     "end_time": "2024-07-04T14:18:21.587925Z",
     "start_time": "2024-07-04T14:18:21.582526Z"
    }
   },
   "id": "761da17798819702",
   "execution_count": 16
  },
  {
   "cell_type": "code",
   "outputs": [],
   "source": [
    "#Função com número variável de argumentos\n",
    "# *vartuple = pode passar quantos argumentos quiser\n",
    "def printVarInfo(arg1, *vartuple):\n",
    "    #Imprimindo o valor do primeiro argumento\n",
    "    print(\"O parâmetro passado foi: \", arg1)\n",
    "    #Imprimindo o valor do segunso argumento\n",
    "    for item in vartuple:\n",
    "        print(\"O parâmetro passado foi: \", item)\n",
    "    return "
   ],
   "metadata": {
    "collapsed": false,
    "ExecuteTime": {
     "end_time": "2024-07-04T14:22:24.267408Z",
     "start_time": "2024-07-04T14:22:24.262334Z"
    }
   },
   "id": "ad88ae45580fd7e1",
   "execution_count": 17
  },
  {
   "cell_type": "code",
   "outputs": [
    {
     "name": "stdout",
     "output_type": "stream",
     "text": [
      "O parâmetro passado foi:  10\n"
     ]
    }
   ],
   "source": [
    "#Fazendo chamada à função usando apenas 1 argumento\n",
    "printVarInfo(10)"
   ],
   "metadata": {
    "collapsed": false,
    "ExecuteTime": {
     "end_time": "2024-07-04T14:22:51.604653Z",
     "start_time": "2024-07-04T14:22:51.599832Z"
    }
   },
   "id": "52612c5da8fa1e86",
   "execution_count": 18
  },
  {
   "cell_type": "code",
   "outputs": [
    {
     "name": "stdout",
     "output_type": "stream",
     "text": [
      "O parâmetro passado foi:  10\n",
      "O parâmetro passado foi:  30\n"
     ]
    }
   ],
   "source": [
    "printVarInfo(10, 30)"
   ],
   "metadata": {
    "collapsed": false,
    "ExecuteTime": {
     "end_time": "2024-07-04T14:23:06.564093Z",
     "start_time": "2024-07-04T14:23:06.559548Z"
    }
   },
   "id": "87aff87f8d1cdec0",
   "execution_count": 19
  },
  {
   "cell_type": "code",
   "outputs": [
    {
     "name": "stdout",
     "output_type": "stream",
     "text": [
      "O parâmetro passado foi:  10\n",
      "O parâmetro passado foi:  30\n",
      "O parâmetro passado foi:  50\n"
     ]
    }
   ],
   "source": [
    "printVarInfo(10, 30, 50)"
   ],
   "metadata": {
    "collapsed": false,
    "ExecuteTime": {
     "end_time": "2024-07-04T14:23:18.065449Z",
     "start_time": "2024-07-04T14:23:18.060372Z"
    }
   },
   "id": "ead76a3706463558",
   "execution_count": 20
  },
  {
   "cell_type": "markdown",
   "source": [
    "ESCOPO DE VARIÁVEL - LOCAL E GLOBAL"
   ],
   "metadata": {
    "collapsed": false
   },
   "id": "4264c0faa0d65e70"
  },
  {
   "cell_type": "code",
   "outputs": [],
   "source": [
    "#Variável global\n",
    "var_global = 10 #Esta é uma variável global\n",
    "\n",
    "#Função\n",
    "def multiplicar(num1, num2):\n",
    "    var_local = num1 * num2 #Esta é um variável local - Só existe dentro da função\n",
    "    print(var_local)"
   ],
   "metadata": {
    "collapsed": false,
    "ExecuteTime": {
     "end_time": "2024-07-04T14:28:57.857805Z",
     "start_time": "2024-07-04T14:28:57.851942Z"
    }
   },
   "id": "fc4c641e0f9b9e36",
   "execution_count": 24
  },
  {
   "cell_type": "code",
   "outputs": [
    {
     "name": "stdout",
     "output_type": "stream",
     "text": [
      "150\n"
     ]
    }
   ],
   "source": [
    "multiplicar(10, 15)"
   ],
   "metadata": {
    "collapsed": false,
    "ExecuteTime": {
     "end_time": "2024-07-04T14:28:58.490339Z",
     "start_time": "2024-07-04T14:28:58.485011Z"
    }
   },
   "id": "c8fd7a6d3b279a56",
   "execution_count": 25
  },
  {
   "cell_type": "code",
   "outputs": [
    {
     "name": "stdout",
     "output_type": "stream",
     "text": [
      "10\n"
     ]
    }
   ],
   "source": [
    "print(var_global)"
   ],
   "metadata": {
    "collapsed": false,
    "ExecuteTime": {
     "end_time": "2024-07-04T14:28:59.060144Z",
     "start_time": "2024-07-04T14:28:59.054663Z"
    }
   },
   "id": "2bf43607b91d9beb",
   "execution_count": 26
  },
  {
   "cell_type": "markdown",
   "source": [
    "FUNÇÕES BUILT-IN"
   ],
   "metadata": {
    "collapsed": false
   },
   "id": "cff9b19812931382"
  },
  {
   "cell_type": "code",
   "outputs": [
    {
     "data": {
      "text/plain": "23"
     },
     "execution_count": 27,
     "metadata": {},
     "output_type": "execute_result"
    }
   ],
   "source": [
    "abs(23)"
   ],
   "metadata": {
    "collapsed": false,
    "ExecuteTime": {
     "end_time": "2024-07-04T14:31:39.200348Z",
     "start_time": "2024-07-04T14:31:39.191283Z"
    }
   },
   "id": "55ab910296718ea0",
   "execution_count": 27
  },
  {
   "cell_type": "code",
   "outputs": [
    {
     "data": {
      "text/plain": "23"
     },
     "execution_count": 31,
     "metadata": {},
     "output_type": "execute_result"
    }
   ],
   "source": [
    "abs(-23)"
   ],
   "metadata": {
    "collapsed": false,
    "ExecuteTime": {
     "end_time": "2024-07-04T14:32:16.493669Z",
     "start_time": "2024-07-04T14:32:16.486286Z"
    }
   },
   "id": "755854631918e377",
   "execution_count": 31
  },
  {
   "cell_type": "code",
   "outputs": [
    {
     "data": {
      "text/plain": "False"
     },
     "execution_count": 32,
     "metadata": {},
     "output_type": "execute_result"
    }
   ],
   "source": [
    "bool(0)"
   ],
   "metadata": {
    "collapsed": false,
    "ExecuteTime": {
     "end_time": "2024-07-04T14:32:23.419457Z",
     "start_time": "2024-07-04T14:32:23.412972Z"
    }
   },
   "id": "85b5debfb3f81ce",
   "execution_count": 32
  },
  {
   "cell_type": "code",
   "outputs": [
    {
     "data": {
      "text/plain": "True"
     },
     "execution_count": 33,
     "metadata": {},
     "output_type": "execute_result"
    }
   ],
   "source": [
    "bool(1)"
   ],
   "metadata": {
    "collapsed": false,
    "ExecuteTime": {
     "end_time": "2024-07-04T14:32:23.828121Z",
     "start_time": "2024-07-04T14:32:23.821352Z"
    }
   },
   "id": "73bd41ad1a2210b4",
   "execution_count": 33
  },
  {
   "cell_type": "code",
   "outputs": [
    {
     "data": {
      "text/plain": "4"
     },
     "execution_count": 34,
     "metadata": {},
     "output_type": "execute_result"
    }
   ],
   "source": [
    "int(4.3)"
   ],
   "metadata": {
    "collapsed": false,
    "ExecuteTime": {
     "end_time": "2024-07-04T14:32:35.439346Z",
     "start_time": "2024-07-04T14:32:35.432507Z"
    }
   },
   "id": "282f484aedbf6d17",
   "execution_count": 34
  },
  {
   "cell_type": "code",
   "outputs": [
    {
     "data": {
      "text/plain": "'13'"
     },
     "execution_count": 35,
     "metadata": {},
     "output_type": "execute_result"
    }
   ],
   "source": [
    "str(13)"
   ],
   "metadata": {
    "collapsed": false,
    "ExecuteTime": {
     "end_time": "2024-07-04T14:32:44.084433Z",
     "start_time": "2024-07-04T14:32:44.077433Z"
    }
   },
   "id": "e6aa57a925799283",
   "execution_count": 35
  },
  {
   "cell_type": "code",
   "outputs": [
    {
     "data": {
      "text/plain": "5.0"
     },
     "execution_count": 36,
     "metadata": {},
     "output_type": "execute_result"
    }
   ],
   "source": [
    "float(5)"
   ],
   "metadata": {
    "collapsed": false,
    "ExecuteTime": {
     "end_time": "2024-07-04T14:32:52.831512Z",
     "start_time": "2024-07-04T14:32:52.824039Z"
    }
   },
   "id": "c6a6c33657500bf4",
   "execution_count": 36
  },
  {
   "cell_type": "code",
   "outputs": [
    {
     "name": "stdout",
     "output_type": "stream",
     "text": [
      "Pode dirigir\n"
     ]
    }
   ],
   "source": [
    "#Usando a função int para converter o valor digitado\n",
    "idade = int(input(\"Digite sua idade: \"))\n",
    "if idade >= 18:\n",
    "    print(\"Pode dirigir\")\n",
    "else:\n",
    "    print(\"Não pode dirigir\")"
   ],
   "metadata": {
    "collapsed": false,
    "ExecuteTime": {
     "end_time": "2024-07-04T14:35:48.140115Z",
     "start_time": "2024-07-04T14:35:44.234376Z"
    }
   },
   "id": "f3b59b519cee7a87",
   "execution_count": 38
  },
  {
   "cell_type": "code",
   "outputs": [
    {
     "data": {
      "text/plain": "26"
     },
     "execution_count": 39,
     "metadata": {},
     "output_type": "execute_result"
    }
   ],
   "source": [
    "int(\"26\")"
   ],
   "metadata": {
    "collapsed": false,
    "ExecuteTime": {
     "end_time": "2024-07-04T14:36:01.603699Z",
     "start_time": "2024-07-04T14:36:01.596202Z"
    }
   },
   "id": "7c8ef92102ddaa68",
   "execution_count": 39
  },
  {
   "cell_type": "code",
   "outputs": [
    {
     "data": {
      "text/plain": "123.345"
     },
     "execution_count": 40,
     "metadata": {},
     "output_type": "execute_result"
    }
   ],
   "source": [
    "float(\"123.345\")"
   ],
   "metadata": {
    "collapsed": false,
    "ExecuteTime": {
     "end_time": "2024-07-04T14:36:21.656666Z",
     "start_time": "2024-07-04T14:36:21.649906Z"
    }
   },
   "id": "250c9babb90835be",
   "execution_count": 40
  },
  {
   "cell_type": "code",
   "outputs": [
    {
     "data": {
      "text/plain": "'14'"
     },
     "execution_count": 41,
     "metadata": {},
     "output_type": "execute_result"
    }
   ],
   "source": [
    "str(14)"
   ],
   "metadata": {
    "collapsed": false,
    "ExecuteTime": {
     "end_time": "2024-07-04T14:36:31.064408Z",
     "start_time": "2024-07-04T14:36:31.057909Z"
    }
   },
   "id": "328993f51a4ef02c",
   "execution_count": 41
  },
  {
   "cell_type": "code",
   "outputs": [
    {
     "data": {
      "text/plain": "4"
     },
     "execution_count": 42,
     "metadata": {},
     "output_type": "execute_result"
    }
   ],
   "source": [
    "#Comprimento de uma lista\n",
    "len([23,34,45,46])"
   ],
   "metadata": {
    "collapsed": false,
    "ExecuteTime": {
     "end_time": "2024-07-04T14:36:54.140650Z",
     "start_time": "2024-07-04T14:36:54.134083Z"
    }
   },
   "id": "28899bfd36908528",
   "execution_count": 42
  },
  {
   "cell_type": "code",
   "outputs": [],
   "source": [
    "array = [30,20,10,40,70,80,100,90]"
   ],
   "metadata": {
    "collapsed": false,
    "ExecuteTime": {
     "end_time": "2024-07-04T14:37:57.635374Z",
     "start_time": "2024-07-04T14:37:57.631157Z"
    }
   },
   "id": "2546b76a794f6e58",
   "execution_count": 46
  },
  {
   "cell_type": "code",
   "outputs": [
    {
     "data": {
      "text/plain": "100"
     },
     "execution_count": 47,
     "metadata": {},
     "output_type": "execute_result"
    }
   ],
   "source": [
    "#Maior valor\n",
    "max(array)"
   ],
   "metadata": {
    "collapsed": false,
    "ExecuteTime": {
     "end_time": "2024-07-04T14:37:58.387055Z",
     "start_time": "2024-07-04T14:37:58.380449Z"
    }
   },
   "id": "f3dfcc068b3215e5",
   "execution_count": 47
  },
  {
   "cell_type": "code",
   "outputs": [
    {
     "data": {
      "text/plain": "10"
     },
     "execution_count": 48,
     "metadata": {},
     "output_type": "execute_result"
    }
   ],
   "source": [
    "#Menor valor\n",
    "min(array)"
   ],
   "metadata": {
    "collapsed": false,
    "ExecuteTime": {
     "end_time": "2024-07-04T14:37:59.024785Z",
     "start_time": "2024-07-04T14:37:59.018909Z"
    }
   },
   "id": "5cb18c6c326aaa07",
   "execution_count": 48
  },
  {
   "cell_type": "code",
   "outputs": [],
   "source": [
    "list = [16,23,44,75]"
   ],
   "metadata": {
    "collapsed": false,
    "ExecuteTime": {
     "end_time": "2024-07-04T14:38:19.363861Z",
     "start_time": "2024-07-04T14:38:19.358730Z"
    }
   },
   "id": "4b1086efd880f807",
   "execution_count": 49
  },
  {
   "cell_type": "code",
   "outputs": [
    {
     "data": {
      "text/plain": "158"
     },
     "execution_count": 50,
     "metadata": {},
     "output_type": "execute_result"
    }
   ],
   "source": [
    "#Soma\n",
    "sum(list)"
   ],
   "metadata": {
    "collapsed": false,
    "ExecuteTime": {
     "end_time": "2024-07-04T14:38:26.445733Z",
     "start_time": "2024-07-04T14:38:26.439265Z"
    }
   },
   "id": "178e459a0f0a25ae",
   "execution_count": 50
  },
  {
   "cell_type": "markdown",
   "source": [
    "CRIANDO FUNÇÕES USANDO OUTRAS FUNÇÕES"
   ],
   "metadata": {
    "collapsed": false
   },
   "id": "c2dd831570bdeff1"
  },
  {
   "cell_type": "code",
   "outputs": [],
   "source": [
    "import math\n",
    "\n",
    "#Verificando se um número é primo\n",
    "def numPrimo(num):\n",
    "    if (num % 2) == 0 and num > 2:\n",
    "        return \"Este número não é primo\"\n",
    "    for i in range (3, int(math.sqrt(num)) + 1, 2):\n",
    "        if (num % i) == 0:\n",
    "            return \"Este número não é primo\"\n",
    "    return \"Este número é primo\""
   ],
   "metadata": {
    "collapsed": false,
    "ExecuteTime": {
     "end_time": "2024-07-15T13:23:30.186416Z",
     "start_time": "2024-07-15T13:23:30.180604Z"
    }
   },
   "id": "e035deec8c0cd353",
   "execution_count": 2
  },
  {
   "cell_type": "code",
   "outputs": [
    {
     "data": {
      "text/plain": "'Este número é primo'"
     },
     "execution_count": 3,
     "metadata": {},
     "output_type": "execute_result"
    }
   ],
   "source": [
    "numPrimo(541)"
   ],
   "metadata": {
    "collapsed": false,
    "ExecuteTime": {
     "end_time": "2024-07-15T13:23:51.173376Z",
     "start_time": "2024-07-15T13:23:51.163808Z"
    }
   },
   "id": "930ce24f4200f4ba",
   "execution_count": 3
  },
  {
   "cell_type": "code",
   "outputs": [
    {
     "data": {
      "text/plain": "'Este número não é primo'"
     },
     "execution_count": 4,
     "metadata": {},
     "output_type": "execute_result"
    }
   ],
   "source": [
    "numPrimo(123)"
   ],
   "metadata": {
    "collapsed": false,
    "ExecuteTime": {
     "end_time": "2024-07-15T13:23:59.712349Z",
     "start_time": "2024-07-15T13:23:59.706452Z"
    }
   },
   "id": "846be1e1b0bde6ff",
   "execution_count": 4
  },
  {
   "cell_type": "code",
   "outputs": [],
   "source": [
    "caixa_baixa = \"Este Texto Deveria Estar Todo LowerCase\""
   ],
   "metadata": {
    "collapsed": false,
    "ExecuteTime": {
     "end_time": "2024-07-15T13:26:23.564548Z",
     "start_time": "2024-07-15T13:26:23.559872Z"
    }
   },
   "id": "61f8ea030682064",
   "execution_count": 10
  },
  {
   "cell_type": "code",
   "outputs": [],
   "source": [
    "def lowercase(text):\n",
    "    return text.lower()"
   ],
   "metadata": {
    "collapsed": false,
    "ExecuteTime": {
     "end_time": "2024-07-15T13:26:25.365237Z",
     "start_time": "2024-07-15T13:26:25.360506Z"
    }
   },
   "id": "f37351be16794ada",
   "execution_count": 11
  },
  {
   "cell_type": "code",
   "outputs": [],
   "source": [
    "lowercased_string = lowercase(caixa_baixa)"
   ],
   "metadata": {
    "collapsed": false,
    "ExecuteTime": {
     "end_time": "2024-07-15T13:25:43.460393Z",
     "start_time": "2024-07-15T13:25:43.455834Z"
    }
   },
   "id": "e2624132f0c12454",
   "execution_count": 7
  },
  {
   "cell_type": "code",
   "outputs": [
    {
     "data": {
      "text/plain": "'este texto deveria estar todo lowercase'"
     },
     "execution_count": 8,
     "metadata": {},
     "output_type": "execute_result"
    }
   ],
   "source": [
    "lowercased_string"
   ],
   "metadata": {
    "collapsed": false,
    "ExecuteTime": {
     "end_time": "2024-07-15T13:25:48.052581Z",
     "start_time": "2024-07-15T13:25:48.046003Z"
    }
   },
   "id": "cb2f3c3db8aba043",
   "execution_count": 8
  },
  {
   "cell_type": "code",
   "outputs": [
    {
     "data": {
      "text/plain": "'este texto deveria estar todo lowercase'"
     },
     "execution_count": 12,
     "metadata": {},
     "output_type": "execute_result"
    }
   ],
   "source": [
    "lowercase(caixa_baixa)"
   ],
   "metadata": {
    "collapsed": false,
    "ExecuteTime": {
     "end_time": "2024-07-15T13:26:31.372891Z",
     "start_time": "2024-07-15T13:26:31.367196Z"
    }
   },
   "id": "9f62f90fbc2c4dab",
   "execution_count": 12
  },
  {
   "cell_type": "markdown",
   "source": [
    "FAZENDO SPLIT DOS DADOS"
   ],
   "metadata": {
    "collapsed": false
   },
   "id": "a393eabb336ff872"
  },
  {
   "cell_type": "code",
   "outputs": [],
   "source": [
    "def split_string_palavras(text):\n",
    "    return text.split(\" \")"
   ],
   "metadata": {
    "collapsed": false,
    "ExecuteTime": {
     "end_time": "2024-07-15T13:31:24.083200Z",
     "start_time": "2024-07-15T13:31:24.078466Z"
    }
   },
   "id": "ed2a1a89cbf17bff",
   "execution_count": 16
  },
  {
   "cell_type": "code",
   "outputs": [],
   "source": [
    "texto = \"Esta função será bastante útil para separar grande volume de dados\""
   ],
   "metadata": {
    "collapsed": false,
    "ExecuteTime": {
     "end_time": "2024-07-15T13:31:26.869104Z",
     "start_time": "2024-07-15T13:31:26.864741Z"
    }
   },
   "id": "954e32c7bc96378b",
   "execution_count": 17
  },
  {
   "cell_type": "code",
   "outputs": [
    {
     "name": "stdout",
     "output_type": "stream",
     "text": [
      "['Esta', 'função', 'será', 'bastante', 'útil', 'para', 'separar', 'grande', 'volume', 'de', 'dados']\n"
     ]
    }
   ],
   "source": [
    "#Isso divide a string em um lista de palavras\n",
    "print(split_string_palavras(texto))"
   ],
   "metadata": {
    "collapsed": false,
    "ExecuteTime": {
     "end_time": "2024-07-15T13:31:27.869051Z",
     "start_time": "2024-07-15T13:31:27.864739Z"
    }
   },
   "id": "8cfb8ccf55a9ddf0",
   "execution_count": 18
  },
  {
   "cell_type": "code",
   "outputs": [],
   "source": [
    "#Podemos atribuir o output de uma função para uma variável\n",
    "token = split_string_palavras(texto)"
   ],
   "metadata": {
    "collapsed": false,
    "ExecuteTime": {
     "end_time": "2024-07-15T13:49:14.176421Z",
     "start_time": "2024-07-15T13:49:14.172343Z"
    }
   },
   "id": "50e87fae39e6d974",
   "execution_count": 19
  },
  {
   "cell_type": "code",
   "outputs": [
    {
     "data": {
      "text/plain": "['Esta',\n 'função',\n 'será',\n 'bastante',\n 'útil',\n 'para',\n 'separar',\n 'grande',\n 'volume',\n 'de',\n 'dados']"
     },
     "execution_count": 20,
     "metadata": {},
     "output_type": "execute_result"
    }
   ],
   "source": [
    "token"
   ],
   "metadata": {
    "collapsed": false,
    "ExecuteTime": {
     "end_time": "2024-07-15T13:49:16.973893Z",
     "start_time": "2024-07-15T13:49:16.966407Z"
    }
   },
   "id": "b682a367ac648ed5",
   "execution_count": 20
  },
  {
   "cell_type": "code",
   "outputs": [],
   "source": [
    "#Fazendo split dos dados\n",
    "def split_string_letras(text):\n",
    "    texto = text.upper()\n",
    "    for letra in texto:\n",
    "        print(letra)"
   ],
   "metadata": {
    "collapsed": false,
    "ExecuteTime": {
     "end_time": "2024-07-15T13:50:16.678669Z",
     "start_time": "2024-07-15T13:50:16.673759Z"
    }
   },
   "id": "92b6b410a6a62d0a",
   "execution_count": 21
  },
  {
   "cell_type": "code",
   "outputs": [
    {
     "name": "stdout",
     "output_type": "stream",
     "text": [
      "E\n",
      "S\n",
      "T\n",
      "A\n",
      " \n",
      "F\n",
      "U\n",
      "N\n",
      "Ç\n",
      "Ã\n",
      "O\n",
      " \n",
      "S\n",
      "E\n",
      "R\n",
      "Á\n",
      " \n",
      "B\n",
      "A\n",
      "S\n",
      "T\n",
      "A\n",
      "N\n",
      "T\n",
      "E\n",
      " \n",
      "Ú\n",
      "T\n",
      "I\n",
      "L\n",
      " \n",
      "P\n",
      "A\n",
      "R\n",
      "A\n",
      " \n",
      "S\n",
      "E\n",
      "P\n",
      "A\n",
      "R\n",
      "A\n",
      "R\n",
      " \n",
      "G\n",
      "R\n",
      "A\n",
      "N\n",
      "D\n",
      "E\n",
      " \n",
      "V\n",
      "O\n",
      "L\n",
      "U\n",
      "M\n",
      "E\n",
      " \n",
      "D\n",
      "E\n",
      " \n",
      "D\n",
      "A\n",
      "D\n",
      "O\n",
      "S\n"
     ]
    }
   ],
   "source": [
    "split_string_letras(texto)"
   ],
   "metadata": {
    "collapsed": false,
    "ExecuteTime": {
     "end_time": "2024-07-15T13:50:21.149868Z",
     "start_time": "2024-07-15T13:50:21.145611Z"
    }
   },
   "id": "d159d17548c85e2f",
   "execution_count": 22
  },
  {
   "cell_type": "code",
   "outputs": [],
   "source": [],
   "metadata": {
    "collapsed": false
   },
   "id": "606000bdfcb7a4ec"
  }
 ],
 "metadata": {
  "kernelspec": {
   "display_name": "Python 3",
   "language": "python",
   "name": "python3"
  },
  "language_info": {
   "codemirror_mode": {
    "name": "ipython",
    "version": 2
   },
   "file_extension": ".py",
   "mimetype": "text/x-python",
   "name": "python",
   "nbconvert_exporter": "python",
   "pygments_lexer": "ipython2",
   "version": "2.7.6"
  }
 },
 "nbformat": 4,
 "nbformat_minor": 5
}
