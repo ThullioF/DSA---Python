{
 "cells": [
  {
   "cell_type": "markdown",
   "source": [
    "FUNÇÕES"
   ],
   "metadata": {
    "collapsed": false
   },
   "id": "8d8c4db23893d2cb"
  },
  {
   "cell_type": "code",
   "outputs": [
    {
     "name": "stdout",
     "output_type": "stream",
     "text": [
      "Hello World!\n"
     ]
    }
   ],
   "source": [
    "print(\"Hello World!\")"
   ],
   "metadata": {
    "collapsed": false,
    "ExecuteTime": {
     "end_time": "2024-07-04T14:10:05.248083Z",
     "start_time": "2024-07-04T14:10:05.236363Z"
    }
   },
   "id": "d83ceb227126273d",
   "execution_count": 1
  },
  {
   "cell_type": "code",
   "outputs": [],
   "source": [
    "#Definindo uma função\n",
    "def primeiraFunc():\n",
    "    print(\"Primeira\")"
   ],
   "metadata": {
    "collapsed": false,
    "ExecuteTime": {
     "end_time": "2024-07-04T14:10:39.488502Z",
     "start_time": "2024-07-04T14:10:39.482814Z"
    }
   },
   "id": "178f929da63134a7",
   "execution_count": 2
  },
  {
   "cell_type": "code",
   "outputs": [
    {
     "name": "stdout",
     "output_type": "stream",
     "text": [
      "Primeira\n"
     ]
    }
   ],
   "source": [
    "#Chamando a função\n",
    "primeiraFunc()"
   ],
   "metadata": {
    "collapsed": false,
    "ExecuteTime": {
     "end_time": "2024-07-04T14:11:11.867518Z",
     "start_time": "2024-07-04T14:11:11.861425Z"
    }
   },
   "id": "a844484e52e4abac",
   "execution_count": 4
  },
  {
   "cell_type": "code",
   "outputs": [],
   "source": [
    "#Definindo nova função\n",
    "def primeiraFunc():\n",
    "    nome = 'Bob'\n",
    "    print('Oi %s' %(nome))"
   ],
   "metadata": {
    "collapsed": false,
    "ExecuteTime": {
     "end_time": "2024-07-04T14:12:29.649742Z",
     "start_time": "2024-07-04T14:12:29.644774Z"
    }
   },
   "id": "8f932974543f28f3",
   "execution_count": 6
  },
  {
   "cell_type": "code",
   "outputs": [
    {
     "name": "stdout",
     "output_type": "stream",
     "text": [
      "Oi Bob\n"
     ]
    }
   ],
   "source": [
    "#Chamando a função\n",
    "primeiraFunc()"
   ],
   "metadata": {
    "collapsed": false,
    "ExecuteTime": {
     "end_time": "2024-07-04T14:12:35.755364Z",
     "start_time": "2024-07-04T14:12:35.750711Z"
    }
   },
   "id": "d1e370abedb7282b",
   "execution_count": 7
  },
  {
   "cell_type": "code",
   "outputs": [],
   "source": [
    "#Definindo um função com parâmetro\n",
    "def segundaFunc(nome):\n",
    "    print('Oi %s' %(nome))"
   ],
   "metadata": {
    "collapsed": false,
    "ExecuteTime": {
     "end_time": "2024-07-04T14:13:33.454328Z",
     "start_time": "2024-07-04T14:13:33.449703Z"
    }
   },
   "id": "6de5ca0925645b90",
   "execution_count": 9
  },
  {
   "cell_type": "code",
   "outputs": [
    {
     "name": "stdout",
     "output_type": "stream",
     "text": [
      "Oi Aluno\n"
     ]
    }
   ],
   "source": [
    "#Chamando a função passando parâmetro\n",
    "segundaFunc('Aluno')"
   ],
   "metadata": {
    "collapsed": false,
    "ExecuteTime": {
     "end_time": "2024-07-04T14:14:30.799602Z",
     "start_time": "2024-07-04T14:14:30.794197Z"
    }
   },
   "id": "297e7d681701cfe1",
   "execution_count": 11
  },
  {
   "cell_type": "code",
   "outputs": [],
   "source": [
    "#Função para imprimir números\n",
    "def imprimirNumeros():\n",
    "    #Loop\n",
    "    for i in range(1,11):\n",
    "        print(\"Número \" + str(i))"
   ],
   "metadata": {
    "collapsed": false,
    "ExecuteTime": {
     "end_time": "2024-07-04T14:16:32.123799Z",
     "start_time": "2024-07-04T14:16:32.118526Z"
    }
   },
   "id": "e9e627d3c5b1e79b",
   "execution_count": 12
  },
  {
   "cell_type": "code",
   "outputs": [
    {
     "name": "stdout",
     "output_type": "stream",
     "text": [
      "Número 1\n",
      "Número 2\n",
      "Número 3\n",
      "Número 4\n",
      "Número 5\n",
      "Número 6\n",
      "Número 7\n",
      "Número 8\n",
      "Número 9\n",
      "Número 10\n"
     ]
    }
   ],
   "source": [
    "#Chamando a função\n",
    "imprimirNumeros()"
   ],
   "metadata": {
    "collapsed": false,
    "ExecuteTime": {
     "end_time": "2024-07-04T14:16:35.803758Z",
     "start_time": "2024-07-04T14:16:35.799087Z"
    }
   },
   "id": "d6186842b286b566",
   "execution_count": 13
  },
  {
   "cell_type": "code",
   "outputs": [],
   "source": [
    "#Função para somar números\n",
    "def addNumeros(num1,num2):\n",
    "    print(\"Primeiro número \" + str(num1))\n",
    "    print(\"Segundo número \" + str(num2))\n",
    "    print(\"Soma: \", num1 + num2)"
   ],
   "metadata": {
    "collapsed": false,
    "ExecuteTime": {
     "end_time": "2024-07-04T14:18:10.584416Z",
     "start_time": "2024-07-04T14:18:10.580057Z"
    }
   },
   "id": "9b39d7f33d91c0bb",
   "execution_count": 15
  },
  {
   "cell_type": "code",
   "outputs": [
    {
     "name": "stdout",
     "output_type": "stream",
     "text": [
      "Primeiro número 10\n",
      "Segundo número 30\n",
      "Soma:  40\n"
     ]
    }
   ],
   "source": [
    "#Chamando a função passando parâmetros\n",
    "addNumeros(10, 30)"
   ],
   "metadata": {
    "collapsed": false,
    "ExecuteTime": {
     "end_time": "2024-07-04T14:18:21.587925Z",
     "start_time": "2024-07-04T14:18:21.582526Z"
    }
   },
   "id": "761da17798819702",
   "execution_count": 16
  },
  {
   "cell_type": "code",
   "outputs": [],
   "source": [
    "#Função com número variável de argumentos\n",
    "# *vartuple = pode passar quantos argumentos quiser\n",
    "def printVarInfo(arg1, *vartuple):\n",
    "    #Imprimindo o valor do primeiro argumento\n",
    "    print(\"O parâmetro passado foi: \", arg1)\n",
    "    #Imprimindo o valor do segunso argumento\n",
    "    for item in vartuple:\n",
    "        print(\"O parâmetro passado foi: \", item)\n",
    "    return "
   ],
   "metadata": {
    "collapsed": false,
    "ExecuteTime": {
     "end_time": "2024-07-04T14:22:24.267408Z",
     "start_time": "2024-07-04T14:22:24.262334Z"
    }
   },
   "id": "ad88ae45580fd7e1",
   "execution_count": 17
  },
  {
   "cell_type": "code",
   "outputs": [
    {
     "name": "stdout",
     "output_type": "stream",
     "text": [
      "O parâmetro passado foi:  10\n"
     ]
    }
   ],
   "source": [
    "#Fazendo chamada à função usando apenas 1 argumento\n",
    "printVarInfo(10)"
   ],
   "metadata": {
    "collapsed": false,
    "ExecuteTime": {
     "end_time": "2024-07-04T14:22:51.604653Z",
     "start_time": "2024-07-04T14:22:51.599832Z"
    }
   },
   "id": "52612c5da8fa1e86",
   "execution_count": 18
  },
  {
   "cell_type": "code",
   "outputs": [
    {
     "name": "stdout",
     "output_type": "stream",
     "text": [
      "O parâmetro passado foi:  10\n",
      "O parâmetro passado foi:  30\n"
     ]
    }
   ],
   "source": [
    "printVarInfo(10, 30)"
   ],
   "metadata": {
    "collapsed": false,
    "ExecuteTime": {
     "end_time": "2024-07-04T14:23:06.564093Z",
     "start_time": "2024-07-04T14:23:06.559548Z"
    }
   },
   "id": "87aff87f8d1cdec0",
   "execution_count": 19
  },
  {
   "cell_type": "code",
   "outputs": [
    {
     "name": "stdout",
     "output_type": "stream",
     "text": [
      "O parâmetro passado foi:  10\n",
      "O parâmetro passado foi:  30\n",
      "O parâmetro passado foi:  50\n"
     ]
    }
   ],
   "source": [
    "printVarInfo(10, 30, 50)"
   ],
   "metadata": {
    "collapsed": false,
    "ExecuteTime": {
     "end_time": "2024-07-04T14:23:18.065449Z",
     "start_time": "2024-07-04T14:23:18.060372Z"
    }
   },
   "id": "ead76a3706463558",
   "execution_count": 20
  },
  {
   "cell_type": "markdown",
   "source": [
    "ESCOPO DE VARIÁVEL - LOCAL E GLOBAL"
   ],
   "metadata": {
    "collapsed": false
   },
   "id": "4264c0faa0d65e70"
  },
  {
   "cell_type": "code",
   "outputs": [],
   "source": [
    "#Variável global\n",
    "var_global = 10 #Esta é uma variável global\n",
    "\n",
    "#Função\n",
    "def multiplicar(num1, num2):\n",
    "    var_local = num1 * num2 #Esta é um variável local - Só existe dentro da função\n",
    "    print(var_local)"
   ],
   "metadata": {
    "collapsed": false,
    "ExecuteTime": {
     "end_time": "2024-07-04T14:28:57.857805Z",
     "start_time": "2024-07-04T14:28:57.851942Z"
    }
   },
   "id": "fc4c641e0f9b9e36",
   "execution_count": 24
  },
  {
   "cell_type": "code",
   "outputs": [
    {
     "name": "stdout",
     "output_type": "stream",
     "text": [
      "150\n"
     ]
    }
   ],
   "source": [
    "multiplicar(10, 15)"
   ],
   "metadata": {
    "collapsed": false,
    "ExecuteTime": {
     "end_time": "2024-07-04T14:28:58.490339Z",
     "start_time": "2024-07-04T14:28:58.485011Z"
    }
   },
   "id": "c8fd7a6d3b279a56",
   "execution_count": 25
  },
  {
   "cell_type": "code",
   "outputs": [
    {
     "name": "stdout",
     "output_type": "stream",
     "text": [
      "10\n"
     ]
    }
   ],
   "source": [
    "print(var_global)"
   ],
   "metadata": {
    "collapsed": false,
    "ExecuteTime": {
     "end_time": "2024-07-04T14:28:59.060144Z",
     "start_time": "2024-07-04T14:28:59.054663Z"
    }
   },
   "id": "2bf43607b91d9beb",
   "execution_count": 26
  },
  {
   "cell_type": "markdown",
   "source": [
    "FUNÇÕES BUILT-IN"
   ],
   "metadata": {
    "collapsed": false
   },
   "id": "cff9b19812931382"
  },
  {
   "cell_type": "code",
   "outputs": [
    {
     "data": {
      "text/plain": "23"
     },
     "execution_count": 27,
     "metadata": {},
     "output_type": "execute_result"
    }
   ],
   "source": [
    "abs(23)"
   ],
   "metadata": {
    "collapsed": false,
    "ExecuteTime": {
     "end_time": "2024-07-04T14:31:39.200348Z",
     "start_time": "2024-07-04T14:31:39.191283Z"
    }
   },
   "id": "55ab910296718ea0",
   "execution_count": 27
  },
  {
   "cell_type": "code",
   "outputs": [
    {
     "data": {
      "text/plain": "23"
     },
     "execution_count": 31,
     "metadata": {},
     "output_type": "execute_result"
    }
   ],
   "source": [
    "abs(-23)"
   ],
   "metadata": {
    "collapsed": false,
    "ExecuteTime": {
     "end_time": "2024-07-04T14:32:16.493669Z",
     "start_time": "2024-07-04T14:32:16.486286Z"
    }
   },
   "id": "755854631918e377",
   "execution_count": 31
  },
  {
   "cell_type": "code",
   "outputs": [
    {
     "data": {
      "text/plain": "False"
     },
     "execution_count": 32,
     "metadata": {},
     "output_type": "execute_result"
    }
   ],
   "source": [
    "bool(0)"
   ],
   "metadata": {
    "collapsed": false,
    "ExecuteTime": {
     "end_time": "2024-07-04T14:32:23.419457Z",
     "start_time": "2024-07-04T14:32:23.412972Z"
    }
   },
   "id": "85b5debfb3f81ce",
   "execution_count": 32
  },
  {
   "cell_type": "code",
   "outputs": [
    {
     "data": {
      "text/plain": "True"
     },
     "execution_count": 33,
     "metadata": {},
     "output_type": "execute_result"
    }
   ],
   "source": [
    "bool(1)"
   ],
   "metadata": {
    "collapsed": false,
    "ExecuteTime": {
     "end_time": "2024-07-04T14:32:23.828121Z",
     "start_time": "2024-07-04T14:32:23.821352Z"
    }
   },
   "id": "73bd41ad1a2210b4",
   "execution_count": 33
  },
  {
   "cell_type": "code",
   "outputs": [
    {
     "data": {
      "text/plain": "4"
     },
     "execution_count": 34,
     "metadata": {},
     "output_type": "execute_result"
    }
   ],
   "source": [
    "int(4.3)"
   ],
   "metadata": {
    "collapsed": false,
    "ExecuteTime": {
     "end_time": "2024-07-04T14:32:35.439346Z",
     "start_time": "2024-07-04T14:32:35.432507Z"
    }
   },
   "id": "282f484aedbf6d17",
   "execution_count": 34
  },
  {
   "cell_type": "code",
   "outputs": [
    {
     "data": {
      "text/plain": "'13'"
     },
     "execution_count": 35,
     "metadata": {},
     "output_type": "execute_result"
    }
   ],
   "source": [
    "str(13)"
   ],
   "metadata": {
    "collapsed": false,
    "ExecuteTime": {
     "end_time": "2024-07-04T14:32:44.084433Z",
     "start_time": "2024-07-04T14:32:44.077433Z"
    }
   },
   "id": "e6aa57a925799283",
   "execution_count": 35
  },
  {
   "cell_type": "code",
   "outputs": [
    {
     "data": {
      "text/plain": "5.0"
     },
     "execution_count": 36,
     "metadata": {},
     "output_type": "execute_result"
    }
   ],
   "source": [
    "float(5)"
   ],
   "metadata": {
    "collapsed": false,
    "ExecuteTime": {
     "end_time": "2024-07-04T14:32:52.831512Z",
     "start_time": "2024-07-04T14:32:52.824039Z"
    }
   },
   "id": "c6a6c33657500bf4",
   "execution_count": 36
  },
  {
   "cell_type": "code",
   "outputs": [
    {
     "name": "stdout",
     "output_type": "stream",
     "text": [
      "Pode dirigir\n"
     ]
    }
   ],
   "source": [
    "#Usando a função int para converter o valor digitado\n",
    "idade = int(input(\"Digite sua idade: \"))\n",
    "if idade >= 18:\n",
    "    print(\"Pode dirigir\")\n",
    "else:\n",
    "    print(\"Não pode dirigir\")"
   ],
   "metadata": {
    "collapsed": false,
    "ExecuteTime": {
     "end_time": "2024-07-04T14:35:48.140115Z",
     "start_time": "2024-07-04T14:35:44.234376Z"
    }
   },
   "id": "f3b59b519cee7a87",
   "execution_count": 38
  },
  {
   "cell_type": "code",
   "outputs": [
    {
     "data": {
      "text/plain": "26"
     },
     "execution_count": 39,
     "metadata": {},
     "output_type": "execute_result"
    }
   ],
   "source": [
    "int(\"26\")"
   ],
   "metadata": {
    "collapsed": false,
    "ExecuteTime": {
     "end_time": "2024-07-04T14:36:01.603699Z",
     "start_time": "2024-07-04T14:36:01.596202Z"
    }
   },
   "id": "7c8ef92102ddaa68",
   "execution_count": 39
  },
  {
   "cell_type": "code",
   "outputs": [
    {
     "data": {
      "text/plain": "123.345"
     },
     "execution_count": 40,
     "metadata": {},
     "output_type": "execute_result"
    }
   ],
   "source": [
    "float(\"123.345\")"
   ],
   "metadata": {
    "collapsed": false,
    "ExecuteTime": {
     "end_time": "2024-07-04T14:36:21.656666Z",
     "start_time": "2024-07-04T14:36:21.649906Z"
    }
   },
   "id": "250c9babb90835be",
   "execution_count": 40
  },
  {
   "cell_type": "code",
   "outputs": [
    {
     "data": {
      "text/plain": "'14'"
     },
     "execution_count": 41,
     "metadata": {},
     "output_type": "execute_result"
    }
   ],
   "source": [
    "str(14)"
   ],
   "metadata": {
    "collapsed": false,
    "ExecuteTime": {
     "end_time": "2024-07-04T14:36:31.064408Z",
     "start_time": "2024-07-04T14:36:31.057909Z"
    }
   },
   "id": "328993f51a4ef02c",
   "execution_count": 41
  },
  {
   "cell_type": "code",
   "outputs": [
    {
     "data": {
      "text/plain": "4"
     },
     "execution_count": 42,
     "metadata": {},
     "output_type": "execute_result"
    }
   ],
   "source": [
    "#Comprimento de uma lista\n",
    "len([23,34,45,46])"
   ],
   "metadata": {
    "collapsed": false,
    "ExecuteTime": {
     "end_time": "2024-07-04T14:36:54.140650Z",
     "start_time": "2024-07-04T14:36:54.134083Z"
    }
   },
   "id": "28899bfd36908528",
   "execution_count": 42
  },
  {
   "cell_type": "code",
   "outputs": [],
   "source": [
    "array = [30,20,10,40,70,80,100,90]"
   ],
   "metadata": {
    "collapsed": false,
    "ExecuteTime": {
     "end_time": "2024-07-04T14:37:57.635374Z",
     "start_time": "2024-07-04T14:37:57.631157Z"
    }
   },
   "id": "2546b76a794f6e58",
   "execution_count": 46
  },
  {
   "cell_type": "code",
   "outputs": [
    {
     "data": {
      "text/plain": "100"
     },
     "execution_count": 47,
     "metadata": {},
     "output_type": "execute_result"
    }
   ],
   "source": [
    "#Maior valor\n",
    "max(array)"
   ],
   "metadata": {
    "collapsed": false,
    "ExecuteTime": {
     "end_time": "2024-07-04T14:37:58.387055Z",
     "start_time": "2024-07-04T14:37:58.380449Z"
    }
   },
   "id": "f3dfcc068b3215e5",
   "execution_count": 47
  },
  {
   "cell_type": "code",
   "outputs": [
    {
     "data": {
      "text/plain": "10"
     },
     "execution_count": 48,
     "metadata": {},
     "output_type": "execute_result"
    }
   ],
   "source": [
    "#Menor valor\n",
    "min(array)"
   ],
   "metadata": {
    "collapsed": false,
    "ExecuteTime": {
     "end_time": "2024-07-04T14:37:59.024785Z",
     "start_time": "2024-07-04T14:37:59.018909Z"
    }
   },
   "id": "5cb18c6c326aaa07",
   "execution_count": 48
  },
  {
   "cell_type": "code",
   "outputs": [],
   "source": [
    "list = [16,23,44,75]"
   ],
   "metadata": {
    "collapsed": false,
    "ExecuteTime": {
     "end_time": "2024-07-04T14:38:19.363861Z",
     "start_time": "2024-07-04T14:38:19.358730Z"
    }
   },
   "id": "4b1086efd880f807",
   "execution_count": 49
  },
  {
   "cell_type": "code",
   "outputs": [
    {
     "data": {
      "text/plain": "158"
     },
     "execution_count": 50,
     "metadata": {},
     "output_type": "execute_result"
    }
   ],
   "source": [
    "#Soma\n",
    "sum(list)"
   ],
   "metadata": {
    "collapsed": false,
    "ExecuteTime": {
     "end_time": "2024-07-04T14:38:26.445733Z",
     "start_time": "2024-07-04T14:38:26.439265Z"
    }
   },
   "id": "178e459a0f0a25ae",
   "execution_count": 50
  },
  {
   "cell_type": "code",
   "outputs": [],
   "source": [],
   "metadata": {
    "collapsed": false
   },
   "id": "5108d87970a41220"
  }
 ],
 "metadata": {
  "kernelspec": {
   "display_name": "Python 3",
   "language": "python",
   "name": "python3"
  },
  "language_info": {
   "codemirror_mode": {
    "name": "ipython",
    "version": 2
   },
   "file_extension": ".py",
   "mimetype": "text/x-python",
   "name": "python",
   "nbconvert_exporter": "python",
   "pygments_lexer": "ipython2",
   "version": "2.7.6"
  }
 },
 "nbformat": 4,
 "nbformat_minor": 5
}
