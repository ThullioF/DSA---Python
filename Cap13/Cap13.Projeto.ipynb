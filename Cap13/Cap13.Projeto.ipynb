{
 "cells": [
  {
   "cell_type": "code",
   "id": "initial_id",
   "metadata": {
    "collapsed": true,
    "ExecuteTime": {
     "end_time": "2024-08-30T13:40:49.723372Z",
     "start_time": "2024-08-30T13:40:49.717363Z"
    }
   },
   "source": [
    "#Imports\n",
    "import numpy as np\n",
    "import pandas as pd\n",
    "import matplotlib.pyplot as plt\n",
    "import seaborn as sns\n",
    "import datetime as dt"
   ],
   "outputs": [],
   "execution_count": 1
  },
  {
   "metadata": {},
   "cell_type": "markdown",
   "source": "CARREGANDO OS DADOS",
   "id": "4d64ac3d1f1d2ec"
  },
  {
   "metadata": {
    "ExecuteTime": {
     "end_time": "2024-08-30T13:53:26.539541Z",
     "start_time": "2024-08-30T13:53:26.508081Z"
    }
   },
   "cell_type": "code",
   "source": [
    "#Carrega o dataset\n",
    "df_dsa = pd.read_csv('dataset.csv')"
   ],
   "id": "e711ecffec043ced",
   "outputs": [],
   "execution_count": 2
  },
  {
   "metadata": {
    "ExecuteTime": {
     "end_time": "2024-08-30T13:53:41.143564Z",
     "start_time": "2024-08-30T13:53:41.134487Z"
    }
   },
   "cell_type": "code",
   "source": [
    "#Shape\n",
    "df_dsa.shape"
   ],
   "id": "82229598d3d33a71",
   "outputs": [
    {
     "data": {
      "text/plain": [
       "(9700, 11)"
      ]
     },
     "execution_count": 3,
     "metadata": {},
     "output_type": "execute_result"
    }
   ],
   "execution_count": 3
  },
  {
   "metadata": {
    "ExecuteTime": {
     "end_time": "2024-08-30T13:53:56.281943Z",
     "start_time": "2024-08-30T13:53:56.267281Z"
    }
   },
   "cell_type": "code",
   "source": [
    "#Amostra dos dados\n",
    "df_dsa.head()"
   ],
   "id": "a42736d148ba4d9",
   "outputs": [
    {
     "data": {
      "text/plain": [
       "        ID_Pedido Data_Pedido ID_Cliente   Segmento           Pais  \\\n",
       "0  CA-2017-152156  08/11/2017   CG-12520   Consumer  United States   \n",
       "1  CA-2017-152156  08/11/2017   CG-12520   Consumer  United States   \n",
       "2  CA-2017-138688  12/06/2017   DV-13045  Corporate  United States   \n",
       "3  US-2016-108966  11/10/2016   SO-20335   Consumer  United States   \n",
       "4  US-2016-108966  11/10/2016   SO-20335   Consumer  United States   \n",
       "\n",
       "            Cidade      Estado       ID_Produto        Categoria SubCategoria  \\\n",
       "0        Henderson    Kentucky  FUR-BO-10001798        Furniture    Bookcases   \n",
       "1        Henderson    Kentucky  FUR-CH-10000454        Furniture       Chairs   \n",
       "2      Los Angeles  California  OFF-LA-10000240  Office Supplies       Labels   \n",
       "3  Fort Lauderdale     Florida  FUR-TA-10000577        Furniture       Tables   \n",
       "4  Fort Lauderdale     Florida  OFF-ST-10000760  Office Supplies      Storage   \n",
       "\n",
       "   Valor_Venda  \n",
       "0     261.9600  \n",
       "1     731.9400  \n",
       "2      14.6200  \n",
       "3     957.5775  \n",
       "4      22.3680  "
      ],
      "text/html": [
       "<div>\n",
       "<style scoped>\n",
       "    .dataframe tbody tr th:only-of-type {\n",
       "        vertical-align: middle;\n",
       "    }\n",
       "\n",
       "    .dataframe tbody tr th {\n",
       "        vertical-align: top;\n",
       "    }\n",
       "\n",
       "    .dataframe thead th {\n",
       "        text-align: right;\n",
       "    }\n",
       "</style>\n",
       "<table border=\"1\" class=\"dataframe\">\n",
       "  <thead>\n",
       "    <tr style=\"text-align: right;\">\n",
       "      <th></th>\n",
       "      <th>ID_Pedido</th>\n",
       "      <th>Data_Pedido</th>\n",
       "      <th>ID_Cliente</th>\n",
       "      <th>Segmento</th>\n",
       "      <th>Pais</th>\n",
       "      <th>Cidade</th>\n",
       "      <th>Estado</th>\n",
       "      <th>ID_Produto</th>\n",
       "      <th>Categoria</th>\n",
       "      <th>SubCategoria</th>\n",
       "      <th>Valor_Venda</th>\n",
       "    </tr>\n",
       "  </thead>\n",
       "  <tbody>\n",
       "    <tr>\n",
       "      <th>0</th>\n",
       "      <td>CA-2017-152156</td>\n",
       "      <td>08/11/2017</td>\n",
       "      <td>CG-12520</td>\n",
       "      <td>Consumer</td>\n",
       "      <td>United States</td>\n",
       "      <td>Henderson</td>\n",
       "      <td>Kentucky</td>\n",
       "      <td>FUR-BO-10001798</td>\n",
       "      <td>Furniture</td>\n",
       "      <td>Bookcases</td>\n",
       "      <td>261.9600</td>\n",
       "    </tr>\n",
       "    <tr>\n",
       "      <th>1</th>\n",
       "      <td>CA-2017-152156</td>\n",
       "      <td>08/11/2017</td>\n",
       "      <td>CG-12520</td>\n",
       "      <td>Consumer</td>\n",
       "      <td>United States</td>\n",
       "      <td>Henderson</td>\n",
       "      <td>Kentucky</td>\n",
       "      <td>FUR-CH-10000454</td>\n",
       "      <td>Furniture</td>\n",
       "      <td>Chairs</td>\n",
       "      <td>731.9400</td>\n",
       "    </tr>\n",
       "    <tr>\n",
       "      <th>2</th>\n",
       "      <td>CA-2017-138688</td>\n",
       "      <td>12/06/2017</td>\n",
       "      <td>DV-13045</td>\n",
       "      <td>Corporate</td>\n",
       "      <td>United States</td>\n",
       "      <td>Los Angeles</td>\n",
       "      <td>California</td>\n",
       "      <td>OFF-LA-10000240</td>\n",
       "      <td>Office Supplies</td>\n",
       "      <td>Labels</td>\n",
       "      <td>14.6200</td>\n",
       "    </tr>\n",
       "    <tr>\n",
       "      <th>3</th>\n",
       "      <td>US-2016-108966</td>\n",
       "      <td>11/10/2016</td>\n",
       "      <td>SO-20335</td>\n",
       "      <td>Consumer</td>\n",
       "      <td>United States</td>\n",
       "      <td>Fort Lauderdale</td>\n",
       "      <td>Florida</td>\n",
       "      <td>FUR-TA-10000577</td>\n",
       "      <td>Furniture</td>\n",
       "      <td>Tables</td>\n",
       "      <td>957.5775</td>\n",
       "    </tr>\n",
       "    <tr>\n",
       "      <th>4</th>\n",
       "      <td>US-2016-108966</td>\n",
       "      <td>11/10/2016</td>\n",
       "      <td>SO-20335</td>\n",
       "      <td>Consumer</td>\n",
       "      <td>United States</td>\n",
       "      <td>Fort Lauderdale</td>\n",
       "      <td>Florida</td>\n",
       "      <td>OFF-ST-10000760</td>\n",
       "      <td>Office Supplies</td>\n",
       "      <td>Storage</td>\n",
       "      <td>22.3680</td>\n",
       "    </tr>\n",
       "  </tbody>\n",
       "</table>\n",
       "</div>"
      ]
     },
     "execution_count": 4,
     "metadata": {},
     "output_type": "execute_result"
    }
   ],
   "execution_count": 4
  },
  {
   "metadata": {
    "ExecuteTime": {
     "end_time": "2024-08-30T14:29:40.183674Z",
     "start_time": "2024-08-30T14:29:40.167770Z"
    }
   },
   "cell_type": "code",
   "source": [
    "#Amostra dos dados\n",
    "df_dsa.tail()"
   ],
   "id": "5d93c74f344cd51e",
   "outputs": [
    {
     "data": {
      "text/plain": [
       "           ID_Pedido Data_Pedido ID_Cliente     Segmento           Pais  \\\n",
       "9695  CA-2018-154116  15/12/2018   KM-16660     Consumer  United States   \n",
       "9696  CA-2018-154116  15/12/2018   KM-16660     Consumer  United States   \n",
       "9697  CA-2018-154116  15/12/2018   KM-16660     Consumer  United States   \n",
       "9698  CA-2017-105291  30/10/2017   SP-20920     Consumer  United States   \n",
       "9699  CA-2018-147032  31/07/2018   LB-16795  Home Office  United States   \n",
       "\n",
       "               Cidade      Estado       ID_Produto        Categoria  \\\n",
       "9695        Inglewood  California  OFF-PA-10004569  Office Supplies   \n",
       "9696        Inglewood  California  OFF-AP-10000027  Office Supplies   \n",
       "9697        Inglewood  California  TEC-PH-10000675       Technology   \n",
       "9698  San Luis Obispo  California  OFF-FA-10003059  Office Supplies   \n",
       "9699       Wilmington    Delaware  OFF-PA-10003256  Office Supplies   \n",
       "\n",
       "     SubCategoria  Valor_Venda  \n",
       "9695        Paper       22.830  \n",
       "9696   Appliances       54.320  \n",
       "9697       Phones      196.776  \n",
       "9698    Fasteners        3.620  \n",
       "9699        Paper       11.540  "
      ],
      "text/html": [
       "<div>\n",
       "<style scoped>\n",
       "    .dataframe tbody tr th:only-of-type {\n",
       "        vertical-align: middle;\n",
       "    }\n",
       "\n",
       "    .dataframe tbody tr th {\n",
       "        vertical-align: top;\n",
       "    }\n",
       "\n",
       "    .dataframe thead th {\n",
       "        text-align: right;\n",
       "    }\n",
       "</style>\n",
       "<table border=\"1\" class=\"dataframe\">\n",
       "  <thead>\n",
       "    <tr style=\"text-align: right;\">\n",
       "      <th></th>\n",
       "      <th>ID_Pedido</th>\n",
       "      <th>Data_Pedido</th>\n",
       "      <th>ID_Cliente</th>\n",
       "      <th>Segmento</th>\n",
       "      <th>Pais</th>\n",
       "      <th>Cidade</th>\n",
       "      <th>Estado</th>\n",
       "      <th>ID_Produto</th>\n",
       "      <th>Categoria</th>\n",
       "      <th>SubCategoria</th>\n",
       "      <th>Valor_Venda</th>\n",
       "    </tr>\n",
       "  </thead>\n",
       "  <tbody>\n",
       "    <tr>\n",
       "      <th>9695</th>\n",
       "      <td>CA-2018-154116</td>\n",
       "      <td>15/12/2018</td>\n",
       "      <td>KM-16660</td>\n",
       "      <td>Consumer</td>\n",
       "      <td>United States</td>\n",
       "      <td>Inglewood</td>\n",
       "      <td>California</td>\n",
       "      <td>OFF-PA-10004569</td>\n",
       "      <td>Office Supplies</td>\n",
       "      <td>Paper</td>\n",
       "      <td>22.830</td>\n",
       "    </tr>\n",
       "    <tr>\n",
       "      <th>9696</th>\n",
       "      <td>CA-2018-154116</td>\n",
       "      <td>15/12/2018</td>\n",
       "      <td>KM-16660</td>\n",
       "      <td>Consumer</td>\n",
       "      <td>United States</td>\n",
       "      <td>Inglewood</td>\n",
       "      <td>California</td>\n",
       "      <td>OFF-AP-10000027</td>\n",
       "      <td>Office Supplies</td>\n",
       "      <td>Appliances</td>\n",
       "      <td>54.320</td>\n",
       "    </tr>\n",
       "    <tr>\n",
       "      <th>9697</th>\n",
       "      <td>CA-2018-154116</td>\n",
       "      <td>15/12/2018</td>\n",
       "      <td>KM-16660</td>\n",
       "      <td>Consumer</td>\n",
       "      <td>United States</td>\n",
       "      <td>Inglewood</td>\n",
       "      <td>California</td>\n",
       "      <td>TEC-PH-10000675</td>\n",
       "      <td>Technology</td>\n",
       "      <td>Phones</td>\n",
       "      <td>196.776</td>\n",
       "    </tr>\n",
       "    <tr>\n",
       "      <th>9698</th>\n",
       "      <td>CA-2017-105291</td>\n",
       "      <td>30/10/2017</td>\n",
       "      <td>SP-20920</td>\n",
       "      <td>Consumer</td>\n",
       "      <td>United States</td>\n",
       "      <td>San Luis Obispo</td>\n",
       "      <td>California</td>\n",
       "      <td>OFF-FA-10003059</td>\n",
       "      <td>Office Supplies</td>\n",
       "      <td>Fasteners</td>\n",
       "      <td>3.620</td>\n",
       "    </tr>\n",
       "    <tr>\n",
       "      <th>9699</th>\n",
       "      <td>CA-2018-147032</td>\n",
       "      <td>31/07/2018</td>\n",
       "      <td>LB-16795</td>\n",
       "      <td>Home Office</td>\n",
       "      <td>United States</td>\n",
       "      <td>Wilmington</td>\n",
       "      <td>Delaware</td>\n",
       "      <td>OFF-PA-10003256</td>\n",
       "      <td>Office Supplies</td>\n",
       "      <td>Paper</td>\n",
       "      <td>11.540</td>\n",
       "    </tr>\n",
       "  </tbody>\n",
       "</table>\n",
       "</div>"
      ]
     },
     "execution_count": 5,
     "metadata": {},
     "output_type": "execute_result"
    }
   ],
   "execution_count": 5
  },
  {
   "metadata": {},
   "cell_type": "markdown",
   "source": "ANÁLISE EXPLORATÓRIA",
   "id": "75f07fb03632261"
  },
  {
   "metadata": {
    "ExecuteTime": {
     "end_time": "2024-08-30T14:30:13.886376Z",
     "start_time": "2024-08-30T14:30:13.879462Z"
    }
   },
   "cell_type": "code",
   "source": [
    "#Colunas do conjunto de dados\n",
    "df_dsa.columns"
   ],
   "id": "5d7b224c6ed26b53",
   "outputs": [
    {
     "data": {
      "text/plain": [
       "Index(['ID_Pedido', 'Data_Pedido', 'ID_Cliente', 'Segmento', 'Pais', 'Cidade',\n",
       "       'Estado', 'ID_Produto', 'Categoria', 'SubCategoria', 'Valor_Venda'],\n",
       "      dtype='object')"
      ]
     },
     "execution_count": 6,
     "metadata": {},
     "output_type": "execute_result"
    }
   ],
   "execution_count": 6
  },
  {
   "metadata": {
    "ExecuteTime": {
     "end_time": "2024-08-30T14:30:35.403554Z",
     "start_time": "2024-08-30T14:30:35.396644Z"
    }
   },
   "cell_type": "code",
   "source": [
    "#Verificando o tipo de dado de cada coluna\n",
    "df_dsa.dtypes"
   ],
   "id": "b9f9a8a696436259",
   "outputs": [
    {
     "data": {
      "text/plain": [
       "ID_Pedido        object\n",
       "Data_Pedido      object\n",
       "ID_Cliente       object\n",
       "Segmento         object\n",
       "Pais             object\n",
       "Cidade           object\n",
       "Estado           object\n",
       "ID_Produto       object\n",
       "Categoria        object\n",
       "SubCategoria     object\n",
       "Valor_Venda     float64\n",
       "dtype: object"
      ]
     },
     "execution_count": 7,
     "metadata": {},
     "output_type": "execute_result"
    }
   ],
   "execution_count": 7
  },
  {
   "metadata": {
    "ExecuteTime": {
     "end_time": "2024-08-30T14:31:12.483710Z",
     "start_time": "2024-08-30T14:31:12.473151Z"
    }
   },
   "cell_type": "code",
   "source": [
    "#Resumo estatístico da coluna com o valor de venda\n",
    "df_dsa['Valor_Venda'].describe()"
   ],
   "id": "258f33b4240ab836",
   "outputs": [
    {
     "data": {
      "text/plain": [
       "count     9700.000000\n",
       "mean       230.469892\n",
       "std        627.504252\n",
       "min          0.444000\n",
       "25%         17.248000\n",
       "50%         54.272000\n",
       "75%        209.932500\n",
       "max      22638.480000\n",
       "Name: Valor_Venda, dtype: float64"
      ]
     },
     "execution_count": 8,
     "metadata": {},
     "output_type": "execute_result"
    }
   ],
   "execution_count": 8
  },
  {
   "metadata": {
    "ExecuteTime": {
     "end_time": "2024-08-30T14:31:32.950355Z",
     "start_time": "2024-08-30T14:31:32.926726Z"
    }
   },
   "cell_type": "code",
   "source": [
    "#Verificando se há registros duplicados\n",
    "df_dsa[df_dsa.duplicated()]"
   ],
   "id": "f382073529bb44be",
   "outputs": [
    {
     "data": {
      "text/plain": [
       "Empty DataFrame\n",
       "Columns: [ID_Pedido, Data_Pedido, ID_Cliente, Segmento, Pais, Cidade, Estado, ID_Produto, Categoria, SubCategoria, Valor_Venda]\n",
       "Index: []"
      ],
      "text/html": [
       "<div>\n",
       "<style scoped>\n",
       "    .dataframe tbody tr th:only-of-type {\n",
       "        vertical-align: middle;\n",
       "    }\n",
       "\n",
       "    .dataframe tbody tr th {\n",
       "        vertical-align: top;\n",
       "    }\n",
       "\n",
       "    .dataframe thead th {\n",
       "        text-align: right;\n",
       "    }\n",
       "</style>\n",
       "<table border=\"1\" class=\"dataframe\">\n",
       "  <thead>\n",
       "    <tr style=\"text-align: right;\">\n",
       "      <th></th>\n",
       "      <th>ID_Pedido</th>\n",
       "      <th>Data_Pedido</th>\n",
       "      <th>ID_Cliente</th>\n",
       "      <th>Segmento</th>\n",
       "      <th>Pais</th>\n",
       "      <th>Cidade</th>\n",
       "      <th>Estado</th>\n",
       "      <th>ID_Produto</th>\n",
       "      <th>Categoria</th>\n",
       "      <th>SubCategoria</th>\n",
       "      <th>Valor_Venda</th>\n",
       "    </tr>\n",
       "  </thead>\n",
       "  <tbody>\n",
       "  </tbody>\n",
       "</table>\n",
       "</div>"
      ]
     },
     "execution_count": 9,
     "metadata": {},
     "output_type": "execute_result"
    }
   ],
   "execution_count": 9
  },
  {
   "metadata": {
    "ExecuteTime": {
     "end_time": "2024-08-30T14:33:17.607903Z",
     "start_time": "2024-08-30T14:33:17.598150Z"
    }
   },
   "cell_type": "code",
   "source": [
    "#Verificando se há valores ausentes\n",
    "df_dsa.isnull().sum()"
   ],
   "id": "8c8e26e65307f807",
   "outputs": [
    {
     "data": {
      "text/plain": [
       "ID_Pedido       0\n",
       "Data_Pedido     0\n",
       "ID_Cliente      0\n",
       "Segmento        0\n",
       "Pais            0\n",
       "Cidade          0\n",
       "Estado          0\n",
       "ID_Produto      0\n",
       "Categoria       0\n",
       "SubCategoria    0\n",
       "Valor_Venda     0\n",
       "dtype: int64"
      ]
     },
     "execution_count": 10,
     "metadata": {},
     "output_type": "execute_result"
    }
   ],
   "execution_count": 10
  },
  {
   "metadata": {
    "ExecuteTime": {
     "end_time": "2024-08-30T14:33:24.531088Z",
     "start_time": "2024-08-30T14:33:24.520498Z"
    }
   },
   "cell_type": "code",
   "source": "df_dsa.head()",
   "id": "1762a0ab97ec343c",
   "outputs": [
    {
     "data": {
      "text/plain": [
       "        ID_Pedido Data_Pedido ID_Cliente   Segmento           Pais  \\\n",
       "0  CA-2017-152156  08/11/2017   CG-12520   Consumer  United States   \n",
       "1  CA-2017-152156  08/11/2017   CG-12520   Consumer  United States   \n",
       "2  CA-2017-138688  12/06/2017   DV-13045  Corporate  United States   \n",
       "3  US-2016-108966  11/10/2016   SO-20335   Consumer  United States   \n",
       "4  US-2016-108966  11/10/2016   SO-20335   Consumer  United States   \n",
       "\n",
       "            Cidade      Estado       ID_Produto        Categoria SubCategoria  \\\n",
       "0        Henderson    Kentucky  FUR-BO-10001798        Furniture    Bookcases   \n",
       "1        Henderson    Kentucky  FUR-CH-10000454        Furniture       Chairs   \n",
       "2      Los Angeles  California  OFF-LA-10000240  Office Supplies       Labels   \n",
       "3  Fort Lauderdale     Florida  FUR-TA-10000577        Furniture       Tables   \n",
       "4  Fort Lauderdale     Florida  OFF-ST-10000760  Office Supplies      Storage   \n",
       "\n",
       "   Valor_Venda  \n",
       "0     261.9600  \n",
       "1     731.9400  \n",
       "2      14.6200  \n",
       "3     957.5775  \n",
       "4      22.3680  "
      ],
      "text/html": [
       "<div>\n",
       "<style scoped>\n",
       "    .dataframe tbody tr th:only-of-type {\n",
       "        vertical-align: middle;\n",
       "    }\n",
       "\n",
       "    .dataframe tbody tr th {\n",
       "        vertical-align: top;\n",
       "    }\n",
       "\n",
       "    .dataframe thead th {\n",
       "        text-align: right;\n",
       "    }\n",
       "</style>\n",
       "<table border=\"1\" class=\"dataframe\">\n",
       "  <thead>\n",
       "    <tr style=\"text-align: right;\">\n",
       "      <th></th>\n",
       "      <th>ID_Pedido</th>\n",
       "      <th>Data_Pedido</th>\n",
       "      <th>ID_Cliente</th>\n",
       "      <th>Segmento</th>\n",
       "      <th>Pais</th>\n",
       "      <th>Cidade</th>\n",
       "      <th>Estado</th>\n",
       "      <th>ID_Produto</th>\n",
       "      <th>Categoria</th>\n",
       "      <th>SubCategoria</th>\n",
       "      <th>Valor_Venda</th>\n",
       "    </tr>\n",
       "  </thead>\n",
       "  <tbody>\n",
       "    <tr>\n",
       "      <th>0</th>\n",
       "      <td>CA-2017-152156</td>\n",
       "      <td>08/11/2017</td>\n",
       "      <td>CG-12520</td>\n",
       "      <td>Consumer</td>\n",
       "      <td>United States</td>\n",
       "      <td>Henderson</td>\n",
       "      <td>Kentucky</td>\n",
       "      <td>FUR-BO-10001798</td>\n",
       "      <td>Furniture</td>\n",
       "      <td>Bookcases</td>\n",
       "      <td>261.9600</td>\n",
       "    </tr>\n",
       "    <tr>\n",
       "      <th>1</th>\n",
       "      <td>CA-2017-152156</td>\n",
       "      <td>08/11/2017</td>\n",
       "      <td>CG-12520</td>\n",
       "      <td>Consumer</td>\n",
       "      <td>United States</td>\n",
       "      <td>Henderson</td>\n",
       "      <td>Kentucky</td>\n",
       "      <td>FUR-CH-10000454</td>\n",
       "      <td>Furniture</td>\n",
       "      <td>Chairs</td>\n",
       "      <td>731.9400</td>\n",
       "    </tr>\n",
       "    <tr>\n",
       "      <th>2</th>\n",
       "      <td>CA-2017-138688</td>\n",
       "      <td>12/06/2017</td>\n",
       "      <td>DV-13045</td>\n",
       "      <td>Corporate</td>\n",
       "      <td>United States</td>\n",
       "      <td>Los Angeles</td>\n",
       "      <td>California</td>\n",
       "      <td>OFF-LA-10000240</td>\n",
       "      <td>Office Supplies</td>\n",
       "      <td>Labels</td>\n",
       "      <td>14.6200</td>\n",
       "    </tr>\n",
       "    <tr>\n",
       "      <th>3</th>\n",
       "      <td>US-2016-108966</td>\n",
       "      <td>11/10/2016</td>\n",
       "      <td>SO-20335</td>\n",
       "      <td>Consumer</td>\n",
       "      <td>United States</td>\n",
       "      <td>Fort Lauderdale</td>\n",
       "      <td>Florida</td>\n",
       "      <td>FUR-TA-10000577</td>\n",
       "      <td>Furniture</td>\n",
       "      <td>Tables</td>\n",
       "      <td>957.5775</td>\n",
       "    </tr>\n",
       "    <tr>\n",
       "      <th>4</th>\n",
       "      <td>US-2016-108966</td>\n",
       "      <td>11/10/2016</td>\n",
       "      <td>SO-20335</td>\n",
       "      <td>Consumer</td>\n",
       "      <td>United States</td>\n",
       "      <td>Fort Lauderdale</td>\n",
       "      <td>Florida</td>\n",
       "      <td>OFF-ST-10000760</td>\n",
       "      <td>Office Supplies</td>\n",
       "      <td>Storage</td>\n",
       "      <td>22.3680</td>\n",
       "    </tr>\n",
       "  </tbody>\n",
       "</table>\n",
       "</div>"
      ]
     },
     "execution_count": 11,
     "metadata": {},
     "output_type": "execute_result"
    }
   ],
   "execution_count": 11
  },
  {
   "metadata": {},
   "cell_type": "code",
   "outputs": [],
   "execution_count": null,
   "source": "",
   "id": "3e725c91ffac5433"
  }
 ],
 "metadata": {
  "kernelspec": {
   "display_name": "Python 3",
   "language": "python",
   "name": "python3"
  },
  "language_info": {
   "codemirror_mode": {
    "name": "ipython",
    "version": 2
   },
   "file_extension": ".py",
   "mimetype": "text/x-python",
   "name": "python",
   "nbconvert_exporter": "python",
   "pygments_lexer": "ipython2",
   "version": "2.7.6"
  }
 },
 "nbformat": 4,
 "nbformat_minor": 5
}
