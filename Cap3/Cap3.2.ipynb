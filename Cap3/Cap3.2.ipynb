{
 "cells": [
  {
   "cell_type": "code",
   "outputs": [
    {
     "name": "stdout",
     "output_type": "stream",
     "text": [
      "Bem vindo à calculadora\n"
     ]
    }
   ],
   "source": [
    "print(\"Bem vindo à calculadora\")"
   ],
   "metadata": {
    "collapsed": false,
    "ExecuteTime": {
     "end_time": "2024-05-22T12:32:03.949725Z",
     "start_time": "2024-05-22T12:32:03.939506Z"
    }
   },
   "id": "a50f9a6bdcee6fe4",
   "execution_count": 1
  },
  {
   "cell_type": "code",
   "outputs": [],
   "source": [
    "numero1 = float(input(\"Digite um número: \"))"
   ],
   "metadata": {
    "collapsed": false,
    "ExecuteTime": {
     "end_time": "2024-05-22T12:36:43.957539Z",
     "start_time": "2024-05-22T12:36:41.321932Z"
    }
   },
   "id": "92be6da12ee9c076",
   "execution_count": 5
  },
  {
   "cell_type": "code",
   "outputs": [],
   "source": [
    "numero2 = float(input(\"Digite outro número: \"))"
   ],
   "metadata": {
    "collapsed": false,
    "ExecuteTime": {
     "end_time": "2024-05-22T12:36:48.898331Z",
     "start_time": "2024-05-22T12:36:47.170338Z"
    }
   },
   "id": "1dbf7ddeb015ebd6",
   "execution_count": 6
  },
  {
   "cell_type": "code",
   "outputs": [],
   "source": [
    "operacao = input(\"Selecione uma operação (+, -, *, /): \")"
   ],
   "metadata": {
    "collapsed": false,
    "ExecuteTime": {
     "end_time": "2024-05-22T12:37:02.203273Z",
     "start_time": "2024-05-22T12:37:00.546528Z"
    }
   },
   "id": "1b630a8f75a2a640",
   "execution_count": 9
  },
  {
   "cell_type": "code",
   "outputs": [
    {
     "name": "stdout",
     "output_type": "stream",
     "text": [
      "A diferença é:  80.0\n"
     ]
    }
   ],
   "source": [
    "if operacao == \"+\":\n",
    "    resultado = numero1 + numero2\n",
    "    print(\"A soma é: \", resultado)\n",
    "elif operacao == \"-\":\n",
    "    resultado = numero1 - numero2\n",
    "    print(\"A diferença é: \", resultado)\n",
    "elif operacao == \"*\":\n",
    "    resultado = numero1 * numero2\n",
    "    print(\"O produto é: \", resultado)\n",
    "elif operacao ==\"/\":\n",
    "    resultado = numero1 / numero2\n",
    "    print(\"A divisão é: \", resultado)\n",
    "else:\n",
    "    print(\"Operação inválida\")"
   ],
   "metadata": {
    "collapsed": false,
    "ExecuteTime": {
     "end_time": "2024-05-22T12:37:04.887744Z",
     "start_time": "2024-05-22T12:37:04.881524Z"
    }
   },
   "id": "8349bee4bc9199b4",
   "execution_count": 10
  }
 ],
 "metadata": {
  "kernelspec": {
   "display_name": "Python 3",
   "language": "python",
   "name": "python3"
  },
  "language_info": {
   "codemirror_mode": {
    "name": "ipython",
    "version": 2
   },
   "file_extension": ".py",
   "mimetype": "text/x-python",
   "name": "python",
   "nbconvert_exporter": "python",
   "pygments_lexer": "ipython2",
   "version": "2.7.6"
  }
 },
 "nbformat": 4,
 "nbformat_minor": 5
}
