{
 "cells": [
  {
   "cell_type": "markdown",
   "source": [
    "EXERCÍCIO 1"
   ],
   "metadata": {
    "collapsed": false
   },
   "id": "2a24acc28fb957ce"
  },
  {
   "cell_type": "code",
   "outputs": [],
   "source": [
    "list1 = [1,2,3,4,5,6,7,8,9,10]"
   ],
   "metadata": {
    "collapsed": false,
    "ExecuteTime": {
     "end_time": "2024-06-11T14:11:54.652073Z",
     "start_time": "2024-06-11T14:11:54.643062Z"
    }
   },
   "id": "162f55bf48eb51ab",
   "execution_count": 1
  },
  {
   "cell_type": "code",
   "outputs": [
    {
     "name": "stdout",
     "output_type": "stream",
     "text": [
      "[1, 2, 3, 4, 5, 6, 7, 8, 9, 10]\n"
     ]
    }
   ],
   "source": [
    "print(list1)"
   ],
   "metadata": {
    "collapsed": false,
    "ExecuteTime": {
     "end_time": "2024-06-11T14:12:02.564539Z",
     "start_time": "2024-06-11T14:12:02.559602Z"
    }
   },
   "id": "f54deb24bfad15b8",
   "execution_count": 2
  },
  {
   "cell_type": "markdown",
   "source": [
    "EXERCÍCIO 2"
   ],
   "metadata": {
    "collapsed": false
   },
   "id": "44ad40f800ab0bc0"
  },
  {
   "cell_type": "code",
   "outputs": [],
   "source": [
    "list2 = [\"cadeira\",\"mesa\",\"caneta\",\"computador\",\"teclado\"]"
   ],
   "metadata": {
    "collapsed": false,
    "ExecuteTime": {
     "end_time": "2024-06-11T14:15:00.293120Z",
     "start_time": "2024-06-11T14:15:00.288015Z"
    }
   },
   "id": "969851ae5a638a86",
   "execution_count": 4
  },
  {
   "cell_type": "code",
   "outputs": [
    {
     "name": "stdout",
     "output_type": "stream",
     "text": [
      "['cadeira', 'mesa', 'caneta', 'computador', 'teclado']\n"
     ]
    }
   ],
   "source": [
    "print(list2)"
   ],
   "metadata": {
    "collapsed": false,
    "ExecuteTime": {
     "end_time": "2024-06-11T14:15:21.657490Z",
     "start_time": "2024-06-11T14:15:21.652637Z"
    }
   },
   "id": "af8154db20ad2d65",
   "execution_count": 5
  },
  {
   "cell_type": "markdown",
   "source": [
    "EXERCÍCIO 3"
   ],
   "metadata": {
    "collapsed": false
   },
   "id": "63a1103b199c8316"
  },
  {
   "cell_type": "code",
   "outputs": [],
   "source": [
    "string1 = 'Meu nome é '"
   ],
   "metadata": {
    "collapsed": false,
    "ExecuteTime": {
     "end_time": "2024-06-11T14:17:06.824299Z",
     "start_time": "2024-06-11T14:17:06.819472Z"
    }
   },
   "id": "806bfb9e22fbba52",
   "execution_count": 6
  },
  {
   "cell_type": "code",
   "outputs": [],
   "source": [
    "string2 = 'Beltrano'"
   ],
   "metadata": {
    "collapsed": false,
    "ExecuteTime": {
     "end_time": "2024-06-11T14:17:19.510476Z",
     "start_time": "2024-06-11T14:17:19.506340Z"
    }
   },
   "id": "eee4171af3760f17",
   "execution_count": 7
  },
  {
   "cell_type": "code",
   "outputs": [],
   "source": [
    "string3 = string1 + string2"
   ],
   "metadata": {
    "collapsed": false,
    "ExecuteTime": {
     "end_time": "2024-06-11T14:17:27.154360Z",
     "start_time": "2024-06-11T14:17:27.148428Z"
    }
   },
   "id": "bed078e49d7bfd8",
   "execution_count": 8
  },
  {
   "cell_type": "code",
   "outputs": [
    {
     "name": "stdout",
     "output_type": "stream",
     "text": [
      "Meu nome é Beltrano\n"
     ]
    }
   ],
   "source": [
    "print(string3)"
   ],
   "metadata": {
    "collapsed": false,
    "ExecuteTime": {
     "end_time": "2024-06-11T14:17:32.424420Z",
     "start_time": "2024-06-11T14:17:32.418638Z"
    }
   },
   "id": "d64f0a10147400e1",
   "execution_count": 9
  },
  {
   "cell_type": "markdown",
   "source": [
    "EXERCÍCIO 4"
   ],
   "metadata": {
    "collapsed": false
   },
   "id": "ef7a8f12fec3cf42"
  },
  {
   "cell_type": "code",
   "outputs": [],
   "source": [
    "tupla1 = (1,2,2,3,4,4,4,5)"
   ],
   "metadata": {
    "collapsed": false,
    "ExecuteTime": {
     "end_time": "2024-06-11T14:18:41.911784Z",
     "start_time": "2024-06-11T14:18:41.907460Z"
    }
   },
   "id": "ce1bf06b65aff401",
   "execution_count": 10
  },
  {
   "cell_type": "code",
   "outputs": [
    {
     "data": {
      "text/plain": "3"
     },
     "execution_count": 11,
     "metadata": {},
     "output_type": "execute_result"
    }
   ],
   "source": [
    "tupla1.count(4)"
   ],
   "metadata": {
    "collapsed": false,
    "ExecuteTime": {
     "end_time": "2024-06-11T14:19:06.260822Z",
     "start_time": "2024-06-11T14:19:06.251007Z"
    }
   },
   "id": "a1339b3ee380a5",
   "execution_count": 11
  },
  {
   "cell_type": "markdown",
   "source": [
    "EXERCÍCIO 5"
   ],
   "metadata": {
    "collapsed": false
   },
   "id": "79da82c438d86b69"
  },
  {
   "cell_type": "code",
   "outputs": [],
   "source": [
    "dict1 = {}"
   ],
   "metadata": {
    "collapsed": false,
    "ExecuteTime": {
     "end_time": "2024-06-11T14:21:24.017629Z",
     "start_time": "2024-06-11T14:21:24.013458Z"
    }
   },
   "id": "646cff2c411e95de",
   "execution_count": 14
  },
  {
   "cell_type": "code",
   "outputs": [
    {
     "data": {
      "text/plain": "{}"
     },
     "execution_count": 15,
     "metadata": {},
     "output_type": "execute_result"
    }
   ],
   "source": [
    "dict1"
   ],
   "metadata": {
    "collapsed": false,
    "ExecuteTime": {
     "end_time": "2024-06-11T14:21:24.570488Z",
     "start_time": "2024-06-11T14:21:24.564166Z"
    }
   },
   "id": "6dd4c0732ee83591",
   "execution_count": 15
  },
  {
   "cell_type": "markdown",
   "source": [
    "EXERCÍCIO 6"
   ],
   "metadata": {
    "collapsed": false
   },
   "id": "b41d9ce45dce5bdd"
  },
  {
   "cell_type": "code",
   "outputs": [],
   "source": [
    "dict2 = {\"Nome\":\"Beltrano\",\"Idade\":20,\"Sexo\":\"Masculino\"}"
   ],
   "metadata": {
    "collapsed": false,
    "ExecuteTime": {
     "end_time": "2024-06-11T14:23:01.502885Z",
     "start_time": "2024-06-11T14:23:01.498406Z"
    }
   },
   "id": "558892338abdb8eb",
   "execution_count": 16
  },
  {
   "cell_type": "code",
   "outputs": [
    {
     "data": {
      "text/plain": "{'Nome': 'Beltrano', 'Idade': 20, 'Sexo': 'Masculino'}"
     },
     "execution_count": 17,
     "metadata": {},
     "output_type": "execute_result"
    }
   ],
   "source": [
    "dict2"
   ],
   "metadata": {
    "collapsed": false,
    "ExecuteTime": {
     "end_time": "2024-06-11T14:23:06.577453Z",
     "start_time": "2024-06-11T14:23:06.571286Z"
    }
   },
   "id": "fef632bfeb913c01",
   "execution_count": 17
  },
  {
   "cell_type": "markdown",
   "source": [
    "EXERCÍCIO 7"
   ],
   "metadata": {
    "collapsed": false
   },
   "id": "7ed8221ac8b52046"
  },
  {
   "cell_type": "code",
   "outputs": [],
   "source": [
    "dict2[\"Faculdade\"] = \"Sistemas de informação\""
   ],
   "metadata": {
    "collapsed": false,
    "ExecuteTime": {
     "end_time": "2024-06-11T14:28:22.614542Z",
     "start_time": "2024-06-11T14:28:22.609538Z"
    }
   },
   "id": "e58245e782d92037",
   "execution_count": 18
  },
  {
   "cell_type": "code",
   "outputs": [
    {
     "data": {
      "text/plain": "{'Nome': 'Beltrano',\n 'Idade': 20,\n 'Sexo': 'Masculino',\n 'Faculdade': 'Sistemas de informação'}"
     },
     "execution_count": 19,
     "metadata": {},
     "output_type": "execute_result"
    }
   ],
   "source": [
    "dict2"
   ],
   "metadata": {
    "collapsed": false,
    "ExecuteTime": {
     "end_time": "2024-06-11T14:28:27.927225Z",
     "start_time": "2024-06-11T14:28:27.920182Z"
    }
   },
   "id": "d3c736439db77ea",
   "execution_count": 19
  },
  {
   "cell_type": "markdown",
   "source": [
    "EXERCÍCIO 8"
   ],
   "metadata": {
    "collapsed": false
   },
   "id": "bdf5a36a268c55ff"
  },
  {
   "cell_type": "code",
   "outputs": [],
   "source": [
    "dict3 = {\"Pares\":[2,4],\"Impar\":3,\"Negativo\":-1}"
   ],
   "metadata": {
    "collapsed": false,
    "ExecuteTime": {
     "end_time": "2024-06-11T14:36:15.790177Z",
     "start_time": "2024-06-11T14:36:15.785720Z"
    }
   },
   "id": "fbc5db79783fc09b",
   "execution_count": 22
  },
  {
   "cell_type": "code",
   "outputs": [
    {
     "data": {
      "text/plain": "{'Pares': [2, 4], 'Impar': 3, 'Negativo': -1}"
     },
     "execution_count": 23,
     "metadata": {},
     "output_type": "execute_result"
    }
   ],
   "source": [
    "dict3"
   ],
   "metadata": {
    "collapsed": false,
    "ExecuteTime": {
     "end_time": "2024-06-11T14:36:16.220576Z",
     "start_time": "2024-06-11T14:36:16.213125Z"
    }
   },
   "id": "9a214c2b770190a3",
   "execution_count": 23
  },
  {
   "cell_type": "markdown",
   "source": [
    "EXERCÍCIO 9"
   ],
   "metadata": {
    "collapsed": false
   },
   "id": "d3b486bf750b9e91"
  },
  {
   "cell_type": "code",
   "outputs": [],
   "source": [
    "list3 = [\"Número\",(1,2),{\"Cidade\":\"Franca\", \"Estado\":\"São Paulo\"},4.5]"
   ],
   "metadata": {
    "collapsed": false,
    "ExecuteTime": {
     "end_time": "2024-06-11T14:39:06.197592Z",
     "start_time": "2024-06-11T14:39:06.192227Z"
    }
   },
   "id": "87bc31ba46d0aeaf",
   "execution_count": 24
  },
  {
   "cell_type": "code",
   "outputs": [
    {
     "data": {
      "text/plain": "['Número', (1, 2), {'Cidade': 'Franca', 'Estado': 'São Paulo'}, 4.5]"
     },
     "execution_count": 25,
     "metadata": {},
     "output_type": "execute_result"
    }
   ],
   "source": [
    "list3"
   ],
   "metadata": {
    "collapsed": false,
    "ExecuteTime": {
     "end_time": "2024-06-11T14:39:10.471523Z",
     "start_time": "2024-06-11T14:39:10.466129Z"
    }
   },
   "id": "6dbeb8d40dce0acd",
   "execution_count": 25
  },
  {
   "cell_type": "markdown",
   "source": [
    "EXERCÍCIO 10"
   ],
   "metadata": {
    "collapsed": false
   },
   "id": "4bcb9d47416ba270"
  },
  {
   "cell_type": "code",
   "outputs": [],
   "source": [
    "string4 = \"Cientista de Dados é o profissional mais sexy do século XXI\""
   ],
   "metadata": {
    "collapsed": false,
    "ExecuteTime": {
     "end_time": "2024-06-11T14:40:05.052347Z",
     "start_time": "2024-06-11T14:40:05.047048Z"
    }
   },
   "id": "a987b26c8fcbefdf",
   "execution_count": 26
  },
  {
   "cell_type": "code",
   "outputs": [
    {
     "data": {
      "text/plain": "'Cientista de Dados'"
     },
     "execution_count": 31,
     "metadata": {},
     "output_type": "execute_result"
    }
   ],
   "source": [
    "string4[0:18]"
   ],
   "metadata": {
    "collapsed": false,
    "ExecuteTime": {
     "end_time": "2024-06-11T14:44:56.413324Z",
     "start_time": "2024-06-11T14:44:56.407026Z"
    }
   },
   "id": "bbfaecdc007aab37",
   "execution_count": 31
  },
  {
   "cell_type": "code",
   "outputs": [],
   "source": [],
   "metadata": {
    "collapsed": false
   },
   "id": "5b56c3082c8a2205"
  }
 ],
 "metadata": {
  "kernelspec": {
   "display_name": "Python 3",
   "language": "python",
   "name": "python3"
  },
  "language_info": {
   "codemirror_mode": {
    "name": "ipython",
    "version": 2
   },
   "file_extension": ".py",
   "mimetype": "text/x-python",
   "name": "python",
   "nbconvert_exporter": "python",
   "pygments_lexer": "ipython2",
   "version": "2.7.6"
  }
 },
 "nbformat": 4,
 "nbformat_minor": 5
}
