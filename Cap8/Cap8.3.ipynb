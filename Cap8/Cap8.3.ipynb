{
 "cells": [
  {
   "cell_type": "markdown",
   "source": [
    "TRABALHANDO COM MÉTODOS DE CLASSES PYTHON\n",
    "- Os métodos de classes são funções definidas de um classe, que realizam operações específicas em objetos criados a partir dessa classe\n",
    "- Os métodos de classes são usados para implementar o comportamento dos objetos que pertencem a essa classe\n",
    "- Os métodos de classes podem receber argumentos e retornar valores\n",
    "- Os métodos de classes sempre incluem o parâmetro 'self' como primeiro argumento, que é usado para se referir ao objeto atual da classe\n",
    "- O método 'init' é um método especial que é chamado quando um objeto é criado a partir da classe. Este método é usado para inicializar os atributos do objeto"
   ],
   "metadata": {
    "collapsed": false
   },
   "id": "dea9a55df52d6065"
  },
  {
   "cell_type": "code",
   "outputs": [],
   "source": [
    "#Criando um classe chamada Circulo\n",
    "class Circulo:\n",
    "    \n",
    "    #O valor de pi é constante\n",
    "    pi = 3.14\n",
    "    \n",
    "    #Quando um objeto desta classe for criado, este método será executado e o valor default do raio será 5\n",
    "    def __init__(self, raio = 5):\n",
    "        self.raio = raio\n",
    "        \n",
    "    #Esse método calcula a área\n",
    "    def area(self):\n",
    "        return (self.raio * self.raio) * Circulo.pi\n",
    "    \n",
    "    #Método para gerar um novo raio\n",
    "    def setRaio(self, novo_raio):\n",
    "        self.raio = novo_raio\n",
    "        \n",
    "    #Método para obter o raio do círculo\n",
    "    def getRaio(self):\n",
    "        return self.raio"
   ],
   "metadata": {
    "collapsed": false,
    "ExecuteTime": {
     "end_time": "2024-08-06T13:30:46.293568Z",
     "start_time": "2024-08-06T13:30:46.282407Z"
    }
   },
   "id": "2871245363433096",
   "execution_count": 1
  },
  {
   "cell_type": "code",
   "outputs": [],
   "source": [
    "#Criando o objeto circ, uma instância da classe Circulo\n",
    "circ = Circulo()"
   ],
   "metadata": {
    "collapsed": false,
    "ExecuteTime": {
     "end_time": "2024-08-06T13:31:31.926031Z",
     "start_time": "2024-08-06T13:31:31.921783Z"
    }
   },
   "id": "74b1a2b65888c4b8",
   "execution_count": 2
  },
  {
   "cell_type": "code",
   "outputs": [
    {
     "data": {
      "text/plain": "5"
     },
     "execution_count": 3,
     "metadata": {},
     "output_type": "execute_result"
    }
   ],
   "source": [
    "#Executando um método da classe Circulo\n",
    "circ.getRaio()"
   ],
   "metadata": {
    "collapsed": false,
    "ExecuteTime": {
     "end_time": "2024-08-06T13:32:26.312680Z",
     "start_time": "2024-08-06T13:32:26.302992Z"
    }
   },
   "id": "6b80ce3ca803d450",
   "execution_count": 3
  },
  {
   "cell_type": "code",
   "outputs": [],
   "source": [
    "#Criando outro objeto chamado circ1, uma instância da classe Circulo. Agora sobrescrevendo o valor do atributo\n",
    "circ1 = Circulo(7)"
   ],
   "metadata": {
    "collapsed": false,
    "ExecuteTime": {
     "end_time": "2024-08-06T13:34:45.172754Z",
     "start_time": "2024-08-06T13:34:45.168876Z"
    }
   },
   "id": "45a2a3765c7c4a24",
   "execution_count": 4
  },
  {
   "cell_type": "code",
   "outputs": [
    {
     "data": {
      "text/plain": "7"
     },
     "execution_count": 6,
     "metadata": {},
     "output_type": "execute_result"
    }
   ],
   "source": [
    "#Executando um método da classe Circulo\n",
    "circ1.getRaio()"
   ],
   "metadata": {
    "collapsed": false,
    "ExecuteTime": {
     "end_time": "2024-08-06T13:35:35.538065Z",
     "start_time": "2024-08-06T13:35:35.530690Z"
    }
   },
   "id": "14a7d1880376519a",
   "execution_count": 6
  },
  {
   "cell_type": "code",
   "outputs": [
    {
     "name": "stdout",
     "output_type": "stream",
     "text": [
      "O raio é: 5\n"
     ]
    }
   ],
   "source": [
    "#Imprimindo o raio\n",
    "print('O raio é:', circ.getRaio())"
   ],
   "metadata": {
    "collapsed": false,
    "ExecuteTime": {
     "end_time": "2024-08-06T13:36:37.781749Z",
     "start_time": "2024-08-06T13:36:37.777193Z"
    }
   },
   "id": "e7b51bed285350d6",
   "execution_count": 9
  },
  {
   "cell_type": "code",
   "outputs": [
    {
     "name": "stdout",
     "output_type": "stream",
     "text": [
      "Área igual a: 78.5\n"
     ]
    }
   ],
   "source": [
    "#Imprimindo a área\n",
    "print('Área igual a:', circ.area())"
   ],
   "metadata": {
    "collapsed": false,
    "ExecuteTime": {
     "end_time": "2024-08-06T13:37:17.163674Z",
     "start_time": "2024-08-06T13:37:17.158650Z"
    }
   },
   "id": "91e71c3f655e21c6",
   "execution_count": 10
  },
  {
   "cell_type": "code",
   "outputs": [],
   "source": [
    "#Gerando um novo valor para o raio do círculo\n",
    "circ.setRaio(3)"
   ],
   "metadata": {
    "collapsed": false,
    "ExecuteTime": {
     "end_time": "2024-08-06T13:37:56.362017Z",
     "start_time": "2024-08-06T13:37:56.357636Z"
    }
   },
   "id": "a67c676b64e88b65",
   "execution_count": 11
  },
  {
   "cell_type": "code",
   "outputs": [
    {
     "name": "stdout",
     "output_type": "stream",
     "text": [
      "Novo raio igual a: 3\n"
     ]
    }
   ],
   "source": [
    "#Imprimindo novo raio\n",
    "print('Novo raio igual a:', circ.getRaio())"
   ],
   "metadata": {
    "collapsed": false,
    "ExecuteTime": {
     "end_time": "2024-08-06T13:38:44.274464Z",
     "start_time": "2024-08-06T13:38:44.269452Z"
    }
   },
   "id": "c2c003f1405a1fc6",
   "execution_count": 12
  },
  {
   "cell_type": "code",
   "outputs": [],
   "source": [],
   "metadata": {
    "collapsed": false
   },
   "id": "3387d5134e478aa1"
  }
 ],
 "metadata": {
  "kernelspec": {
   "display_name": "Python 3",
   "language": "python",
   "name": "python3"
  },
  "language_info": {
   "codemirror_mode": {
    "name": "ipython",
    "version": 2
   },
   "file_extension": ".py",
   "mimetype": "text/x-python",
   "name": "python",
   "nbconvert_exporter": "python",
   "pygments_lexer": "ipython2",
   "version": "2.7.6"
  }
 },
 "nbformat": 4,
 "nbformat_minor": 5
}
