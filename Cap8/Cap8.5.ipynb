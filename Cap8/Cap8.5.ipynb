{
 "cells": [
  {
   "cell_type": "markdown",
   "source": [
    "TRABALHANDO COM POLIMORFISMO DE CLASSES EM PYTHON\n",
    "- Permite que objetos de diferentes classes possam ser tratados de forma uniforme. Isso significa que um objeto pode ser tratado como se fosse um objeto de uma superclasse, mesmo que ele seja de uma subclasse\n",
    "- Se refere à habilidade de um objeto responder de diferentes formas a uma mesma mensagem. Isso é possível porque as subclasses podem implementar métodos com o mesmo nome que os métodos da superclasse, mas com comportamentos diferentes"
   ],
   "metadata": {
    "collapsed": false
   },
   "id": "817d573b5cb60703"
  },
  {
   "cell_type": "code",
   "outputs": [],
   "source": [
    "#Superclasse\n",
    "class Veiculo:\n",
    "    def __init__(self,marca,modelo):\n",
    "        self.marca = marca\n",
    "        self.modelo = modelo\n",
    "        \n",
    "    def acelerar(self):\n",
    "        pass\n",
    "    \n",
    "    def frear(self):\n",
    "        pass"
   ],
   "metadata": {
    "collapsed": false,
    "ExecuteTime": {
     "end_time": "2024-08-07T13:07:30.534029Z",
     "start_time": "2024-08-07T13:07:30.509598Z"
    }
   },
   "id": "3e2200e7a3391f14",
   "execution_count": 1
  },
  {
   "cell_type": "code",
   "outputs": [],
   "source": [
    "#Subclasse\n",
    "class Carro(Veiculo):\n",
    "    def acelerar(self):\n",
    "        print(\"O carro está acelerando\")\n",
    "    \n",
    "    def frear(self):\n",
    "        print(\"O carro está freando\")"
   ],
   "metadata": {
    "collapsed": false,
    "ExecuteTime": {
     "end_time": "2024-08-07T13:08:28.827365Z",
     "start_time": "2024-08-07T13:08:28.818662Z"
    }
   },
   "id": "554094ad815c5373",
   "execution_count": 2
  },
  {
   "cell_type": "code",
   "outputs": [],
   "source": [
    "#Subclasse\n",
    "class Moto(Veiculo):\n",
    "    def acelerar(self):\n",
    "        print(\"A moto está acelerando\")\n",
    "    \n",
    "    def frear(self):\n",
    "        print(\"A moto está freando\")"
   ],
   "metadata": {
    "collapsed": false,
    "ExecuteTime": {
     "end_time": "2024-08-07T13:08:49.340294Z",
     "start_time": "2024-08-07T13:08:49.331981Z"
    }
   },
   "id": "1c3d3b8ffe653845",
   "execution_count": 3
  },
  {
   "cell_type": "code",
   "outputs": [],
   "source": [
    "#Subclasse\n",
    "class Aviao(Veiculo):\n",
    "    def acelerar(self):\n",
    "        print(\"O avião está acelerando\")\n",
    "    \n",
    "    def frear(self):\n",
    "        print(\"O avião está freando\")\n",
    "        \n",
    "    def decolar(self):\n",
    "        print(\"O avião está decolando\")"
   ],
   "metadata": {
    "collapsed": false,
    "ExecuteTime": {
     "end_time": "2024-08-07T13:09:56.875727Z",
     "start_time": "2024-08-07T13:09:56.865541Z"
    }
   },
   "id": "b1a365767f9bb7eb",
   "execution_count": 4
  },
  {
   "cell_type": "code",
   "outputs": [],
   "source": [
    "#Cria os objetos\n",
    "lista_veiculos = [Carro(\"Porsche\",\"911 Turbo\"), Moto(\"Honda\", \"CB 1000R Black Edition\"), Aviao(\"Boeing\", \"757\")]"
   ],
   "metadata": {
    "collapsed": false,
    "ExecuteTime": {
     "end_time": "2024-08-07T13:11:47.309712Z",
     "start_time": "2024-08-07T13:11:47.299628Z"
    }
   },
   "id": "17a34c3c18f8e16e",
   "execution_count": 5
  },
  {
   "cell_type": "code",
   "outputs": [
    {
     "name": "stdout",
     "output_type": "stream",
     "text": [
      "O carro está acelerando\n",
      "O carro está freando\n",
      "---\n",
      "A moto está acelerando\n",
      "A moto está freando\n",
      "---\n",
      "O avião está acelerando\n",
      "O avião está freando\n",
      "O avião está decolando\n",
      "---\n"
     ]
    }
   ],
   "source": [
    "#Loop\n",
    "for item in lista_veiculos:\n",
    "    \n",
    "    #O método acelerar tem comportamento diferente dependendo do tipo de objeto\n",
    "    item.acelerar()\n",
    "    \n",
    "    #O método frear tem comportamento diferente dependendo do tipo de objeto\n",
    "    item.frear()\n",
    "    \n",
    "    #Executamos o método decolar somente se o objeto for instância da classe Aviao\n",
    "    if isinstance(item, Aviao):\n",
    "        item.decolar()\n",
    "        \n",
    "    print(\"---\")"
   ],
   "metadata": {
    "collapsed": false,
    "ExecuteTime": {
     "end_time": "2024-08-07T13:16:22.017236Z",
     "start_time": "2024-08-07T13:16:22.007439Z"
    }
   },
   "id": "9f2c8a20fe58ecb6",
   "execution_count": 7
  },
  {
   "cell_type": "code",
   "outputs": [],
   "source": [],
   "metadata": {
    "collapsed": false
   },
   "id": "64af0e68d5d8c7de"
  }
 ],
 "metadata": {
  "kernelspec": {
   "display_name": "Python 3",
   "language": "python",
   "name": "python3"
  },
  "language_info": {
   "codemirror_mode": {
    "name": "ipython",
    "version": 2
   },
   "file_extension": ".py",
   "mimetype": "text/x-python",
   "name": "python",
   "nbconvert_exporter": "python",
   "pygments_lexer": "ipython2",
   "version": "2.7.6"
  }
 },
 "nbformat": 4,
 "nbformat_minor": 5
}
