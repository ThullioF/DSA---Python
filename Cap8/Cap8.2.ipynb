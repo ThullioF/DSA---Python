{
 "cells": [
  {
   "cell_type": "markdown",
   "source": [
    "OBJETOS\n",
    "- Em Python tudo é objeto"
   ],
   "metadata": {
    "collapsed": false
   },
   "id": "73cc75ba07b469c0"
  },
  {
   "cell_type": "code",
   "outputs": [],
   "source": [
    "#Criando uma lista\n",
    "lst_num = [\"Data\", \"Science\", \"Academy\", \"Nota\", 10, 10]"
   ],
   "metadata": {
    "collapsed": false,
    "ExecuteTime": {
     "end_time": "2024-08-06T12:56:09.951742Z",
     "start_time": "2024-08-06T12:56:09.946898Z"
    }
   },
   "id": "86a947fc5c768338",
   "execution_count": 1
  },
  {
   "cell_type": "code",
   "outputs": [
    {
     "data": {
      "text/plain": "list"
     },
     "execution_count": 2,
     "metadata": {},
     "output_type": "execute_result"
    }
   ],
   "source": [
    "#A lista lst_num é um objeto, uma instância da classe lista em Python\n",
    "type(lst_num)"
   ],
   "metadata": {
    "collapsed": false,
    "ExecuteTime": {
     "end_time": "2024-08-06T12:56:52.559933Z",
     "start_time": "2024-08-06T12:56:52.551173Z"
    }
   },
   "id": "8cd78f7efa07a0b0",
   "execution_count": 2
  },
  {
   "cell_type": "code",
   "outputs": [
    {
     "name": "stdout",
     "output_type": "stream",
     "text": [
      "<class 'list'>\n"
     ]
    }
   ],
   "source": [
    "print(type([]))"
   ],
   "metadata": {
    "collapsed": false,
    "ExecuteTime": {
     "end_time": "2024-08-06T12:57:05.645137Z",
     "start_time": "2024-08-06T12:57:05.641144Z"
    }
   },
   "id": "9ce4ab2933f18d2e",
   "execution_count": 3
  },
  {
   "cell_type": "code",
   "outputs": [
    {
     "data": {
      "text/plain": "2"
     },
     "execution_count": 4,
     "metadata": {},
     "output_type": "execute_result"
    }
   ],
   "source": [
    "lst_num.count(10)"
   ],
   "metadata": {
    "collapsed": false,
    "ExecuteTime": {
     "end_time": "2024-08-06T12:57:28.508052Z",
     "start_time": "2024-08-06T12:57:28.501540Z"
    }
   },
   "id": "d9f85d3943c69b31",
   "execution_count": 4
  },
  {
   "cell_type": "code",
   "outputs": [
    {
     "name": "stdout",
     "output_type": "stream",
     "text": [
      "<class 'int'>\n",
      "<class 'list'>\n",
      "<class 'tuple'>\n",
      "<class 'dict'>\n",
      "<class 'str'>\n"
     ]
    }
   ],
   "source": [
    "#Usamos a função type, para verificar o tipo do objeto\n",
    "print(type(10))\n",
    "print(type([]))\n",
    "print(type(()))\n",
    "print(type({}))\n",
    "print(type('a'))"
   ],
   "metadata": {
    "collapsed": false,
    "ExecuteTime": {
     "end_time": "2024-08-06T12:58:48.146611Z",
     "start_time": "2024-08-06T12:58:48.139802Z"
    }
   },
   "id": "73e19bbed4a90a51",
   "execution_count": 6
  },
  {
   "cell_type": "code",
   "outputs": [],
   "source": [
    "#Criando um novo tipo de objeto chamado Carro\n",
    "class Carro(object):\n",
    "    pass"
   ],
   "metadata": {
    "collapsed": false,
    "ExecuteTime": {
     "end_time": "2024-08-06T12:59:42.864616Z",
     "start_time": "2024-08-06T12:59:42.860250Z"
    }
   },
   "id": "81f12af02b88b4be",
   "execution_count": 7
  },
  {
   "cell_type": "code",
   "outputs": [],
   "source": [
    "#Instância do Carro\n",
    "ferrari = Carro()"
   ],
   "metadata": {
    "collapsed": false,
    "ExecuteTime": {
     "end_time": "2024-08-06T13:00:50.803274Z",
     "start_time": "2024-08-06T13:00:50.799183Z"
    }
   },
   "id": "f60b20ae456ad7d4",
   "execution_count": 8
  },
  {
   "cell_type": "code",
   "outputs": [
    {
     "name": "stdout",
     "output_type": "stream",
     "text": [
      "<class '__main__.Carro'>\n"
     ]
    }
   ],
   "source": [
    "print(type(ferrari))"
   ],
   "metadata": {
    "collapsed": false,
    "ExecuteTime": {
     "end_time": "2024-08-06T13:01:03.644606Z",
     "start_time": "2024-08-06T13:01:03.640689Z"
    }
   },
   "id": "97b1acad1be887f1",
   "execution_count": 9
  },
  {
   "cell_type": "code",
   "outputs": [],
   "source": [
    "#Criando um classe\n",
    "class Estudantes:\n",
    "    def __init__(self, nome, idade, nota):\n",
    "        self.nome = nome\n",
    "        self.idade = idade\n",
    "        self.nota = nota"
   ],
   "metadata": {
    "collapsed": false,
    "ExecuteTime": {
     "end_time": "2024-08-06T13:02:20.885085Z",
     "start_time": "2024-08-06T13:02:20.880222Z"
    }
   },
   "id": "7bd75cd29aae1663",
   "execution_count": 10
  },
  {
   "cell_type": "code",
   "outputs": [],
   "source": [
    "#Criando um objeto chamado Estudante1 a partir da classe Estudantes\n",
    "Estudante1 = Estudantes(\"Bob\", 12, 9.5)"
   ],
   "metadata": {
    "collapsed": false,
    "ExecuteTime": {
     "end_time": "2024-08-06T13:03:28.971151Z",
     "start_time": "2024-08-06T13:03:28.966457Z"
    }
   },
   "id": "6727f9deb3467f84",
   "execution_count": 11
  },
  {
   "cell_type": "code",
   "outputs": [
    {
     "data": {
      "text/plain": "'Bob'"
     },
     "execution_count": 12,
     "metadata": {},
     "output_type": "execute_result"
    }
   ],
   "source": [
    "#Atributo da classe Estudante, utilizado por cada objeto criado a partir da classe\n",
    "Estudante1.nome"
   ],
   "metadata": {
    "collapsed": false,
    "ExecuteTime": {
     "end_time": "2024-08-06T13:04:26.513830Z",
     "start_time": "2024-08-06T13:04:26.507316Z"
    }
   },
   "id": "9a136b088b4f5c86",
   "execution_count": 12
  },
  {
   "cell_type": "code",
   "outputs": [
    {
     "data": {
      "text/plain": "12"
     },
     "execution_count": 13,
     "metadata": {},
     "output_type": "execute_result"
    }
   ],
   "source": [
    "Estudante1.idade"
   ],
   "metadata": {
    "collapsed": false,
    "ExecuteTime": {
     "end_time": "2024-08-06T13:04:33.118675Z",
     "start_time": "2024-08-06T13:04:33.111701Z"
    }
   },
   "id": "55a2eab960fa9bb3",
   "execution_count": 13
  },
  {
   "cell_type": "code",
   "outputs": [
    {
     "data": {
      "text/plain": "9.5"
     },
     "execution_count": 14,
     "metadata": {},
     "output_type": "execute_result"
    }
   ],
   "source": [
    "Estudante1.nota"
   ],
   "metadata": {
    "collapsed": false,
    "ExecuteTime": {
     "end_time": "2024-08-06T13:04:40.043083Z",
     "start_time": "2024-08-06T13:04:40.037291Z"
    }
   },
   "id": "25107369da0e27c",
   "execution_count": 14
  },
  {
   "cell_type": "code",
   "outputs": [],
   "source": [
    "#Criando uma classe\n",
    "class Funcionarios:\n",
    "    def __init__(self, nome, salario, cargo):\n",
    "        self.nome = nome\n",
    "        self.salario = salario\n",
    "        self.cargo = cargo\n",
    "    def listFunc(self):\n",
    "        print(\"Funcionário(a) \"+self.nome+\" tem salário de R$\"+str(self.salario)+\" e o cargo é \"+self.cargo)"
   ],
   "metadata": {
    "collapsed": false,
    "ExecuteTime": {
     "end_time": "2024-08-06T13:07:49.067379Z",
     "start_time": "2024-08-06T13:07:49.061601Z"
    }
   },
   "id": "78eef09d70ede908",
   "execution_count": 16
  },
  {
   "cell_type": "code",
   "outputs": [],
   "source": [
    "#Criando um objeto chamado Func1 a partir da classe Funcionarios\n",
    "Func1 = Funcionarios(\"Mary\", 20000, \"Cientista de Dados\")"
   ],
   "metadata": {
    "collapsed": false,
    "ExecuteTime": {
     "end_time": "2024-08-06T13:09:04.574823Z",
     "start_time": "2024-08-06T13:09:04.570312Z"
    }
   },
   "id": "805e6fcfcc86f416",
   "execution_count": 17
  },
  {
   "cell_type": "code",
   "outputs": [
    {
     "name": "stdout",
     "output_type": "stream",
     "text": [
      "Funcionário(a) Mary tem salário de R$20000 e o cargo é Cientista de Dados\n"
     ]
    }
   ],
   "source": [
    "#Usando o método da classe\n",
    "Func1.listFunc()"
   ],
   "metadata": {
    "collapsed": false,
    "ExecuteTime": {
     "end_time": "2024-08-06T13:09:25.760627Z",
     "start_time": "2024-08-06T13:09:25.755768Z"
    }
   },
   "id": "81c6bc72ff4d7c47",
   "execution_count": 18
  },
  {
   "cell_type": "code",
   "outputs": [
    {
     "name": "stdout",
     "output_type": "stream",
     "text": [
      "**** Usando atributos ****\n"
     ]
    }
   ],
   "source": [
    "print(\"**** Usando atributos ****\")"
   ],
   "metadata": {
    "collapsed": false,
    "ExecuteTime": {
     "end_time": "2024-08-06T13:10:20.469769Z",
     "start_time": "2024-08-06T13:10:20.465565Z"
    }
   },
   "id": "7d63814c684a7f1",
   "execution_count": 19
  },
  {
   "cell_type": "code",
   "outputs": [
    {
     "data": {
      "text/plain": "True"
     },
     "execution_count": 20,
     "metadata": {},
     "output_type": "execute_result"
    }
   ],
   "source": [
    "hasattr(Func1, \"nome\")"
   ],
   "metadata": {
    "collapsed": false,
    "ExecuteTime": {
     "end_time": "2024-08-06T13:11:03.266136Z",
     "start_time": "2024-08-06T13:11:03.259284Z"
    }
   },
   "id": "9f6252514671a47e",
   "execution_count": 20
  },
  {
   "cell_type": "code",
   "outputs": [
    {
     "data": {
      "text/plain": "True"
     },
     "execution_count": 21,
     "metadata": {},
     "output_type": "execute_result"
    }
   ],
   "source": [
    "hasattr(Func1, \"salario\")"
   ],
   "metadata": {
    "collapsed": false,
    "ExecuteTime": {
     "end_time": "2024-08-06T13:11:09.410413Z",
     "start_time": "2024-08-06T13:11:09.404441Z"
    }
   },
   "id": "6f7ac91470cea12",
   "execution_count": 21
  },
  {
   "cell_type": "code",
   "outputs": [],
   "source": [
    "setattr(Func1, \"salario\", 4500)"
   ],
   "metadata": {
    "collapsed": false,
    "ExecuteTime": {
     "end_time": "2024-08-06T13:11:28.282581Z",
     "start_time": "2024-08-06T13:11:28.277680Z"
    }
   },
   "id": "bfb9711db42fdfc1",
   "execution_count": 22
  },
  {
   "cell_type": "code",
   "outputs": [
    {
     "data": {
      "text/plain": "True"
     },
     "execution_count": 23,
     "metadata": {},
     "output_type": "execute_result"
    }
   ],
   "source": [
    "hasattr(Func1, \"salario\")"
   ],
   "metadata": {
    "collapsed": false,
    "ExecuteTime": {
     "end_time": "2024-08-06T13:11:43.228204Z",
     "start_time": "2024-08-06T13:11:43.222653Z"
    }
   },
   "id": "faf220dfe43da444",
   "execution_count": 23
  },
  {
   "cell_type": "code",
   "outputs": [
    {
     "data": {
      "text/plain": "4500"
     },
     "execution_count": 24,
     "metadata": {},
     "output_type": "execute_result"
    }
   ],
   "source": [
    "getattr(Func1, \"salario\")"
   ],
   "metadata": {
    "collapsed": false,
    "ExecuteTime": {
     "end_time": "2024-08-06T13:13:10.020612Z",
     "start_time": "2024-08-06T13:13:10.014377Z"
    }
   },
   "id": "69a0c036d89b7e44",
   "execution_count": 24
  },
  {
   "cell_type": "code",
   "outputs": [],
   "source": [
    "delattr(Func1, \"salario\")"
   ],
   "metadata": {
    "collapsed": false,
    "ExecuteTime": {
     "end_time": "2024-08-06T13:13:19.531208Z",
     "start_time": "2024-08-06T13:13:19.526819Z"
    }
   },
   "id": "84b1f3c3c341156d",
   "execution_count": 25
  },
  {
   "cell_type": "code",
   "outputs": [
    {
     "data": {
      "text/plain": "False"
     },
     "execution_count": 26,
     "metadata": {},
     "output_type": "execute_result"
    }
   ],
   "source": [
    "hasattr(Func1, \"salario\")"
   ],
   "metadata": {
    "collapsed": false,
    "ExecuteTime": {
     "end_time": "2024-08-06T13:13:25.390855Z",
     "start_time": "2024-08-06T13:13:25.385275Z"
    }
   },
   "id": "7418f85984bb8ffb",
   "execution_count": 26
  },
  {
   "cell_type": "code",
   "outputs": [],
   "source": [],
   "metadata": {
    "collapsed": false
   },
   "id": "b785eb0d11456723"
  }
 ],
 "metadata": {
  "kernelspec": {
   "display_name": "Python 3",
   "language": "python",
   "name": "python3"
  },
  "language_info": {
   "codemirror_mode": {
    "name": "ipython",
    "version": 2
   },
   "file_extension": ".py",
   "mimetype": "text/x-python",
   "name": "python",
   "nbconvert_exporter": "python",
   "pygments_lexer": "ipython2",
   "version": "2.7.6"
  }
 },
 "nbformat": 4,
 "nbformat_minor": 5
}
