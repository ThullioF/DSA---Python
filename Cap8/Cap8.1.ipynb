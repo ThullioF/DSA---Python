{
 "cells": [
  {
   "cell_type": "markdown",
   "source": [
    "CLASSES\n",
    "- Em Programação Orientada a Objetos(POO), uma classe é uma estrutura que descreve um objeto, especificando os atributos e comportamentos que o objeto deve ter\n",
    "- Uma classe é uma espécie de modelo que define as características e ações que um objeto deve possuir\n",
    "- As classes são usadas para criar objetos, que são instâncias da classe\n",
    "- Cada objeto criado a partir da mesma classe terá os mesmos atributos e comportamentos\n",
    "- Para criar uma classe em Pyhton, utiliza-se a palavra reservada class\n",
    "- O nome da classe segue a mesma convenção de nomes para criação de funções e variáveis em Python, mas normalmente se usa a primeira letra maiúscula em cada palavras no nome da classe"
   ],
   "metadata": {
    "collapsed": false
   },
   "id": "95ea2f6b4fadcf5"
  },
  {
   "cell_type": "code",
   "outputs": [],
   "source": [
    "#Criando uma classe chamada Livro\n",
    "class Livro():\n",
    "    \n",
    "    #Este método vai inicializar cada objeto criado a partir desta classe. O nome deste método é __init__ (método construtor)\n",
    "    #(self) é uma referência a cada atributo da própria classe\n",
    "    def __init__(self):\n",
    "        \n",
    "        #Atributos são propriedades\n",
    "        self.titulo = 'Sapiens - Uma breve história da humanidade'\n",
    "        self.isbn = 9988888\n",
    "        print(\"Construtor chamado para criar um objeto desta classe\")\n",
    "    \n",
    "    #Métodos são funções que executam ações nos objetos da classe\n",
    "    def imprime(self):\n",
    "        #PlaceHolder (marca um lugar) = %s(string) , %d(número)\n",
    "        print(\"Foi criado o livro %s com ISBN %d\" % (self.titulo, self.isbn))"
   ],
   "metadata": {
    "collapsed": false,
    "ExecuteTime": {
     "end_time": "2024-08-01T13:54:11.074305Z",
     "start_time": "2024-08-01T13:54:11.060765Z"
    }
   },
   "id": "c7441e62eaa9a16d",
   "execution_count": 4
  },
  {
   "cell_type": "code",
   "outputs": [
    {
     "name": "stdout",
     "output_type": "stream",
     "text": [
      "Construtor chamado para criar um objeto desta classe\n"
     ]
    }
   ],
   "source": [
    "#Criando uma instância da classe Livro\n",
    "#É executado o construtor\n",
    "Livro1 = Livro()"
   ],
   "metadata": {
    "collapsed": false,
    "ExecuteTime": {
     "end_time": "2024-08-01T13:54:11.796577Z",
     "start_time": "2024-08-01T13:54:11.789194Z"
    }
   },
   "id": "cc88d2a108d78539",
   "execution_count": 5
  },
  {
   "cell_type": "code",
   "outputs": [
    {
     "data": {
      "text/plain": "__main__.Livro"
     },
     "execution_count": 6,
     "metadata": {},
     "output_type": "execute_result"
    }
   ],
   "source": [
    "#O objeto Livro1 é do tipo Livro\n",
    "type(Livro1)"
   ],
   "metadata": {
    "collapsed": false,
    "ExecuteTime": {
     "end_time": "2024-08-01T13:54:12.852043Z",
     "start_time": "2024-08-01T13:54:12.836679Z"
    }
   },
   "id": "8edb92ec1084a44b",
   "execution_count": 6
  },
  {
   "cell_type": "code",
   "outputs": [
    {
     "data": {
      "text/plain": "'Sapiens - Uma breve história da humanidade'"
     },
     "execution_count": 7,
     "metadata": {},
     "output_type": "execute_result"
    }
   ],
   "source": [
    "#Atributo do objeto Livro1\n",
    "Livro1.titulo"
   ],
   "metadata": {
    "collapsed": false,
    "ExecuteTime": {
     "end_time": "2024-08-01T13:54:37.095360Z",
     "start_time": "2024-08-01T13:54:37.083252Z"
    }
   },
   "id": "3b5ba56cbcaa4a23",
   "execution_count": 7
  },
  {
   "cell_type": "code",
   "outputs": [
    {
     "name": "stdout",
     "output_type": "stream",
     "text": [
      "Foi criado o livro Sapiens - Uma breve história da humanidade com ISBN 9988888\n"
     ]
    }
   ],
   "source": [
    "#Método do objeto Livro1\n",
    "Livro1.imprime()"
   ],
   "metadata": {
    "collapsed": false,
    "ExecuteTime": {
     "end_time": "2024-08-01T13:57:50.693207Z",
     "start_time": "2024-08-01T13:57:50.684951Z"
    }
   },
   "id": "d72c5726d0252fbe",
   "execution_count": 9
  },
  {
   "cell_type": "code",
   "outputs": [],
   "source": [
    "#Criando a classe Livro com parâmetros no método construtor\n",
    "#Permite que ao criar a instância da classe, seja enviado o titulo e o código\n",
    "class Livro():\n",
    "    def __init__(self, titulo, isbn):\n",
    "        self.titulo = titulo\n",
    "        self.isbn = isbn\n",
    "        print(\"Construtor chamado para criar um objeto desta classe\")\n",
    "    \n",
    "    def imprime(self, titulo, isbn):\n",
    "        print(\"Foi criado o livro %s e ISBN %d\" % (titulo, isbn))"
   ],
   "metadata": {
    "collapsed": false,
    "ExecuteTime": {
     "end_time": "2024-08-01T14:25:34.708686Z",
     "start_time": "2024-08-01T14:25:34.698046Z"
    }
   },
   "id": "59a136a771cac9e2",
   "execution_count": 11
  },
  {
   "cell_type": "code",
   "outputs": [
    {
     "name": "stdout",
     "output_type": "stream",
     "text": [
      "Construtor chamado para criar um objeto desta classe\n"
     ]
    }
   ],
   "source": [
    "#Criando o objeto Livro2 que é uma instância da classe Livro\n",
    "Livro2 = Livro(\"O poder do hábito\", 77886611)"
   ],
   "metadata": {
    "collapsed": false,
    "ExecuteTime": {
     "end_time": "2024-08-01T14:26:46.407090Z",
     "start_time": "2024-08-01T14:26:46.385439Z"
    }
   },
   "id": "9fd22a76122f2363",
   "execution_count": 12
  },
  {
   "cell_type": "code",
   "outputs": [
    {
     "data": {
      "text/plain": "'O poder do hábito'"
     },
     "execution_count": 13,
     "metadata": {},
     "output_type": "execute_result"
    }
   ],
   "source": [
    "Livro2.titulo"
   ],
   "metadata": {
    "collapsed": false,
    "ExecuteTime": {
     "end_time": "2024-08-01T14:26:59.026978Z",
     "start_time": "2024-08-01T14:26:59.013998Z"
    }
   },
   "id": "9c86e62fa8a073a6",
   "execution_count": 13
  },
  {
   "cell_type": "code",
   "outputs": [
    {
     "name": "stdout",
     "output_type": "stream",
     "text": [
      "Foi criado o livro O poder do hábito e ISBN 77886611\n"
     ]
    }
   ],
   "source": [
    "#Método do objeto Livro2\n",
    "Livro2.imprime(\"O poder do hábito\", 77886611)"
   ],
   "metadata": {
    "collapsed": false,
    "ExecuteTime": {
     "end_time": "2024-08-01T14:27:30.766427Z",
     "start_time": "2024-08-01T14:27:30.758179Z"
    }
   },
   "id": "ee8484b5262fcdd5",
   "execution_count": 14
  },
  {
   "cell_type": "code",
   "outputs": [],
   "source": [
    "#Criando a classe Algoritmo\n",
    "class Algoritmo():\n",
    "    def __init__(self, tipo_algo):\n",
    "        self.tipo = tipo_algo\n",
    "        print(\"Construtor chamado para criar um objeto desta classe\")"
   ],
   "metadata": {
    "collapsed": false,
    "ExecuteTime": {
     "end_time": "2024-08-01T14:31:24.616639Z",
     "start_time": "2024-08-01T14:31:24.608172Z"
    }
   },
   "id": "8798ac59c7a545f6",
   "execution_count": 15
  },
  {
   "cell_type": "code",
   "outputs": [
    {
     "name": "stdout",
     "output_type": "stream",
     "text": [
      "Construtor chamado para criar um objeto desta classe\n"
     ]
    }
   ],
   "source": [
    "#Criando um objeto a partir da classe\n",
    "algo1 =Algoritmo(tipo_algo=\"Random Forest\")"
   ],
   "metadata": {
    "collapsed": false,
    "ExecuteTime": {
     "end_time": "2024-08-01T14:32:05.103345Z",
     "start_time": "2024-08-01T14:32:05.095339Z"
    }
   },
   "id": "2c90eba35aaa2012",
   "execution_count": 16
  },
  {
   "cell_type": "code",
   "outputs": [
    {
     "name": "stdout",
     "output_type": "stream",
     "text": [
      "Construtor chamado para criar um objeto desta classe\n"
     ]
    }
   ],
   "source": [
    "#Criando um objeto a partir da classe\n",
    "algo2 = Algoritmo(tipo_algo=\"Deep Learning\")"
   ],
   "metadata": {
    "collapsed": false,
    "ExecuteTime": {
     "end_time": "2024-08-01T14:32:33.706144Z",
     "start_time": "2024-08-01T14:32:33.698194Z"
    }
   },
   "id": "dbad19836a8cf1ac",
   "execution_count": 17
  },
  {
   "cell_type": "code",
   "outputs": [
    {
     "data": {
      "text/plain": "'Random Forest'"
     },
     "execution_count": 18,
     "metadata": {},
     "output_type": "execute_result"
    }
   ],
   "source": [
    "#Atributo da classe\n",
    "algo1.tipo"
   ],
   "metadata": {
    "collapsed": false,
    "ExecuteTime": {
     "end_time": "2024-08-01T14:32:51.794885Z",
     "start_time": "2024-08-01T14:32:51.782504Z"
    }
   },
   "id": "13ecc57d4e890fc4",
   "execution_count": 18
  },
  {
   "cell_type": "code",
   "outputs": [
    {
     "data": {
      "text/plain": "'Deep Learning'"
     },
     "execution_count": 20,
     "metadata": {},
     "output_type": "execute_result"
    }
   ],
   "source": [
    "#Atributo da classe\n",
    "algo2.tipo"
   ],
   "metadata": {
    "collapsed": false,
    "ExecuteTime": {
     "end_time": "2024-08-01T14:40:19.051690Z",
     "start_time": "2024-08-01T14:40:19.040675Z"
    }
   },
   "id": "e97124a2e2111db7",
   "execution_count": 20
  },
  {
   "cell_type": "code",
   "outputs": [],
   "source": [],
   "metadata": {
    "collapsed": false
   },
   "id": "9ca7b6933cd10773"
  }
 ],
 "metadata": {
  "kernelspec": {
   "display_name": "Python 3",
   "language": "python",
   "name": "python3"
  },
  "language_info": {
   "codemirror_mode": {
    "name": "ipython",
    "version": 2
   },
   "file_extension": ".py",
   "mimetype": "text/x-python",
   "name": "python",
   "nbconvert_exporter": "python",
   "pygments_lexer": "ipython2",
   "version": "2.7.6"
  }
 },
 "nbformat": 4,
 "nbformat_minor": 5
}
