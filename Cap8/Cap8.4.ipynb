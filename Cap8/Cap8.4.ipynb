{
 "cells": [
  {
   "cell_type": "markdown",
   "source": [
    "TRABALHANDO COM HERANÇA DE CLASSES EM PYTHON\n",
    "- Em POO, a herança é um conceito que permite criar novas classes a partir de outra classes existentes, aproveitando os atributos e métodos da classe e adicionando novos atributos e métodos específicos\n",
    "- A classe original é chamada de classe mãe ou superclasse e a nova classe criada é chamada de classe filha ou subclasse\n",
    "- Reutilizar código de maneira eficiente\n",
    "- A subclasse pode herdar todos os atributos e métodos da superclasse e adicionar apenas o que é necessário\n",
    "- Uma subclasse pode ter um método com o mesmo nome de um método da superclasse, mas com um comportamento diferente"
   ],
   "metadata": {
    "collapsed": false
   },
   "id": "43a7137fde2b2537"
  },
  {
   "cell_type": "code",
   "outputs": [],
   "source": [
    "#Criando a classe Animal - Superclasse\n",
    "class Animal:\n",
    "    def __init__(self):\n",
    "        print(\"Animal criado\")\n",
    "        \n",
    "    def imprimir(self):\n",
    "        print(\"Este é um animal\")\n",
    "        \n",
    "    def comer(self):\n",
    "        print(\"Hora de comer\")\n",
    "        \n",
    "    def emitir_som(self):\n",
    "        pass"
   ],
   "metadata": {
    "collapsed": false,
    "ExecuteTime": {
     "end_time": "2024-08-06T14:05:28.056441Z",
     "start_time": "2024-08-06T14:05:28.050661Z"
    }
   },
   "id": "7f8747dce0f638dc",
   "execution_count": 2
  },
  {
   "cell_type": "code",
   "outputs": [],
   "source": [
    "#Criando a classe Cachorro - Subclasse\n",
    "class Cachorro(Animal):\n",
    "    def __init__(self):\n",
    "        Animal.__init__(self) #Executando o construtor da Superclasse\n",
    "        print(\"Objeto Cachorro criado\")\n",
    "        \n",
    "    def emitir_som(self):\n",
    "        print(\"Au au!\")"
   ],
   "metadata": {
    "collapsed": false,
    "ExecuteTime": {
     "end_time": "2024-08-06T14:26:16.183728Z",
     "start_time": "2024-08-06T14:26:16.178567Z"
    }
   },
   "id": "43f37067bf121e27",
   "execution_count": 4
  },
  {
   "cell_type": "code",
   "outputs": [],
   "source": [
    "#Criando a classe Gato - Subclasse\n",
    "class Gato(Animal):\n",
    "    def __init__(self):\n",
    "        Animal.__init__(self) #Executando o construtor da Superclasse\n",
    "        print(\"Objeto Gato criado\")\n",
    "    \n",
    "    def emitir_som(self):\n",
    "        print(\"Miau!\")"
   ],
   "metadata": {
    "collapsed": false,
    "ExecuteTime": {
     "end_time": "2024-08-06T14:32:33.365119Z",
     "start_time": "2024-08-06T14:32:33.359224Z"
    }
   },
   "id": "373eb3a1d2a55c43",
   "execution_count": 5
  },
  {
   "cell_type": "code",
   "outputs": [
    {
     "name": "stdout",
     "output_type": "stream",
     "text": [
      "Animal criado\n",
      "Objeto Cachorro criado\n"
     ]
    }
   ],
   "source": [
    "#Criando um objeto (instanciando a classe)\n",
    "rex = Cachorro()"
   ],
   "metadata": {
    "collapsed": false,
    "ExecuteTime": {
     "end_time": "2024-08-06T14:33:19.397556Z",
     "start_time": "2024-08-06T14:33:19.393072Z"
    }
   },
   "id": "ff6458a5beee11c",
   "execution_count": 6
  },
  {
   "cell_type": "code",
   "outputs": [
    {
     "name": "stdout",
     "output_type": "stream",
     "text": [
      "Animal criado\n",
      "Objeto Gato criado\n"
     ]
    }
   ],
   "source": [
    "zeze = Gato()"
   ],
   "metadata": {
    "collapsed": false,
    "ExecuteTime": {
     "end_time": "2024-08-06T14:33:27.628948Z",
     "start_time": "2024-08-06T14:33:27.624763Z"
    }
   },
   "id": "265d3ff10a6c93ad",
   "execution_count": 7
  },
  {
   "cell_type": "code",
   "outputs": [
    {
     "name": "stdout",
     "output_type": "stream",
     "text": [
      "Au au!\n"
     ]
    }
   ],
   "source": [
    "rex.emitir_som()"
   ],
   "metadata": {
    "collapsed": false,
    "ExecuteTime": {
     "end_time": "2024-08-06T14:34:08.059082Z",
     "start_time": "2024-08-06T14:34:08.053243Z"
    }
   },
   "id": "fd2cfb58e0243986",
   "execution_count": 8
  },
  {
   "cell_type": "code",
   "outputs": [
    {
     "name": "stdout",
     "output_type": "stream",
     "text": [
      "Miau!\n"
     ]
    }
   ],
   "source": [
    "zeze.emitir_som()"
   ],
   "metadata": {
    "collapsed": false,
    "ExecuteTime": {
     "end_time": "2024-08-06T14:34:11.005898Z",
     "start_time": "2024-08-06T14:34:11.001060Z"
    }
   },
   "id": "d0642bbc3bdbd515",
   "execution_count": 9
  },
  {
   "cell_type": "code",
   "outputs": [
    {
     "name": "stdout",
     "output_type": "stream",
     "text": [
      "Este é um animal\n"
     ]
    }
   ],
   "source": [
    "#Executando o método da classe Cachorro (Subclasse)\n",
    "rex.imprimir()"
   ],
   "metadata": {
    "collapsed": false,
    "ExecuteTime": {
     "end_time": "2024-08-06T14:35:33.129255Z",
     "start_time": "2024-08-06T14:35:33.125108Z"
    }
   },
   "id": "b826feb68fa77ed4",
   "execution_count": 10
  },
  {
   "cell_type": "code",
   "outputs": [
    {
     "name": "stdout",
     "output_type": "stream",
     "text": [
      "Hora de comer\n"
     ]
    }
   ],
   "source": [
    "#Executando o método da classe Animal (Superclasse)\n",
    "rex.comer()"
   ],
   "metadata": {
    "collapsed": false,
    "ExecuteTime": {
     "end_time": "2024-08-06T14:36:31.394960Z",
     "start_time": "2024-08-06T14:36:31.390091Z"
    }
   },
   "id": "3d5c18adeff466b",
   "execution_count": 11
  },
  {
   "cell_type": "code",
   "outputs": [
    {
     "name": "stdout",
     "output_type": "stream",
     "text": [
      "Hora de comer\n"
     ]
    }
   ],
   "source": [
    "#Executando o método da classe Cachorro (Subclasse)\n",
    "zeze.comer()"
   ],
   "metadata": {
    "collapsed": false,
    "ExecuteTime": {
     "end_time": "2024-08-06T14:36:59.779443Z",
     "start_time": "2024-08-06T14:36:59.774177Z"
    }
   },
   "id": "348008c7d5c2d527",
   "execution_count": 12
  },
  {
   "cell_type": "code",
   "outputs": [],
   "source": [],
   "metadata": {
    "collapsed": false
   },
   "id": "278996619ce2b81c"
  }
 ],
 "metadata": {
  "kernelspec": {
   "display_name": "Python 3",
   "language": "python",
   "name": "python3"
  },
  "language_info": {
   "codemirror_mode": {
    "name": "ipython",
    "version": 2
   },
   "file_extension": ".py",
   "mimetype": "text/x-python",
   "name": "python",
   "nbconvert_exporter": "python",
   "pygments_lexer": "ipython2",
   "version": "2.7.6"
  }
 },
 "nbformat": 4,
 "nbformat_minor": 5
}
