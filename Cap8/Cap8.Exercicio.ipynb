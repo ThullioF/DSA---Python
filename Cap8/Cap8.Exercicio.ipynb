{
 "cells": [
  {
   "cell_type": "markdown",
   "source": [
    "EXERCÍCIO 1"
   ],
   "metadata": {
    "collapsed": false
   },
   "id": "a7469bb7bc1d5391"
  },
  {
   "cell_type": "code",
   "outputs": [],
   "source": [
    "from math import sqrt\n",
    "\n",
    "class Rocket():\n",
    "     \n",
    "    def __init__(self, x=0, y=0):\n",
    "        self.x = x\n",
    "        self.y = y\n",
    "        \n",
    "    def move_rocket(self, x_increment=0, y_increment=1):\n",
    "        self.x += x_increment\n",
    "        self.y += y_increment\n",
    "        \n",
    "    def print_rocket(self):\n",
    "        print(self.x, self.y)"
   ],
   "metadata": {
    "collapsed": false,
    "ExecuteTime": {
     "end_time": "2024-08-07T14:06:44.689951Z",
     "start_time": "2024-08-07T14:06:44.669675Z"
    }
   },
   "id": "e27a2ec22a3375fa",
   "execution_count": 1
  },
  {
   "cell_type": "code",
   "outputs": [],
   "source": [
    "roc1 = Rocket(10, 20)"
   ],
   "metadata": {
    "collapsed": false,
    "ExecuteTime": {
     "end_time": "2024-08-07T14:09:01.210401Z",
     "start_time": "2024-08-07T14:09:01.202461Z"
    }
   },
   "id": "c4631c4a49e280ee",
   "execution_count": 19
  },
  {
   "cell_type": "code",
   "outputs": [],
   "source": [
    "roc1.move_rocket(10, 2)"
   ],
   "metadata": {
    "collapsed": false,
    "ExecuteTime": {
     "end_time": "2024-08-07T14:09:02.221358Z",
     "start_time": "2024-08-07T14:09:02.213Z"
    }
   },
   "id": "60323d7f0d345084",
   "execution_count": 20
  },
  {
   "cell_type": "code",
   "outputs": [
    {
     "name": "stdout",
     "output_type": "stream",
     "text": [
      "20 22\n"
     ]
    }
   ],
   "source": [
    "roc1.print_rocket()"
   ],
   "metadata": {
    "collapsed": false,
    "ExecuteTime": {
     "end_time": "2024-08-07T14:09:02.876889Z",
     "start_time": "2024-08-07T14:09:02.866539Z"
    }
   },
   "id": "1fd35323b6155eb6",
   "execution_count": 21
  },
  {
   "cell_type": "markdown",
   "source": [
    "EXERCÍCIO 2"
   ],
   "metadata": {
    "collapsed": false
   },
   "id": "df892afad903bb95"
  },
  {
   "cell_type": "code",
   "outputs": [],
   "source": [
    "class Pessoa():\n",
    "    def __init__(self,nome, cidade, telefone, email):\n",
    "        self.nome = nome\n",
    "        self.cidade = cidade\n",
    "        self.telefone = str(telefone)\n",
    "        self.email = email\n",
    "        \n",
    "    def info(self):\n",
    "        print(\"Informações:\", self.nome,\",\",self.cidade,\",\",self.telefone,\",\",self.email)\n",
    "        \n",
    "    def sobrenome(self):\n",
    "        sbn = input(\"Digite seu sobrenome\")\n",
    "        print(\"Seu nome completo é:\", self.nome, sbn)"
   ],
   "metadata": {
    "collapsed": false,
    "ExecuteTime": {
     "end_time": "2024-08-07T14:34:24.297204Z",
     "start_time": "2024-08-07T14:34:24.282894Z"
    }
   },
   "id": "a3a4e0102c4403fb",
   "execution_count": 35
  },
  {
   "cell_type": "code",
   "outputs": [],
   "source": [
    "p1 = Pessoa(\"Jose\", \"Franca\", 123456789, \"JoseFranca@email.com\")"
   ],
   "metadata": {
    "collapsed": false,
    "ExecuteTime": {
     "end_time": "2024-08-07T14:34:25.001884Z",
     "start_time": "2024-08-07T14:34:24.995650Z"
    }
   },
   "id": "ad24163e994b5b4b",
   "execution_count": 36
  },
  {
   "cell_type": "code",
   "outputs": [
    {
     "name": "stdout",
     "output_type": "stream",
     "text": [
      "Informações: Jose , Franca , 123456789 , JoseFranca@email.com\n"
     ]
    }
   ],
   "source": [
    "p1.info()"
   ],
   "metadata": {
    "collapsed": false,
    "ExecuteTime": {
     "end_time": "2024-08-07T14:34:25.415552Z",
     "start_time": "2024-08-07T14:34:25.407784Z"
    }
   },
   "id": "d3db556e9c914ddf",
   "execution_count": 37
  },
  {
   "cell_type": "code",
   "outputs": [
    {
     "name": "stdout",
     "output_type": "stream",
     "text": [
      "Seu nome completo é: Jose lalalal alalala\n"
     ]
    }
   ],
   "source": [
    "p1.sobrenome()"
   ],
   "metadata": {
    "collapsed": false,
    "ExecuteTime": {
     "end_time": "2024-08-07T14:34:30.151355Z",
     "start_time": "2024-08-07T14:34:25.859925Z"
    }
   },
   "id": "1339e4d07b8c60c9",
   "execution_count": 38
  },
  {
   "cell_type": "markdown",
   "source": [
    "EXERCÍCIO 3"
   ],
   "metadata": {
    "collapsed": false
   },
   "id": "638342e4151de7cf"
  },
  {
   "cell_type": "code",
   "outputs": [],
   "source": [
    "class Smartphone():\n",
    "    def __init__(self, tamanho, interface):\n",
    "        self.tamanho = tamanho\n",
    "        self.interface = interface\n",
    "\n",
    "class MP3Player(Smartphone):\n",
    "    def __init__(self, capacidade, tamanho = 'Pequeno', interface = 'Led'):\n",
    "        self.capacidade = capacidade\n",
    "        Smartphone.__init__(self, tamanho, interface)\n",
    "        \n",
    "    def print_mp3(self):\n",
    "        print(\"Valores para o objeto criado: %s %s %s\"  %(self.tamanho, self.interface, self.capacidade))"
   ],
   "metadata": {
    "collapsed": false,
    "ExecuteTime": {
     "end_time": "2024-08-08T11:57:32.121161Z",
     "start_time": "2024-08-08T11:57:32.093898Z"
    }
   },
   "id": "6c2e9c42c4990a1d",
   "execution_count": 1
  },
  {
   "cell_type": "code",
   "outputs": [],
   "source": [
    "device1 = MP3Player(\"64GB\")"
   ],
   "metadata": {
    "collapsed": false,
    "ExecuteTime": {
     "end_time": "2024-08-08T11:57:55.564884Z",
     "start_time": "2024-08-08T11:57:55.557972Z"
    }
   },
   "id": "21b44ecf5ab5ba56",
   "execution_count": 2
  },
  {
   "cell_type": "code",
   "outputs": [
    {
     "name": "stdout",
     "output_type": "stream",
     "text": [
      "Valores para o objeto criado: Pequeno Led 64GB\n"
     ]
    }
   ],
   "source": [
    "device1.print_mp3()"
   ],
   "metadata": {
    "collapsed": false,
    "ExecuteTime": {
     "end_time": "2024-08-08T11:58:00.569746Z",
     "start_time": "2024-08-08T11:58:00.560827Z"
    }
   },
   "id": "a03529da719ebc28",
   "execution_count": 3
  },
  {
   "cell_type": "code",
   "outputs": [],
   "source": [],
   "metadata": {
    "collapsed": false
   },
   "id": "8c1a8380a296cfa9"
  }
 ],
 "metadata": {
  "kernelspec": {
   "display_name": "Python 3",
   "language": "python",
   "name": "python3"
  },
  "language_info": {
   "codemirror_mode": {
    "name": "ipython",
    "version": 2
   },
   "file_extension": ".py",
   "mimetype": "text/x-python",
   "name": "python",
   "nbconvert_exporter": "python",
   "pygments_lexer": "ipython2",
   "version": "2.7.6"
  }
 },
 "nbformat": 4,
 "nbformat_minor": 5
}
