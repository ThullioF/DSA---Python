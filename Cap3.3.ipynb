{
 "cells": [
  {
   "cell_type": "markdown",
   "source": [
    "Bubble Sort\n",
    "Para cada elemento i no array de tamanho n\n",
    "    Para cada elemento j no array de tamanho n-1\n",
    "        Se elemento i for maior que elemento j\n",
    "            Troque os elementos i e j\n",
    "Exiba o array"
   ],
   "metadata": {
    "collapsed": false
   },
   "id": "8e35dde192327a71"
  },
  {
   "cell_type": "code",
   "outputs": [],
   "source": [
    "lista = [6,7,8,3,10,19,4,1,0,61,30,16,17,82,29,34,43,21,11,39,56,67,12]"
   ],
   "metadata": {
    "collapsed": false,
    "ExecuteTime": {
     "end_time": "2024-05-22T14:14:02.061999Z",
     "start_time": "2024-05-22T14:14:02.056959Z"
    }
   },
   "id": "7aad4457703cffbc",
   "execution_count": 5
  },
  {
   "cell_type": "code",
   "outputs": [],
   "source": [
    "def bubbleSort(arr):\n",
    "    \n",
    "    n = len(arr)\n",
    "    \n",
    "    #Para cada elemento i no array\n",
    "    for i in range(n):\n",
    "        #Para cada elemento j no array\n",
    "        for j in range(0, n-i-1):\n",
    "            #Se elemento i for maior que elemento j\n",
    "            if arr[j] > arr[j+1]:\n",
    "                #Troque os elemntos i e j\n",
    "                arr[j], arr[j+1] = arr[j+1], arr[j]\n",
    "    return arr"
   ],
   "metadata": {
    "collapsed": false,
    "ExecuteTime": {
     "end_time": "2024-05-22T14:18:06.498414Z",
     "start_time": "2024-05-22T14:18:06.493329Z"
    }
   },
   "id": "937d366cc835ef80",
   "execution_count": 6
  },
  {
   "cell_type": "code",
   "outputs": [
    {
     "name": "stdout",
     "output_type": "stream",
     "text": [
      "[0, 1, 3, 4, 6, 7, 8, 10, 11, 12, 16, 17, 19, 21, 29, 30, 34, 39, 43, 56, 61, 67, 82]\n"
     ]
    }
   ],
   "source": [
    "print(bubbleSort(lista))"
   ],
   "metadata": {
    "collapsed": false,
    "ExecuteTime": {
     "end_time": "2024-05-22T14:18:13.616816Z",
     "start_time": "2024-05-22T14:18:13.611790Z"
    }
   },
   "id": "d3766b6fa609643a",
   "execution_count": 7
  },
  {
   "cell_type": "code",
   "outputs": [],
   "source": [],
   "metadata": {
    "collapsed": false
   },
   "id": "fc3d3a2d5ee222a6"
  }
 ],
 "metadata": {
  "kernelspec": {
   "display_name": "Python 3",
   "language": "python",
   "name": "python3"
  },
  "language_info": {
   "codemirror_mode": {
    "name": "ipython",
    "version": 2
   },
   "file_extension": ".py",
   "mimetype": "text/x-python",
   "name": "python",
   "nbconvert_exporter": "python",
   "pygments_lexer": "ipython2",
   "version": "2.7.6"
  }
 },
 "nbformat": 4,
 "nbformat_minor": 5
}
