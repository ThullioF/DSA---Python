{
 "cells": [
  {
   "cell_type": "markdown",
   "source": [
    "EXERCÍCIO 1"
   ],
   "metadata": {
    "collapsed": false
   },
   "id": "b0d8ccaa54aa4960"
  },
  {
   "cell_type": "code",
   "execution_count": 5,
   "id": "initial_id",
   "metadata": {
    "collapsed": true,
    "ExecuteTime": {
     "end_time": "2024-07-16T14:17:15.537718Z",
     "start_time": "2024-07-16T14:17:15.529054Z"
    }
   },
   "outputs": [],
   "source": [
    "def chamaPares():\n",
    "    for num in range(1, 21):\n",
    "        if num % 2 == 0:\n",
    "            print(num)"
   ]
  },
  {
   "cell_type": "code",
   "outputs": [
    {
     "name": "stdout",
     "output_type": "stream",
     "text": [
      "2\n",
      "4\n",
      "6\n",
      "8\n",
      "10\n",
      "12\n",
      "14\n",
      "16\n",
      "18\n",
      "20\n"
     ]
    }
   ],
   "source": [
    "chamaPares()"
   ],
   "metadata": {
    "collapsed": false,
    "ExecuteTime": {
     "end_time": "2024-07-16T14:17:15.966141Z",
     "start_time": "2024-07-16T14:17:15.958408Z"
    }
   },
   "id": "ac5c4f3750a0a049",
   "execution_count": 6
  },
  {
   "cell_type": "markdown",
   "source": [
    "EXERCÍCIO 2"
   ],
   "metadata": {
    "collapsed": false
   },
   "id": "4d979ad4d08eb924"
  },
  {
   "cell_type": "code",
   "outputs": [],
   "source": [
    "def retornaString(text):\n",
    "    text = text.upper()\n",
    "    print(text)"
   ],
   "metadata": {
    "collapsed": false,
    "ExecuteTime": {
     "end_time": "2024-07-16T14:20:28.373222Z",
     "start_time": "2024-07-16T14:20:28.364843Z"
    }
   },
   "id": "6f35ae09dbbf66c6",
   "execution_count": 9
  },
  {
   "cell_type": "code",
   "outputs": [
    {
     "name": "stdout",
     "output_type": "stream",
     "text": [
      "COLOCAR TUDO EM LETRA MAIÚSCULAS\n"
     ]
    }
   ],
   "source": [
    "retornaString(\"colocar tudo em letra maiúsculas\")"
   ],
   "metadata": {
    "collapsed": false,
    "ExecuteTime": {
     "end_time": "2024-07-16T14:20:29.420024Z",
     "start_time": "2024-07-16T14:20:29.412965Z"
    }
   },
   "id": "3121cf23584ac009",
   "execution_count": 10
  },
  {
   "cell_type": "markdown",
   "source": [
    "EXERCÍCIO 3"
   ],
   "metadata": {
    "collapsed": false
   },
   "id": "61f772f32f845b32"
  },
  {
   "cell_type": "code",
   "outputs": [],
   "source": [
    "def addElemento(lista):\n",
    "    if len(lista) == 4:\n",
    "        lista.append(1)\n",
    "        lista.append(2)\n",
    "        print(lista)\n",
    "    else:\n",
    "        print(\"lista deve ter exatos 4 elementos\")"
   ],
   "metadata": {
    "collapsed": false,
    "ExecuteTime": {
     "end_time": "2024-07-17T14:41:52.526805Z",
     "start_time": "2024-07-17T14:41:52.516188Z"
    }
   },
   "id": "f3f2facd95f81dfb",
   "execution_count": 27
  },
  {
   "cell_type": "code",
   "outputs": [
    {
     "name": "stdout",
     "output_type": "stream",
     "text": [
      "[3, 4, 5, 6, 1, 2]\n"
     ]
    }
   ],
   "source": [
    "minha_lista = [3,4,5,6]\n",
    "addElemento(minha_lista)"
   ],
   "metadata": {
    "collapsed": false,
    "ExecuteTime": {
     "end_time": "2024-07-17T14:41:53.564788Z",
     "start_time": "2024-07-17T14:41:53.553070Z"
    }
   },
   "id": "f75531b986f94c01",
   "execution_count": 28
  },
  {
   "cell_type": "markdown",
   "source": [
    "EXERCÍCIO 4"
   ],
   "metadata": {
    "collapsed": false
   },
   "id": "dcf550fcb48d90ea"
  },
  {
   "cell_type": "code",
   "outputs": [],
   "source": [
    "def minhaFuncao(arg, *args):\n",
    "    print(\"Argumento: \", arg)\n",
    "    for i in args:\n",
    "        print(i)\n",
    "    return "
   ],
   "metadata": {
    "collapsed": false,
    "ExecuteTime": {
     "end_time": "2024-07-17T14:43:39.171650Z",
     "start_time": "2024-07-17T14:43:39.163538Z"
    }
   },
   "id": "da65386156d18e3f",
   "execution_count": 32
  },
  {
   "cell_type": "code",
   "outputs": [
    {
     "name": "stdout",
     "output_type": "stream",
     "text": [
      "Argumento:  1\n"
     ]
    }
   ],
   "source": [
    "minhaFuncao(1)"
   ],
   "metadata": {
    "collapsed": false,
    "ExecuteTime": {
     "end_time": "2024-07-17T14:43:39.696757Z",
     "start_time": "2024-07-17T14:43:39.687721Z"
    }
   },
   "id": "b533b66a05075751",
   "execution_count": 33
  },
  {
   "cell_type": "code",
   "outputs": [
    {
     "name": "stdout",
     "output_type": "stream",
     "text": [
      "Argumento:  1\n",
      "2\n",
      "3\n",
      "4\n",
      "5\n",
      "6\n",
      "7\n",
      "8\n",
      "9\n"
     ]
    }
   ],
   "source": [
    "minhaFuncao(1,2,3,4,5,6,7,8,9)"
   ],
   "metadata": {
    "collapsed": false,
    "ExecuteTime": {
     "end_time": "2024-07-17T14:43:40.783694Z",
     "start_time": "2024-07-17T14:43:40.774127Z"
    }
   },
   "id": "d7ebc9b1d4c6c8a3",
   "execution_count": 34
  },
  {
   "cell_type": "markdown",
   "source": [
    "EXERCÍCIO 5"
   ],
   "metadata": {
    "collapsed": false
   },
   "id": "c8d88caa3822ae31"
  },
  {
   "cell_type": "code",
   "outputs": [],
   "source": [
    "soma = lambda x, y : x + y"
   ],
   "metadata": {
    "collapsed": false,
    "ExecuteTime": {
     "end_time": "2024-07-17T13:32:38.039595Z",
     "start_time": "2024-07-17T13:32:38.018024Z"
    }
   },
   "id": "e0c026f78947b9e4",
   "execution_count": 1
  },
  {
   "cell_type": "code",
   "outputs": [
    {
     "data": {
      "text/plain": "5"
     },
     "execution_count": 2,
     "metadata": {},
     "output_type": "execute_result"
    }
   ],
   "source": [
    "soma(2, 3)"
   ],
   "metadata": {
    "collapsed": false,
    "ExecuteTime": {
     "end_time": "2024-07-17T13:32:52.477548Z",
     "start_time": "2024-07-17T13:32:52.457620Z"
    }
   },
   "id": "7071efcb6a792849",
   "execution_count": 2
  },
  {
   "cell_type": "markdown",
   "source": [
    "EXERCÍCIO 6"
   ],
   "metadata": {
    "collapsed": false
   },
   "id": "d52e2ca924dd8312"
  },
  {
   "cell_type": "code",
   "outputs": [
    {
     "name": "stdout",
     "output_type": "stream",
     "text": [
      "Dentro da função o total é:  30\n",
      "Fora da função o total é:  0\n"
     ]
    }
   ],
   "source": [
    "total = 0 #Variável glolbal\n",
    "def soma( arg1, arg2 ):\n",
    "    total = arg1 + arg2; #Variável local\n",
    "    print (\"Dentro da função o total é: \", total)\n",
    "    return total;\n",
    "\n",
    "\n",
    "soma( 10, 20 );\n",
    "print (\"Fora da função o total é: \", total)"
   ],
   "metadata": {
    "collapsed": false,
    "ExecuteTime": {
     "end_time": "2024-07-17T13:33:36.132865Z",
     "start_time": "2024-07-17T13:33:36.123084Z"
    }
   },
   "id": "70777927f266e6f9",
   "execution_count": 3
  },
  {
   "cell_type": "markdown",
   "source": [
    "EXERCÍCIO 7"
   ],
   "metadata": {
    "collapsed": false
   },
   "id": "610d632d4179920d"
  },
  {
   "cell_type": "code",
   "outputs": [
    {
     "name": "stdout",
     "output_type": "stream",
     "text": [
      "[102.56, 97.7, 99.14, 100.03999999999999]\n"
     ]
    }
   ],
   "source": [
    "Celsius = [39.2, 36.5, 37.3, 37.8]\n",
    "Fahrenheit = map(lambda x : (x * 9/5) + 32, Celsius)\n",
    "print (list(Fahrenheit))"
   ],
   "metadata": {
    "collapsed": false,
    "ExecuteTime": {
     "end_time": "2024-07-17T13:47:25.014540Z",
     "start_time": "2024-07-17T13:47:25.005876Z"
    }
   },
   "id": "6f4c71876373d1ed",
   "execution_count": 14
  },
  {
   "cell_type": "markdown",
   "source": [
    "EXERCÍCIO 8"
   ],
   "metadata": {
    "collapsed": false
   },
   "id": "70f47f539b340c6f"
  },
  {
   "cell_type": "code",
   "outputs": [
    {
     "data": {
      "text/plain": "[1, 4, 9, 16, 25, 36, 49, 64, 81, 100]"
     },
     "execution_count": 15,
     "metadata": {},
     "output_type": "execute_result"
    }
   ],
   "source": [
    "[x**2 for x in range(1,11)]"
   ],
   "metadata": {
    "collapsed": false,
    "ExecuteTime": {
     "end_time": "2024-07-17T14:02:35.745511Z",
     "start_time": "2024-07-17T14:02:35.733715Z"
    }
   },
   "id": "954cb57847c5a25a",
   "execution_count": 15
  },
  {
   "cell_type": "markdown",
   "source": [
    "EXERCÍCIO 9"
   ],
   "metadata": {
    "collapsed": false
   },
   "id": "42d9a353450e2660"
  },
  {
   "cell_type": "code",
   "outputs": [
    {
     "data": {
      "text/plain": "['maça', 'banana']"
     },
     "execution_count": 21,
     "metadata": {},
     "output_type": "execute_result"
    }
   ],
   "source": [
    "palavras = [\"maça\", \"coiote\", \"banana\", \"terreno\", \"Python\"]\n",
    "[palavras for palavras in palavras if \"a\" in palavras ]"
   ],
   "metadata": {
    "collapsed": false,
    "ExecuteTime": {
     "end_time": "2024-07-17T14:07:30.139856Z",
     "start_time": "2024-07-17T14:07:30.129418Z"
    }
   },
   "id": "2dc3841d3a9614a",
   "execution_count": 21
  },
  {
   "cell_type": "markdown",
   "source": [
    "EXERCÍCIO 10"
   ],
   "metadata": {
    "collapsed": false
   },
   "id": "49c8773e2cad0274"
  },
  {
   "cell_type": "code",
   "outputs": [],
   "source": [
    "lista = [x for x in range(1,11) if x < 5]"
   ],
   "metadata": {
    "collapsed": false,
    "ExecuteTime": {
     "end_time": "2024-07-17T14:39:56.380205Z",
     "start_time": "2024-07-17T14:39:56.372082Z"
    }
   },
   "id": "cf9ddc489754d79e",
   "execution_count": 25
  },
  {
   "cell_type": "code",
   "outputs": [
    {
     "data": {
      "text/plain": "[1, 2, 3, 4]"
     },
     "execution_count": 26,
     "metadata": {},
     "output_type": "execute_result"
    }
   ],
   "source": [
    "lista"
   ],
   "metadata": {
    "collapsed": false,
    "ExecuteTime": {
     "end_time": "2024-07-17T14:39:56.893822Z",
     "start_time": "2024-07-17T14:39:56.879847Z"
    }
   },
   "id": "9eb74674c6431e9d",
   "execution_count": 26
  },
  {
   "cell_type": "code",
   "outputs": [],
   "source": [],
   "metadata": {
    "collapsed": false
   },
   "id": "2a30416c2dd9705c"
  }
 ],
 "metadata": {
  "kernelspec": {
   "display_name": "Python 3",
   "language": "python",
   "name": "python3"
  },
  "language_info": {
   "codemirror_mode": {
    "name": "ipython",
    "version": 2
   },
   "file_extension": ".py",
   "mimetype": "text/x-python",
   "name": "python",
   "nbconvert_exporter": "python",
   "pygments_lexer": "ipython2",
   "version": "2.7.6"
  }
 },
 "nbformat": 4,
 "nbformat_minor": 5
}
